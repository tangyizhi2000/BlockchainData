{
 "cells": [
  {
   "cell_type": "markdown",
   "id": "f1b3656d",
   "metadata": {},
   "source": [
    "# RGB Analyse \n",
    "**created by Hongyi Huo on 4/23/2023**"
   ]
  },
  {
   "cell_type": "code",
   "execution_count": null,
   "id": "1d57edc3",
   "metadata": {},
   "outputs": [],
   "source": [
    "# install required library\n",
    "# !pip install web3"
   ]
  },
  {
   "cell_type": "code",
   "execution_count": 12,
   "id": "dbc49f32",
   "metadata": {},
   "outputs": [
    {
     "name": "stdout",
     "output_type": "stream",
     "text": [
      "Requirement already satisfied: opencv-python in /Users/huohongyi/opt/anaconda3/lib/python3.9/site-packages (4.7.0.72)\r\n",
      "Requirement already satisfied: numpy>=1.17.0 in /Users/huohongyi/opt/anaconda3/lib/python3.9/site-packages (from opencv-python) (1.23.4)\r\n"
     ]
    }
   ],
   "source": [
    "# !pip install opencv-python\n"
   ]
  },
  {
   "cell_type": "code",
   "execution_count": 1,
   "id": "0b3b7627",
   "metadata": {},
   "outputs": [],
   "source": [
    "# !pip install torch\n",
    "import torch\n",
    "import torch.nn as nn\n",
    "import torch.nn.functional as F\n",
    "import torch.optim as optim\n",
    "\n",
    "import matplotlib.pyplot as plt"
   ]
  },
  {
   "cell_type": "code",
   "execution_count": 2,
   "id": "f40f3e41",
   "metadata": {},
   "outputs": [],
   "source": [
    "# import libraries\n",
    "import requests\n",
    "import json\n",
    "from web3 import Web3\n",
    "\n",
    "import numpy as np\n",
    "import os\n",
    "import time\n",
    "import h5py\n",
    "\n"
   ]
  },
  {
   "cell_type": "code",
   "execution_count": 3,
   "id": "ce73df00",
   "metadata": {},
   "outputs": [],
   "source": [
    "# get api_interfaces by tangyizhi\n",
    "# API factors\n",
    "API_key = 'PlIE5PSJaLBOTy67DORlQwY3MchgQxfP'\n",
    "API_url = \"https://eth-mainnet.g.alchemy.com/v2/PlIE5PSJaLBOTy67DORlQwY3MchgQxfP\"\n",
    "API_nft_url = 'https://eth-mainnet.g.alchemy.com/nft/v2/PlIE5PSJaLBOTy67DORlQwY3MchgQxfP'\n",
    "\n",
    "# data collection functions\n",
    "def getNFTsForCollection(contractAddress, withMetadata):\n",
    "    url = API_url + '/getNFTsForCollection?contractAddress=' + contractAddress + '&withMetadata=' + str(withMetadata)\n",
    "    r = requests.get(url, headers={\"accept\": \"application/json\"})\n",
    "    return r\n",
    "def getNFTSales(contractAddress, tokenid):\n",
    "    # from block 0 to latest block, with ascending order\n",
    "    url = API_url + '/getNFTSales?fromBlock=0&toBlock=latest&order=asc&contractAddress=' + contractAddress + '&tokenId=' + str(tokenid)\n",
    "    r = requests.get(url, headers={\"accept\": \"application/json\"})\n",
    "    return r\n",
    "\n",
    "def getFloorPrice(contractAddress):\n",
    "    url = API_nft_url + \"/getFloorPrice?contractAddress=\" + contractAddress\n",
    "    r = requests.get(url, headers={\"accept\": \"application/json\"})\n",
    "    return r\n",
    "\n",
    "def computeRarity(contractAddress, tokenid):\n",
    "    url = API_nft_url + '/computeRarity/?contractAddress=' + contractAddress + '&tokenId=' + str(tokenid)\n",
    "    r = requests.get(url, headers={\"accept\": \"application/json\"})\n",
    "    return r\n",
    "\n",
    "def getMetaData(contractAddress, tokenid):\n",
    "    url = API_nft_url + '/getNFTMetadata?contractAddress=' + contractAddress + '&tokenId=' + str(tokenid) + '&refreshCache=false'\n",
    "    r = requests.get(url, headers={\"accept\": \"application/json\"})\n",
    "    return r\n",
    "\n",
    "def getNFTAttributes(contractAddress):\n",
    "    url = API_nft_url + '/summarizeNFTAttributes?contractAddress=' + contractAddress\n",
    "    r = requests.get(url, headers={\"accept\": \"application/json\"})\n",
    "    return r"
   ]
  },
  {
   "cell_type": "markdown",
   "id": "6a982e0c",
   "metadata": {},
   "source": [
    "*The following is api test and further utils for data collection and prep*"
   ]
  },
  {
   "cell_type": "code",
   "execution_count": 4,
   "id": "cade5c66",
   "metadata": {},
   "outputs": [
    {
     "name": "stdout",
     "output_type": "stream",
     "text": [
      "{'contract': {'address': '0x60e4d786628fea6478f785a6d7e704777c86a7c6'}, 'id': {'tokenId': '0x0000000000000000000000000000000000000000000000000000000000000000', 'tokenMetadata': {'tokenType': 'ERC721'}}, 'title': '', 'description': '', 'tokenUri': {'gateway': 'https://boredapeyachtclub.com/api/mutants/0', 'raw': 'https://boredapeyachtclub.com/api/mutants/0'}, 'media': [{'gateway': 'https://nft-cdn.alchemy.com/eth-mainnet/c480d814f8a4e2b5f02dd3aa189ca742', 'thumbnail': 'https://res.cloudinary.com/alchemyapi/image/upload/thumbnailv2/eth-mainnet/c480d814f8a4e2b5f02dd3aa189ca742', 'raw': 'ipfs://QmURua8bNrAwX76Tp6G9t6Lospdxyt61JGy3UsXY7skfR1', 'format': 'png', 'bytes': 577530}], 'metadata': {'image': 'ipfs://QmURua8bNrAwX76Tp6G9t6Lospdxyt61JGy3UsXY7skfR1', 'attributes': [{'value': 'M1 Purple', 'trait_type': 'Background'}, {'value': 'M1 Cheetah', 'trait_type': 'Fur'}, {'value': 'M1 Scumbag', 'trait_type': 'Eyes'}, {'value': 'M1 Toga', 'trait_type': 'Clothes'}, {'value': 'M1 Bored Unshaven', 'trait_type': 'Mouth'}]}, 'timeLastUpdated': '2023-04-18T02:34:09.376Z', 'contractMetadata': {'name': 'MutantApeYachtClub', 'symbol': 'MAYC', 'totalSupply': '19468', 'tokenType': 'ERC721', 'contractDeployer': '0x9056d15c49b19df52ffad1e6c11627f035c0c960', 'deployedBlockNumber': 13117018, 'openSea': {'floorPrice': 15.5, 'collectionName': 'Mutant Ape Yacht Club', 'safelistRequestStatus': 'verified', 'imageUrl': 'https://i.seadn.io/gae/lHexKRMpw-aoSyB1WdFBff5yfANLReFxHzt1DOj_sg7mS14yARpuvYcUtsyyx-Nkpk6WTcUPFoG53VnLJezYi8hAs0OxNZwlw6Y-dmI?w=500&auto=format', 'description': 'The MUTANT APE YACHT CLUB is a collection of up to 20,000 Mutant Apes that can only be created by exposing an existing Bored Ape to a vial of MUTANT SERUM or by minting a Mutant Ape in the public sale.', 'lastIngestedAt': '2023-03-18T01:37:24.000Z'}}}\n"
     ]
    }
   ],
   "source": [
    "response = json.loads(getNFTsForCollection('0x60E4d786628Fea6478F785A6d7e704777c86a7c6', True).content)\n",
    "print(response['nfts'][0])"
   ]
  },
  {
   "cell_type": "code",
   "execution_count": 6,
   "id": "86d713c4",
   "metadata": {},
   "outputs": [
    {
     "name": "stdout",
     "output_type": "stream",
     "text": [
      "dict_keys(['Fur', 'Eyes', 'Background', 'Mouth', 'Clothes', 'Earring', 'Hat', 'Name'])\n"
     ]
    }
   ],
   "source": [
    "# check the attribute lists.\n",
    "response = json.loads(getNFTAttributes('0x60E4d786628Fea6478F785A6d7e704777c86a7c6').content)\n",
    "print(response['summary'].keys())"
   ]
  },
  {
   "cell_type": "code",
   "execution_count": 7,
   "id": "e9be8e4b",
   "metadata": {},
   "outputs": [
    {
     "name": "stdout",
     "output_type": "stream",
     "text": [
      "[{'value': 'M1 Purple', 'trait_type': 'Background', 'prevalence': 0.09621621621621622}, {'value': 'M1 Cheetah', 'trait_type': 'Fur', 'prevalence': 0.03099099099099099}, {'value': 'M1 Scumbag', 'trait_type': 'Eyes', 'prevalence': 0.016885456885456885}, {'value': 'M1 Toga', 'trait_type': 'Clothes', 'prevalence': 0.01662805662805663}, {'value': 'M1 Bored Unshaven', 'trait_type': 'Mouth', 'prevalence': 0.11613899613899614}]\n"
     ]
    }
   ],
   "source": [
    "response = json.loads(computeRarity('0x60E4d786628Fea6478F785A6d7e704777c86a7c6',0).content)\n",
    "print(response)"
   ]
  },
  {
   "cell_type": "code",
   "execution_count": 8,
   "id": "207b2904",
   "metadata": {},
   "outputs": [
    {
     "name": "stdout",
     "output_type": "stream",
     "text": [
      "{'amount': '23740500000000000000', 'tokenAddress': '0x0000000000000000000000000000000000000000', 'symbol': 'ETH', 'decimals': 18}\n",
      "{'amount': '624750000000000000', 'tokenAddress': '0x0000000000000000000000000000000000000000', 'symbol': 'ETH', 'decimals': 18}\n",
      "{'amount': '624750000000000000', 'tokenAddress': '0x0000000000000000000000000000000000000000', 'symbol': 'ETH', 'decimals': 18}\n"
     ]
    }
   ],
   "source": [
    "response = json.loads(getNFTSales('0x60E4d786628Fea6478F785A6d7e704777c86a7c6',555).content)\n",
    "print(response['nftSales'][-1]['sellerFee'])\n",
    "print(response['nftSales'][-1]['protocolFee'])\n",
    "print(response['nftSales'][-1]['royaltyFee'])"
   ]
  },
  {
   "cell_type": "code",
   "execution_count": 72,
   "id": "3287e84f",
   "metadata": {},
   "outputs": [
    {
     "name": "stdout",
     "output_type": "stream",
     "text": [
      "6.65\n",
      "106.875\n"
     ]
    },
    {
     "ename": "KeyError",
     "evalue": "'decimals'",
     "output_type": "error",
     "traceback": [
      "\u001b[0;31m---------------------------------------------------------------------------\u001b[0m",
      "\u001b[0;31mKeyError\u001b[0m                                  Traceback (most recent call last)",
      "Input \u001b[0;32mIn [72]\u001b[0m, in \u001b[0;36m<cell line: 10>\u001b[0;34m()\u001b[0m\n\u001b[1;32m      8\u001b[0m \u001b[38;5;28mprint\u001b[39m(get_price(\u001b[38;5;124m'\u001b[39m\u001b[38;5;124m0x60E4d786628Fea6478F785A6d7e704777c86a7c6\u001b[39m\u001b[38;5;124m'\u001b[39m,\u001b[38;5;241m1\u001b[39m,\u001b[38;5;241m5\u001b[39m))\n\u001b[1;32m      9\u001b[0m \u001b[38;5;28mprint\u001b[39m(get_price(\u001b[38;5;124m'\u001b[39m\u001b[38;5;124m0x60E4d786628Fea6478F785A6d7e704777c86a7c6\u001b[39m\u001b[38;5;124m'\u001b[39m,\u001b[38;5;241m28905\u001b[39m,\u001b[38;5;241m5\u001b[39m))\n\u001b[0;32m---> 10\u001b[0m \u001b[38;5;28mprint\u001b[39m(\u001b[43mget_price\u001b[49m\u001b[43m(\u001b[49m\u001b[38;5;124;43m'\u001b[39;49m\u001b[38;5;124;43m0x60E4d786628Fea6478F785A6d7e704777c86a7c6\u001b[39;49m\u001b[38;5;124;43m'\u001b[39;49m\u001b[43m,\u001b[49m\u001b[38;5;241;43m36\u001b[39;49m\u001b[43m,\u001b[49m\u001b[38;5;241;43m5\u001b[39;49m\u001b[43m)\u001b[49m)\n",
      "Input \u001b[0;32mIn [72]\u001b[0m, in \u001b[0;36mget_price\u001b[0;34m(contractAddress, tokenid, roundto)\u001b[0m\n\u001b[1;32m      2\u001b[0m \u001b[38;5;28;01mdef\u001b[39;00m \u001b[38;5;21mget_price\u001b[39m(contractAddress, tokenid, roundto):\n\u001b[1;32m      3\u001b[0m     response \u001b[38;5;241m=\u001b[39m json\u001b[38;5;241m.\u001b[39mloads(getNFTSales(contractAddress,tokenid)\u001b[38;5;241m.\u001b[39mcontent)\n\u001b[0;32m----> 4\u001b[0m     res \u001b[38;5;241m=\u001b[39m \u001b[38;5;28mint\u001b[39m(response[\u001b[38;5;124m'\u001b[39m\u001b[38;5;124mnftSales\u001b[39m\u001b[38;5;124m'\u001b[39m][\u001b[38;5;241m-\u001b[39m\u001b[38;5;241m1\u001b[39m][\u001b[38;5;124m'\u001b[39m\u001b[38;5;124msellerFee\u001b[39m\u001b[38;5;124m'\u001b[39m][\u001b[38;5;124m'\u001b[39m\u001b[38;5;124mamount\u001b[39m\u001b[38;5;124m'\u001b[39m])\u001b[38;5;241m/\u001b[39m (\u001b[38;5;241m10\u001b[39m\u001b[38;5;241m*\u001b[39m\u001b[38;5;241m*\u001b[39m\u001b[38;5;28mint\u001b[39m(\u001b[43mresponse\u001b[49m\u001b[43m[\u001b[49m\u001b[38;5;124;43m'\u001b[39;49m\u001b[38;5;124;43mnftSales\u001b[39;49m\u001b[38;5;124;43m'\u001b[39;49m\u001b[43m]\u001b[49m\u001b[43m[\u001b[49m\u001b[38;5;241;43m-\u001b[39;49m\u001b[38;5;241;43m1\u001b[39;49m\u001b[43m]\u001b[49m\u001b[43m[\u001b[49m\u001b[38;5;124;43m'\u001b[39;49m\u001b[38;5;124;43msellerFee\u001b[39;49m\u001b[38;5;124;43m'\u001b[39;49m\u001b[43m]\u001b[49m\u001b[43m[\u001b[49m\u001b[38;5;124;43m'\u001b[39;49m\u001b[38;5;124;43mdecimals\u001b[39;49m\u001b[38;5;124;43m'\u001b[39;49m\u001b[43m]\u001b[49m))\n\u001b[1;32m      5\u001b[0m     res \u001b[38;5;241m=\u001b[39m \u001b[38;5;28mround\u001b[39m(res, roundto)\n\u001b[1;32m      6\u001b[0m     \u001b[38;5;28;01mreturn\u001b[39;00m res\n",
      "\u001b[0;31mKeyError\u001b[0m: 'decimals'"
     ]
    }
   ],
   "source": [
    "# get the sell price from the api\n",
    "def get_price(contractAddress, tokenid, roundto):\n",
    "    response = json.loads(getNFTSales(contractAddress,tokenid).content)\n",
    "    res = int(response['nftSales'][-1]['sellerFee']['amount'])/ (10**int(response['nftSales'][-1]['sellerFee']['decimals']))\n",
    "    res = round(res, roundto)\n",
    "    return res\n",
    "\n",
    "print(get_price('0x60E4d786628Fea6478F785A6d7e704777c86a7c6',1,5))\n",
    "print(get_price('0x60E4d786628Fea6478F785A6d7e704777c86a7c6',28905,5))\n",
    "print(get_price('0x60E4d786628Fea6478F785A6d7e704777c86a7c6',36,5))\n",
    "\n",
    "\n"
   ]
  },
  {
   "cell_type": "code",
   "execution_count": 30,
   "id": "40aeefc7",
   "metadata": {},
   "outputs": [],
   "source": [
    "# get feature and labels for building the dataset\n",
    "def get_monkey(contractAddress, tokenid, roundto):\n",
    "    # initialize all attributes to one, which means least rare\n",
    "    feature = {'Fur':1, 'Eyes':1, 'Background':1, 'Mouth':1, 'Clothes':1, 'Earring':1, 'Hat':1, 'Name':1}\n",
    "    feature_response = json.loads(computeRarity(contractAddress,tokenid).content)\n",
    "    #print(feature_response)\n",
    "    for i in feature_response:\n",
    "        feature[i['trait_type']] = round(1 / i['prevalence'], roundto)\n",
    "        \n",
    "    # get price\n",
    "    \n",
    "    return feature, price"
   ]
  },
  {
   "cell_type": "markdown",
   "id": "c8f35fbe",
   "metadata": {},
   "source": [
    "there are monkeys that has never been traded, thus *try* get the price, \n",
    "\n",
    "if price donnot exist then the price is set to **None**"
   ]
  },
  {
   "cell_type": "code",
   "execution_count": 32,
   "id": "5449e91e",
   "metadata": {},
   "outputs": [
    {
     "name": "stdout",
     "output_type": "stream",
     "text": [
      "({'Fur': 32.26744, 'Eyes': 59.22256, 'Background': 10.39326, 'Mouth': 8.61037, 'Clothes': 60.13932, 'Earring': 1, 'Hat': 1, 'Name': 1}, 5.32)\n",
      "False\n"
     ]
    }
   ],
   "source": [
    "print(get_monkey('0x60E4d786628Fea6478F785A6d7e704777c86a7c6',0,5))\n",
    "print(get_monkey('0x60E4d786628Fea6478F785A6d7e704777c86a7c6',10000,5)[1] is None)"
   ]
  },
  {
   "cell_type": "markdown",
   "id": "9912b5dd",
   "metadata": {},
   "source": [
    "make the dataset using the template ['Fur', 'Eyes', 'Background', 'Mouth', 'Clothes', 'Earring', 'Hat', 'Name'] as **features**\n",
    "\n",
    "seller price as **labels** to predict\n"
   ]
  },
  {
   "cell_type": "code",
   "execution_count": 12,
   "id": "18a55c9a",
   "metadata": {},
   "outputs": [
    {
     "name": "stdout",
     "output_type": "stream",
     "text": [
      "[[20.90958, 40.21739, 11.1, 25.9, 56.63265, 1, 84.45652, 1], [9.95643, 7.71752, 10.76177, 5.86327, 33.31904, 1, 99.61538, 1], [17.45283, 41.24204, 10.1489, 8.61037, 1, 1, 52.35849, 1], [9.80565, 40.21739, 10.8459, 31.79214, 51.11842, 1, 85.57269, 1], [10.85802, 17.43716, 10.3766, 98.60406, 73.30189, 29.25452, 35.51188, 1], [33.95979, 33.03571, 10.3766, 18.58852, 92.5, 1, 23.0975, 1], [22.27638, 15.18765, 10.1489, 5.86327, 66.52397, 1, 53.66022, 1], [33.95979, 7.71752, 10.3766, 98.60406, 38.77246, 1, 45.06961, 1], [26.35685, 51.8, 10.1489, 8.61037, 63.06818, 1, 1, 1], [68.88298, 109.74576, 32.10744, 61.86306, 183.25472, 46.69471, 1, 1], [9.80565, 18.80445, 10.8459, 50.71802, 59.22256, 1, 84.45652, 1], [28.07081, 24.77679, 11.1, 18.58852, 60.13932, 1, 67.44792, 1], [34.01926, 181.54206, 29.88462, 97.125, 236.89024, 1, 127.79605, 1], [57.8125, 7.71752, 10.8459, 5.86327, 60.13932, 1, 67.44792, 1], [33.95979, 27.71041, 11.1, 50.85079, 56.63265, 1, 57.47041, 1], [34.01926, 123.72611, 32.70202, 19.64105, 1, 1, 107.32044, 1], [17.45283, 50.85079, 10.39326, 80.2686, 1, 1, 50.98425, 1], [28.07081, 28.19303, 10.53416, 107.91667, 57.13235, 1, 31.48298, 1], [9.95643, 7.71752, 11.1, 5.86327, 84.09091, 1, 45.06961, 1], [71.41544, 54.56461, 32.10744, 19.64105, 154.16667, 1, 334.91379, 1], [26.35685, 39.16331, 10.53416, 50.85079, 65.40404, 1, 52.35849, 1], [20.90958, 39.16331, 10.76177, 25.9, 55.5, 1, 1, 1], [9.80565, 28.19303, 10.8459, 53.80886, 1, 1, 70.12635, 1], [10.85802, 83.72845, 10.8459, 31.79214, 79.61066, 1, 53.95833, 1], [55.81897, 64.10891, 32.8125, 346.875, 204.47368, 81.61765, 141.78832, 1], [10.85802, 27.71041, 10.53416, 25.9, 58.86364, 1, 43.65169, 1], [9.95643, 114.94083, 10.76177, 40.05155, 41.59529, 1, 31.48298, 1], [28.07081, 18.80445, 10.76177, 53.95833, 65.40404, 86.33333, 35.51188, 1], [9.80565, 7.71752, 10.1489, 98.60406, 50.32383, 1, 105.0, 1], [22.27638, 15.18765, 10.8459, 18.95122, 58.86364, 16.30982, 1, 1], [26.35685, 15.18765, 10.76177, 5.86327, 60.13932, 15.51518, 1, 1], [10.85802, 24.77679, 10.76177, 8.61037, 102.23684, 1, 1, 1], [9.95643, 27.71041, 10.39326, 5.86327, 79.61066, 15.51518, 67.44792, 1], [17.45283, 24.77679, 10.80367, 8.61037, 51.11842, 30.88235, 35.51188, 1], [68.88298, 123.72611, 29.88462, 27.32068, 218.25843, 46.69471, 208.87097, 1], [168.91304, 25.19455, 35.57692, 234.03614, 202.34375, 1, 1, 1], [32.26744, 64.10891, 11.1, 5.86327, 87.5, 1, 70.12635, 1], [83.72845, 25.19455, 32.70202, 245.88608, 143.88889, 1, 103.87701, 1], [57.8125, 83.72845, 10.1489, 50.85079, 57.13235, 16.30982, 1, 1], [9.80565, 7.71752, 11.1, 25.9, 57.13235, 1, 70.12635, 1], [10.85802, 7.71752, 10.53416, 134.89583, 1, 1, 31.48298, 1], [17.45283, 18.80445, 10.80367, 8.61037, 51.8, 30.88235, 41.59529, 1], [37.93945, 118.44512, 32.70202, 27.32068, 106.14754, 1, 1, 1], [34.01926, 25.19455, 29.88462, 27.32068, 1, 1, 127.79605, 1], [37.93945, 109.74576, 29.88462, 19.64105, 346.875, 46.69471, 1, 1], [20.90958, 15.18765, 10.3766, 5.86327, 50.32383, 1, 41.95464, 1], [26.60959, 7.71752, 10.3766, 80.2686, 100.12887, 1, 1, 1], [28.07081, 7.71752, 10.53416, 62.66129, 60.13932, 15.51518, 1, 1], [20.90958, 24.77679, 10.39326, 50.85079, 104.43548, 1, 37.79183, 1], [22.27638, 18.80445, 11.1, 5.86327, 57.13235, 1, 74.71154, 1], [9.95643, 24.52652, 10.3766, 98.60406, 55.5, 15.51518, 53.95833, 1], [33.95979, 27.71041, 10.1489, 107.91667, 56.63265, 1, 1, 1], [55.81897, 25.19455, 32.10744, 61.86306, 225.87209, 1, 127.79605, 1], [40.98101, 33.03571, 10.53416, 8.61037, 60.13932, 29.25452, 102.23684, 1], [17.45283, 7.71752, 11.1, 5.86327, 1, 1, 112.93605, 1], [9.95643, 17.43716, 10.39326, 40.05155, 84.09091, 1, 41.59529, 1], [223.27586, 54.56461, 32.8125, 19.64105, 225.87209, 1, 103.87701, 1], [26.60959, 7.71752, 10.80367, 18.95122, 50.32383, 16.30982, 1, 1], [27.32068, 24.52652, 10.3766, 50.71802, 63.06818, 30.88235, 53.66022, 1], [84.45652, 123.72611, 32.70202, 97.125, 1, 1, 127.79605, 1], [83.72845, 54.56461, 32.70202, 485.625, 149.42308, 1, 308.33333, 1], [9.95643, 31.89655, 10.8459, 18.95122, 51.8, 15.51518, 31.48298, 1], [9.80565, 15.18765, 10.1489, 18.95122, 1, 1, 102.23684, 1], [9.80565, 7.71752, 11.1, 18.95122, 62.86408, 1, 99.61538, 1], [10.85802, 15.18765, 11.1, 31.79214, 79.61066, 1, 50.98425, 1], [27.32068, 18.80445, 10.3766, 18.58852, 1, 1, 1, 1], [33.95979, 31.84426, 10.76177, 135.83916, 60.13932, 86.33333, 67.44792, 1], [32.97963, 47.84483, 32.70202, 27.32068, 106.14754, 1, 103.87701, 1], [20.90958, 15.18765, 10.53416, 5.86327, 59.22256, 1, 42.69231, 1], [20.90958, 15.18765, 10.1489, 269.79167, 60.13932, 16.30982, 1, 1], [27.32068, 24.52652, 10.3766, 31.79214, 55.5, 1, 126.13636, 1], [28.07081, 40.21739, 11.1, 80.2686, 97.61307, 1, 42.69231, 1], [17.45283, 27.71041, 11.1, 25.9, 84.82533, 1, 37.79183, 1], [10.85802, 17.43716, 10.3766, 107.91667, 1, 1, 57.8125, 1], [9.95643, 7.71752, 10.3766, 8.61037, 97.61307, 1, 1, 1], [9.95643, 15.18765, 10.39326, 50.85079, 38.77246, 1, 1, 1], [26.60959, 18.80445, 10.53416, 57.98507, 73.30189, 29.25452, 57.47041, 1], [32.97963, 176.59091, 32.8125, 137.76596, 225.87209, 1, 303.51562, 1], [83.72845, 79.93827, 32.8125, 56.96481, 277.5, 1, 186.77885, 1], [26.60959, 7.71752, 10.39326, 31.79214, 58.86364, 1, 23.0975, 1], [28.07081, 31.89655, 10.53416, 5.86327, 33.31904, 1, 57.47041, 1], [33.95979, 18.80445, 10.53416, 53.95833, 47.37805, 1, 41.95464, 1], [10.85802, 7.71752, 10.3766, 5.86327, 59.22256, 86.33333, 102.23684, 1], [67.91958, 24.77679, 10.1489, 5.86327, 146.05263, 1, 126.96078, 1], [81.61765, 76.77866, 35.57692, 27.32068, 178.21101, 1, 1, 1], [22.27638, 59.22256, 11.1, 8.61037, 60.13932, 1, 1, 1], [32.97963, 25.19455, 32.10744, 19.64105, 1, 1, 308.33333, 1], [32.97963, 84.45652, 32.8125, 202.34375, 106.14754, 46.69471, 215.83333, 1], [138.75, 112.93605, 32.75717, 234.03614, 334.91379, 81.61765, 152.95276, 1], [10.85802, 31.89655, 10.80367, 5.86327, 51.8, 1, 89.1055, 1], [9.80565, 40.21739, 10.76177, 441.47727, 58.86364, 1, 23.0975, 1], [26.60959, 39.16331, 10.53416, 50.85079, 119.17178, 1, 175.0, 1], [9.80565, 39.16331, 10.39326, 31.79214, 1, 1, 43.65169, 1], [37.93945, 25.19455, 29.88462, 308.33333, 225.87209, 1, 208.87097, 1], [84.45652, 112.93605, 32.70202, 27.32068, 178.21101, 1, 76.17647, 1], [28.07081, 15.18765, 10.39326, 25.9, 1, 1, 31.48298, 1], [68.88298, 176.59091, 32.70202, 19.64105, 204.47368, 170.39474, 303.51562, 1], [10.85802, 31.89655, 10.53416, 135.83916, 58.86364, 1, 57.8125, 1], [57.8125, 18.80445, 10.1489, 5.86327, 1, 1, 105.0, 1], [20.90958, 39.16331, 10.39326, 18.58852, 1, 1, 23.0975, 1], [79.93827, 27.71041, 10.39326, 50.85079, 102.23684, 1, 37.79183, 1], [47.0339, 17.43716, 11.1, 18.58852, 92.5, 1, 52.35849, 1], [28.07081, 18.80445, 10.76177, 25.9, 104.43548, 15.51518, 188.59223, 1], [81.61765, 76.77866, 32.10744, 27.32068, 190.44118, 1, 128.64238, 1], [26.35685, 50.85079, 10.53416, 5.86327, 63.06818, 1, 41.95464, 1], [17.45283, 40.21739, 10.8459, 186.77885, 73.30189, 1, 72.75281, 1], [26.35685, 15.18765, 11.1, 255.59211, 1, 1, 37.79183, 1], [40.98101, 39.40162, 10.76177, 8.61037, 100.12887, 60.51402, 175.0, 1], [32.97963, 90.77103, 32.70202, 27.32068, 178.21101, 1, 334.91379, 1], [32.26744, 7.71752, 10.39326, 53.80886, 1, 1, 1, 1], [68.88298, 176.59091, 32.10744, 19.64105, 1, 1, 1, 1], [9.80565, 27.71041, 10.80367, 18.58852, 38.77246, 60.51402, 41.59529, 1], [57.8125, 33.03571, 10.39326, 5.86327, 38.77246, 1, 43.65169, 1], [68.88298, 25.19455, 32.70202, 353.18182, 204.47368, 1, 141.78832, 1], [22.27638, 33.03571, 10.1489, 31.79214, 89.1055, 1, 57.47041, 1], [32.97963, 54.56461, 32.70202, 137.76596, 259.0, 1, 198.21429, 1], [10.85802, 17.43716, 10.80367, 5.86327, 62.86408, 30.88235, 41.95464, 1], [9.80565, 24.52652, 10.3766, 98.60406, 57.13235, 1, 85.57269, 1], [32.97963, 47.84483, 32.10744, 19.64105, 125.32258, 1, 107.32044, 1], [34.01926, 112.93605, 32.75717, 56.96481, 462.5, 1, 422.28261, 1], [9.80565, 28.19303, 10.80367, 5.86327, 60.13932, 1, 37.79183, 1], [32.97963, 111.0, 32.70202, 19.64105, 143.88889, 81.61765, 109.12921, 1], [32.97963, 79.93827, 32.75717, 150.5814, 204.47368, 1, 109.12921, 1], [17.45283, 15.18765, 10.80367, 25.9, 38.77246, 1, 41.95464, 1], [37.93945, 54.56461, 32.8125, 56.96481, 178.21101, 46.69471, 109.12921, 1], [55.81897, 161.875, 32.8125, 27.32068, 178.21101, 1, 318.44262, 1], [10.85802, 83.72845, 10.53416, 8.61037, 51.11842, 30.88235, 35.51188, 1], [10.85802, 24.77679, 10.53416, 18.58852, 1, 1, 74.71154, 1], [22.27638, 7.71752, 10.1489, 5.86327, 92.06161, 1, 1, 1], [10.85802, 7.71752, 10.3766, 50.71802, 1, 1, 23.0975, 1], [10.85802, 83.72845, 10.80367, 5.86327, 66.52397, 1, 31.48298, 1], [89.93056, 109.74576, 32.75717, 234.03614, 1, 49.93573, 1, 1], [67.91958, 28.19303, 10.3766, 5.86327, 1, 1, 1, 1], [34.01926, 84.45652, 32.70202, 27.32068, 154.16667, 46.69471, 1, 1], [9.80565, 17.43716, 10.1489, 31.79214, 38.77246, 15.51518, 31.48298, 1], [10.85802, 28.19303, 10.8459, 18.95122, 1, 29.25452, 188.59223, 1], [28.07081, 39.16331, 10.39326, 5.86327, 50.32383, 15.51518, 35.51188, 1], [37.93945, 109.74576, 32.10744, 27.32068, 236.89024, 49.93573, 186.77885, 1], [47.0339, 15.18765, 10.3766, 31.79214, 72.75281, 1, 31.48298, 1], [9.95643, 24.77679, 10.3766, 53.95833, 79.61066, 1, 67.44792, 1], [9.95643, 17.43716, 10.8459, 5.86327, 41.59529, 60.51402, 1, 1], [33.95979, 7.71752, 10.3766, 5.86327, 104.43548, 1, 45.06961, 1], [9.80565, 18.80445, 11.1, 5.86327, 1, 30.88235, 1, 1], [85.57269, 25.19455, 32.8125, 61.86306, 149.42308, 1, 127.79605, 1], [9.95643, 18.80445, 10.80367, 18.95122, 1, 1, 85.57269, 1], [17.45283, 24.52652, 11.1, 46.69471, 57.13235, 1, 45.06961, 1], [9.80565, 17.43716, 10.8459, 8.61037, 60.13932, 16.30982, 41.59529, 1], [34.01926, 111.0, 29.88462, 27.32068, 178.21101, 1, 186.77885, 1], [17.45283, 7.71752, 10.1489, 5.86327, 1, 29.25452, 1, 1], [26.35685, 15.18765, 10.76177, 5.86327, 73.30189, 1, 43.65169, 1], [26.35685, 31.84426, 10.80367, 5.86327, 84.09091, 30.88235, 31.48298, 1]] [6.65, 20.9, 14.3, 4.75, 25.65, 16.435, 23.18, 25.3075, 7.6, 31.236, 12.8355, 19.475, 6.175, 5.1775, 17.081, 13.3, 33.25, 11.834, 23.75, 8.455, 13.87, 13.37489, 13.27171, 21.6505, 8.55, 6.8685, 17.5275, 3.705, 5.225, 11.723, 5.9375, 7.505, 5.32, 3.553, 22.0, 17.33977, 10.45, 26.6, 14.0, 12.77083, 20.8905, 15.2, 18.183, 15.58, 27.55, 16.1, 5.7, 16.055, 13.1936, 18.145, 28.5, 6.555, 12.60665, 20.805, 5.3675, 21.965, 34.92, 4.56, 23.1, 16.46725, 15.2, 6.6025, 17.1, 11.5805, 6.365, 13.2905, 17.09997, 17.89, 43.7, 12.0555, 13.30216, 4.75, 13.12306, 10.976, 4.446, 13.20236, 8.056, 9.5, 9.47055, 3.8, 18.865, 6.4125, 8.36, 4.18, 11.65, 4.37345, 16.66625, 13.299, 22.0, 4.75, 13.45976, 10.925, 13.9555, 15.6094, 5.795, 27.68545, 37.0405, 8.61555, 18.05, 16.55375, 10.348, 16.15, 8.2555, 16.318, 12.01956, 19.8999, 27.4455, 9.2625, 13.186, 20.8905, 20.7936, 7.581, 7.3815, 22.325, 6.84, 14.06, 18.7856, 5.225, 5.4625, 15.92, 16.12895, 7.505, 16.06925, 13.92005, 19.95, 23.7405, 19.38, 13.12405, 18.7625, 17.86, 4.18, 21.5, 15.1, 14.2405, 15.067, 18.886, 4.636, 6.08, 3.705, 16.53, 14.47725, 5.035, 34.2, 9.5, 14.725, 21.47, 14.325, 27.075, 6.555, 8.455, 14.39]\n"
     ]
    }
   ],
   "source": [
    "# now gathering the data and build dataset\n",
    "\n",
    "attribute_list = ['Fur', 'Eyes', 'Background', 'Mouth', 'Clothes', 'Earring', 'Hat', 'Name']\n",
    "features = []\n",
    "labels = []\n",
    "token_id = 1\n",
    "while len(labels) <= 150:    \n",
    "    feature, price = get_monkey('0x60E4d786628Fea6478F785A6d7e704777c86a7c6',token_id, 5)\n",
    "    if price is not None:\n",
    "        features.append([feature[x] for x in attribute_list])\n",
    "        labels.append(price)\n",
    "    token_id += 1\n",
    "    time.sleep(0.01)\n",
    "print(features, labels)"
   ]
  },
  {
   "cell_type": "code",
   "execution_count": null,
   "id": "3c84ff76",
   "metadata": {},
   "outputs": [],
   "source": [
    "# partially acquire data... getting too fast would cause api denial\n",
    "while len(labels) < 1200:    \n",
    "    feature, price = get_monkey('0x60E4d786628Fea6478F785A6d7e704777c86a7c6',token_id, 5)\n",
    "    if price is not None:\n",
    "        features.append([feature[x] for x in attribute_list])\n",
    "        labels.append(price)\n",
    "    token_id += 1\n",
    "    time.sleep(0.01)\n",
    "print(features, labels)"
   ]
  },
  {
   "cell_type": "code",
   "execution_count": 13,
   "id": "6245459a",
   "metadata": {},
   "outputs": [],
   "source": [
    "API_key = 'PlIE5PSJaLBOTy67DORlQwY3MchgQxfP'\n",
    "API_url = \"https://eth-mainnet.g.alchemy.com/v2/PlIE5PSJaLBOTy67DORlQwY3MchgQxfP\"\n",
    "API_nft_url = 'https://eth-mainnet.g.alchemy.com/nft/v2/PlIE5PSJaLBOTy67DORlQwY3MchgQxfP'\n",
    "\n",
    "def getMetaData(contractAddress, tokenid):\n",
    "    url = API_nft_url + '/getNFTMetadata?contractAddress=' + contractAddress + '&tokenId=' + str(tokenid) + '&refreshCache=false'\n",
    "    r = requests.get(url, headers={\"accept\": \"application/json\"})\n",
    "    return r"
   ]
  },
  {
   "cell_type": "code",
   "execution_count": 36,
   "id": "36f40292",
   "metadata": {},
   "outputs": [
    {
     "name": "stdout",
     "output_type": "stream",
     "text": [
      "ipfs://QmVFPvu8aeJHXyNVxpfftVHaKjRsbtH6dXWscJ2TukM3xi\n"
     ]
    }
   ],
   "source": [
    "response = json.loads(getMetaData('0x60E4d786628Fea6478F785A6d7e704777c86a7c6', 1).content)\n",
    "ipfs_address = response['metadata']['image']\n",
    "print(ipfs_address)\n"
   ]
  },
  {
   "cell_type": "code",
   "execution_count": 52,
   "id": "f4b1333a",
   "metadata": {},
   "outputs": [
    {
     "name": "stdout",
     "output_type": "stream",
     "text": [
      "['ipfs://QmVFPvu8aeJHXyNVxpfftVHaKjRsbtH6dXWscJ2TukM3xi'\n",
      " 'ipfs://QmdsxYwtbDKmx6fz6CP5FLCH3hkkuZ3EDBFBTcHHRrsSRM'\n",
      " 'ipfs://QmR7Kj6UGDf728SMLq6bvAbhYjmYSZXiEhFPLhgNVXA6rJ'\n",
      " 'ipfs://QmWRGQUs6yRUinC8d3woj6dgZhEwzozbBZ7csnaByVaob8'\n",
      " 'ipfs://QmYMqgiRbCh4ScxpgzogWYieTh3gQHyc65g6UJUG5WEZFh'\n",
      " 'ipfs://QmYsSH9W7f2HNQFMYyYDWW6UFnLdN1nhAmWrajvS5Lzvzy'\n",
      " 'ipfs://QmQHjXmaBs6v8hXh7145qDcYmT49bqgv7GjQPCt2ZAzQ36'\n",
      " 'ipfs://QmZgSA6rMsZ8QQGH4Fa2npVEQkur1NPSnzMQ8dUorRULxx'\n",
      " 'ipfs://QmPduVDFiB5aVJkSWjP4eao5uoBwVbjaXMT1aF8axxsp4k'\n",
      " 'ipfs://QmRhySUuENFfVx4K4fpD7uV49RVkqKkEjLAU1p2vnZr7DL'\n",
      " 'ipfs://QmZv7jNmyVyRHqJwc48ib8gDsyrcK4FYxYoeGsjt6XYAuE'\n",
      " 'ipfs://QmWNd8aeqDq5ZHZyEwDqcUbdYBgWxx4vNyxZHRw8352jqr'\n",
      " 'ipfs://QmRgVUkLGENUso7VoSuu8HBdYpjgbihgUXJW9xFJgJtVjS'\n",
      " 'ipfs://QmYqMgWxc3EQN5CAUr4qgW1nt9HeY5RqYEkZPUkx6gu1h9'\n",
      " 'ipfs://QmXha4p73PYx3xsNoiKivJ8cGRZqD1pNnP53cxB3RvMeCZ'\n",
      " 'ipfs://Qmexdfr98vYFkQSWtDhFDGoQ2XfhxkM14Z5Bmf321ypaKT'\n",
      " 'ipfs://QmaJYj8CXRmeWtngkTFbedu88qcTmEvmBRxVWNji4v6uGv'\n",
      " 'ipfs://QmUEKSAptuMQeYVk33hHs6t8qWk1oUWstNNbZuRc8VJYvz'\n",
      " 'ipfs://QmZvibdDxkXGQcQ2hhbYCVpEGowmMJnKSbv9AXuRsBwyrD'\n",
      " 'ipfs://QmYEHLvbKK8WQn151A4VkDxULPvFE6UQB16Jtp5yysmZq2'\n",
      " 'ipfs://Qmb9Ze7gEdiir1VvYy7yr96Wfz2GHP3BAewm5fW45P4Qfh'\n",
      " 'ipfs://Qmd9btjdBqPdptYi4D5Cf4e7wEpdVS9FCSHXVBp4VZPaoh'\n",
      " 'ipfs://QmSAMUWNKu8gRjmGZNJZFFMj71oPMYGgLsnVGnSSzABp1L'\n",
      " 'ipfs://QmWpQpRNdGByj1Qbkwr3oSUcZ8LXJoFPsabpkkahDyg982'\n",
      " 'ipfs://QmNsyQRSWxeMBNNZBKrvJgpGekXVqd1F6hFkoxHx4sVtTj'\n",
      " 'ipfs://QmfLWux9bieziHjiMvDCSsaznc44UzRieN9CSdLufduxLn'\n",
      " 'ipfs://QmT8yP1nWP8pM2WkSPBcY7azFMQPffi1qYAEwWhDdipzc9'\n",
      " 'ipfs://QmYxC6gbVySrge1tEmcQof5QVyyXB6HLSCsnfb23gLJoPz'\n",
      " 'ipfs://QmRAMfHRjcYJqn9mF8gx5ubjocwCSZboXh8xjJFQSMbDPx'\n",
      " 'ipfs://Qmd8KdKWJehtozFcnEMW73xW5vWiiE7rySAvxdRokLsypq'\n",
      " 'ipfs://QmS7NEcqixyDJJYA9J95Xdq9REzNXDu5g5DvtmgM4YMmoJ'\n",
      " 'ipfs://QmRvshwZSr8bfEoWL3wxp1Ed8x3fTHrYiSFSNSMMRmFHmP'\n",
      " 'ipfs://Qme3uojsPhMZWwuVzoMZBnugw8sPTZKrMG1nvF5T8azpXC'\n",
      " 'ipfs://QmdyukEeXCRa6zNnaim4m8NQv8Cig5TPoeGqns4Z4uFcT2'\n",
      " 'ipfs://QmeBEXz4HDQxGw2CzJYnbEhrZKBBUjrFrmTDZL9g2N9hoe'\n",
      " 'ipfs://QmXhHXR182usM5CZTBybULxRsY8YgPxeMDerV2rZpSP2qt'\n",
      " 'ipfs://QmZquSaHP4KhQrUL2uLLHtpzk5a51wRxci3GhcWXYLX6rU'\n",
      " 'ipfs://QmZbTCqkuein6FeymMMooZ9WpEYKMqBfBVM966avyH4LEC'\n",
      " 'ipfs://QmX3NsPj7KnNAfweJWvLjVtKPcSMnEHEGaijqApZhDeaWJ'\n",
      " 'ipfs://QmVSNoHVkyMGU438dprBnEJwMgLf9yHghBRhBiVdQ8jEAG'\n",
      " 'ipfs://QmQM1fLRXQZtGgXYEfkn3bDcjrgDnwPC83B9ygJ8k9HfuR'\n",
      " 'ipfs://QmaewF8wZnuK68tHRmTZUY4ECg8ctE7zE76deYdzWU9Reb'\n",
      " 'ipfs://QmWhwRA4mFeaxzSyMD8JEUW3FMorQhGPHqdBHucTxT4sqz'\n",
      " 'ipfs://QmZGvVYMomkpNVp6UxaACFoqVVrkW991B413N61FdgfXqj'\n",
      " 'ipfs://Qmd7gVwbv67w7KdoGWQaVKt5KLEjS2xBGsTtAzXgmuYaez'\n",
      " 'ipfs://QmV6NSQ71JKUPA3e5ESdqS5MFyCyJRnqKT3NB2AKSjkwCU'\n",
      " 'ipfs://QmSB5yvdmdmfaaBMCAmy3TYUGW4pb3x2X8qa3ZNRerQRii'\n",
      " 'ipfs://QmREYXJ5c72qquNVyyRJdvWKnU6dTidScW4DbhS5dCB6xc'\n",
      " 'ipfs://QmZF3X8p6tGk2mSV348prY4gTFgMFKvEzevogxUiceQMug'\n",
      " 'ipfs://QmaWQrwDG7Af2riJoRp8ccGXLjY2F3HA1Q3t1apdbZ6fgk'\n",
      " 'ipfs://Qmd1LWBNmPzNL5UQ67CBbzmhMgJyopJs7FzvuBBQgAGFdL'\n",
      " 'ipfs://QmVjfD493q5XriVfeHqDZWnyQy8kxopo2ejcGdeFns8Jto'\n",
      " 'ipfs://QmRAfo7GmiT4QhxXh4CdPH23oWqAhG2X1TddWXi7MTm7uX'\n",
      " 'ipfs://QmcdiGZwoiLyPMpcJ55zSYRmubzPQEDZi3X4nPMF7mbXMn'\n",
      " 'ipfs://QmbsnsRi9MxbN6YhT7hE57vandZyTi1vsLESZsw63YJ8kF'\n",
      " 'ipfs://QmWu1B1pYd2Z4Sideo3n7knWKuycqw7k5S4GHzbs5eucLy'\n",
      " 'ipfs://QmRM4bc6ihmMxc9CdyG5d4pUxhuzPgiJ2QgVXPnsRvw1ib'\n",
      " 'ipfs://QmZtSS9CdPHG2NnFfETNtvqNnoYTP1YtL5DDRXghRStRVs'\n",
      " 'ipfs://QmczC63DrtvqhTFQnRmjDicUZZSzs5imWvRjNRU5uxyKrp'\n",
      " 'ipfs://QmdFf1gv8P6bhkH2Yiim5sYujWL7kVNqfnzC5o4WKhN2cK'\n",
      " 'ipfs://QmX66b5q2djZnVhtrPNCpEn6xT7EK8Du75YNAeh129JYKr'\n",
      " 'ipfs://QmXSKPvJ9mCNtTvmff1faPdqNSgULDVxLk3foUB7ioCBVu'\n",
      " 'ipfs://QmZETpEDZHL9vfsMnbmaXm8cHEnGuLszdHaRAFFhPNxPCd'\n",
      " 'ipfs://QmSQefUucRjKN1nUjCMfmSGr3Fva5R4D5eGykZ8kNB9Ebn'\n",
      " 'ipfs://QmZRswno7JARcM33mTyMz8b7KM7hMED1KCtEPHbXhLkzo6'\n",
      " 'ipfs://QmQHuRJSPqqVeUy41AG7hJzJYjfrJCjsrm3YzS9QycanP6'\n",
      " 'ipfs://QmS6cUiWgc5JtPTgsN4nwqsbkBTs1ZGaEhKbqqGb3psK4K'\n",
      " 'ipfs://QmWfnJUaNfbe5was3rRAUHaqmYB4x3KuVojczPonwCoDCn'\n",
      " 'ipfs://QmbUCe7JMPsG39FRaLaJ9VwSKrE74PzEb1s4DKuEkARepS'\n",
      " 'ipfs://QmT5gWfSDk7DMoSGmxkFLJh6zgDHKHkiZkJQx1dqUVbacR'\n",
      " 'ipfs://QmVorZkkBti2csakoGDF8cy7dxVoqTvnKRMWtSoshV7T6u'\n",
      " 'ipfs://QmYCdJK9JFU7C8YiXvh3SSnXhb8izipeP1QqETiU2LoBxH'\n",
      " 'ipfs://Qmd5t6J598cNW4Lu5TmiEyzwW1khBg6jMKi8wV5kXhNq82'\n",
      " 'ipfs://QmV5kzjtLyMP1qRBXVgJ6FcYuPxPRx4GvFmkxPdcAWtD4M'\n",
      " 'ipfs://QmeSZhfCK1kLNeexuJzaZ5MAWpqJHLxPkahgqBtQ6UP4Af'\n",
      " 'ipfs://QmYBNDaveAb3WNegPncGzGi41tfzBp8ac3yrcTr3XQkeok'\n",
      " 'ipfs://QmQZPY7Z28pVct38cSWLWveBGbWUDoc5oy6oTFdP7GcMWk'\n",
      " 'ipfs://QmPdNeCj2UWjgzPCiLYNxsMzr4inw5mJ2vuTwsgr7TGUiU'\n",
      " 'ipfs://QmesL4myf7nUA5ENfvEGeN7RmsG1xnYSjpAit6F8g5KxW5'\n",
      " 'ipfs://QmemmSDCm6JH8s5MaERUdNPDqnwGdgBbXEm91gptTbitKP'\n",
      " 'ipfs://QmNzNqxfDQAREx14FyRKoma6eZb9GcQNfS7vwLU12cT4Jx'\n",
      " 'ipfs://QmNnhTSD77LVwE46mG1KEg6e9sacyJ66g4H2t8TUxB5F75'\n",
      " 'ipfs://QmV9bt4wUrAXJPNWhVsn6JfHhQcj472XaX37wSNfnY9Vy8'\n",
      " 'ipfs://QmSiESWz2EMk7DvM4WHY9DWemQLbokjco9wCmtWT7pS6zT'\n",
      " 'ipfs://QmTRWAnALf1PtXx5V2Fz7pXsDSqXgzvqk7zk1MZwBBRdPC'\n",
      " 'ipfs://QmQ8YFdmhu8fZYnLxfC1qJY22YvNXQvmmf3nsfWdoFdrkM'\n",
      " 'ipfs://QmRdMXY7Znkb7nUrYAN6ovEGNKCdTug6cFUPVQGrxnSf25'\n",
      " 'ipfs://QmRnzqcs4tpFpCdZeszm9BzvFtoaSVjFXskML9UWKJBuVR'\n",
      " 'ipfs://QmbFTGUHrr5iXYw8bgc5oZWmLWBA1XHttQLUCeDKEQ6qSn'\n",
      " 'ipfs://QmVkovqsxdesVEzQ1XWy9q8RxwgRNXWgUuWeBgPer1vkWh'\n",
      " 'ipfs://QmcBX5KfXJ5i5nzU43pSfNJHVKThcXuQbBtr3T8UQNzPef'\n",
      " 'ipfs://QmXYBFXZzV6zv7WazPNzp9hkRwyiD2HU4rusNnapvo7Ziw'\n",
      " 'ipfs://Qmd6gWn2Zsam1ZsBKrqemVmfap436Z9uqyafdwGHsnCdVA'\n",
      " 'ipfs://QmQEyEiJ4PBRKDyAr53Y3ZZrkDxpkRZeGNPYrBoeo1ptSW'\n",
      " 'ipfs://QmNfmbJdb6fZAUBSjnGXyT2xhaX3fJ6Qrjpy3umhvPxVw9'\n",
      " 'ipfs://QmTRTRA8VeH4J9vWUA4ueQW6PryiJaympmn3G9sSmKeXjz'\n",
      " 'ipfs://QmTcvEyoacxvZd3MHKThjUA3cvH1G6ZtuBmgZbEB7Z2nxM'\n",
      " 'ipfs://QmSi3YmDKWEpGj6V8bhT7miexrqkztFy729ygrSkW2RxVh'\n",
      " 'ipfs://QmaC1oGho3ngrnNSYpyJ9TdVV1EsX9FXngCUHGY8pBv28P'\n",
      " 'ipfs://QmYiJni4mZSFPSy3jz9wAVVDVEYCczuTYSXJ1Q2skwicTB'\n",
      " 'ipfs://QmVwKkmLDHDCeWXrmbWEGwqUtfMZ5iq69eicdfVyeiTqFW'\n",
      " 'ipfs://QmYZxmy7wHnBZULsfU6VziXSYTUndxv5Kpvhvu9xnv2rRH'\n",
      " 'ipfs://QmSL796QtExLeNz9jxNLqG8dedpAi5kCvCJLaEvoJDAwhg'\n",
      " 'ipfs://QmdqRo9vgFToWevn2ugywKK5Wbnh2NuvsAHmChXmVdWm1m'\n",
      " 'ipfs://QmZBhD7xgLqV15Uz6HpSpsjuJ6khQsg6cDWnK39t6T9TsD'\n",
      " 'ipfs://QmdVU6iRPyFX9Y8RqE99hqZP29YbdxcYRP6e2JfCEvumtw'\n",
      " 'ipfs://Qmf5vUMFVsENk5tAUXApK4HvXpM5x4Hr7Bt3uQxHG7gpcX'\n",
      " 'ipfs://QmThhiGaH5ePaTUTggrvFzsYf17ipcc4UeRdX5yRKwZ3yu'\n",
      " 'ipfs://QmYExK8bCAdGzs9iURKxLZr5g8MNids8pWnrzhWgqKzfeK'\n",
      " 'ipfs://QmaBxGRSQmhbdaX4gJQpCpjXiGuXmCdMxmq7CLc1N3WUQj'\n",
      " 'ipfs://QmXRWcCH8BypNnYZ1BbcDpqiTbtodM5UCd4E63sKazyqxz'\n",
      " 'ipfs://QmRoSU8AmLAuRmCVgiYZ3fgxUGPjBT3VyUWR2NMRAvH5zr'\n",
      " 'ipfs://QmaVsYwjUU4ymYfCrqTNgpeXWK2c8y7xYRr7ur2R4spk14'\n",
      " 'ipfs://QmUoC35JQ9nwrSCdLqzD6D93BwrrVT6jgkJFkyKoHhg8vv'\n",
      " 'ipfs://QmZh3PK39UAAiegcFSrwGCtSgtEqh3vF6fjRAvAXp5mSkm'\n",
      " 'ipfs://QmUaxd7HoGoyw3dUc4CAcEb3KCqrTC1iyChva8uZmokQA5'\n",
      " 'ipfs://QmZ9x3CauhhyL94GDt4h3nWC1qHeVgxRydMoZ8gbCwFiNU'\n",
      " 'ipfs://Qmaj7LswCdfWGoZzmKWNdYRmgq2oGu344pqXHoDhge2gQY'\n",
      " 'ipfs://QmSRw3Z1NGh47SqaRwxrjDyqScozokampTgYu4H4cMSUQ9'\n",
      " 'ipfs://QmdiFqy32PuLCTpm9XNwwP4K1HUh2kAUAvdWkSJwhebBTL'\n",
      " 'ipfs://QmQuoRhV1Bdc3MfLHFgursUqrHJr6mCVqnQCVqdhAPATAt'\n",
      " 'ipfs://QmZAWzg4LssS9fuufdMVQTbqFiMjs7ZneyN7dSdq3AQGqu'\n",
      " 'ipfs://QmWMc81H4V5g4bKUsj7bosiyLTzxxV7vSWfF7o6pLToYVK'\n",
      " 'ipfs://QmTnuCnwuzFVr1J8fSfSJvP6mso1Z2pFQUsmSWhxHH8g9y'\n",
      " 'ipfs://QmbueXkBHK6mWHaRv2Apx5fcGXPEoNSQXAF5q1d8qJfyo5'\n",
      " 'ipfs://QmZmud54etjuRFuoEobpu4EZPCw5eBrtiyd7pHmiotZrmJ'\n",
      " 'ipfs://QmRQ5gRiATKbePt7BfUtqGHNsuZZAZTHE2yeQHpH9y2jYU'\n",
      " 'ipfs://QmP5AnfPzNMu8N2CzsRbY8uKC77HKJRxg8YGEPSLEXQEe3'\n",
      " 'ipfs://QmZFxAJbz8Ap4gtHd6e1tMy4NNf4MaqEhx8jhRP293dkrq'\n",
      " 'ipfs://QmbPFxPC58kgBwJRTyeXDft41orSu9rBGnyxM78qAeixm6'\n",
      " 'ipfs://QmeC79D2bzQJtgdE8V6RXHCe6qpe2o6QJKFUZk5JEmfU9B'\n",
      " 'ipfs://Qmbxtv14MH9Z6bYNme4u8N8Z4kkivxbxjaNXnn9uyVRA58'\n",
      " 'ipfs://QmY3uxFG8EzCKjPjkv14o2FYsG6h8e5wWrGme9THJ8Zuo2'\n",
      " 'ipfs://QmQqj3AU134NkayWhGLB664mnmtiy2SEfnwP8sa5sMNQk7'\n",
      " 'ipfs://QmR34CDn6BmtojW9DVxc3WUvXv6rVy3Wi4D2hQwWReyPYv'\n",
      " 'ipfs://QmXTQMYyMqzsxradLsxQ5MLf1Nx6EzstsWBJw1Sit4Npse'\n",
      " 'ipfs://QmfCZMkRevdS5E5thb1ZpkTJ3pUPzf6CM2BSe6TXiXxVCo'\n",
      " 'ipfs://QmQoWMyJpj4faJfZGwbqAJDEnyPLradH6vYV9qTu1UbMBu'\n",
      " 'ipfs://QmSFmMkiKfP2QTfmPG22SUedqQ4b2kS7fsduT6hWigUGaP'\n",
      " 'ipfs://QmYc3KcXVB8nSjefF987xmyci9SSPxbdyT54GsEHCs3rFH'\n",
      " 'ipfs://QmZGAf1e8BWrkDWCDh9Xs4BDbJL2rnG65BsV9haNfuW1fM'\n",
      " 'ipfs://QmPK1weQpF95SDT2A9nYdNbAR4DJZJoS2gC6WpyT6QQjwv'\n",
      " 'ipfs://QmSpVbXXR1nKga82P1bbqzPocyfBLpm4RXhLXbsk2Sj7hC'\n",
      " 'ipfs://QmXsbhyFz2LrqokZSAJCoFZL4z8myZGuz7qgvd9drfJXPy'\n",
      " 'ipfs://QmPDuQL4PZjaLD1wkKKukRb22KdZEEXdyotXHw9AnneXVQ'\n",
      " 'ipfs://Qmakw751eonjbb8tCoMMddsr6tJH76cnQ8Pm4kWh8FQ3Mo'\n",
      " 'ipfs://QmRhMrb2NgmwnLgaFMfSp5EzN93q2UYevxZYLmR2e7ouY8'\n",
      " 'ipfs://QmXAUkbWRbiZrtsTZu8coZkB7pz1gQkm8iS34BCmLyML1d'\n",
      " 'ipfs://QmPbrh9rjJN6A2Tgtg1imcb3s7juohsSJdL9qduAn7HCUU'\n",
      " 'ipfs://QmVfc9z3TDd4kDvddHpDAFPPyhC2XjqtLqnLJPucizJcs9'\n",
      " 'ipfs://Qmai2XWTe27z5g5vSqtGjLYRNEZL6JpGQ2FFWkc8VUX9HV'\n",
      " 'ipfs://QmeFjgoXhat9mrTsFUX7C2rqTZWQ5NwL2c1KCPokKMJb37'\n",
      " 'ipfs://QmYaVfRNi7p5hom8pQhS5dXeProtPC93keWc6ucTZXtSDa'\n",
      " 'ipfs://QmYw677JkQayWMJCAydVLeB74EETn2bEHQwc4RzB1zKmrb'\n",
      " 'ipfs://Qme3W87p23cBSu71UgCmCEznmTfM4NGe52RGYpdMotNsC5'\n",
      " 'ipfs://QmPQLyZFa8prwjNrWNWJt7r9kAhstN5EHsLim4GtzB6MAV'\n",
      " 'ipfs://QmPAsZ7f9FrsAVTFaCdjioZr8UxY6h6jSDr9mv1wwwwSJs'\n",
      " 'ipfs://QmToh5CYMwTwjTnnJXZ1RSYTyLasXysvx1nFhNqXVduqrp'\n",
      " 'ipfs://QmQPXczKoLr14eVDVj865rrSA5qhXVPRkrr1HagJnJEKKy'\n",
      " 'ipfs://QmdgigQJ1vtcnJadgSGXaop5TEHEydC4dKGvJVnuZzyyWm'\n",
      " 'ipfs://QmNvY8QguB4PjU52jRjHijbhwHLf8vhSQLiTx3d2uoC5xZ'\n",
      " 'ipfs://QmXrryHR29pCwojGx5ckvUgk6s5eqbfFA6F4KyTwP9S9ju'\n",
      " 'ipfs://QmU4B3Lx8EkN6Y57rv72rdprUxbSkGsQ7KduF1yaQHXYCB'\n",
      " 'ipfs://QmXosv45PtSV2cm7KT8nV9MEQAyMBkBnTexGoYCavvM9ey'\n",
      " 'ipfs://QmTGoX61bdBDwAVyGSgmoFJX5ZFaM9Tmw7meiUfu2JRdTn'\n",
      " 'ipfs://QmWWiC524Mud1mYhmxWD4XJeLvJPqfyh14ECmYV4BZSrTE'\n",
      " 'ipfs://QmaoiR9QSS3wJ7TaAQPegxDsNQsSp1mcWGeezKEQHniqTr'\n",
      " 'ipfs://QmZBcmh55WBiEr9kXHBqgoLQaDhvahsbq5bCeB8gqMdi61'\n",
      " 'ipfs://QmP7EDJqa8yLWNxxZqXLKkmbAX6njQFqikgZuaymNrJGaw'\n",
      " 'ipfs://QmeCanaMC1179pZLHfBGDn5jZXp1GTJFGLjXhGLwMCoJQG'\n",
      " 'ipfs://QmPQ3WCRDJmL7yP9XtZJcXd2o7sT48CHLcMGf6CnmCsYxK'\n",
      " 'ipfs://QmT1mZhYuveUZiUyKHVqDTDFL33nEgJNYSeMnmeGEXXJcz'\n",
      " 'ipfs://QmNvu9vAANMFtrw8LGxZLEY9Gj9mQY4MAryH3qjpVmiXaN'\n",
      " 'ipfs://QmPHUqdwqbrw2fBmrnTaBGufHRErrAxEYX5FDy2bCABh1K'\n",
      " 'ipfs://QmPtTifrKDZ41tKpkBUAKEJgzqzKW5FtMXFK4k4gZqUCT1'\n",
      " 'ipfs://QmVCZzJrg7BMLPokwEKVPDMsdsVS2FExFnnMLJskf52PK1'\n",
      " 'ipfs://QmVgQjrviwNW3nNgPg6B56zm5SWbqqq3YGRamHi7PNrhCs'\n",
      " 'ipfs://QmbaGuBfpHXydYmyeJGBwkb5PJzjEFWTeUjibYMHzya87p'\n",
      " 'ipfs://QmVmaznR12KCKwdbgGZZtanh6FxbjsknPvG4KS7rSEb5gY'\n",
      " 'ipfs://QmVqDVafMqFkgkTr7BpW3GZBDYjrar2MiyPcY91sGend8R'\n",
      " 'ipfs://QmXzGnp4kwv9iAkXoXmzch4ZBQ5StXKtFytjRX5ogZFaz9'\n",
      " 'ipfs://QmXwW3QN4SS3L75h1HotoSuc5CJurURckdSCz9vT1JmuCc'\n",
      " 'ipfs://QmNrEBhQwHkC84NA8J1Ppdgfe3quSUEiUBdiM2MdLRsgPt'\n",
      " 'ipfs://QmUBeA27KaYfSkYTa1S1EBFU2CHohaVJJmopPFhSQmidTJ'\n",
      " 'ipfs://QmZhK4zUuA4iBoRLVK3X3exAAFvFQyNas9fCiaCnc3BqQi'\n",
      " 'ipfs://QmVL1ujSjeEmZv55mfhcmoK93RHH6SDBUKip1kQNNmee29'\n",
      " 'ipfs://Qmc8XdmWhqw4DfhZqPpK3WnQRTp2haczQynuR8FtFXchFV'\n",
      " 'ipfs://QmNM8fce88N44GtJcC1P8Nb6yH3RancZXt27dX7x39Yann'\n",
      " 'ipfs://QmdPJdSsPJecfoxzkdEnNYf3W1Hm6BoPpg6ijarSNedbXz'\n",
      " 'ipfs://QmQ4eyGJDMCddJEkcNaA4sYxtxRaC7uTnLs6K7YgqwA9NP'\n",
      " 'ipfs://QmbAsHZty3jJ6XrFY25iwqh7yYRCjxx1wBssBbdUcTd4ru'\n",
      " 'ipfs://Qmaa4ncz4WVyoFrKXrq3rbY8ZVD7np9WDRpvc9YopkMomT'\n",
      " 'ipfs://QmWhhhwERQdrhmDWQLyX8bW4tiMo3YCvVoL6jK5RRoVuaN'\n",
      " 'ipfs://QmZLvTw83fqSVvZJA7u1E35hcTrZJtUteRE4cqMZiNpXbi'\n",
      " 'ipfs://QmeAwgXchkSzb9PdZ4mc6bQwgoFD9u57qiN4GGrdL6MrPk'\n",
      " 'ipfs://QmUPjjZP1ASx3ceBK5VcoHK86mf6vZJ3gvDmnBcFezDa3Q'\n",
      " 'ipfs://QmSHJXju4dg8LrDmj4knKWBvtB1cTdWagredmN8AozPWNS'\n",
      " 'ipfs://Qma8uZAJNW7ZYjYPsiTzFVkpJ6KktDVQwTg1oXb1CYyBi5'\n",
      " 'ipfs://QmP7kYrw532sNU8QLTw1PUGFqREwnbSf5PG991k7D1H9nf'\n",
      " 'ipfs://QmfAFZebtru4mVU7itSinVV9VJkS1BFpM9wNsHFHKi7UpM'\n",
      " 'ipfs://QmcAL5NvdFrry6AfM9Wf8Gq6Sp2r26DAS4BRV1b7sAPL6U'\n",
      " 'ipfs://QmQemntYGATv53aG8NTgW2gF7L9AnBWQv7tWNDGwZN1ugc'\n",
      " 'ipfs://QmdVRS4yKuxWCLJQjS8raKXzcGHs6winZFRVh5JDP3JBxn'\n",
      " 'ipfs://QmeUnzERRnZFUxjDXC4wwuKnxiLomAbDQZ8SbjjkniR47X'\n",
      " 'ipfs://QmPGdkSdTDLLsnhb7kD7RupL3cqKAxwAADk9XmEEMqStUH'\n",
      " 'ipfs://QmRiawoYX5bJ7joXiQhZqyzekxXhZ8xM6qKJ9QSgzbcikK'\n",
      " 'ipfs://QmRtrExGyGQ2VbWA7iALDBoZQ1U53N2TQ5R9ZxopptJUqR'\n",
      " 'ipfs://QmTYGWD8EwShaqkHuprAXhUyNpE24M5CVWzfqZdQYE5QtB'\n",
      " 'ipfs://QmeQpA7PQ71pEG3w18Txft7eDNDm1m74RBKHi6RRji8cYg'\n",
      " 'ipfs://QmczVbK56Uuk8saqb8HggrqAvVsMc5ndADsJo8ejnPz4fn'\n",
      " 'ipfs://Qma5EGZ5DTG8qYMLVHCnquZh1CECC6PLxgnBcRd3jW9DFP'\n",
      " 'ipfs://Qmcyhw368xohy7omL1caZVzZwmREQZwhP4t4thWe2p4mnq'\n",
      " 'ipfs://QmSf9hSNNyrgKs4hzJUSqWZZtpjHmnYuheSDdbsd8CLkVF'\n",
      " 'ipfs://QmZvocRSRAD3XM5qoRgBjhS1RP32aMghCg3V4CMYnT5wWD'\n",
      " 'ipfs://QmNakQ24fQiGSQbEbgZEBDgpLvszWf3QttFPJi7t8KGbtK'\n",
      " 'ipfs://Qmd87HPiE4mRuNTSawT5bhwYGzjbs4K5MicKiGMwgGaUx4'\n",
      " 'ipfs://QmT8CrpJh9pYbXzSH5MrAaZ4qao273Q1su2X9b7NGBMPh9'\n",
      " 'ipfs://QmX9mM6y2miNSN1PgRysvaxx1vkrE3gYbd5Q7tPbQ6zJaa'\n",
      " 'ipfs://QmPowu6SZDJ4kp7STZiSVjNvas6S8WkMMkXMCrVdQLoZSc'\n",
      " 'ipfs://Qmd2Wi9vWS37ygx6U55WTcqmT9umptX7MMib4LUtAUbk93'\n",
      " 'ipfs://QmVArzjXNTe82UgCsWiDRSeG29JvdaEe85XE7VyhHvnMZx'\n",
      " 'ipfs://QmUVdbCMpGKRcaVBps7UWHuo7hsfufMoB2iQVdbpaGqsWj'\n",
      " 'ipfs://QmP2Hj7AukRmqKf622CydEuGVp1RxbqVqU1Jfw2PMvokJz'\n",
      " 'ipfs://Qmeb69w4SzuZCrSt3pDTuyVqUXKt1oWuJhrayv3FWYTUqz'\n",
      " 'ipfs://QmY7fLSedCBRQWHqw31dw5CDRYUccWfzeUgz6yGNeDq9TQ'\n",
      " 'ipfs://QmWWakRrYSqWpvcR5PKHR4ahJeF3g3rTGLauwFEUrFf4wi'\n",
      " 'ipfs://QmfLHZ9nBcP15mst1YEAepDnvsNQDEaUWdqdYZeeT8ejsW'\n",
      " 'ipfs://QmaFXyAdkaCSTonPHcdECmvf439yDRaXyACzDavZjY1crG'\n",
      " 'ipfs://QmWvBsDmuWWXAb3F6UABJ6gYqxQ2srjy5TTwyPh1CZKgSP'\n",
      " 'ipfs://QmTR3gczyHGGsf7XFPdEUfrGV2LCaUsMDyTd2vrHw6bZKv'\n",
      " 'ipfs://Qmewkuq22tGT1539WaUdjTMGvRnWqUjXKBxxQrCBcK8KLY'\n",
      " 'ipfs://QmaebzvXGN1Xxdyn5oEucUDAAeaE8eTi5q9x4XcCiBFfXP'\n",
      " 'ipfs://QmYhS8vg8wC2EdHHDM9q1hesbWsa4L1VFFxn8tMDgW9xo7'\n",
      " 'ipfs://QmRo4r3NC36Nz8QeP5bosd1MZALgabo6eqPkG5beWfBoSj'\n",
      " 'ipfs://QmSWePArcUwqATKkYHsyhsuyHnDYvrJ4s4Gs6rLqHZXRMP'\n",
      " 'ipfs://QmTCZ9FJzGmKDAXCf6d6433RmichFEkBjfk5kZVbYGrKXD'\n",
      " 'ipfs://QmPAia5LnBC4pRMtYLBXNhfwQSuZsrnJTMCtvtaneVYGC5'\n",
      " 'ipfs://QmYgtTCyvJtaiU8yGB1phcScb4FYBhyJGnrEVn5dPg32p1'\n",
      " 'ipfs://Qmc5M4MFFpwuCgvZfCi9w8e73qYcQACDwqug5qRvsjkrNj'\n",
      " 'ipfs://Qmc6HPLu9vCz1Af5h9HNosU7gv2rHwuCwiQH4b4u3qxZYk'\n",
      " 'ipfs://QmacaVLKogBrv8rXjNEHmffmrXftyUReobNx8zEHvGFTSj'\n",
      " 'ipfs://QmcGzPGhSZG9ukB2WiGymTxcLxeV7t6u2Ts2ZPC8ud8e7M'\n",
      " 'ipfs://QmPhK7nCoQkNjew6QFRo5cEWMcW1P9LgjSoM8mT9maiG5c'\n",
      " 'ipfs://QmWbMwzLMsXcPscPZDGFf3USzHo7sGaqgjb2SKTRiM4HDF'\n",
      " 'ipfs://QmUrZESmiuTkS3TXT4Y83GXXJ5o152MASdTQxB9mYLpKTz'\n",
      " 'ipfs://QmPBWXsqKoQcBJm9WguCV7GuALUvLwvxjJ2rYpRYy7eoMV'\n",
      " 'ipfs://QmfEurdKXXGtqp154hu38vT4nmbt5MGVh55y5RBuPjeW5K'\n",
      " 'ipfs://QmbKbH3dF9BmtYbN2cJF2SAc5BbBFHXnpbkBfQEEn3c5NK'\n",
      " 'ipfs://QmYwoPcJM6BhH42Vexr8dSs6FyDPbq7ELraK9isMraw4pX'\n",
      " 'ipfs://QmeGEBcHh2WNZ1Yz8SyEYSZHjH7LVMsom34TNNNcSjYJpg'\n",
      " 'ipfs://QmXiL9YSneTchg3ZWiCPMRpQoBbDXGfCNrLgmwD8HUsaWS'\n",
      " 'ipfs://QmTTfUrfpKsE1n3JjdJLt9CJgkFw7Z1T5qJJVjkjeFWWb7'\n",
      " 'ipfs://QmayZrFJRmtMMDL5uFVUuqCEehPjjdaJwviFg9XP4QSJEq'\n",
      " 'ipfs://QmTFUcyWRTYmCo3pNzufBgBpo9WCJHPaJv2dR8DJdDcjFQ'\n",
      " 'ipfs://Qme1T6xMLGHVeBMR6j7HRtHCqBLMJag7yAL1hdC9yc5zbQ'\n",
      " 'ipfs://QmP3PDogNZXDzR49YDbdadyXzHnNhTrfRhnuX9crHEt8hQ'\n",
      " 'ipfs://QmTqMSMDKfiq31DHDExwkheksRrtyjcuvMACeDspCxcHQ2'\n",
      " 'ipfs://QmZghnhj6QV9uyWZcQjBuiLq1xmHcztmxkrxfDA84jtu62'\n",
      " 'ipfs://QmeNygWqKSckPAdbzVyk6BbKSRApJi6d75JyBiCVHN963H'\n",
      " 'ipfs://QmdQoCEZugmT69d6DAZYiW51ism8JeKiLWGBzZ2NneMnWp'\n",
      " 'ipfs://QmUXwEXmvYbV4ekFzNs7XoWikS1Nmxi5Lgf52jWYZ43aV5'\n",
      " 'ipfs://QmeWgSDFQANUZsfzeeP8xcmJccEdTfwoGNBfz1M9sG3M9P'\n",
      " 'ipfs://QmZr1cyBD2jJoJQog8FNx88hAeSuNM64DQ49F8r5w3qLrc'\n",
      " 'ipfs://QmcLxRWSyNbm3ChAukRExCABKAY15FEQXoLiQuguKKSsf2'\n",
      " 'ipfs://QmTU6sKNqboUf61V3HAM7wy5DKRcY3LQbqoSQnegbdCvq9'\n",
      " 'ipfs://QmSs17tFCA9hLv8nCyzHKUaPx8U75B8uJsKfw56GUJQPTa'\n",
      " 'ipfs://QmR87JSxPxyUi5sFCedLTHFizZRKwikT5cNvepgez1kNVg'\n",
      " 'ipfs://QmbCdrpzrHmBUDE4PM2HeshJAM7usr27EFBCG1qkpCV9sE'\n",
      " 'ipfs://QmSAWdgP4XyPXudUCiav4zYrYy6XuWFELP3Bs8LY8Jn2e8'\n",
      " 'ipfs://QmeLdr3L2ob6pLh7WUeUhi5ZTDHfL9J1Woxz8GKP1GKZ6R'\n",
      " 'ipfs://QmXpm7P4yNwzT7B1qGiRJxaVUxDwNSp2XYQcD8xmmeFDiJ'\n",
      " 'ipfs://QmQDwxptQh6mBH72BWeLVpTMnTRV17PpbCMaQ1yvxZSTP8'\n",
      " 'ipfs://QmVFBfzFFFrt2gHq6uJFfZvw4Qn7ppsMUrnPS2MJWpNnBT'\n",
      " 'ipfs://QmZtj9iuFvyEKkxq5ygoXyMsZctT5mC8rbYeAbmiZvkLaU'\n",
      " 'ipfs://QmdcWukFixu1EvJ17ELEY8xv6AYm9AUVC2BGkaUNVWRi9H'\n",
      " 'ipfs://QmcpiVLkSHSEQ79qdh12M2yJcXDyzkxUCr7BVBCtd7Hkac'\n",
      " 'ipfs://QmZuyvF7imCVQ32AqZUVvNHEfuwXEnoSYYQ1w134bqQ7m9'\n",
      " 'ipfs://Qmbp3hHCbCecdwYbG59M9dn2Ws71YksQ6E2j2ahZkDWiwh'\n",
      " 'ipfs://QmPyjKFobqzkrwRmN5JQprBGscfVjifkD2izBu1iUNpBsa'\n",
      " 'ipfs://QmT1HbQYRc4TbPxjGzeRexv8XUWgkNWvrEFYGdrHCG3SjM'\n",
      " 'ipfs://QmQtQz3fooTxi2sQCM8PzSGfHxC3ztpLQpPFAM8MLm7yzL'\n",
      " 'ipfs://QmSaM9CWYdVZTLuqgBktM4uMDgdjxRYCGhTrMcSjPe5jg2'\n",
      " 'ipfs://QmYNEEXi5UptMqWdm7Ps33w1VjgARK3BJsEa1boLGBbEek'\n",
      " 'ipfs://QmV3ekhkP9VtZnR7Gn28WeR4nokzvV4uxwgkuWoYk6zCs6'\n",
      " 'ipfs://QmaEAXJLtgcGSPKAdtr3dw6ktqCp6xdHCat27htgfCM9o8'\n",
      " 'ipfs://QmVa7Di4kwNAnRFrLz5WBhvdtnCbM8Mjzr8EzSwH5C9m4o'\n",
      " 'ipfs://QmZ1NQTrriM9v2PZq9Q8cqZKKuVbuzhDk9qFdie4Giqstq'\n",
      " 'ipfs://QmRcLGzjbyTgSLRi4Tm7PHzsD9tuvchV5gsHyy14v9yT8W'\n",
      " 'ipfs://QmVcxdJgL9T5AAtApT2D8hw4bjQorCGybMPzyMitcsY5T3'\n",
      " 'ipfs://QmQQ1YmYgYfH8vTbGksvVyKi38k285rxJfuS9NFqRX3ioG'\n",
      " 'ipfs://QmSoiep6V6jkaLiiuBoNeCBYr78Sr4H2zdTzC2ZDKDMyeW'\n",
      " 'ipfs://QmYmEgiR7zHHS6bdejaZc4ALV2KnbQm9Fc3zjZZSLhBVBv'\n",
      " 'ipfs://QmRrwmcqUTphwhycFsZV2bZrkTtTQXWw2CJ4ypgH3yDh8W'\n",
      " 'ipfs://QmT9mzv5X642hc5BwmijoQjXP6Exgz9QinUxh9JCUBRdm1'\n",
      " 'ipfs://QmRQtcy321NBrEPayt6SQgAbRcqkgvTaFd21XdCWWCYsav'\n",
      " 'ipfs://QmQZwaAH4Yt3sjm7gSfEsir1AjgZe6rUZ3ciY1MnEkhqBv'\n",
      " 'ipfs://QmXycXHi5tHnF1qv9vo96Dv62NoXXFHNXMiZASrgRSf87C'\n",
      " 'ipfs://QmNtqHTdTkeWABHFs1vX9jFuP8WDLc1vbKdVP4kQSNkPTy'\n",
      " 'ipfs://QmWXtNCz6ybA959cgRW3aNpPR8BBZomqHP1k3XMSNftPrr'\n",
      " 'ipfs://QmVKSmmBVw8XbmymEYiV6L3D7AwhXkXop1TfC3Nz3dQnFq'\n",
      " 'ipfs://QmPau7rsyeZRWFgxAxsx1hTSeLeGBmFyr87b9QSRQKMFWd'\n",
      " 'ipfs://Qmdn9W3gTxrBjk4mRNSqTrzQ3j97USUxRjQH16z8SpGTax'\n",
      " 'ipfs://QmUx7MU3XzPyy1ZKCQfSDL6ipejouNypDSgRGM8qi9mAXe'\n",
      " 'ipfs://QmXrh8heUsGfjVHjmidVdhc92R72tr7zq5B8UgfriQ9rzr'\n",
      " 'ipfs://QmY6pgLZ13MPBnZZhiofRwoNMuG9ygemZeY7xC31viHbPK'\n",
      " 'ipfs://QmaFWX4NdaSVnWuqvgfzodZimzpw26eLquXZ6mKeRXbBMr'\n",
      " 'ipfs://QmPwCo3CKzUjK1hE3gFjAvp9vRwKNXBxV1tJjdCceujWrA'\n",
      " 'ipfs://QmWqRUtGZYEL3eX9eYJ4HBHcUxH8riH2KpzJyApNf7rfcj'\n",
      " 'ipfs://QmNRmFpkNspATYurAVN6yxUWNAncF1nFdFp2c9uNRYdES3'\n",
      " 'ipfs://QmZbpU15vLSa3z1UCRMQ3JBqC635Ta6wnMfyW8oFKpa222'\n",
      " 'ipfs://QmQFiAKNDhzVR3PqoL1orRetNpYHEUpLFCpVMmspLec4P4'\n",
      " 'ipfs://QmTpD7aQEgrbgKUCv6xTk8P1a5sfcfAnfKKA7hz1QBKBPh'\n",
      " 'ipfs://QmToMU8NdUHHGtBSiJGynbotGF5DLxXQWnmLcrp7H2DJTk'\n",
      " 'ipfs://QmX6Ge4S4u5orsTxiHs39j2TVwsBwQs2FBrg6k2xgQ6uTw'\n",
      " 'ipfs://QmV2h6nGSrmVmqZ7cKs55SmDfyFZbFsMSh1YABWeYnoX3a'\n",
      " 'ipfs://QmXzXW4K5S6bS2VBWsVJS15LLYc4rUYW19shpELQxpG7Zs'\n",
      " 'ipfs://QmSorbC4UvLA6s92myE7CMog9htep9J5TXi4mUTFckc4mU'\n",
      " 'ipfs://QmRBMJnEwu51poxZyfFADiAPJEJFtddwvoQ6SYUKLu1hRo'\n",
      " 'ipfs://Qma9Lsa4xCdEE9nMQy3zVZdKjnPJHXHywLkCB4TUdsrSR8'\n",
      " 'ipfs://QmU5Pzz9KsKKWKMf8DfNjiFZVpd2EhPELnmvs5j4r9qMGR'\n",
      " 'ipfs://QmNQRnjPWcs8A6cAFZtuxHrBjpvQEHx71niSihpQ7B3Rfe'\n",
      " 'ipfs://QmYhFRQyZuRFRXt3fBiqaEZZA6LmyL3qK41tFhbh85diBT'\n",
      " 'ipfs://QmTVkrU5KzHt3B2uG9u1CsAwN2W6Vr8cJfUePrA3tqKNzC'\n",
      " 'ipfs://QmUrSjBEUEV3LKNzacvP1wZPKXBr8TtWuzeK9wS7UwD8HF'\n",
      " 'ipfs://QmUx9Y6pXY3GC7LZHBzQT2b1nyxcbbx3kD31DwURRj9svw'\n",
      " 'ipfs://QmbgoH9hv22FweD5nFgV4gFuu26qbbSFoP6pyQcmq53d3A'\n",
      " 'ipfs://QmVk9g4ZQF6xXbL7rEZKEbTv73dVgrUZb7ToSr3XTB69uN'\n",
      " 'ipfs://QmR8JMVYDWonM5EAAdPhBXwhfjB6EzNBpRqXGkV1rqV4yg'\n",
      " 'ipfs://QmU6zaSyzMUuysThgsFvrPvK4XSGPCXGhQraNmV5yipskx'\n",
      " 'ipfs://QmVhfkoGUkDLAVuqHJafH6xwjH46TUpwF7j2Qvw3XJi6fS'\n",
      " 'ipfs://QmWE1GpCchFkdqSKcgSWQ6wvVX9XM5A5sF2yyFAaxGpm67'\n",
      " 'ipfs://QmQb7S3v8fryaPecgHEmYiGUN7eRg4ufPD2e6pBwXxoUeS'\n",
      " 'ipfs://QmcjJJRdwz9ZXXx1fHRcESsbscWdWP5HShTBxS4EsdapVP'\n",
      " 'ipfs://QmZ6hoDixwKf5j8ctctxmmWphh7VH84TJuSNPZWzu75Tho'\n",
      " 'ipfs://QmQfDVRZKGsQTkniviCdh5xCxoAh1nUmp71Shfux3S1uga'\n",
      " 'ipfs://QmQQmr3ohKSpvafWgLyA2iyn2oTNi6iKCZTdx9JBiMdEoS'\n",
      " 'ipfs://QmT4FqZyop9MKbKRNjHgPScVUWofKEob4P2b3z8ASCncmt'\n",
      " 'ipfs://QmRgANtRLQqcnhMZQXotxPn48dFwzL7nYSX1jEmcjLpzqK'\n",
      " 'ipfs://QmUVigMXqqVVaPf2xayZauF2B78exa4NcAeK3XC9yKCX7g'\n",
      " 'ipfs://QmQe5xvwGJGNQHSyiWGeJC5tyiPzrQESuApVVCMmpvDPzQ'\n",
      " 'ipfs://QmbGgz9J7maD4oUmZkDCuAWNgZN2AfvogYnaZCcK8TtvYy'\n",
      " 'ipfs://QmQkpZ3vZJxuvMN5j9XebKZPK36g6KFxnQft4PunLitEvB'\n",
      " 'ipfs://QmQh5aqUEqcbbMp5Ba1FDxazzS5q8LnfhsXTEDuEpQhmFV'\n",
      " 'ipfs://QmfYevSknLLmLF2HCUEmkc6Py81sdC5T6AzFXcX6kpb6Ta'\n",
      " 'ipfs://QmWhYB4Dhz9gB2oVb37pJ5pw6db9ygtZrxHVcEnCrbZFYP'\n",
      " 'ipfs://QmSj4JvbcdYRDXeqdge5pHrTgk5ZSPfZtiKHB1GCK7oJRk'\n",
      " 'ipfs://QmchTETpBHAgRTN6KyymE4nXC4mKFCCgs4jCeYBLPjv6RE'\n",
      " 'ipfs://QmbcwjpLoCMbCzKjNiFCUVYjUZFncMJTaZXiyGAeW7TuSa'\n",
      " 'ipfs://QmcjkzfXokirWPpAzwtnSxHeTbWZ7Mk5EKiV18XhPZbTih'\n",
      " 'ipfs://QmWDo4apfEM3YM38mJzLyQanHTFhPxBfc1JDDGQNMc5YkC'\n",
      " 'ipfs://QmUGJ4aCopQpbRY5fjZyqGMay7K6oHKiMLRMkwqLgcu1PT'\n",
      " 'ipfs://QmUu534uZ7ZcGmuyvokjNcpdr1fwwuctssiVMbZgBWofLo'\n",
      " 'ipfs://QmPR71nHvCsmvtBkqWgzUipX6wtvziHvxXmqZ3Rf8WqzSt'\n",
      " 'ipfs://QmTfcxMwrkgx6Wrd17pQx81XNAcWHLFUxKHL9ZHD42v4Gy'\n",
      " 'ipfs://QmVuWSCCYAEKxNdgntun6DAdi3oQ77TkTABzdadKFGeQSn'\n",
      " 'ipfs://QmfTEpJzhmh8myHPqgPNXDUcjA2QAV9JjR5yQC6imxnd4e'\n",
      " 'ipfs://QmUaa15QnhZAZ4j7PSS3aNM21jmMzsr78UPtm67P77a827'\n",
      " 'ipfs://QmV5cLm6x8P2mMrEn5GJN2wVj7a65L5U4EEg4np7SX6yDv'\n",
      " 'ipfs://QmPWFDDA4ebMbgPBSxcF9wVmNSKivsa4TGsvtypbUhcRcu'\n",
      " 'ipfs://QmVD2HHDM7CtNb47tcqDyc7hwg93ej2WgLoeq1VvisCQ19'\n",
      " 'ipfs://QmZzBvdJ8psrcmXqTxNVZBQJG4hR4oYtfgigkVvCiSvuuQ'\n",
      " 'ipfs://QmXGLYUrUQGAMJk7fA5XHdPvE1Lzmiso7m5hs8WfaWfarK'\n",
      " 'ipfs://QmbQ2yiA5Fg5F9rPGb4dwn5d6kAnZJw4muofeBZJGvBJGp'\n",
      " 'ipfs://QmUETPmaMEPoaJrZbuLDqCuR9TTSDXD8CmzwX6cULS9DWn'\n",
      " 'ipfs://QmabXr6NNy7abXhGYyLBNFwAxDmipAzBKKFbxG9i9NdYFC'\n",
      " 'ipfs://Qmf6RuFJ9LTBYvzLXXZdLtY6qbuJSxRUzm8c9McpUeoawF'\n",
      " 'ipfs://QmYUSENpM4zMXa7KPuAAH2GKbUW25nRxSXFu7CkSMKDccF'\n",
      " 'ipfs://QmarUdRPtTxc6V9fCeZZLhh3gS8M1FC62yrW4RmmJDxbnf'\n",
      " 'ipfs://QmcUxgbTrdhv6E8ZPaTxhtE3t6PPsZXK8B2AzyZ7S5SjfE'\n",
      " 'ipfs://QmXhvH7bGfg7fEeGdo32yvhJfEAuyLjYF1ZZbd4eRsiFiA'\n",
      " 'ipfs://QmY5u9Ld7MJxmGb2hjQKPoHJdj6LsFV4du82QJGhBE7A5c'\n",
      " 'ipfs://QmeL8VJUZsX1FEVXBNu98QGBEFYRtKojbC71zb1PhQi92A'\n",
      " 'ipfs://QmfMgd5YKb7FiQDNvw5mcyEoLCrWni24yPtDL8FPHSDghK'\n",
      " 'ipfs://QmSELXCcpwnJyWRFvEmMFMq5Uakpr3smBePt6NHC2byeXV'\n",
      " 'ipfs://QmTs3FuFWv11QWuKPuFV7f2Fo5XFC7aaQv9Q1UzEQCVnwC'\n",
      " 'ipfs://QmeyL2kUREFogF6hvpp2xEyBxoJbSr75gQJvcQdvch8fYK'\n",
      " 'ipfs://QmcHfzHLG7ECv7a5qbhics2PFNt8qESvLyGdM3RfU32Bs8'\n",
      " 'ipfs://Qmf2ZCoB7McnkH1Khyv9u2FZLydSxbkhwLNArtggLU4Yxp'\n",
      " 'ipfs://QmT9MDxV7QSb31ieQfFcnDRZ9tPJ4zdM15EUjok42sAFsu'\n",
      " 'ipfs://QmVtxcmJqZNvE48a9nCs2PhCyULQ821rYQQJkJNheqKEQk'\n",
      " 'ipfs://QmNa6YxonMZfuPhywhtE6XaEmhrNTgevgz3K5u1bMmFAJZ'\n",
      " 'ipfs://QmapDbm5xt7oFi3bSBtUUYed1TwLbPiLQXtZ4jCA4Zfsmv'\n",
      " 'ipfs://QmbnMeMVWHjBNCUZhdZE9GJ1so3HYSuS1GdSxdn69v5Ug1'\n",
      " 'ipfs://QmWdWn95YkyWuD9aRQqwZ2VbLB8UxLuZ89tA87LdgWrBMg'\n",
      " 'ipfs://QmY7kRusZ7Sg6bnajjoC4CDCEMRP6mXfpLqn5CX8dKaFZ1'\n",
      " 'ipfs://QmbYDFgvUVkHLc82eEJQ3fESjDKZvg8CB54mBYFTuozVqH'\n",
      " 'ipfs://QmPmdTj7fDBngToQMH2BMcMW4niRMWsV6FWGqfqAQVmuQc'\n",
      " 'ipfs://Qmc2ncrFHVzDerYa2W5BCoHSqPmhYdzNypXsFSH7urzKtQ'\n",
      " 'ipfs://QmdnCRcdAK7hqEsV52vm412ZtmZnPBcXkFwZWacJny4R4T'\n",
      " 'ipfs://QmSz52GKRJZuYxpzHwoUVCwxdoxgpvn8h8fRpvYgdfRiYT'\n",
      " 'ipfs://QmQ185hsFhWcXrFABh3xaxNmKsSd5PCd8q8Ys6sjbq8T8e'\n",
      " 'ipfs://QmWeVnSePP6nEKi4GRhKsWfD19VSRMSxrYPSD3tXwZHL9P'\n",
      " 'ipfs://QmPKt4Tb71uR3fvpRDqQUN2DcdCmWqtVVHe8hfPWN3fj5x'\n",
      " 'ipfs://QmYwSX8rVc4U7Go451ryrVLayjL5Fdm2ixSAMaPQtAjpen'\n",
      " 'ipfs://QmWGqgpYTPTdznJtecM41XqVKSHCaWpw6PeyWnWcWV3PjD'\n",
      " 'ipfs://QmVH5WyFjSY3Auh7eZpTZ1zeEwsXuMexj9iEeEtymbH3yq'\n",
      " 'ipfs://QmYeJpoHapXuofAkfPLuxsFenaLvB5bYDi39P6WExxSzQN'\n",
      " 'ipfs://QmNWExBmSQ1Ui99WSz4f3Jj9p448Pbsdg7YRxPRDfJfkuD'\n",
      " 'ipfs://QmbKKJxmbzpWPc9MwRJ76waY1bbB8QnADAh3TjCaxwyZMa'\n",
      " 'ipfs://QmQeC1UYoNZXGUPRdXPMRvNYMJkpNf1TigSapGWrGziTrg'\n",
      " 'ipfs://QmVNzfHNqrgsuyEt6KaQRtXcukCvqsVxt4JWEKJJBwfAk3'\n",
      " 'ipfs://QmVi1MPnnRnHUnN38UCjpHVtV6NyWn7aAJprRVZbDp1m4K'\n",
      " 'ipfs://QmTPKc33UELsnXxVDo1SzNPMeSC67KySEhfNBuvRb9M7pS'\n",
      " 'ipfs://QmXuf31P6vYyrQz5saHxKrh7RWE4hpvqW39UZSqX1G38RM'\n",
      " 'ipfs://QmPYDJ1gBE3PzGxFthZrr2niXCujFCkfZyw3ou7wD6cuPN'\n",
      " 'ipfs://QmUo2L2kPMBrZweHFPJJDRZAv2UFCy7Do4Hzg6fxiXaL84'\n",
      " 'ipfs://QmbT4JaF8wE4v1kfGrnZS2MwEPJtNYxQGp3ZS7hJaG9ePN'\n",
      " 'ipfs://QmQAxGBAAGiW1Vtxc8i2t6EkZMxHdSVXThaFpthcJGd68p'\n",
      " 'ipfs://QmXAd8qLmkr6MJeMhJ22mwfh4oivW5uKiioZBdshj2hU2y'\n",
      " 'ipfs://QmdDGYwTJ5q3RK96rpwEUKXAE6woJQwcQYwh3vUiGPTUqp'\n",
      " 'ipfs://QmPpf4hsG822dTSmHJ7PB1dD42sMnGc7WfSDAA5NQ3XKdu'\n",
      " 'ipfs://QmXdZGDPFzEw98SXDL9N1YynbAneumZGbv3i5HuqW7Gzh1'\n",
      " 'ipfs://QmdCS1iM5Z9js6QRHTaXteVWfXNBeRDrvi4TECPBpRhnXg'\n",
      " 'ipfs://QmWAfRXN3nEDPsVHpJFBsbYZyRUoJMvTcsCAGRz1c7QCGs'\n",
      " 'ipfs://Qmcq4eyPH4SKBjy7dBak5KMxrxABXeKzDctahm2KJDscQY'\n",
      " 'ipfs://QmWLAkmwFTuN8mA4nTCbLzjpNUYoHC1GVL6QuTaKXtKujk'\n",
      " 'ipfs://QmYSwefbzHCQNAN37iDanASz5F9BZ4RhuFTA74Ud598tfL'\n",
      " 'ipfs://QmbZjorkBGbj2cNtjEwWw3bmCh3UMPdWocMSRHuHNkwbNh'\n",
      " 'ipfs://QmPphgveANNwEdTcR2zFxyRetAFET6tf4M2yRYyuK4KKwY'\n",
      " 'ipfs://QmVhCYeYxALspE9MzD6g81eBCsNQgtcakCnEyjNkHTNXTC'\n",
      " 'ipfs://QmUK4aoKgTipqvGU65RwiMqRp5nC8S4pMPQvi9FNN9Qpu4'\n",
      " 'ipfs://Qmd34aUPH53xuk9LxAqnnJsTFEoBbd4TouFx6TLxxk9HYR'\n",
      " 'ipfs://QmefZdvdz3zfqo83EM9F8yRmbXEjjeVaGUYrj2KxVkSQHW'\n",
      " 'ipfs://QmPoR8incUy9poW3A131GPNQjoL5RRv7uYEa1CPhVDVhRj'\n",
      " 'ipfs://QmTRhW4VmEedRNo7v88522oUtJsT59atjteZMX9rGDj1Y4'\n",
      " 'ipfs://Qmf6c4qyqAhDfvXMpcQPL4jU2Wd5cSYKotzdATxwrk7Xxd'\n",
      " 'ipfs://QmfTd6LHqN54akgCX7Zvt7NnFFWyyawT79KhXdUhYvZUVE'\n",
      " 'ipfs://Qmb3q9yGsHCyDFmBn4mKhcY2KV2JqRHTcfassvRC66rtLe'\n",
      " 'ipfs://QmcqyKmvneJf1bqmt8zBf8nq98TvbLwe1bdG7WPVbNe93M'\n",
      " 'ipfs://QmcdJF9LqauAbArgF6uChbCA29i127V7vwtRvFo1FaERfn'\n",
      " 'ipfs://QmaXdqfnQ19vo4rtyFdA9BnxczmhfoBD3XQmjyX61UqR3A'\n",
      " 'ipfs://QmNV1WtURnwrUR3pYHPLpmAuhRvXhAcKrw7g3hhGEx3o12'\n",
      " 'ipfs://QmQAVkPaGjkejZzUUUYNd2pdA39yiCxMbU1SgfX15LDjrH'\n",
      " 'ipfs://QmXXH34kumGDiVTtiPon2jc56xq9aNV7VopLwVk8GkPKQf'\n",
      " 'ipfs://QmXV1Pbyz7u6s5qUZ9P7Mi9LRcgSFpj2o9gendfGsxUz1h'\n",
      " 'ipfs://QmYporsnhSG9opkjc5PTepwoq5jH5yRytCqEnFgHfLoTLi'\n",
      " 'ipfs://QmX7jSfAMquygZSJk7F9hQQwrEGYMNcrmGokMGC3UeLfBa'\n",
      " 'ipfs://QmeQsBckmWweXZbkfmzyAcbpNMHDAdCPfgV7MfUCBCEkJu'\n",
      " 'ipfs://QmRRev5T6dKhqntBcUbUAVCLMyyTyRn55LL1W84WZjqN4t'\n",
      " 'ipfs://QmWUYn8w1tXKXWrx7KHEC5ofAtUkGyThVHBRSgy8R8bLad'\n",
      " 'ipfs://QmZchn1yZTZwe9HgNScG3zTaXWmJE2qV3PtqzNLfRBn7V1'\n",
      " 'ipfs://QmZauyzzh97uWd7WcuKwrLqDJaiCFq85Z43vozyU8rPG3t'\n",
      " 'ipfs://QmSeM4fcFhx4j9hb4S8QV4VzrthwwpNbC3e1KYMLMuRKks'\n",
      " 'ipfs://QmdocKWVY4WuX8GYud9rHJeE5GTGiKmHmiFgu7CC52P7br'\n",
      " 'ipfs://QmfDbjQ4CBc7fcQHExMTSx3E2ESHsjxH1jNLnAcjxofjed'\n",
      " 'ipfs://QmNRP9EYamxHVc97ZFxriEisMUt4HowYCjwho9E7fJ9c8H'\n",
      " 'ipfs://QmZ6qzBwH7rpXuDEszEA3uu6FZ4xhfDz4mD3dXkmjzR3oz'\n",
      " 'ipfs://QmVu5X93wRYecaY2gixAzgBxRvja6JcPqSixWnVM5t58Wa'\n",
      " 'ipfs://QmVagcFX63t4Qp5TnafZZTvTmx8ZMwkW9ZTyfSLNdf4PEX'\n",
      " 'ipfs://QmazLjAXfPkDYjtn6wfena5MeTQt691mZX8CDxeeGV1KU2'\n",
      " 'ipfs://QmV46zDUxT34kd45EQU4kz5iYMTZsj3eUGyhFUSPZo1C39'\n",
      " 'ipfs://QmVExXwp4TkG7ZeygxxG1LKGRgdKNaPTRXCxdc8L9dWdni'\n",
      " 'ipfs://QmddQN2e5ZGpdvDPJdo4fwchejqhaWEK4BWoijSxcymGV5'\n",
      " 'ipfs://QmX18WBXMCG4U3jcHingdAtiSdX4swRmQHVSb5GiPSsazP'\n",
      " 'ipfs://QmSLUigSQCZzZQshrDcZTh4gsgdTdQVPGGVtKJZaeZPejs'\n",
      " 'ipfs://QmP91ToPcyvobpXAUdxUi6ZNyVNncVx8ZE4XH9cngkadxq'\n",
      " 'ipfs://QmNVvmGwnAVCPuoMteme3gLvk64ky7iobLFfCHjcks4ECY'\n",
      " 'ipfs://QmY33d8DqdQA6mYG24sSXBKiUJj8QcuKQKadf13bW6aaz7'\n",
      " 'ipfs://QmcHEbTTzf4UiuTjGBSn3ivRky21mVhfe1b95rsHxaCbUE'\n",
      " 'ipfs://QmY4FMP5CegKCLiWZaYkHjqkd6yvSTuQP8nLx6rF8oJJUj'\n",
      " 'ipfs://QmNXETQicwtvodHa6Mx2u6wYwY86WsqU4x2e9HC8VGfu3v'\n",
      " 'ipfs://Qmb8WGu55dy6wkUYg9VpPu966umTpaq3NDSgQ2pyMcdYk8'\n",
      " 'ipfs://QmUUyed25usLGvseMk8hoAUB691qVt4ebuL2ufJGiAnATv'\n",
      " 'ipfs://QmWLbJk3bwm8A1zvhBkYVwCgXJkFESn1EWtsF38o55HnFz'\n",
      " 'ipfs://QmarBBHdVxCphRPUARMo73htB7V8n1dt9ztMnsP9qwCEiW'\n",
      " 'ipfs://QmfVfv4TqWMsx57pQ5HEZ4TbrvJbxNWwomT1rrmBHEohWb'\n",
      " 'ipfs://QmXANFbWZm6yg7zmE8713vXSCyEa5JnZLsfDoPRaNPdo4m'\n",
      " 'ipfs://QmU1bWJ6Rc9pyAx9oKPJvmHvGPtewYFmR27cWGPaiw2RHq'\n",
      " 'ipfs://QmQYWUKGkRbDLsGVi3FCqagjaVNma6FWHCfGwFwrSAJEPR'\n",
      " 'ipfs://QmPLqKAhHXhBUk1qDir3Cg466fhRorcRTuXAvQBZ4U6PBM'\n",
      " 'ipfs://QmY3GhNPEY7XmNvAjPmr59E9ZkogZk183YFEqtXTww6wGU'\n",
      " 'ipfs://QmS6CiDhEb3XB2utNYf6gszUcofWhZ3jvrUnigLkpL94wd'\n",
      " 'ipfs://QmTqfE7kbDytQiGTzZvsd4h61ZC3cc4euW6U9Nk5Du61N8'\n",
      " 'ipfs://QmT85DpSPF65gHMBNYpRzKVSRiLydCq9NYq55ssXaxQY5x'\n",
      " 'ipfs://QmX9jRH16btobZSnj6zJkymMssZKiinaty3mrKweQ3sYb5'\n",
      " 'ipfs://QmNQU6Yvucx7oNMW74sjCd1SwofhvTiuGjoXav6bhVgdKA'\n",
      " 'ipfs://QmYhYj88XLA7YnuaMmGexTHZgz9Q9mQwuzTKYm8rAXwBZV'\n",
      " 'ipfs://QmYynGbbSvVkr8LrnZXu6HQpkPNAdwskoc8u291ok5Uq7a'\n",
      " 'ipfs://QmPtRLj2cEDMRXRSVpCUWdjG1QyQJCFVWdrPGy1hF2tXib'\n",
      " 'ipfs://Qmf1k87Er73UyoohLUmm9mccW75mgHpgabvrKAmKh2fj9H'\n",
      " 'ipfs://Qmc7sypkjKpwcaKjYjXsZu98aH335sR1eYFPxLmNvLaEhR'\n",
      " 'ipfs://QmSLRs2ZU9cv3PCinNProS3qg1PLhXdseNhEopd4PfzAYM'\n",
      " 'ipfs://QmZUY2y7s7MS4UcN9KbrEQ3yzEg5eho4FzafAebRZNt6Lv'\n",
      " 'ipfs://QmUxgi43kehDRmBG12Fg7HVWpr9tVwFpdKBt6Zeyoy6rFU'\n",
      " 'ipfs://QmWzA3Rq8x69hPpqvmrvdNFcuWwdQ4rNWdxKArpp1sNjQw'\n",
      " 'ipfs://QmbYFNJgotmUsv1b1XLa9pHax8kisrK6zS7MbEXwnoNtkD'\n",
      " 'ipfs://QmbaUFMm1iBPtJm8NSZWhFJFmxa8U7gPdE7Ld7Gsmz8icC'\n",
      " 'ipfs://QmSb8JHudiQQxCycQCwg1aX1ogwCPk14zPgUYpQtev2nAc'\n",
      " 'ipfs://QmQd7oegfqJvQwxE4voKNtutUrMZxy6D8qwx3gDHoPMEV8'\n",
      " 'ipfs://QmUy9j4vhFLag7Gne5M9GKd8NyTSGpDZSuK117GXWZNo61'\n",
      " 'ipfs://QmNZzVpQYGhn4Rv1zgxrq1faSDUJPzbw2TQtnffgTN4GgB'\n",
      " 'ipfs://QmfYJZtXzRNSrbDbADrUdjym9DWUuqqatBcC5KZWCyTY9T'\n",
      " 'ipfs://QmcTQVU3SRhbCJJpBFKaLu9k2PWZ6874iMnoeqjZPUCJq2'\n",
      " 'ipfs://QmSLiAMHhV7RkG7evQW964rqtifXnyANH6wt1SEf5g7ycE'\n",
      " 'ipfs://QmdE9yRqEAaxNfU1ZG21kLz5YL4yU9vfaZAgakGKrY5Z8v'\n",
      " 'ipfs://QmZNWifZnjgNEgY5T8TbdcLNYZVvWBWLzh3VsP4v4XRKDh'\n",
      " 'ipfs://QmetuEnWJ7crWq2zton2WH5Yn5nRRvptPGjCJhTVcCu39X'\n",
      " 'ipfs://QmSLUQxGAPsdovAGBhcjz8oZEFFe2KjZc3UeM2a7VVdTYg'\n",
      " 'ipfs://QmRGNbFECDisx1ETMfuX8unvXrs18qWWDRzK6ficJ5XEBz'\n",
      " 'ipfs://QmTkdrzkBVfGugf9UMVFoRsxNF6mbMdq82yJYPEpkABvYm']\n"
     ]
    }
   ],
   "source": [
    "import numpy as np\n",
    "import json\n",
    "\n",
    "\n",
    "ipfs_array = np.zeros(500, dtype=object)\n",
    "\n",
    "for i in range(1, 501):\n",
    "    token = str(i)\n",
    "    response = json.loads(getMetaData('0x60E4d786628Fea6478F785A6d7e704777c86a7c6', token).content)\n",
    "    ipfs_address = response['metadata']['image']\n",
    "    ipfs_array[i-1] = ipfs_address\n",
    "    time.sleep(0.01)\n",
    "    \n",
    "print(ipfs_array)\n"
   ]
  },
  {
   "cell_type": "code",
   "execution_count": 3,
   "id": "ea77a857",
   "metadata": {},
   "outputs": [],
   "source": [
    "import requests\n",
    "import shutil\n",
    "import os"
   ]
  },
  {
   "cell_type": "code",
   "execution_count": 50,
   "id": "e87ed274",
   "metadata": {},
   "outputs": [],
   "source": [
    "import requests\n",
    "import shutil\n",
    "import numpy as np\n",
    "from PIL import Image\n",
    "\n",
    "url = 'https://gateway.ipfs.io/ipfs/'\n",
    "\n",
    "def download_img(ipfs_address, fp):\t\n",
    "    if ipfs_address.startswith('ipfs://'):\n",
    "        target_file = ipfs_address[7:]\n",
    "        print(\"downloading from\", url+target_file)\n",
    "        r = requests.get(url+target_file, stream=True, verify=False, headers={\"Accept-Encoding\": \"identity\"})\n",
    "        filename = fp + target_file.replace('/', '_')\n",
    "        if not filename.endswith('.png'):\n",
    "            filename += '.png'\n",
    "        with open(filename, 'wb') as out_file:\n",
    "            shutil.copyfileobj(r.raw, out_file)\n",
    "        return filename\n",
    "    else:\n",
    "        print(\"Not IPFS File\")\n",
    "        \n",
    "# download_img(\"ipfs://QmVFPvu8aeJHXyNVxpfftVHaKjRsbtH6dXWscJ2TukM3xi\", \"/Users/huohongyi/Desktop/BlockchainData/IPFS_interface/Monkeys/\")\n"
   ]
  },
  {
   "cell_type": "code",
   "execution_count": 125,
   "id": "dddda6d8",
   "metadata": {},
   "outputs": [
    {
     "name": "stdout",
     "output_type": "stream",
     "text": [
      "downloading from https://gateway.ipfs.io/ipfs/QmdsxYwtbDKmx6fz6CP5FLCH3hkkuZ3EDBFBTcHHRrsSRM\n"
     ]
    },
    {
     "name": "stderr",
     "output_type": "stream",
     "text": [
      "/Users/huohongyi/opt/anaconda3/lib/python3.9/site-packages/urllib3/connectionpool.py:1043: InsecureRequestWarning: Unverified HTTPS request is being made to host 'gateway.ipfs.io'. Adding certificate verification is strongly advised. See: https://urllib3.readthedocs.io/en/1.26.x/advanced-usage.html#ssl-warnings\n",
      "  warnings.warn(\n"
     ]
    },
    {
     "name": "stdout",
     "output_type": "stream",
     "text": [
      "downloading from https://gateway.ipfs.io/ipfs/QmR7Kj6UGDf728SMLq6bvAbhYjmYSZXiEhFPLhgNVXA6rJ\n",
      "downloading from https://gateway.ipfs.io/ipfs/QmWRGQUs6yRUinC8d3woj6dgZhEwzozbBZ7csnaByVaob8\n"
     ]
    },
    {
     "name": "stderr",
     "output_type": "stream",
     "text": [
      "/Users/huohongyi/opt/anaconda3/lib/python3.9/site-packages/urllib3/connectionpool.py:1043: InsecureRequestWarning: Unverified HTTPS request is being made to host 'gateway.ipfs.io'. Adding certificate verification is strongly advised. See: https://urllib3.readthedocs.io/en/1.26.x/advanced-usage.html#ssl-warnings\n",
      "  warnings.warn(\n",
      "/Users/huohongyi/opt/anaconda3/lib/python3.9/site-packages/urllib3/connectionpool.py:1043: InsecureRequestWarning: Unverified HTTPS request is being made to host 'gateway.ipfs.io'. Adding certificate verification is strongly advised. See: https://urllib3.readthedocs.io/en/1.26.x/advanced-usage.html#ssl-warnings\n",
      "  warnings.warn(\n"
     ]
    },
    {
     "name": "stdout",
     "output_type": "stream",
     "text": [
      "downloading from https://gateway.ipfs.io/ipfs/QmYMqgiRbCh4ScxpgzogWYieTh3gQHyc65g6UJUG5WEZFh\n",
      "downloading from https://gateway.ipfs.io/ipfs/QmYsSH9W7f2HNQFMYyYDWW6UFnLdN1nhAmWrajvS5Lzvzy\n"
     ]
    },
    {
     "name": "stderr",
     "output_type": "stream",
     "text": [
      "/Users/huohongyi/opt/anaconda3/lib/python3.9/site-packages/urllib3/connectionpool.py:1043: InsecureRequestWarning: Unverified HTTPS request is being made to host 'gateway.ipfs.io'. Adding certificate verification is strongly advised. See: https://urllib3.readthedocs.io/en/1.26.x/advanced-usage.html#ssl-warnings\n",
      "  warnings.warn(\n",
      "/Users/huohongyi/opt/anaconda3/lib/python3.9/site-packages/urllib3/connectionpool.py:1043: InsecureRequestWarning: Unverified HTTPS request is being made to host 'gateway.ipfs.io'. Adding certificate verification is strongly advised. See: https://urllib3.readthedocs.io/en/1.26.x/advanced-usage.html#ssl-warnings\n",
      "  warnings.warn(\n"
     ]
    },
    {
     "name": "stdout",
     "output_type": "stream",
     "text": [
      "downloading from https://gateway.ipfs.io/ipfs/QmQHjXmaBs6v8hXh7145qDcYmT49bqgv7GjQPCt2ZAzQ36\n"
     ]
    },
    {
     "name": "stderr",
     "output_type": "stream",
     "text": [
      "/Users/huohongyi/opt/anaconda3/lib/python3.9/site-packages/urllib3/connectionpool.py:1043: InsecureRequestWarning: Unverified HTTPS request is being made to host 'gateway.ipfs.io'. Adding certificate verification is strongly advised. See: https://urllib3.readthedocs.io/en/1.26.x/advanced-usage.html#ssl-warnings\n",
      "  warnings.warn(\n"
     ]
    },
    {
     "name": "stdout",
     "output_type": "stream",
     "text": [
      "downloading from https://gateway.ipfs.io/ipfs/QmZgSA6rMsZ8QQGH4Fa2npVEQkur1NPSnzMQ8dUorRULxx\n",
      "downloading from https://gateway.ipfs.io/ipfs/QmPduVDFiB5aVJkSWjP4eao5uoBwVbjaXMT1aF8axxsp4k\n"
     ]
    },
    {
     "name": "stderr",
     "output_type": "stream",
     "text": [
      "/Users/huohongyi/opt/anaconda3/lib/python3.9/site-packages/urllib3/connectionpool.py:1043: InsecureRequestWarning: Unverified HTTPS request is being made to host 'gateway.ipfs.io'. Adding certificate verification is strongly advised. See: https://urllib3.readthedocs.io/en/1.26.x/advanced-usage.html#ssl-warnings\n",
      "  warnings.warn(\n",
      "/Users/huohongyi/opt/anaconda3/lib/python3.9/site-packages/urllib3/connectionpool.py:1043: InsecureRequestWarning: Unverified HTTPS request is being made to host 'gateway.ipfs.io'. Adding certificate verification is strongly advised. See: https://urllib3.readthedocs.io/en/1.26.x/advanced-usage.html#ssl-warnings\n",
      "  warnings.warn(\n"
     ]
    },
    {
     "name": "stdout",
     "output_type": "stream",
     "text": [
      "downloading from https://gateway.ipfs.io/ipfs/QmRhySUuENFfVx4K4fpD7uV49RVkqKkEjLAU1p2vnZr7DL\n"
     ]
    },
    {
     "name": "stderr",
     "output_type": "stream",
     "text": [
      "/Users/huohongyi/opt/anaconda3/lib/python3.9/site-packages/urllib3/connectionpool.py:1043: InsecureRequestWarning: Unverified HTTPS request is being made to host 'gateway.ipfs.io'. Adding certificate verification is strongly advised. See: https://urllib3.readthedocs.io/en/1.26.x/advanced-usage.html#ssl-warnings\n",
      "  warnings.warn(\n"
     ]
    },
    {
     "name": "stdout",
     "output_type": "stream",
     "text": [
      "downloading from https://gateway.ipfs.io/ipfs/QmZv7jNmyVyRHqJwc48ib8gDsyrcK4FYxYoeGsjt6XYAuE\n"
     ]
    },
    {
     "name": "stderr",
     "output_type": "stream",
     "text": [
      "/Users/huohongyi/opt/anaconda3/lib/python3.9/site-packages/urllib3/connectionpool.py:1043: InsecureRequestWarning: Unverified HTTPS request is being made to host 'gateway.ipfs.io'. Adding certificate verification is strongly advised. See: https://urllib3.readthedocs.io/en/1.26.x/advanced-usage.html#ssl-warnings\n",
      "  warnings.warn(\n"
     ]
    },
    {
     "name": "stdout",
     "output_type": "stream",
     "text": [
      "downloading from https://gateway.ipfs.io/ipfs/QmWNd8aeqDq5ZHZyEwDqcUbdYBgWxx4vNyxZHRw8352jqr\n",
      "downloading from https://gateway.ipfs.io/ipfs/QmRgVUkLGENUso7VoSuu8HBdYpjgbihgUXJW9xFJgJtVjS\n"
     ]
    },
    {
     "name": "stderr",
     "output_type": "stream",
     "text": [
      "/Users/huohongyi/opt/anaconda3/lib/python3.9/site-packages/urllib3/connectionpool.py:1043: InsecureRequestWarning: Unverified HTTPS request is being made to host 'gateway.ipfs.io'. Adding certificate verification is strongly advised. See: https://urllib3.readthedocs.io/en/1.26.x/advanced-usage.html#ssl-warnings\n",
      "  warnings.warn(\n",
      "/Users/huohongyi/opt/anaconda3/lib/python3.9/site-packages/urllib3/connectionpool.py:1043: InsecureRequestWarning: Unverified HTTPS request is being made to host 'gateway.ipfs.io'. Adding certificate verification is strongly advised. See: https://urllib3.readthedocs.io/en/1.26.x/advanced-usage.html#ssl-warnings\n",
      "  warnings.warn(\n"
     ]
    },
    {
     "name": "stdout",
     "output_type": "stream",
     "text": [
      "downloading from https://gateway.ipfs.io/ipfs/QmYqMgWxc3EQN5CAUr4qgW1nt9HeY5RqYEkZPUkx6gu1h9\n"
     ]
    },
    {
     "name": "stderr",
     "output_type": "stream",
     "text": [
      "/Users/huohongyi/opt/anaconda3/lib/python3.9/site-packages/urllib3/connectionpool.py:1043: InsecureRequestWarning: Unverified HTTPS request is being made to host 'gateway.ipfs.io'. Adding certificate verification is strongly advised. See: https://urllib3.readthedocs.io/en/1.26.x/advanced-usage.html#ssl-warnings\n",
      "  warnings.warn(\n"
     ]
    },
    {
     "name": "stdout",
     "output_type": "stream",
     "text": [
      "downloading from https://gateway.ipfs.io/ipfs/QmXha4p73PYx3xsNoiKivJ8cGRZqD1pNnP53cxB3RvMeCZ\n"
     ]
    },
    {
     "name": "stderr",
     "output_type": "stream",
     "text": [
      "/Users/huohongyi/opt/anaconda3/lib/python3.9/site-packages/urllib3/connectionpool.py:1043: InsecureRequestWarning: Unverified HTTPS request is being made to host 'gateway.ipfs.io'. Adding certificate verification is strongly advised. See: https://urllib3.readthedocs.io/en/1.26.x/advanced-usage.html#ssl-warnings\n",
      "  warnings.warn(\n"
     ]
    },
    {
     "name": "stdout",
     "output_type": "stream",
     "text": [
      "downloading from https://gateway.ipfs.io/ipfs/Qmexdfr98vYFkQSWtDhFDGoQ2XfhxkM14Z5Bmf321ypaKT\n"
     ]
    },
    {
     "name": "stderr",
     "output_type": "stream",
     "text": [
      "/Users/huohongyi/opt/anaconda3/lib/python3.9/site-packages/urllib3/connectionpool.py:1043: InsecureRequestWarning: Unverified HTTPS request is being made to host 'gateway.ipfs.io'. Adding certificate verification is strongly advised. See: https://urllib3.readthedocs.io/en/1.26.x/advanced-usage.html#ssl-warnings\n",
      "  warnings.warn(\n"
     ]
    },
    {
     "name": "stdout",
     "output_type": "stream",
     "text": [
      "downloading from https://gateway.ipfs.io/ipfs/QmaJYj8CXRmeWtngkTFbedu88qcTmEvmBRxVWNji4v6uGv\n"
     ]
    },
    {
     "name": "stderr",
     "output_type": "stream",
     "text": [
      "/Users/huohongyi/opt/anaconda3/lib/python3.9/site-packages/urllib3/connectionpool.py:1043: InsecureRequestWarning: Unverified HTTPS request is being made to host 'gateway.ipfs.io'. Adding certificate verification is strongly advised. See: https://urllib3.readthedocs.io/en/1.26.x/advanced-usage.html#ssl-warnings\n",
      "  warnings.warn(\n"
     ]
    },
    {
     "name": "stdout",
     "output_type": "stream",
     "text": [
      "downloading from https://gateway.ipfs.io/ipfs/QmUEKSAptuMQeYVk33hHs6t8qWk1oUWstNNbZuRc8VJYvz\n"
     ]
    },
    {
     "name": "stderr",
     "output_type": "stream",
     "text": [
      "/Users/huohongyi/opt/anaconda3/lib/python3.9/site-packages/urllib3/connectionpool.py:1043: InsecureRequestWarning: Unverified HTTPS request is being made to host 'gateway.ipfs.io'. Adding certificate verification is strongly advised. See: https://urllib3.readthedocs.io/en/1.26.x/advanced-usage.html#ssl-warnings\n",
      "  warnings.warn(\n"
     ]
    },
    {
     "name": "stdout",
     "output_type": "stream",
     "text": [
      "downloading from https://gateway.ipfs.io/ipfs/QmZvibdDxkXGQcQ2hhbYCVpEGowmMJnKSbv9AXuRsBwyrD\n",
      "downloading from https://gateway.ipfs.io/ipfs/QmYEHLvbKK8WQn151A4VkDxULPvFE6UQB16Jtp5yysmZq2\n"
     ]
    },
    {
     "name": "stderr",
     "output_type": "stream",
     "text": [
      "/Users/huohongyi/opt/anaconda3/lib/python3.9/site-packages/urllib3/connectionpool.py:1043: InsecureRequestWarning: Unverified HTTPS request is being made to host 'gateway.ipfs.io'. Adding certificate verification is strongly advised. See: https://urllib3.readthedocs.io/en/1.26.x/advanced-usage.html#ssl-warnings\n",
      "  warnings.warn(\n",
      "/Users/huohongyi/opt/anaconda3/lib/python3.9/site-packages/urllib3/connectionpool.py:1043: InsecureRequestWarning: Unverified HTTPS request is being made to host 'gateway.ipfs.io'. Adding certificate verification is strongly advised. See: https://urllib3.readthedocs.io/en/1.26.x/advanced-usage.html#ssl-warnings\n",
      "  warnings.warn(\n"
     ]
    },
    {
     "name": "stdout",
     "output_type": "stream",
     "text": [
      "downloading from https://gateway.ipfs.io/ipfs/Qmb9Ze7gEdiir1VvYy7yr96Wfz2GHP3BAewm5fW45P4Qfh\n"
     ]
    },
    {
     "name": "stderr",
     "output_type": "stream",
     "text": [
      "/Users/huohongyi/opt/anaconda3/lib/python3.9/site-packages/urllib3/connectionpool.py:1043: InsecureRequestWarning: Unverified HTTPS request is being made to host 'gateway.ipfs.io'. Adding certificate verification is strongly advised. See: https://urllib3.readthedocs.io/en/1.26.x/advanced-usage.html#ssl-warnings\n",
      "  warnings.warn(\n"
     ]
    },
    {
     "name": "stdout",
     "output_type": "stream",
     "text": [
      "downloading from https://gateway.ipfs.io/ipfs/Qmd9btjdBqPdptYi4D5Cf4e7wEpdVS9FCSHXVBp4VZPaoh\n"
     ]
    },
    {
     "name": "stderr",
     "output_type": "stream",
     "text": [
      "/Users/huohongyi/opt/anaconda3/lib/python3.9/site-packages/urllib3/connectionpool.py:1043: InsecureRequestWarning: Unverified HTTPS request is being made to host 'gateway.ipfs.io'. Adding certificate verification is strongly advised. See: https://urllib3.readthedocs.io/en/1.26.x/advanced-usage.html#ssl-warnings\n",
      "  warnings.warn(\n"
     ]
    },
    {
     "name": "stdout",
     "output_type": "stream",
     "text": [
      "downloading from https://gateway.ipfs.io/ipfs/QmSAMUWNKu8gRjmGZNJZFFMj71oPMYGgLsnVGnSSzABp1L\n"
     ]
    },
    {
     "name": "stderr",
     "output_type": "stream",
     "text": [
      "/Users/huohongyi/opt/anaconda3/lib/python3.9/site-packages/urllib3/connectionpool.py:1043: InsecureRequestWarning: Unverified HTTPS request is being made to host 'gateway.ipfs.io'. Adding certificate verification is strongly advised. See: https://urllib3.readthedocs.io/en/1.26.x/advanced-usage.html#ssl-warnings\n",
      "  warnings.warn(\n"
     ]
    },
    {
     "name": "stdout",
     "output_type": "stream",
     "text": [
      "downloading from https://gateway.ipfs.io/ipfs/QmWpQpRNdGByj1Qbkwr3oSUcZ8LXJoFPsabpkkahDyg982\n"
     ]
    },
    {
     "name": "stderr",
     "output_type": "stream",
     "text": [
      "/Users/huohongyi/opt/anaconda3/lib/python3.9/site-packages/urllib3/connectionpool.py:1043: InsecureRequestWarning: Unverified HTTPS request is being made to host 'gateway.ipfs.io'. Adding certificate verification is strongly advised. See: https://urllib3.readthedocs.io/en/1.26.x/advanced-usage.html#ssl-warnings\n",
      "  warnings.warn(\n"
     ]
    },
    {
     "name": "stdout",
     "output_type": "stream",
     "text": [
      "downloading from https://gateway.ipfs.io/ipfs/QmNsyQRSWxeMBNNZBKrvJgpGekXVqd1F6hFkoxHx4sVtTj\n"
     ]
    },
    {
     "name": "stderr",
     "output_type": "stream",
     "text": [
      "/Users/huohongyi/opt/anaconda3/lib/python3.9/site-packages/urllib3/connectionpool.py:1043: InsecureRequestWarning: Unverified HTTPS request is being made to host 'gateway.ipfs.io'. Adding certificate verification is strongly advised. See: https://urllib3.readthedocs.io/en/1.26.x/advanced-usage.html#ssl-warnings\n",
      "  warnings.warn(\n"
     ]
    },
    {
     "name": "stdout",
     "output_type": "stream",
     "text": [
      "downloading from https://gateway.ipfs.io/ipfs/QmfLWux9bieziHjiMvDCSsaznc44UzRieN9CSdLufduxLn\n",
      "downloading from https://gateway.ipfs.io/ipfs/QmT8yP1nWP8pM2WkSPBcY7azFMQPffi1qYAEwWhDdipzc9\n"
     ]
    },
    {
     "name": "stderr",
     "output_type": "stream",
     "text": [
      "/Users/huohongyi/opt/anaconda3/lib/python3.9/site-packages/urllib3/connectionpool.py:1043: InsecureRequestWarning: Unverified HTTPS request is being made to host 'gateway.ipfs.io'. Adding certificate verification is strongly advised. See: https://urllib3.readthedocs.io/en/1.26.x/advanced-usage.html#ssl-warnings\n",
      "  warnings.warn(\n",
      "/Users/huohongyi/opt/anaconda3/lib/python3.9/site-packages/urllib3/connectionpool.py:1043: InsecureRequestWarning: Unverified HTTPS request is being made to host 'gateway.ipfs.io'. Adding certificate verification is strongly advised. See: https://urllib3.readthedocs.io/en/1.26.x/advanced-usage.html#ssl-warnings\n",
      "  warnings.warn(\n"
     ]
    },
    {
     "name": "stdout",
     "output_type": "stream",
     "text": [
      "downloading from https://gateway.ipfs.io/ipfs/QmYxC6gbVySrge1tEmcQof5QVyyXB6HLSCsnfb23gLJoPz\n"
     ]
    },
    {
     "name": "stderr",
     "output_type": "stream",
     "text": [
      "/Users/huohongyi/opt/anaconda3/lib/python3.9/site-packages/urllib3/connectionpool.py:1043: InsecureRequestWarning: Unverified HTTPS request is being made to host 'gateway.ipfs.io'. Adding certificate verification is strongly advised. See: https://urllib3.readthedocs.io/en/1.26.x/advanced-usage.html#ssl-warnings\n",
      "  warnings.warn(\n"
     ]
    },
    {
     "name": "stdout",
     "output_type": "stream",
     "text": [
      "downloading from https://gateway.ipfs.io/ipfs/QmRAMfHRjcYJqn9mF8gx5ubjocwCSZboXh8xjJFQSMbDPx\n",
      "downloading from https://gateway.ipfs.io/ipfs/Qmd8KdKWJehtozFcnEMW73xW5vWiiE7rySAvxdRokLsypq\n"
     ]
    },
    {
     "name": "stderr",
     "output_type": "stream",
     "text": [
      "/Users/huohongyi/opt/anaconda3/lib/python3.9/site-packages/urllib3/connectionpool.py:1043: InsecureRequestWarning: Unverified HTTPS request is being made to host 'gateway.ipfs.io'. Adding certificate verification is strongly advised. See: https://urllib3.readthedocs.io/en/1.26.x/advanced-usage.html#ssl-warnings\n",
      "  warnings.warn(\n",
      "/Users/huohongyi/opt/anaconda3/lib/python3.9/site-packages/urllib3/connectionpool.py:1043: InsecureRequestWarning: Unverified HTTPS request is being made to host 'gateway.ipfs.io'. Adding certificate verification is strongly advised. See: https://urllib3.readthedocs.io/en/1.26.x/advanced-usage.html#ssl-warnings\n",
      "  warnings.warn(\n"
     ]
    },
    {
     "name": "stdout",
     "output_type": "stream",
     "text": [
      "downloading from https://gateway.ipfs.io/ipfs/QmS7NEcqixyDJJYA9J95Xdq9REzNXDu5g5DvtmgM4YMmoJ\n"
     ]
    },
    {
     "name": "stderr",
     "output_type": "stream",
     "text": [
      "/Users/huohongyi/opt/anaconda3/lib/python3.9/site-packages/urllib3/connectionpool.py:1043: InsecureRequestWarning: Unverified HTTPS request is being made to host 'gateway.ipfs.io'. Adding certificate verification is strongly advised. See: https://urllib3.readthedocs.io/en/1.26.x/advanced-usage.html#ssl-warnings\n",
      "  warnings.warn(\n"
     ]
    },
    {
     "name": "stdout",
     "output_type": "stream",
     "text": [
      "downloading from https://gateway.ipfs.io/ipfs/QmRvshwZSr8bfEoWL3wxp1Ed8x3fTHrYiSFSNSMMRmFHmP\n"
     ]
    },
    {
     "name": "stderr",
     "output_type": "stream",
     "text": [
      "/Users/huohongyi/opt/anaconda3/lib/python3.9/site-packages/urllib3/connectionpool.py:1043: InsecureRequestWarning: Unverified HTTPS request is being made to host 'gateway.ipfs.io'. Adding certificate verification is strongly advised. See: https://urllib3.readthedocs.io/en/1.26.x/advanced-usage.html#ssl-warnings\n",
      "  warnings.warn(\n"
     ]
    },
    {
     "name": "stdout",
     "output_type": "stream",
     "text": [
      "downloading from https://gateway.ipfs.io/ipfs/Qme3uojsPhMZWwuVzoMZBnugw8sPTZKrMG1nvF5T8azpXC\n"
     ]
    },
    {
     "name": "stderr",
     "output_type": "stream",
     "text": [
      "/Users/huohongyi/opt/anaconda3/lib/python3.9/site-packages/urllib3/connectionpool.py:1043: InsecureRequestWarning: Unverified HTTPS request is being made to host 'gateway.ipfs.io'. Adding certificate verification is strongly advised. See: https://urllib3.readthedocs.io/en/1.26.x/advanced-usage.html#ssl-warnings\n",
      "  warnings.warn(\n"
     ]
    },
    {
     "name": "stdout",
     "output_type": "stream",
     "text": [
      "downloading from https://gateway.ipfs.io/ipfs/QmdyukEeXCRa6zNnaim4m8NQv8Cig5TPoeGqns4Z4uFcT2\n"
     ]
    },
    {
     "name": "stderr",
     "output_type": "stream",
     "text": [
      "/Users/huohongyi/opt/anaconda3/lib/python3.9/site-packages/urllib3/connectionpool.py:1043: InsecureRequestWarning: Unverified HTTPS request is being made to host 'gateway.ipfs.io'. Adding certificate verification is strongly advised. See: https://urllib3.readthedocs.io/en/1.26.x/advanced-usage.html#ssl-warnings\n",
      "  warnings.warn(\n",
      "/Users/huohongyi/opt/anaconda3/lib/python3.9/site-packages/urllib3/connectionpool.py:1043: InsecureRequestWarning: Unverified HTTPS request is being made to host 'gateway.ipfs.io'. Adding certificate verification is strongly advised. See: https://urllib3.readthedocs.io/en/1.26.x/advanced-usage.html#ssl-warnings\n",
      "  warnings.warn(\n"
     ]
    },
    {
     "name": "stdout",
     "output_type": "stream",
     "text": [
      "downloading from https://gateway.ipfs.io/ipfs/QmeBEXz4HDQxGw2CzJYnbEhrZKBBUjrFrmTDZL9g2N9hoe\n",
      "downloading from https://gateway.ipfs.io/ipfs/QmXhHXR182usM5CZTBybULxRsY8YgPxeMDerV2rZpSP2qt\n"
     ]
    },
    {
     "name": "stderr",
     "output_type": "stream",
     "text": [
      "/Users/huohongyi/opt/anaconda3/lib/python3.9/site-packages/urllib3/connectionpool.py:1043: InsecureRequestWarning: Unverified HTTPS request is being made to host 'gateway.ipfs.io'. Adding certificate verification is strongly advised. See: https://urllib3.readthedocs.io/en/1.26.x/advanced-usage.html#ssl-warnings\n",
      "  warnings.warn(\n",
      "/Users/huohongyi/opt/anaconda3/lib/python3.9/site-packages/urllib3/connectionpool.py:1043: InsecureRequestWarning: Unverified HTTPS request is being made to host 'gateway.ipfs.io'. Adding certificate verification is strongly advised. See: https://urllib3.readthedocs.io/en/1.26.x/advanced-usage.html#ssl-warnings\n",
      "  warnings.warn(\n"
     ]
    },
    {
     "name": "stdout",
     "output_type": "stream",
     "text": [
      "downloading from https://gateway.ipfs.io/ipfs/QmZquSaHP4KhQrUL2uLLHtpzk5a51wRxci3GhcWXYLX6rU\n",
      "downloading from https://gateway.ipfs.io/ipfs/QmZbTCqkuein6FeymMMooZ9WpEYKMqBfBVM966avyH4LEC\n",
      "downloading from https://gateway.ipfs.io/ipfs/QmX3NsPj7KnNAfweJWvLjVtKPcSMnEHEGaijqApZhDeaWJ\n"
     ]
    },
    {
     "name": "stderr",
     "output_type": "stream",
     "text": [
      "/Users/huohongyi/opt/anaconda3/lib/python3.9/site-packages/urllib3/connectionpool.py:1043: InsecureRequestWarning: Unverified HTTPS request is being made to host 'gateway.ipfs.io'. Adding certificate verification is strongly advised. See: https://urllib3.readthedocs.io/en/1.26.x/advanced-usage.html#ssl-warnings\n",
      "  warnings.warn(\n",
      "/Users/huohongyi/opt/anaconda3/lib/python3.9/site-packages/urllib3/connectionpool.py:1043: InsecureRequestWarning: Unverified HTTPS request is being made to host 'gateway.ipfs.io'. Adding certificate verification is strongly advised. See: https://urllib3.readthedocs.io/en/1.26.x/advanced-usage.html#ssl-warnings\n",
      "  warnings.warn(\n"
     ]
    },
    {
     "name": "stdout",
     "output_type": "stream",
     "text": [
      "downloading from https://gateway.ipfs.io/ipfs/QmVSNoHVkyMGU438dprBnEJwMgLf9yHghBRhBiVdQ8jEAG\n",
      "downloading from https://gateway.ipfs.io/ipfs/QmQM1fLRXQZtGgXYEfkn3bDcjrgDnwPC83B9ygJ8k9HfuR\n"
     ]
    },
    {
     "name": "stderr",
     "output_type": "stream",
     "text": [
      "/Users/huohongyi/opt/anaconda3/lib/python3.9/site-packages/urllib3/connectionpool.py:1043: InsecureRequestWarning: Unverified HTTPS request is being made to host 'gateway.ipfs.io'. Adding certificate verification is strongly advised. See: https://urllib3.readthedocs.io/en/1.26.x/advanced-usage.html#ssl-warnings\n",
      "  warnings.warn(\n",
      "/Users/huohongyi/opt/anaconda3/lib/python3.9/site-packages/urllib3/connectionpool.py:1043: InsecureRequestWarning: Unverified HTTPS request is being made to host 'gateway.ipfs.io'. Adding certificate verification is strongly advised. See: https://urllib3.readthedocs.io/en/1.26.x/advanced-usage.html#ssl-warnings\n",
      "  warnings.warn(\n"
     ]
    },
    {
     "name": "stdout",
     "output_type": "stream",
     "text": [
      "downloading from https://gateway.ipfs.io/ipfs/QmaewF8wZnuK68tHRmTZUY4ECg8ctE7zE76deYdzWU9Reb\n",
      "downloading from https://gateway.ipfs.io/ipfs/QmWhwRA4mFeaxzSyMD8JEUW3FMorQhGPHqdBHucTxT4sqz\n"
     ]
    },
    {
     "name": "stderr",
     "output_type": "stream",
     "text": [
      "/Users/huohongyi/opt/anaconda3/lib/python3.9/site-packages/urllib3/connectionpool.py:1043: InsecureRequestWarning: Unverified HTTPS request is being made to host 'gateway.ipfs.io'. Adding certificate verification is strongly advised. See: https://urllib3.readthedocs.io/en/1.26.x/advanced-usage.html#ssl-warnings\n",
      "  warnings.warn(\n",
      "/Users/huohongyi/opt/anaconda3/lib/python3.9/site-packages/urllib3/connectionpool.py:1043: InsecureRequestWarning: Unverified HTTPS request is being made to host 'gateway.ipfs.io'. Adding certificate verification is strongly advised. See: https://urllib3.readthedocs.io/en/1.26.x/advanced-usage.html#ssl-warnings\n",
      "  warnings.warn(\n"
     ]
    },
    {
     "name": "stdout",
     "output_type": "stream",
     "text": [
      "downloading from https://gateway.ipfs.io/ipfs/QmZGvVYMomkpNVp6UxaACFoqVVrkW991B413N61FdgfXqj\n",
      "downloading from https://gateway.ipfs.io/ipfs/Qmd7gVwbv67w7KdoGWQaVKt5KLEjS2xBGsTtAzXgmuYaez\n"
     ]
    },
    {
     "name": "stderr",
     "output_type": "stream",
     "text": [
      "/Users/huohongyi/opt/anaconda3/lib/python3.9/site-packages/urllib3/connectionpool.py:1043: InsecureRequestWarning: Unverified HTTPS request is being made to host 'gateway.ipfs.io'. Adding certificate verification is strongly advised. See: https://urllib3.readthedocs.io/en/1.26.x/advanced-usage.html#ssl-warnings\n",
      "  warnings.warn(\n",
      "/Users/huohongyi/opt/anaconda3/lib/python3.9/site-packages/urllib3/connectionpool.py:1043: InsecureRequestWarning: Unverified HTTPS request is being made to host 'gateway.ipfs.io'. Adding certificate verification is strongly advised. See: https://urllib3.readthedocs.io/en/1.26.x/advanced-usage.html#ssl-warnings\n",
      "  warnings.warn(\n"
     ]
    },
    {
     "name": "stdout",
     "output_type": "stream",
     "text": [
      "downloading from https://gateway.ipfs.io/ipfs/QmV6NSQ71JKUPA3e5ESdqS5MFyCyJRnqKT3NB2AKSjkwCU\n",
      "downloading from https://gateway.ipfs.io/ipfs/QmSB5yvdmdmfaaBMCAmy3TYUGW4pb3x2X8qa3ZNRerQRii\n"
     ]
    },
    {
     "name": "stderr",
     "output_type": "stream",
     "text": [
      "/Users/huohongyi/opt/anaconda3/lib/python3.9/site-packages/urllib3/connectionpool.py:1043: InsecureRequestWarning: Unverified HTTPS request is being made to host 'gateway.ipfs.io'. Adding certificate verification is strongly advised. See: https://urllib3.readthedocs.io/en/1.26.x/advanced-usage.html#ssl-warnings\n",
      "  warnings.warn(\n",
      "/Users/huohongyi/opt/anaconda3/lib/python3.9/site-packages/urllib3/connectionpool.py:1043: InsecureRequestWarning: Unverified HTTPS request is being made to host 'gateway.ipfs.io'. Adding certificate verification is strongly advised. See: https://urllib3.readthedocs.io/en/1.26.x/advanced-usage.html#ssl-warnings\n",
      "  warnings.warn(\n"
     ]
    },
    {
     "name": "stdout",
     "output_type": "stream",
     "text": [
      "downloading from https://gateway.ipfs.io/ipfs/QmREYXJ5c72qquNVyyRJdvWKnU6dTidScW4DbhS5dCB6xc\n",
      "downloading from https://gateway.ipfs.io/ipfs/QmZF3X8p6tGk2mSV348prY4gTFgMFKvEzevogxUiceQMug\n"
     ]
    },
    {
     "name": "stderr",
     "output_type": "stream",
     "text": [
      "/Users/huohongyi/opt/anaconda3/lib/python3.9/site-packages/urllib3/connectionpool.py:1043: InsecureRequestWarning: Unverified HTTPS request is being made to host 'gateway.ipfs.io'. Adding certificate verification is strongly advised. See: https://urllib3.readthedocs.io/en/1.26.x/advanced-usage.html#ssl-warnings\n",
      "  warnings.warn(\n",
      "/Users/huohongyi/opt/anaconda3/lib/python3.9/site-packages/urllib3/connectionpool.py:1043: InsecureRequestWarning: Unverified HTTPS request is being made to host 'gateway.ipfs.io'. Adding certificate verification is strongly advised. See: https://urllib3.readthedocs.io/en/1.26.x/advanced-usage.html#ssl-warnings\n",
      "  warnings.warn(\n"
     ]
    },
    {
     "name": "stdout",
     "output_type": "stream",
     "text": [
      "downloading from https://gateway.ipfs.io/ipfs/QmaWQrwDG7Af2riJoRp8ccGXLjY2F3HA1Q3t1apdbZ6fgk\n"
     ]
    },
    {
     "name": "stderr",
     "output_type": "stream",
     "text": [
      "/Users/huohongyi/opt/anaconda3/lib/python3.9/site-packages/urllib3/connectionpool.py:1043: InsecureRequestWarning: Unverified HTTPS request is being made to host 'gateway.ipfs.io'. Adding certificate verification is strongly advised. See: https://urllib3.readthedocs.io/en/1.26.x/advanced-usage.html#ssl-warnings\n",
      "  warnings.warn(\n"
     ]
    },
    {
     "name": "stdout",
     "output_type": "stream",
     "text": [
      "downloading from https://gateway.ipfs.io/ipfs/Qmd1LWBNmPzNL5UQ67CBbzmhMgJyopJs7FzvuBBQgAGFdL\n"
     ]
    },
    {
     "name": "stderr",
     "output_type": "stream",
     "text": [
      "/Users/huohongyi/opt/anaconda3/lib/python3.9/site-packages/urllib3/connectionpool.py:1043: InsecureRequestWarning: Unverified HTTPS request is being made to host 'gateway.ipfs.io'. Adding certificate verification is strongly advised. See: https://urllib3.readthedocs.io/en/1.26.x/advanced-usage.html#ssl-warnings\n",
      "  warnings.warn(\n"
     ]
    },
    {
     "name": "stdout",
     "output_type": "stream",
     "text": [
      "downloading from https://gateway.ipfs.io/ipfs/QmVjfD493q5XriVfeHqDZWnyQy8kxopo2ejcGdeFns8Jto\n",
      "downloading from https://gateway.ipfs.io/ipfs/QmRAfo7GmiT4QhxXh4CdPH23oWqAhG2X1TddWXi7MTm7uX\n"
     ]
    },
    {
     "name": "stderr",
     "output_type": "stream",
     "text": [
      "/Users/huohongyi/opt/anaconda3/lib/python3.9/site-packages/urllib3/connectionpool.py:1043: InsecureRequestWarning: Unverified HTTPS request is being made to host 'gateway.ipfs.io'. Adding certificate verification is strongly advised. See: https://urllib3.readthedocs.io/en/1.26.x/advanced-usage.html#ssl-warnings\n",
      "  warnings.warn(\n",
      "/Users/huohongyi/opt/anaconda3/lib/python3.9/site-packages/urllib3/connectionpool.py:1043: InsecureRequestWarning: Unverified HTTPS request is being made to host 'gateway.ipfs.io'. Adding certificate verification is strongly advised. See: https://urllib3.readthedocs.io/en/1.26.x/advanced-usage.html#ssl-warnings\n",
      "  warnings.warn(\n"
     ]
    },
    {
     "name": "stdout",
     "output_type": "stream",
     "text": [
      "downloading from https://gateway.ipfs.io/ipfs/QmcdiGZwoiLyPMpcJ55zSYRmubzPQEDZi3X4nPMF7mbXMn\n",
      "downloading from https://gateway.ipfs.io/ipfs/QmbsnsRi9MxbN6YhT7hE57vandZyTi1vsLESZsw63YJ8kF\n"
     ]
    },
    {
     "name": "stderr",
     "output_type": "stream",
     "text": [
      "/Users/huohongyi/opt/anaconda3/lib/python3.9/site-packages/urllib3/connectionpool.py:1043: InsecureRequestWarning: Unverified HTTPS request is being made to host 'gateway.ipfs.io'. Adding certificate verification is strongly advised. See: https://urllib3.readthedocs.io/en/1.26.x/advanced-usage.html#ssl-warnings\n",
      "  warnings.warn(\n",
      "/Users/huohongyi/opt/anaconda3/lib/python3.9/site-packages/urllib3/connectionpool.py:1043: InsecureRequestWarning: Unverified HTTPS request is being made to host 'gateway.ipfs.io'. Adding certificate verification is strongly advised. See: https://urllib3.readthedocs.io/en/1.26.x/advanced-usage.html#ssl-warnings\n",
      "  warnings.warn(\n"
     ]
    },
    {
     "name": "stdout",
     "output_type": "stream",
     "text": [
      "downloading from https://gateway.ipfs.io/ipfs/QmWu1B1pYd2Z4Sideo3n7knWKuycqw7k5S4GHzbs5eucLy\n",
      "downloading from https://gateway.ipfs.io/ipfs/QmRM4bc6ihmMxc9CdyG5d4pUxhuzPgiJ2QgVXPnsRvw1ib\n"
     ]
    },
    {
     "name": "stderr",
     "output_type": "stream",
     "text": [
      "/Users/huohongyi/opt/anaconda3/lib/python3.9/site-packages/urllib3/connectionpool.py:1043: InsecureRequestWarning: Unverified HTTPS request is being made to host 'gateway.ipfs.io'. Adding certificate verification is strongly advised. See: https://urllib3.readthedocs.io/en/1.26.x/advanced-usage.html#ssl-warnings\n",
      "  warnings.warn(\n",
      "/Users/huohongyi/opt/anaconda3/lib/python3.9/site-packages/urllib3/connectionpool.py:1043: InsecureRequestWarning: Unverified HTTPS request is being made to host 'gateway.ipfs.io'. Adding certificate verification is strongly advised. See: https://urllib3.readthedocs.io/en/1.26.x/advanced-usage.html#ssl-warnings\n",
      "  warnings.warn(\n"
     ]
    },
    {
     "name": "stdout",
     "output_type": "stream",
     "text": [
      "downloading from https://gateway.ipfs.io/ipfs/QmZtSS9CdPHG2NnFfETNtvqNnoYTP1YtL5DDRXghRStRVs\n"
     ]
    },
    {
     "name": "stderr",
     "output_type": "stream",
     "text": [
      "/Users/huohongyi/opt/anaconda3/lib/python3.9/site-packages/urllib3/connectionpool.py:1043: InsecureRequestWarning: Unverified HTTPS request is being made to host 'gateway.ipfs.io'. Adding certificate verification is strongly advised. See: https://urllib3.readthedocs.io/en/1.26.x/advanced-usage.html#ssl-warnings\n",
      "  warnings.warn(\n"
     ]
    },
    {
     "name": "stdout",
     "output_type": "stream",
     "text": [
      "downloading from https://gateway.ipfs.io/ipfs/QmczC63DrtvqhTFQnRmjDicUZZSzs5imWvRjNRU5uxyKrp\n"
     ]
    },
    {
     "name": "stderr",
     "output_type": "stream",
     "text": [
      "/Users/huohongyi/opt/anaconda3/lib/python3.9/site-packages/urllib3/connectionpool.py:1043: InsecureRequestWarning: Unverified HTTPS request is being made to host 'gateway.ipfs.io'. Adding certificate verification is strongly advised. See: https://urllib3.readthedocs.io/en/1.26.x/advanced-usage.html#ssl-warnings\n",
      "  warnings.warn(\n"
     ]
    },
    {
     "name": "stdout",
     "output_type": "stream",
     "text": [
      "downloading from https://gateway.ipfs.io/ipfs/QmdFf1gv8P6bhkH2Yiim5sYujWL7kVNqfnzC5o4WKhN2cK\n"
     ]
    },
    {
     "name": "stderr",
     "output_type": "stream",
     "text": [
      "/Users/huohongyi/opt/anaconda3/lib/python3.9/site-packages/urllib3/connectionpool.py:1043: InsecureRequestWarning: Unverified HTTPS request is being made to host 'gateway.ipfs.io'. Adding certificate verification is strongly advised. See: https://urllib3.readthedocs.io/en/1.26.x/advanced-usage.html#ssl-warnings\n",
      "  warnings.warn(\n"
     ]
    },
    {
     "name": "stdout",
     "output_type": "stream",
     "text": [
      "downloading from https://gateway.ipfs.io/ipfs/QmX66b5q2djZnVhtrPNCpEn6xT7EK8Du75YNAeh129JYKr\n",
      "downloading from https://gateway.ipfs.io/ipfs/QmXSKPvJ9mCNtTvmff1faPdqNSgULDVxLk3foUB7ioCBVu\n"
     ]
    },
    {
     "name": "stderr",
     "output_type": "stream",
     "text": [
      "/Users/huohongyi/opt/anaconda3/lib/python3.9/site-packages/urllib3/connectionpool.py:1043: InsecureRequestWarning: Unverified HTTPS request is being made to host 'gateway.ipfs.io'. Adding certificate verification is strongly advised. See: https://urllib3.readthedocs.io/en/1.26.x/advanced-usage.html#ssl-warnings\n",
      "  warnings.warn(\n",
      "/Users/huohongyi/opt/anaconda3/lib/python3.9/site-packages/urllib3/connectionpool.py:1043: InsecureRequestWarning: Unverified HTTPS request is being made to host 'gateway.ipfs.io'. Adding certificate verification is strongly advised. See: https://urllib3.readthedocs.io/en/1.26.x/advanced-usage.html#ssl-warnings\n",
      "  warnings.warn(\n"
     ]
    },
    {
     "name": "stdout",
     "output_type": "stream",
     "text": [
      "downloading from https://gateway.ipfs.io/ipfs/QmZETpEDZHL9vfsMnbmaXm8cHEnGuLszdHaRAFFhPNxPCd\n"
     ]
    },
    {
     "name": "stderr",
     "output_type": "stream",
     "text": [
      "/Users/huohongyi/opt/anaconda3/lib/python3.9/site-packages/urllib3/connectionpool.py:1043: InsecureRequestWarning: Unverified HTTPS request is being made to host 'gateway.ipfs.io'. Adding certificate verification is strongly advised. See: https://urllib3.readthedocs.io/en/1.26.x/advanced-usage.html#ssl-warnings\n",
      "  warnings.warn(\n"
     ]
    },
    {
     "name": "stdout",
     "output_type": "stream",
     "text": [
      "downloading from https://gateway.ipfs.io/ipfs/QmSQefUucRjKN1nUjCMfmSGr3Fva5R4D5eGykZ8kNB9Ebn\n",
      "downloading from https://gateway.ipfs.io/ipfs/QmZRswno7JARcM33mTyMz8b7KM7hMED1KCtEPHbXhLkzo6\n"
     ]
    },
    {
     "name": "stderr",
     "output_type": "stream",
     "text": [
      "/Users/huohongyi/opt/anaconda3/lib/python3.9/site-packages/urllib3/connectionpool.py:1043: InsecureRequestWarning: Unverified HTTPS request is being made to host 'gateway.ipfs.io'. Adding certificate verification is strongly advised. See: https://urllib3.readthedocs.io/en/1.26.x/advanced-usage.html#ssl-warnings\n",
      "  warnings.warn(\n",
      "/Users/huohongyi/opt/anaconda3/lib/python3.9/site-packages/urllib3/connectionpool.py:1043: InsecureRequestWarning: Unverified HTTPS request is being made to host 'gateway.ipfs.io'. Adding certificate verification is strongly advised. See: https://urllib3.readthedocs.io/en/1.26.x/advanced-usage.html#ssl-warnings\n",
      "  warnings.warn(\n",
      "/Users/huohongyi/opt/anaconda3/lib/python3.9/site-packages/urllib3/connectionpool.py:1043: InsecureRequestWarning: Unverified HTTPS request is being made to host 'gateway.ipfs.io'. Adding certificate verification is strongly advised. See: https://urllib3.readthedocs.io/en/1.26.x/advanced-usage.html#ssl-warnings\n",
      "  warnings.warn(\n"
     ]
    },
    {
     "name": "stdout",
     "output_type": "stream",
     "text": [
      "downloading from https://gateway.ipfs.io/ipfs/QmQHuRJSPqqVeUy41AG7hJzJYjfrJCjsrm3YzS9QycanP6\n",
      "downloading from https://gateway.ipfs.io/ipfs/QmS6cUiWgc5JtPTgsN4nwqsbkBTs1ZGaEhKbqqGb3psK4K\n"
     ]
    },
    {
     "name": "stderr",
     "output_type": "stream",
     "text": [
      "/Users/huohongyi/opt/anaconda3/lib/python3.9/site-packages/urllib3/connectionpool.py:1043: InsecureRequestWarning: Unverified HTTPS request is being made to host 'gateway.ipfs.io'. Adding certificate verification is strongly advised. See: https://urllib3.readthedocs.io/en/1.26.x/advanced-usage.html#ssl-warnings\n",
      "  warnings.warn(\n"
     ]
    },
    {
     "name": "stdout",
     "output_type": "stream",
     "text": [
      "downloading from https://gateway.ipfs.io/ipfs/QmWfnJUaNfbe5was3rRAUHaqmYB4x3KuVojczPonwCoDCn\n",
      "downloading from https://gateway.ipfs.io/ipfs/QmbUCe7JMPsG39FRaLaJ9VwSKrE74PzEb1s4DKuEkARepS\n"
     ]
    },
    {
     "name": "stderr",
     "output_type": "stream",
     "text": [
      "/Users/huohongyi/opt/anaconda3/lib/python3.9/site-packages/urllib3/connectionpool.py:1043: InsecureRequestWarning: Unverified HTTPS request is being made to host 'gateway.ipfs.io'. Adding certificate verification is strongly advised. See: https://urllib3.readthedocs.io/en/1.26.x/advanced-usage.html#ssl-warnings\n",
      "  warnings.warn(\n",
      "/Users/huohongyi/opt/anaconda3/lib/python3.9/site-packages/urllib3/connectionpool.py:1043: InsecureRequestWarning: Unverified HTTPS request is being made to host 'gateway.ipfs.io'. Adding certificate verification is strongly advised. See: https://urllib3.readthedocs.io/en/1.26.x/advanced-usage.html#ssl-warnings\n",
      "  warnings.warn(\n"
     ]
    },
    {
     "name": "stdout",
     "output_type": "stream",
     "text": [
      "downloading from https://gateway.ipfs.io/ipfs/QmT5gWfSDk7DMoSGmxkFLJh6zgDHKHkiZkJQx1dqUVbacR\n",
      "downloading from https://gateway.ipfs.io/ipfs/QmVorZkkBti2csakoGDF8cy7dxVoqTvnKRMWtSoshV7T6u\n"
     ]
    },
    {
     "name": "stderr",
     "output_type": "stream",
     "text": [
      "/Users/huohongyi/opt/anaconda3/lib/python3.9/site-packages/urllib3/connectionpool.py:1043: InsecureRequestWarning: Unverified HTTPS request is being made to host 'gateway.ipfs.io'. Adding certificate verification is strongly advised. See: https://urllib3.readthedocs.io/en/1.26.x/advanced-usage.html#ssl-warnings\n",
      "  warnings.warn(\n",
      "/Users/huohongyi/opt/anaconda3/lib/python3.9/site-packages/urllib3/connectionpool.py:1043: InsecureRequestWarning: Unverified HTTPS request is being made to host 'gateway.ipfs.io'. Adding certificate verification is strongly advised. See: https://urllib3.readthedocs.io/en/1.26.x/advanced-usage.html#ssl-warnings\n",
      "  warnings.warn(\n"
     ]
    },
    {
     "name": "stdout",
     "output_type": "stream",
     "text": [
      "downloading from https://gateway.ipfs.io/ipfs/QmYCdJK9JFU7C8YiXvh3SSnXhb8izipeP1QqETiU2LoBxH\n",
      "downloading from https://gateway.ipfs.io/ipfs/Qmd5t6J598cNW4Lu5TmiEyzwW1khBg6jMKi8wV5kXhNq82\n"
     ]
    },
    {
     "name": "stderr",
     "output_type": "stream",
     "text": [
      "/Users/huohongyi/opt/anaconda3/lib/python3.9/site-packages/urllib3/connectionpool.py:1043: InsecureRequestWarning: Unverified HTTPS request is being made to host 'gateway.ipfs.io'. Adding certificate verification is strongly advised. See: https://urllib3.readthedocs.io/en/1.26.x/advanced-usage.html#ssl-warnings\n",
      "  warnings.warn(\n",
      "/Users/huohongyi/opt/anaconda3/lib/python3.9/site-packages/urllib3/connectionpool.py:1043: InsecureRequestWarning: Unverified HTTPS request is being made to host 'gateway.ipfs.io'. Adding certificate verification is strongly advised. See: https://urllib3.readthedocs.io/en/1.26.x/advanced-usage.html#ssl-warnings\n",
      "  warnings.warn(\n"
     ]
    },
    {
     "name": "stdout",
     "output_type": "stream",
     "text": [
      "downloading from https://gateway.ipfs.io/ipfs/QmV5kzjtLyMP1qRBXVgJ6FcYuPxPRx4GvFmkxPdcAWtD4M\n"
     ]
    },
    {
     "name": "stderr",
     "output_type": "stream",
     "text": [
      "/Users/huohongyi/opt/anaconda3/lib/python3.9/site-packages/urllib3/connectionpool.py:1043: InsecureRequestWarning: Unverified HTTPS request is being made to host 'gateway.ipfs.io'. Adding certificate verification is strongly advised. See: https://urllib3.readthedocs.io/en/1.26.x/advanced-usage.html#ssl-warnings\n",
      "  warnings.warn(\n"
     ]
    },
    {
     "name": "stdout",
     "output_type": "stream",
     "text": [
      "downloading from https://gateway.ipfs.io/ipfs/QmeSZhfCK1kLNeexuJzaZ5MAWpqJHLxPkahgqBtQ6UP4Af\n",
      "downloading from https://gateway.ipfs.io/ipfs/QmYBNDaveAb3WNegPncGzGi41tfzBp8ac3yrcTr3XQkeok\n"
     ]
    },
    {
     "name": "stderr",
     "output_type": "stream",
     "text": [
      "/Users/huohongyi/opt/anaconda3/lib/python3.9/site-packages/urllib3/connectionpool.py:1043: InsecureRequestWarning: Unverified HTTPS request is being made to host 'gateway.ipfs.io'. Adding certificate verification is strongly advised. See: https://urllib3.readthedocs.io/en/1.26.x/advanced-usage.html#ssl-warnings\n",
      "  warnings.warn(\n",
      "/Users/huohongyi/opt/anaconda3/lib/python3.9/site-packages/urllib3/connectionpool.py:1043: InsecureRequestWarning: Unverified HTTPS request is being made to host 'gateway.ipfs.io'. Adding certificate verification is strongly advised. See: https://urllib3.readthedocs.io/en/1.26.x/advanced-usage.html#ssl-warnings\n",
      "  warnings.warn(\n"
     ]
    },
    {
     "name": "stdout",
     "output_type": "stream",
     "text": [
      "downloading from https://gateway.ipfs.io/ipfs/QmQZPY7Z28pVct38cSWLWveBGbWUDoc5oy6oTFdP7GcMWk\n",
      "downloading from https://gateway.ipfs.io/ipfs/QmPdNeCj2UWjgzPCiLYNxsMzr4inw5mJ2vuTwsgr7TGUiU\n"
     ]
    },
    {
     "name": "stderr",
     "output_type": "stream",
     "text": [
      "/Users/huohongyi/opt/anaconda3/lib/python3.9/site-packages/urllib3/connectionpool.py:1043: InsecureRequestWarning: Unverified HTTPS request is being made to host 'gateway.ipfs.io'. Adding certificate verification is strongly advised. See: https://urllib3.readthedocs.io/en/1.26.x/advanced-usage.html#ssl-warnings\n",
      "  warnings.warn(\n",
      "/Users/huohongyi/opt/anaconda3/lib/python3.9/site-packages/urllib3/connectionpool.py:1043: InsecureRequestWarning: Unverified HTTPS request is being made to host 'gateway.ipfs.io'. Adding certificate verification is strongly advised. See: https://urllib3.readthedocs.io/en/1.26.x/advanced-usage.html#ssl-warnings\n",
      "  warnings.warn(\n"
     ]
    },
    {
     "name": "stdout",
     "output_type": "stream",
     "text": [
      "downloading from https://gateway.ipfs.io/ipfs/QmesL4myf7nUA5ENfvEGeN7RmsG1xnYSjpAit6F8g5KxW5\n"
     ]
    },
    {
     "name": "stderr",
     "output_type": "stream",
     "text": [
      "/Users/huohongyi/opt/anaconda3/lib/python3.9/site-packages/urllib3/connectionpool.py:1043: InsecureRequestWarning: Unverified HTTPS request is being made to host 'gateway.ipfs.io'. Adding certificate verification is strongly advised. See: https://urllib3.readthedocs.io/en/1.26.x/advanced-usage.html#ssl-warnings\n",
      "  warnings.warn(\n"
     ]
    },
    {
     "name": "stdout",
     "output_type": "stream",
     "text": [
      "downloading from https://gateway.ipfs.io/ipfs/QmemmSDCm6JH8s5MaERUdNPDqnwGdgBbXEm91gptTbitKP\n",
      "downloading from https://gateway.ipfs.io/ipfs/QmNzNqxfDQAREx14FyRKoma6eZb9GcQNfS7vwLU12cT4Jx\n"
     ]
    },
    {
     "name": "stderr",
     "output_type": "stream",
     "text": [
      "/Users/huohongyi/opt/anaconda3/lib/python3.9/site-packages/urllib3/connectionpool.py:1043: InsecureRequestWarning: Unverified HTTPS request is being made to host 'gateway.ipfs.io'. Adding certificate verification is strongly advised. See: https://urllib3.readthedocs.io/en/1.26.x/advanced-usage.html#ssl-warnings\n",
      "  warnings.warn(\n",
      "/Users/huohongyi/opt/anaconda3/lib/python3.9/site-packages/urllib3/connectionpool.py:1043: InsecureRequestWarning: Unverified HTTPS request is being made to host 'gateway.ipfs.io'. Adding certificate verification is strongly advised. See: https://urllib3.readthedocs.io/en/1.26.x/advanced-usage.html#ssl-warnings\n",
      "  warnings.warn(\n"
     ]
    },
    {
     "name": "stdout",
     "output_type": "stream",
     "text": [
      "downloading from https://gateway.ipfs.io/ipfs/QmNnhTSD77LVwE46mG1KEg6e9sacyJ66g4H2t8TUxB5F75\n"
     ]
    },
    {
     "name": "stderr",
     "output_type": "stream",
     "text": [
      "/Users/huohongyi/opt/anaconda3/lib/python3.9/site-packages/urllib3/connectionpool.py:1043: InsecureRequestWarning: Unverified HTTPS request is being made to host 'gateway.ipfs.io'. Adding certificate verification is strongly advised. See: https://urllib3.readthedocs.io/en/1.26.x/advanced-usage.html#ssl-warnings\n",
      "  warnings.warn(\n",
      "/Users/huohongyi/opt/anaconda3/lib/python3.9/site-packages/urllib3/connectionpool.py:1043: InsecureRequestWarning: Unverified HTTPS request is being made to host 'gateway.ipfs.io'. Adding certificate verification is strongly advised. See: https://urllib3.readthedocs.io/en/1.26.x/advanced-usage.html#ssl-warnings\n",
      "  warnings.warn(\n"
     ]
    },
    {
     "name": "stdout",
     "output_type": "stream",
     "text": [
      "downloading from https://gateway.ipfs.io/ipfs/QmV9bt4wUrAXJPNWhVsn6JfHhQcj472XaX37wSNfnY9Vy8\n",
      "downloading from https://gateway.ipfs.io/ipfs/QmSiESWz2EMk7DvM4WHY9DWemQLbokjco9wCmtWT7pS6zT\n"
     ]
    },
    {
     "name": "stderr",
     "output_type": "stream",
     "text": [
      "/Users/huohongyi/opt/anaconda3/lib/python3.9/site-packages/urllib3/connectionpool.py:1043: InsecureRequestWarning: Unverified HTTPS request is being made to host 'gateway.ipfs.io'. Adding certificate verification is strongly advised. See: https://urllib3.readthedocs.io/en/1.26.x/advanced-usage.html#ssl-warnings\n",
      "  warnings.warn(\n"
     ]
    },
    {
     "name": "stdout",
     "output_type": "stream",
     "text": [
      "downloading from https://gateway.ipfs.io/ipfs/QmTRWAnALf1PtXx5V2Fz7pXsDSqXgzvqk7zk1MZwBBRdPC\n",
      "downloading from https://gateway.ipfs.io/ipfs/QmQ8YFdmhu8fZYnLxfC1qJY22YvNXQvmmf3nsfWdoFdrkM\n"
     ]
    },
    {
     "name": "stderr",
     "output_type": "stream",
     "text": [
      "/Users/huohongyi/opt/anaconda3/lib/python3.9/site-packages/urllib3/connectionpool.py:1043: InsecureRequestWarning: Unverified HTTPS request is being made to host 'gateway.ipfs.io'. Adding certificate verification is strongly advised. See: https://urllib3.readthedocs.io/en/1.26.x/advanced-usage.html#ssl-warnings\n",
      "  warnings.warn(\n",
      "/Users/huohongyi/opt/anaconda3/lib/python3.9/site-packages/urllib3/connectionpool.py:1043: InsecureRequestWarning: Unverified HTTPS request is being made to host 'gateway.ipfs.io'. Adding certificate verification is strongly advised. See: https://urllib3.readthedocs.io/en/1.26.x/advanced-usage.html#ssl-warnings\n",
      "  warnings.warn(\n"
     ]
    },
    {
     "name": "stdout",
     "output_type": "stream",
     "text": [
      "downloading from https://gateway.ipfs.io/ipfs/QmRdMXY7Znkb7nUrYAN6ovEGNKCdTug6cFUPVQGrxnSf25\n",
      "downloading from https://gateway.ipfs.io/ipfs/QmRnzqcs4tpFpCdZeszm9BzvFtoaSVjFXskML9UWKJBuVR\n"
     ]
    },
    {
     "name": "stderr",
     "output_type": "stream",
     "text": [
      "/Users/huohongyi/opt/anaconda3/lib/python3.9/site-packages/urllib3/connectionpool.py:1043: InsecureRequestWarning: Unverified HTTPS request is being made to host 'gateway.ipfs.io'. Adding certificate verification is strongly advised. See: https://urllib3.readthedocs.io/en/1.26.x/advanced-usage.html#ssl-warnings\n",
      "  warnings.warn(\n",
      "/Users/huohongyi/opt/anaconda3/lib/python3.9/site-packages/urllib3/connectionpool.py:1043: InsecureRequestWarning: Unverified HTTPS request is being made to host 'gateway.ipfs.io'. Adding certificate verification is strongly advised. See: https://urllib3.readthedocs.io/en/1.26.x/advanced-usage.html#ssl-warnings\n",
      "  warnings.warn(\n"
     ]
    },
    {
     "name": "stdout",
     "output_type": "stream",
     "text": [
      "downloading from https://gateway.ipfs.io/ipfs/QmbFTGUHrr5iXYw8bgc5oZWmLWBA1XHttQLUCeDKEQ6qSn\n",
      "downloading from https://gateway.ipfs.io/ipfs/QmVkovqsxdesVEzQ1XWy9q8RxwgRNXWgUuWeBgPer1vkWh\n"
     ]
    },
    {
     "name": "stderr",
     "output_type": "stream",
     "text": [
      "/Users/huohongyi/opt/anaconda3/lib/python3.9/site-packages/urllib3/connectionpool.py:1043: InsecureRequestWarning: Unverified HTTPS request is being made to host 'gateway.ipfs.io'. Adding certificate verification is strongly advised. See: https://urllib3.readthedocs.io/en/1.26.x/advanced-usage.html#ssl-warnings\n",
      "  warnings.warn(\n",
      "/Users/huohongyi/opt/anaconda3/lib/python3.9/site-packages/urllib3/connectionpool.py:1043: InsecureRequestWarning: Unverified HTTPS request is being made to host 'gateway.ipfs.io'. Adding certificate verification is strongly advised. See: https://urllib3.readthedocs.io/en/1.26.x/advanced-usage.html#ssl-warnings\n",
      "  warnings.warn(\n"
     ]
    },
    {
     "name": "stdout",
     "output_type": "stream",
     "text": [
      "downloading from https://gateway.ipfs.io/ipfs/QmcBX5KfXJ5i5nzU43pSfNJHVKThcXuQbBtr3T8UQNzPef\n"
     ]
    },
    {
     "name": "stderr",
     "output_type": "stream",
     "text": [
      "/Users/huohongyi/opt/anaconda3/lib/python3.9/site-packages/urllib3/connectionpool.py:1043: InsecureRequestWarning: Unverified HTTPS request is being made to host 'gateway.ipfs.io'. Adding certificate verification is strongly advised. See: https://urllib3.readthedocs.io/en/1.26.x/advanced-usage.html#ssl-warnings\n",
      "  warnings.warn(\n"
     ]
    },
    {
     "name": "stdout",
     "output_type": "stream",
     "text": [
      "downloading from https://gateway.ipfs.io/ipfs/QmXYBFXZzV6zv7WazPNzp9hkRwyiD2HU4rusNnapvo7Ziw\n",
      "downloading from https://gateway.ipfs.io/ipfs/Qmd6gWn2Zsam1ZsBKrqemVmfap436Z9uqyafdwGHsnCdVA\n"
     ]
    },
    {
     "name": "stderr",
     "output_type": "stream",
     "text": [
      "/Users/huohongyi/opt/anaconda3/lib/python3.9/site-packages/urllib3/connectionpool.py:1043: InsecureRequestWarning: Unverified HTTPS request is being made to host 'gateway.ipfs.io'. Adding certificate verification is strongly advised. See: https://urllib3.readthedocs.io/en/1.26.x/advanced-usage.html#ssl-warnings\n",
      "  warnings.warn(\n",
      "/Users/huohongyi/opt/anaconda3/lib/python3.9/site-packages/urllib3/connectionpool.py:1043: InsecureRequestWarning: Unverified HTTPS request is being made to host 'gateway.ipfs.io'. Adding certificate verification is strongly advised. See: https://urllib3.readthedocs.io/en/1.26.x/advanced-usage.html#ssl-warnings\n",
      "  warnings.warn(\n"
     ]
    },
    {
     "name": "stdout",
     "output_type": "stream",
     "text": [
      "downloading from https://gateway.ipfs.io/ipfs/QmQEyEiJ4PBRKDyAr53Y3ZZrkDxpkRZeGNPYrBoeo1ptSW\n",
      "downloading from https://gateway.ipfs.io/ipfs/QmNfmbJdb6fZAUBSjnGXyT2xhaX3fJ6Qrjpy3umhvPxVw9\n"
     ]
    },
    {
     "name": "stderr",
     "output_type": "stream",
     "text": [
      "/Users/huohongyi/opt/anaconda3/lib/python3.9/site-packages/urllib3/connectionpool.py:1043: InsecureRequestWarning: Unverified HTTPS request is being made to host 'gateway.ipfs.io'. Adding certificate verification is strongly advised. See: https://urllib3.readthedocs.io/en/1.26.x/advanced-usage.html#ssl-warnings\n",
      "  warnings.warn(\n",
      "/Users/huohongyi/opt/anaconda3/lib/python3.9/site-packages/urllib3/connectionpool.py:1043: InsecureRequestWarning: Unverified HTTPS request is being made to host 'gateway.ipfs.io'. Adding certificate verification is strongly advised. See: https://urllib3.readthedocs.io/en/1.26.x/advanced-usage.html#ssl-warnings\n",
      "  warnings.warn(\n"
     ]
    },
    {
     "name": "stdout",
     "output_type": "stream",
     "text": [
      "downloading from https://gateway.ipfs.io/ipfs/QmTRTRA8VeH4J9vWUA4ueQW6PryiJaympmn3G9sSmKeXjz\n",
      "downloading from https://gateway.ipfs.io/ipfs/QmTcvEyoacxvZd3MHKThjUA3cvH1G6ZtuBmgZbEB7Z2nxM\n"
     ]
    },
    {
     "name": "stderr",
     "output_type": "stream",
     "text": [
      "/Users/huohongyi/opt/anaconda3/lib/python3.9/site-packages/urllib3/connectionpool.py:1043: InsecureRequestWarning: Unverified HTTPS request is being made to host 'gateway.ipfs.io'. Adding certificate verification is strongly advised. See: https://urllib3.readthedocs.io/en/1.26.x/advanced-usage.html#ssl-warnings\n",
      "  warnings.warn(\n",
      "/Users/huohongyi/opt/anaconda3/lib/python3.9/site-packages/urllib3/connectionpool.py:1043: InsecureRequestWarning: Unverified HTTPS request is being made to host 'gateway.ipfs.io'. Adding certificate verification is strongly advised. See: https://urllib3.readthedocs.io/en/1.26.x/advanced-usage.html#ssl-warnings\n",
      "  warnings.warn(\n"
     ]
    },
    {
     "name": "stdout",
     "output_type": "stream",
     "text": [
      "downloading from https://gateway.ipfs.io/ipfs/QmSi3YmDKWEpGj6V8bhT7miexrqkztFy729ygrSkW2RxVh\n",
      "downloading from https://gateway.ipfs.io/ipfs/QmaC1oGho3ngrnNSYpyJ9TdVV1EsX9FXngCUHGY8pBv28P\n"
     ]
    },
    {
     "name": "stderr",
     "output_type": "stream",
     "text": [
      "/Users/huohongyi/opt/anaconda3/lib/python3.9/site-packages/urllib3/connectionpool.py:1043: InsecureRequestWarning: Unverified HTTPS request is being made to host 'gateway.ipfs.io'. Adding certificate verification is strongly advised. See: https://urllib3.readthedocs.io/en/1.26.x/advanced-usage.html#ssl-warnings\n",
      "  warnings.warn(\n",
      "/Users/huohongyi/opt/anaconda3/lib/python3.9/site-packages/urllib3/connectionpool.py:1043: InsecureRequestWarning: Unverified HTTPS request is being made to host 'gateway.ipfs.io'. Adding certificate verification is strongly advised. See: https://urllib3.readthedocs.io/en/1.26.x/advanced-usage.html#ssl-warnings\n",
      "  warnings.warn(\n"
     ]
    },
    {
     "name": "stdout",
     "output_type": "stream",
     "text": [
      "downloading from https://gateway.ipfs.io/ipfs/QmYiJni4mZSFPSy3jz9wAVVDVEYCczuTYSXJ1Q2skwicTB\n",
      "downloading from https://gateway.ipfs.io/ipfs/QmVwKkmLDHDCeWXrmbWEGwqUtfMZ5iq69eicdfVyeiTqFW\n"
     ]
    },
    {
     "name": "stderr",
     "output_type": "stream",
     "text": [
      "/Users/huohongyi/opt/anaconda3/lib/python3.9/site-packages/urllib3/connectionpool.py:1043: InsecureRequestWarning: Unverified HTTPS request is being made to host 'gateway.ipfs.io'. Adding certificate verification is strongly advised. See: https://urllib3.readthedocs.io/en/1.26.x/advanced-usage.html#ssl-warnings\n",
      "  warnings.warn(\n",
      "/Users/huohongyi/opt/anaconda3/lib/python3.9/site-packages/urllib3/connectionpool.py:1043: InsecureRequestWarning: Unverified HTTPS request is being made to host 'gateway.ipfs.io'. Adding certificate verification is strongly advised. See: https://urllib3.readthedocs.io/en/1.26.x/advanced-usage.html#ssl-warnings\n",
      "  warnings.warn(\n"
     ]
    },
    {
     "name": "stdout",
     "output_type": "stream",
     "text": [
      "downloading from https://gateway.ipfs.io/ipfs/QmYZxmy7wHnBZULsfU6VziXSYTUndxv5Kpvhvu9xnv2rRH\n"
     ]
    },
    {
     "name": "stderr",
     "output_type": "stream",
     "text": [
      "/Users/huohongyi/opt/anaconda3/lib/python3.9/site-packages/urllib3/connectionpool.py:1043: InsecureRequestWarning: Unverified HTTPS request is being made to host 'gateway.ipfs.io'. Adding certificate verification is strongly advised. See: https://urllib3.readthedocs.io/en/1.26.x/advanced-usage.html#ssl-warnings\n",
      "  warnings.warn(\n"
     ]
    },
    {
     "name": "stdout",
     "output_type": "stream",
     "text": [
      "downloading from https://gateway.ipfs.io/ipfs/QmSL796QtExLeNz9jxNLqG8dedpAi5kCvCJLaEvoJDAwhg\n",
      "downloading from https://gateway.ipfs.io/ipfs/QmdqRo9vgFToWevn2ugywKK5Wbnh2NuvsAHmChXmVdWm1m\n"
     ]
    },
    {
     "name": "stderr",
     "output_type": "stream",
     "text": [
      "/Users/huohongyi/opt/anaconda3/lib/python3.9/site-packages/urllib3/connectionpool.py:1043: InsecureRequestWarning: Unverified HTTPS request is being made to host 'gateway.ipfs.io'. Adding certificate verification is strongly advised. See: https://urllib3.readthedocs.io/en/1.26.x/advanced-usage.html#ssl-warnings\n",
      "  warnings.warn(\n",
      "/Users/huohongyi/opt/anaconda3/lib/python3.9/site-packages/urllib3/connectionpool.py:1043: InsecureRequestWarning: Unverified HTTPS request is being made to host 'gateway.ipfs.io'. Adding certificate verification is strongly advised. See: https://urllib3.readthedocs.io/en/1.26.x/advanced-usage.html#ssl-warnings\n",
      "  warnings.warn(\n"
     ]
    },
    {
     "name": "stdout",
     "output_type": "stream",
     "text": [
      "downloading from https://gateway.ipfs.io/ipfs/QmZBhD7xgLqV15Uz6HpSpsjuJ6khQsg6cDWnK39t6T9TsD\n",
      "downloading from https://gateway.ipfs.io/ipfs/QmdVU6iRPyFX9Y8RqE99hqZP29YbdxcYRP6e2JfCEvumtw\n"
     ]
    },
    {
     "name": "stderr",
     "output_type": "stream",
     "text": [
      "/Users/huohongyi/opt/anaconda3/lib/python3.9/site-packages/urllib3/connectionpool.py:1043: InsecureRequestWarning: Unverified HTTPS request is being made to host 'gateway.ipfs.io'. Adding certificate verification is strongly advised. See: https://urllib3.readthedocs.io/en/1.26.x/advanced-usage.html#ssl-warnings\n",
      "  warnings.warn(\n",
      "/Users/huohongyi/opt/anaconda3/lib/python3.9/site-packages/urllib3/connectionpool.py:1043: InsecureRequestWarning: Unverified HTTPS request is being made to host 'gateway.ipfs.io'. Adding certificate verification is strongly advised. See: https://urllib3.readthedocs.io/en/1.26.x/advanced-usage.html#ssl-warnings\n",
      "  warnings.warn(\n"
     ]
    },
    {
     "name": "stdout",
     "output_type": "stream",
     "text": [
      "downloading from https://gateway.ipfs.io/ipfs/Qmf5vUMFVsENk5tAUXApK4HvXpM5x4Hr7Bt3uQxHG7gpcX\n"
     ]
    },
    {
     "name": "stderr",
     "output_type": "stream",
     "text": [
      "/Users/huohongyi/opt/anaconda3/lib/python3.9/site-packages/urllib3/connectionpool.py:1043: InsecureRequestWarning: Unverified HTTPS request is being made to host 'gateway.ipfs.io'. Adding certificate verification is strongly advised. See: https://urllib3.readthedocs.io/en/1.26.x/advanced-usage.html#ssl-warnings\n",
      "  warnings.warn(\n"
     ]
    },
    {
     "name": "stdout",
     "output_type": "stream",
     "text": [
      "downloading from https://gateway.ipfs.io/ipfs/QmThhiGaH5ePaTUTggrvFzsYf17ipcc4UeRdX5yRKwZ3yu\n"
     ]
    },
    {
     "name": "stderr",
     "output_type": "stream",
     "text": [
      "/Users/huohongyi/opt/anaconda3/lib/python3.9/site-packages/urllib3/connectionpool.py:1043: InsecureRequestWarning: Unverified HTTPS request is being made to host 'gateway.ipfs.io'. Adding certificate verification is strongly advised. See: https://urllib3.readthedocs.io/en/1.26.x/advanced-usage.html#ssl-warnings\n",
      "  warnings.warn(\n"
     ]
    },
    {
     "name": "stdout",
     "output_type": "stream",
     "text": [
      "downloading from https://gateway.ipfs.io/ipfs/QmYExK8bCAdGzs9iURKxLZr5g8MNids8pWnrzhWgqKzfeK\n"
     ]
    },
    {
     "name": "stderr",
     "output_type": "stream",
     "text": [
      "/Users/huohongyi/opt/anaconda3/lib/python3.9/site-packages/urllib3/connectionpool.py:1043: InsecureRequestWarning: Unverified HTTPS request is being made to host 'gateway.ipfs.io'. Adding certificate verification is strongly advised. See: https://urllib3.readthedocs.io/en/1.26.x/advanced-usage.html#ssl-warnings\n",
      "  warnings.warn(\n"
     ]
    },
    {
     "name": "stdout",
     "output_type": "stream",
     "text": [
      "downloading from https://gateway.ipfs.io/ipfs/QmaBxGRSQmhbdaX4gJQpCpjXiGuXmCdMxmq7CLc1N3WUQj\n",
      "downloading from https://gateway.ipfs.io/ipfs/QmXRWcCH8BypNnYZ1BbcDpqiTbtodM5UCd4E63sKazyqxz\n"
     ]
    },
    {
     "name": "stderr",
     "output_type": "stream",
     "text": [
      "/Users/huohongyi/opt/anaconda3/lib/python3.9/site-packages/urllib3/connectionpool.py:1043: InsecureRequestWarning: Unverified HTTPS request is being made to host 'gateway.ipfs.io'. Adding certificate verification is strongly advised. See: https://urllib3.readthedocs.io/en/1.26.x/advanced-usage.html#ssl-warnings\n",
      "  warnings.warn(\n",
      "/Users/huohongyi/opt/anaconda3/lib/python3.9/site-packages/urllib3/connectionpool.py:1043: InsecureRequestWarning: Unverified HTTPS request is being made to host 'gateway.ipfs.io'. Adding certificate verification is strongly advised. See: https://urllib3.readthedocs.io/en/1.26.x/advanced-usage.html#ssl-warnings\n",
      "  warnings.warn(\n"
     ]
    },
    {
     "name": "stdout",
     "output_type": "stream",
     "text": [
      "downloading from https://gateway.ipfs.io/ipfs/QmRoSU8AmLAuRmCVgiYZ3fgxUGPjBT3VyUWR2NMRAvH5zr\n"
     ]
    },
    {
     "name": "stderr",
     "output_type": "stream",
     "text": [
      "/Users/huohongyi/opt/anaconda3/lib/python3.9/site-packages/urllib3/connectionpool.py:1043: InsecureRequestWarning: Unverified HTTPS request is being made to host 'gateway.ipfs.io'. Adding certificate verification is strongly advised. See: https://urllib3.readthedocs.io/en/1.26.x/advanced-usage.html#ssl-warnings\n",
      "  warnings.warn(\n"
     ]
    },
    {
     "name": "stdout",
     "output_type": "stream",
     "text": [
      "downloading from https://gateway.ipfs.io/ipfs/QmaVsYwjUU4ymYfCrqTNgpeXWK2c8y7xYRr7ur2R4spk14\n",
      "downloading from https://gateway.ipfs.io/ipfs/QmUoC35JQ9nwrSCdLqzD6D93BwrrVT6jgkJFkyKoHhg8vv\n"
     ]
    },
    {
     "name": "stderr",
     "output_type": "stream",
     "text": [
      "/Users/huohongyi/opt/anaconda3/lib/python3.9/site-packages/urllib3/connectionpool.py:1043: InsecureRequestWarning: Unverified HTTPS request is being made to host 'gateway.ipfs.io'. Adding certificate verification is strongly advised. See: https://urllib3.readthedocs.io/en/1.26.x/advanced-usage.html#ssl-warnings\n",
      "  warnings.warn(\n",
      "/Users/huohongyi/opt/anaconda3/lib/python3.9/site-packages/urllib3/connectionpool.py:1043: InsecureRequestWarning: Unverified HTTPS request is being made to host 'gateway.ipfs.io'. Adding certificate verification is strongly advised. See: https://urllib3.readthedocs.io/en/1.26.x/advanced-usage.html#ssl-warnings\n",
      "  warnings.warn(\n"
     ]
    },
    {
     "name": "stdout",
     "output_type": "stream",
     "text": [
      "downloading from https://gateway.ipfs.io/ipfs/QmZh3PK39UAAiegcFSrwGCtSgtEqh3vF6fjRAvAXp5mSkm\n",
      "downloading from https://gateway.ipfs.io/ipfs/QmUaxd7HoGoyw3dUc4CAcEb3KCqrTC1iyChva8uZmokQA5\n"
     ]
    },
    {
     "name": "stderr",
     "output_type": "stream",
     "text": [
      "/Users/huohongyi/opt/anaconda3/lib/python3.9/site-packages/urllib3/connectionpool.py:1043: InsecureRequestWarning: Unverified HTTPS request is being made to host 'gateway.ipfs.io'. Adding certificate verification is strongly advised. See: https://urllib3.readthedocs.io/en/1.26.x/advanced-usage.html#ssl-warnings\n",
      "  warnings.warn(\n",
      "/Users/huohongyi/opt/anaconda3/lib/python3.9/site-packages/urllib3/connectionpool.py:1043: InsecureRequestWarning: Unverified HTTPS request is being made to host 'gateway.ipfs.io'. Adding certificate verification is strongly advised. See: https://urllib3.readthedocs.io/en/1.26.x/advanced-usage.html#ssl-warnings\n",
      "  warnings.warn(\n"
     ]
    },
    {
     "name": "stdout",
     "output_type": "stream",
     "text": [
      "downloading from https://gateway.ipfs.io/ipfs/QmZ9x3CauhhyL94GDt4h3nWC1qHeVgxRydMoZ8gbCwFiNU\n"
     ]
    },
    {
     "name": "stderr",
     "output_type": "stream",
     "text": [
      "/Users/huohongyi/opt/anaconda3/lib/python3.9/site-packages/urllib3/connectionpool.py:1043: InsecureRequestWarning: Unverified HTTPS request is being made to host 'gateway.ipfs.io'. Adding certificate verification is strongly advised. See: https://urllib3.readthedocs.io/en/1.26.x/advanced-usage.html#ssl-warnings\n",
      "  warnings.warn(\n",
      "/Users/huohongyi/opt/anaconda3/lib/python3.9/site-packages/urllib3/connectionpool.py:1043: InsecureRequestWarning: Unverified HTTPS request is being made to host 'gateway.ipfs.io'. Adding certificate verification is strongly advised. See: https://urllib3.readthedocs.io/en/1.26.x/advanced-usage.html#ssl-warnings\n",
      "  warnings.warn(\n"
     ]
    },
    {
     "name": "stdout",
     "output_type": "stream",
     "text": [
      "downloading from https://gateway.ipfs.io/ipfs/Qmaj7LswCdfWGoZzmKWNdYRmgq2oGu344pqXHoDhge2gQY\n",
      "downloading from https://gateway.ipfs.io/ipfs/QmSRw3Z1NGh47SqaRwxrjDyqScozokampTgYu4H4cMSUQ9\n",
      "downloading from https://gateway.ipfs.io/ipfs/QmdiFqy32PuLCTpm9XNwwP4K1HUh2kAUAvdWkSJwhebBTL\n"
     ]
    },
    {
     "name": "stderr",
     "output_type": "stream",
     "text": [
      "/Users/huohongyi/opt/anaconda3/lib/python3.9/site-packages/urllib3/connectionpool.py:1043: InsecureRequestWarning: Unverified HTTPS request is being made to host 'gateway.ipfs.io'. Adding certificate verification is strongly advised. See: https://urllib3.readthedocs.io/en/1.26.x/advanced-usage.html#ssl-warnings\n",
      "  warnings.warn(\n",
      "/Users/huohongyi/opt/anaconda3/lib/python3.9/site-packages/urllib3/connectionpool.py:1043: InsecureRequestWarning: Unverified HTTPS request is being made to host 'gateway.ipfs.io'. Adding certificate verification is strongly advised. See: https://urllib3.readthedocs.io/en/1.26.x/advanced-usage.html#ssl-warnings\n",
      "  warnings.warn(\n"
     ]
    },
    {
     "name": "stdout",
     "output_type": "stream",
     "text": [
      "downloading from https://gateway.ipfs.io/ipfs/QmQuoRhV1Bdc3MfLHFgursUqrHJr6mCVqnQCVqdhAPATAt\n",
      "downloading from https://gateway.ipfs.io/ipfs/QmZAWzg4LssS9fuufdMVQTbqFiMjs7ZneyN7dSdq3AQGqu\n"
     ]
    },
    {
     "name": "stderr",
     "output_type": "stream",
     "text": [
      "/Users/huohongyi/opt/anaconda3/lib/python3.9/site-packages/urllib3/connectionpool.py:1043: InsecureRequestWarning: Unverified HTTPS request is being made to host 'gateway.ipfs.io'. Adding certificate verification is strongly advised. See: https://urllib3.readthedocs.io/en/1.26.x/advanced-usage.html#ssl-warnings\n",
      "  warnings.warn(\n",
      "/Users/huohongyi/opt/anaconda3/lib/python3.9/site-packages/urllib3/connectionpool.py:1043: InsecureRequestWarning: Unverified HTTPS request is being made to host 'gateway.ipfs.io'. Adding certificate verification is strongly advised. See: https://urllib3.readthedocs.io/en/1.26.x/advanced-usage.html#ssl-warnings\n",
      "  warnings.warn(\n"
     ]
    },
    {
     "name": "stdout",
     "output_type": "stream",
     "text": [
      "downloading from https://gateway.ipfs.io/ipfs/QmWMc81H4V5g4bKUsj7bosiyLTzxxV7vSWfF7o6pLToYVK\n",
      "downloading from https://gateway.ipfs.io/ipfs/QmTnuCnwuzFVr1J8fSfSJvP6mso1Z2pFQUsmSWhxHH8g9y\n"
     ]
    },
    {
     "name": "stderr",
     "output_type": "stream",
     "text": [
      "/Users/huohongyi/opt/anaconda3/lib/python3.9/site-packages/urllib3/connectionpool.py:1043: InsecureRequestWarning: Unverified HTTPS request is being made to host 'gateway.ipfs.io'. Adding certificate verification is strongly advised. See: https://urllib3.readthedocs.io/en/1.26.x/advanced-usage.html#ssl-warnings\n",
      "  warnings.warn(\n",
      "/Users/huohongyi/opt/anaconda3/lib/python3.9/site-packages/urllib3/connectionpool.py:1043: InsecureRequestWarning: Unverified HTTPS request is being made to host 'gateway.ipfs.io'. Adding certificate verification is strongly advised. See: https://urllib3.readthedocs.io/en/1.26.x/advanced-usage.html#ssl-warnings\n",
      "  warnings.warn(\n"
     ]
    },
    {
     "name": "stdout",
     "output_type": "stream",
     "text": [
      "downloading from https://gateway.ipfs.io/ipfs/QmbueXkBHK6mWHaRv2Apx5fcGXPEoNSQXAF5q1d8qJfyo5\n"
     ]
    },
    {
     "name": "stderr",
     "output_type": "stream",
     "text": [
      "/Users/huohongyi/opt/anaconda3/lib/python3.9/site-packages/urllib3/connectionpool.py:1043: InsecureRequestWarning: Unverified HTTPS request is being made to host 'gateway.ipfs.io'. Adding certificate verification is strongly advised. See: https://urllib3.readthedocs.io/en/1.26.x/advanced-usage.html#ssl-warnings\n",
      "  warnings.warn(\n"
     ]
    },
    {
     "name": "stdout",
     "output_type": "stream",
     "text": [
      "downloading from https://gateway.ipfs.io/ipfs/QmZmud54etjuRFuoEobpu4EZPCw5eBrtiyd7pHmiotZrmJ\n"
     ]
    },
    {
     "name": "stderr",
     "output_type": "stream",
     "text": [
      "/Users/huohongyi/opt/anaconda3/lib/python3.9/site-packages/urllib3/connectionpool.py:1043: InsecureRequestWarning: Unverified HTTPS request is being made to host 'gateway.ipfs.io'. Adding certificate verification is strongly advised. See: https://urllib3.readthedocs.io/en/1.26.x/advanced-usage.html#ssl-warnings\n",
      "  warnings.warn(\n"
     ]
    },
    {
     "name": "stdout",
     "output_type": "stream",
     "text": [
      "downloading from https://gateway.ipfs.io/ipfs/QmRQ5gRiATKbePt7BfUtqGHNsuZZAZTHE2yeQHpH9y2jYU\n"
     ]
    },
    {
     "name": "stderr",
     "output_type": "stream",
     "text": [
      "/Users/huohongyi/opt/anaconda3/lib/python3.9/site-packages/urllib3/connectionpool.py:1043: InsecureRequestWarning: Unverified HTTPS request is being made to host 'gateway.ipfs.io'. Adding certificate verification is strongly advised. See: https://urllib3.readthedocs.io/en/1.26.x/advanced-usage.html#ssl-warnings\n",
      "  warnings.warn(\n"
     ]
    },
    {
     "name": "stdout",
     "output_type": "stream",
     "text": [
      "downloading from https://gateway.ipfs.io/ipfs/QmP5AnfPzNMu8N2CzsRbY8uKC77HKJRxg8YGEPSLEXQEe3\n"
     ]
    },
    {
     "name": "stderr",
     "output_type": "stream",
     "text": [
      "/Users/huohongyi/opt/anaconda3/lib/python3.9/site-packages/urllib3/connectionpool.py:1043: InsecureRequestWarning: Unverified HTTPS request is being made to host 'gateway.ipfs.io'. Adding certificate verification is strongly advised. See: https://urllib3.readthedocs.io/en/1.26.x/advanced-usage.html#ssl-warnings\n",
      "  warnings.warn(\n"
     ]
    },
    {
     "name": "stdout",
     "output_type": "stream",
     "text": [
      "downloading from https://gateway.ipfs.io/ipfs/QmZFxAJbz8Ap4gtHd6e1tMy4NNf4MaqEhx8jhRP293dkrq\n"
     ]
    },
    {
     "name": "stderr",
     "output_type": "stream",
     "text": [
      "/Users/huohongyi/opt/anaconda3/lib/python3.9/site-packages/urllib3/connectionpool.py:1043: InsecureRequestWarning: Unverified HTTPS request is being made to host 'gateway.ipfs.io'. Adding certificate verification is strongly advised. See: https://urllib3.readthedocs.io/en/1.26.x/advanced-usage.html#ssl-warnings\n",
      "  warnings.warn(\n"
     ]
    },
    {
     "name": "stdout",
     "output_type": "stream",
     "text": [
      "downloading from https://gateway.ipfs.io/ipfs/QmbPFxPC58kgBwJRTyeXDft41orSu9rBGnyxM78qAeixm6\n"
     ]
    },
    {
     "name": "stderr",
     "output_type": "stream",
     "text": [
      "/Users/huohongyi/opt/anaconda3/lib/python3.9/site-packages/urllib3/connectionpool.py:1043: InsecureRequestWarning: Unverified HTTPS request is being made to host 'gateway.ipfs.io'. Adding certificate verification is strongly advised. See: https://urllib3.readthedocs.io/en/1.26.x/advanced-usage.html#ssl-warnings\n",
      "  warnings.warn(\n"
     ]
    },
    {
     "name": "stdout",
     "output_type": "stream",
     "text": [
      "downloading from https://gateway.ipfs.io/ipfs/QmeC79D2bzQJtgdE8V6RXHCe6qpe2o6QJKFUZk5JEmfU9B\n"
     ]
    },
    {
     "name": "stderr",
     "output_type": "stream",
     "text": [
      "/Users/huohongyi/opt/anaconda3/lib/python3.9/site-packages/urllib3/connectionpool.py:1043: InsecureRequestWarning: Unverified HTTPS request is being made to host 'gateway.ipfs.io'. Adding certificate verification is strongly advised. See: https://urllib3.readthedocs.io/en/1.26.x/advanced-usage.html#ssl-warnings\n",
      "  warnings.warn(\n"
     ]
    },
    {
     "name": "stdout",
     "output_type": "stream",
     "text": [
      "downloading from https://gateway.ipfs.io/ipfs/Qmbxtv14MH9Z6bYNme4u8N8Z4kkivxbxjaNXnn9uyVRA58\n"
     ]
    },
    {
     "name": "stderr",
     "output_type": "stream",
     "text": [
      "/Users/huohongyi/opt/anaconda3/lib/python3.9/site-packages/urllib3/connectionpool.py:1043: InsecureRequestWarning: Unverified HTTPS request is being made to host 'gateway.ipfs.io'. Adding certificate verification is strongly advised. See: https://urllib3.readthedocs.io/en/1.26.x/advanced-usage.html#ssl-warnings\n",
      "  warnings.warn(\n"
     ]
    },
    {
     "name": "stdout",
     "output_type": "stream",
     "text": [
      "downloading from https://gateway.ipfs.io/ipfs/QmY3uxFG8EzCKjPjkv14o2FYsG6h8e5wWrGme9THJ8Zuo2\n"
     ]
    },
    {
     "name": "stderr",
     "output_type": "stream",
     "text": [
      "/Users/huohongyi/opt/anaconda3/lib/python3.9/site-packages/urllib3/connectionpool.py:1043: InsecureRequestWarning: Unverified HTTPS request is being made to host 'gateway.ipfs.io'. Adding certificate verification is strongly advised. See: https://urllib3.readthedocs.io/en/1.26.x/advanced-usage.html#ssl-warnings\n",
      "  warnings.warn(\n"
     ]
    },
    {
     "name": "stdout",
     "output_type": "stream",
     "text": [
      "downloading from https://gateway.ipfs.io/ipfs/QmQqj3AU134NkayWhGLB664mnmtiy2SEfnwP8sa5sMNQk7\n"
     ]
    },
    {
     "name": "stderr",
     "output_type": "stream",
     "text": [
      "/Users/huohongyi/opt/anaconda3/lib/python3.9/site-packages/urllib3/connectionpool.py:1043: InsecureRequestWarning: Unverified HTTPS request is being made to host 'gateway.ipfs.io'. Adding certificate verification is strongly advised. See: https://urllib3.readthedocs.io/en/1.26.x/advanced-usage.html#ssl-warnings\n",
      "  warnings.warn(\n"
     ]
    },
    {
     "name": "stdout",
     "output_type": "stream",
     "text": [
      "downloading from https://gateway.ipfs.io/ipfs/QmR34CDn6BmtojW9DVxc3WUvXv6rVy3Wi4D2hQwWReyPYv\n"
     ]
    },
    {
     "name": "stderr",
     "output_type": "stream",
     "text": [
      "/Users/huohongyi/opt/anaconda3/lib/python3.9/site-packages/urllib3/connectionpool.py:1043: InsecureRequestWarning: Unverified HTTPS request is being made to host 'gateway.ipfs.io'. Adding certificate verification is strongly advised. See: https://urllib3.readthedocs.io/en/1.26.x/advanced-usage.html#ssl-warnings\n",
      "  warnings.warn(\n"
     ]
    },
    {
     "name": "stdout",
     "output_type": "stream",
     "text": [
      "downloading from https://gateway.ipfs.io/ipfs/QmXTQMYyMqzsxradLsxQ5MLf1Nx6EzstsWBJw1Sit4Npse\n"
     ]
    },
    {
     "name": "stderr",
     "output_type": "stream",
     "text": [
      "/Users/huohongyi/opt/anaconda3/lib/python3.9/site-packages/urllib3/connectionpool.py:1043: InsecureRequestWarning: Unverified HTTPS request is being made to host 'gateway.ipfs.io'. Adding certificate verification is strongly advised. See: https://urllib3.readthedocs.io/en/1.26.x/advanced-usage.html#ssl-warnings\n",
      "  warnings.warn(\n"
     ]
    },
    {
     "name": "stdout",
     "output_type": "stream",
     "text": [
      "downloading from https://gateway.ipfs.io/ipfs/QmfCZMkRevdS5E5thb1ZpkTJ3pUPzf6CM2BSe6TXiXxVCo\n"
     ]
    },
    {
     "name": "stderr",
     "output_type": "stream",
     "text": [
      "/Users/huohongyi/opt/anaconda3/lib/python3.9/site-packages/urllib3/connectionpool.py:1043: InsecureRequestWarning: Unverified HTTPS request is being made to host 'gateway.ipfs.io'. Adding certificate verification is strongly advised. See: https://urllib3.readthedocs.io/en/1.26.x/advanced-usage.html#ssl-warnings\n",
      "  warnings.warn(\n"
     ]
    },
    {
     "name": "stdout",
     "output_type": "stream",
     "text": [
      "downloading from https://gateway.ipfs.io/ipfs/QmQoWMyJpj4faJfZGwbqAJDEnyPLradH6vYV9qTu1UbMBu\n"
     ]
    },
    {
     "name": "stderr",
     "output_type": "stream",
     "text": [
      "/Users/huohongyi/opt/anaconda3/lib/python3.9/site-packages/urllib3/connectionpool.py:1043: InsecureRequestWarning: Unverified HTTPS request is being made to host 'gateway.ipfs.io'. Adding certificate verification is strongly advised. See: https://urllib3.readthedocs.io/en/1.26.x/advanced-usage.html#ssl-warnings\n",
      "  warnings.warn(\n"
     ]
    },
    {
     "name": "stdout",
     "output_type": "stream",
     "text": [
      "downloading from https://gateway.ipfs.io/ipfs/QmSFmMkiKfP2QTfmPG22SUedqQ4b2kS7fsduT6hWigUGaP\n"
     ]
    },
    {
     "name": "stderr",
     "output_type": "stream",
     "text": [
      "/Users/huohongyi/opt/anaconda3/lib/python3.9/site-packages/urllib3/connectionpool.py:1043: InsecureRequestWarning: Unverified HTTPS request is being made to host 'gateway.ipfs.io'. Adding certificate verification is strongly advised. See: https://urllib3.readthedocs.io/en/1.26.x/advanced-usage.html#ssl-warnings\n",
      "  warnings.warn(\n"
     ]
    },
    {
     "name": "stdout",
     "output_type": "stream",
     "text": [
      "downloading from https://gateway.ipfs.io/ipfs/QmYc3KcXVB8nSjefF987xmyci9SSPxbdyT54GsEHCs3rFH\n"
     ]
    },
    {
     "name": "stderr",
     "output_type": "stream",
     "text": [
      "/Users/huohongyi/opt/anaconda3/lib/python3.9/site-packages/urllib3/connectionpool.py:1043: InsecureRequestWarning: Unverified HTTPS request is being made to host 'gateway.ipfs.io'. Adding certificate verification is strongly advised. See: https://urllib3.readthedocs.io/en/1.26.x/advanced-usage.html#ssl-warnings\n",
      "  warnings.warn(\n"
     ]
    },
    {
     "name": "stdout",
     "output_type": "stream",
     "text": [
      "downloading from https://gateway.ipfs.io/ipfs/QmZGAf1e8BWrkDWCDh9Xs4BDbJL2rnG65BsV9haNfuW1fM\n"
     ]
    },
    {
     "name": "stderr",
     "output_type": "stream",
     "text": [
      "/Users/huohongyi/opt/anaconda3/lib/python3.9/site-packages/urllib3/connectionpool.py:1043: InsecureRequestWarning: Unverified HTTPS request is being made to host 'gateway.ipfs.io'. Adding certificate verification is strongly advised. See: https://urllib3.readthedocs.io/en/1.26.x/advanced-usage.html#ssl-warnings\n",
      "  warnings.warn(\n"
     ]
    },
    {
     "name": "stdout",
     "output_type": "stream",
     "text": [
      "downloading from https://gateway.ipfs.io/ipfs/QmPK1weQpF95SDT2A9nYdNbAR4DJZJoS2gC6WpyT6QQjwv\n"
     ]
    },
    {
     "name": "stderr",
     "output_type": "stream",
     "text": [
      "/Users/huohongyi/opt/anaconda3/lib/python3.9/site-packages/urllib3/connectionpool.py:1043: InsecureRequestWarning: Unverified HTTPS request is being made to host 'gateway.ipfs.io'. Adding certificate verification is strongly advised. See: https://urllib3.readthedocs.io/en/1.26.x/advanced-usage.html#ssl-warnings\n",
      "  warnings.warn(\n"
     ]
    },
    {
     "name": "stdout",
     "output_type": "stream",
     "text": [
      "downloading from https://gateway.ipfs.io/ipfs/QmSpVbXXR1nKga82P1bbqzPocyfBLpm4RXhLXbsk2Sj7hC\n"
     ]
    },
    {
     "name": "stderr",
     "output_type": "stream",
     "text": [
      "/Users/huohongyi/opt/anaconda3/lib/python3.9/site-packages/urllib3/connectionpool.py:1043: InsecureRequestWarning: Unverified HTTPS request is being made to host 'gateway.ipfs.io'. Adding certificate verification is strongly advised. See: https://urllib3.readthedocs.io/en/1.26.x/advanced-usage.html#ssl-warnings\n",
      "  warnings.warn(\n"
     ]
    },
    {
     "name": "stdout",
     "output_type": "stream",
     "text": [
      "downloading from https://gateway.ipfs.io/ipfs/QmXsbhyFz2LrqokZSAJCoFZL4z8myZGuz7qgvd9drfJXPy\n"
     ]
    },
    {
     "name": "stderr",
     "output_type": "stream",
     "text": [
      "/Users/huohongyi/opt/anaconda3/lib/python3.9/site-packages/urllib3/connectionpool.py:1043: InsecureRequestWarning: Unverified HTTPS request is being made to host 'gateway.ipfs.io'. Adding certificate verification is strongly advised. See: https://urllib3.readthedocs.io/en/1.26.x/advanced-usage.html#ssl-warnings\n",
      "  warnings.warn(\n"
     ]
    },
    {
     "name": "stdout",
     "output_type": "stream",
     "text": [
      "downloading from https://gateway.ipfs.io/ipfs/QmPDuQL4PZjaLD1wkKKukRb22KdZEEXdyotXHw9AnneXVQ\n"
     ]
    },
    {
     "name": "stderr",
     "output_type": "stream",
     "text": [
      "/Users/huohongyi/opt/anaconda3/lib/python3.9/site-packages/urllib3/connectionpool.py:1043: InsecureRequestWarning: Unverified HTTPS request is being made to host 'gateway.ipfs.io'. Adding certificate verification is strongly advised. See: https://urllib3.readthedocs.io/en/1.26.x/advanced-usage.html#ssl-warnings\n",
      "  warnings.warn(\n",
      "/Users/huohongyi/opt/anaconda3/lib/python3.9/site-packages/urllib3/connectionpool.py:1043: InsecureRequestWarning: Unverified HTTPS request is being made to host 'gateway.ipfs.io'. Adding certificate verification is strongly advised. See: https://urllib3.readthedocs.io/en/1.26.x/advanced-usage.html#ssl-warnings\n",
      "  warnings.warn(\n"
     ]
    },
    {
     "name": "stdout",
     "output_type": "stream",
     "text": [
      "downloading from https://gateway.ipfs.io/ipfs/Qmakw751eonjbb8tCoMMddsr6tJH76cnQ8Pm4kWh8FQ3Mo\n",
      "downloading from https://gateway.ipfs.io/ipfs/QmRhMrb2NgmwnLgaFMfSp5EzN93q2UYevxZYLmR2e7ouY8\n"
     ]
    },
    {
     "name": "stderr",
     "output_type": "stream",
     "text": [
      "/Users/huohongyi/opt/anaconda3/lib/python3.9/site-packages/urllib3/connectionpool.py:1043: InsecureRequestWarning: Unverified HTTPS request is being made to host 'gateway.ipfs.io'. Adding certificate verification is strongly advised. See: https://urllib3.readthedocs.io/en/1.26.x/advanced-usage.html#ssl-warnings\n",
      "  warnings.warn(\n"
     ]
    },
    {
     "name": "stdout",
     "output_type": "stream",
     "text": [
      "downloading from https://gateway.ipfs.io/ipfs/QmXAUkbWRbiZrtsTZu8coZkB7pz1gQkm8iS34BCmLyML1d\n"
     ]
    },
    {
     "name": "stderr",
     "output_type": "stream",
     "text": [
      "/Users/huohongyi/opt/anaconda3/lib/python3.9/site-packages/urllib3/connectionpool.py:1043: InsecureRequestWarning: Unverified HTTPS request is being made to host 'gateway.ipfs.io'. Adding certificate verification is strongly advised. See: https://urllib3.readthedocs.io/en/1.26.x/advanced-usage.html#ssl-warnings\n",
      "  warnings.warn(\n"
     ]
    },
    {
     "name": "stdout",
     "output_type": "stream",
     "text": [
      "downloading from https://gateway.ipfs.io/ipfs/QmPbrh9rjJN6A2Tgtg1imcb3s7juohsSJdL9qduAn7HCUU\n"
     ]
    },
    {
     "name": "stderr",
     "output_type": "stream",
     "text": [
      "/Users/huohongyi/opt/anaconda3/lib/python3.9/site-packages/urllib3/connectionpool.py:1043: InsecureRequestWarning: Unverified HTTPS request is being made to host 'gateway.ipfs.io'. Adding certificate verification is strongly advised. See: https://urllib3.readthedocs.io/en/1.26.x/advanced-usage.html#ssl-warnings\n",
      "  warnings.warn(\n"
     ]
    },
    {
     "name": "stdout",
     "output_type": "stream",
     "text": [
      "downloading from https://gateway.ipfs.io/ipfs/QmVfc9z3TDd4kDvddHpDAFPPyhC2XjqtLqnLJPucizJcs9\n"
     ]
    },
    {
     "name": "stderr",
     "output_type": "stream",
     "text": [
      "/Users/huohongyi/opt/anaconda3/lib/python3.9/site-packages/urllib3/connectionpool.py:1043: InsecureRequestWarning: Unverified HTTPS request is being made to host 'gateway.ipfs.io'. Adding certificate verification is strongly advised. See: https://urllib3.readthedocs.io/en/1.26.x/advanced-usage.html#ssl-warnings\n",
      "  warnings.warn(\n"
     ]
    },
    {
     "name": "stdout",
     "output_type": "stream",
     "text": [
      "downloading from https://gateway.ipfs.io/ipfs/Qmai2XWTe27z5g5vSqtGjLYRNEZL6JpGQ2FFWkc8VUX9HV\n"
     ]
    },
    {
     "name": "stderr",
     "output_type": "stream",
     "text": [
      "/Users/huohongyi/opt/anaconda3/lib/python3.9/site-packages/urllib3/connectionpool.py:1043: InsecureRequestWarning: Unverified HTTPS request is being made to host 'gateway.ipfs.io'. Adding certificate verification is strongly advised. See: https://urllib3.readthedocs.io/en/1.26.x/advanced-usage.html#ssl-warnings\n",
      "  warnings.warn(\n"
     ]
    },
    {
     "name": "stdout",
     "output_type": "stream",
     "text": [
      "downloading from https://gateway.ipfs.io/ipfs/QmeFjgoXhat9mrTsFUX7C2rqTZWQ5NwL2c1KCPokKMJb37\n"
     ]
    },
    {
     "name": "stderr",
     "output_type": "stream",
     "text": [
      "/Users/huohongyi/opt/anaconda3/lib/python3.9/site-packages/urllib3/connectionpool.py:1043: InsecureRequestWarning: Unverified HTTPS request is being made to host 'gateway.ipfs.io'. Adding certificate verification is strongly advised. See: https://urllib3.readthedocs.io/en/1.26.x/advanced-usage.html#ssl-warnings\n",
      "  warnings.warn(\n"
     ]
    },
    {
     "name": "stdout",
     "output_type": "stream",
     "text": [
      "downloading from https://gateway.ipfs.io/ipfs/QmYaVfRNi7p5hom8pQhS5dXeProtPC93keWc6ucTZXtSDa\n"
     ]
    },
    {
     "name": "stderr",
     "output_type": "stream",
     "text": [
      "/Users/huohongyi/opt/anaconda3/lib/python3.9/site-packages/urllib3/connectionpool.py:1043: InsecureRequestWarning: Unverified HTTPS request is being made to host 'gateway.ipfs.io'. Adding certificate verification is strongly advised. See: https://urllib3.readthedocs.io/en/1.26.x/advanced-usage.html#ssl-warnings\n",
      "  warnings.warn(\n"
     ]
    },
    {
     "name": "stdout",
     "output_type": "stream",
     "text": [
      "downloading from https://gateway.ipfs.io/ipfs/QmYw677JkQayWMJCAydVLeB74EETn2bEHQwc4RzB1zKmrb\n"
     ]
    },
    {
     "name": "stderr",
     "output_type": "stream",
     "text": [
      "/Users/huohongyi/opt/anaconda3/lib/python3.9/site-packages/urllib3/connectionpool.py:1043: InsecureRequestWarning: Unverified HTTPS request is being made to host 'gateway.ipfs.io'. Adding certificate verification is strongly advised. See: https://urllib3.readthedocs.io/en/1.26.x/advanced-usage.html#ssl-warnings\n",
      "  warnings.warn(\n"
     ]
    },
    {
     "name": "stdout",
     "output_type": "stream",
     "text": [
      "downloading from https://gateway.ipfs.io/ipfs/Qme3W87p23cBSu71UgCmCEznmTfM4NGe52RGYpdMotNsC5\n"
     ]
    },
    {
     "name": "stderr",
     "output_type": "stream",
     "text": [
      "/Users/huohongyi/opt/anaconda3/lib/python3.9/site-packages/urllib3/connectionpool.py:1043: InsecureRequestWarning: Unverified HTTPS request is being made to host 'gateway.ipfs.io'. Adding certificate verification is strongly advised. See: https://urllib3.readthedocs.io/en/1.26.x/advanced-usage.html#ssl-warnings\n",
      "  warnings.warn(\n"
     ]
    },
    {
     "name": "stdout",
     "output_type": "stream",
     "text": [
      "downloading from https://gateway.ipfs.io/ipfs/QmPQLyZFa8prwjNrWNWJt7r9kAhstN5EHsLim4GtzB6MAV\n",
      "downloading from https://gateway.ipfs.io/ipfs/QmPAsZ7f9FrsAVTFaCdjioZr8UxY6h6jSDr9mv1wwwwSJs\n"
     ]
    },
    {
     "name": "stderr",
     "output_type": "stream",
     "text": [
      "/Users/huohongyi/opt/anaconda3/lib/python3.9/site-packages/urllib3/connectionpool.py:1043: InsecureRequestWarning: Unverified HTTPS request is being made to host 'gateway.ipfs.io'. Adding certificate verification is strongly advised. See: https://urllib3.readthedocs.io/en/1.26.x/advanced-usage.html#ssl-warnings\n",
      "  warnings.warn(\n",
      "/Users/huohongyi/opt/anaconda3/lib/python3.9/site-packages/urllib3/connectionpool.py:1043: InsecureRequestWarning: Unverified HTTPS request is being made to host 'gateway.ipfs.io'. Adding certificate verification is strongly advised. See: https://urllib3.readthedocs.io/en/1.26.x/advanced-usage.html#ssl-warnings\n",
      "  warnings.warn(\n"
     ]
    },
    {
     "name": "stdout",
     "output_type": "stream",
     "text": [
      "downloading from https://gateway.ipfs.io/ipfs/QmToh5CYMwTwjTnnJXZ1RSYTyLasXysvx1nFhNqXVduqrp\n",
      "downloading from https://gateway.ipfs.io/ipfs/QmQPXczKoLr14eVDVj865rrSA5qhXVPRkrr1HagJnJEKKy\n"
     ]
    },
    {
     "name": "stderr",
     "output_type": "stream",
     "text": [
      "/Users/huohongyi/opt/anaconda3/lib/python3.9/site-packages/urllib3/connectionpool.py:1043: InsecureRequestWarning: Unverified HTTPS request is being made to host 'gateway.ipfs.io'. Adding certificate verification is strongly advised. See: https://urllib3.readthedocs.io/en/1.26.x/advanced-usage.html#ssl-warnings\n",
      "  warnings.warn(\n",
      "/Users/huohongyi/opt/anaconda3/lib/python3.9/site-packages/urllib3/connectionpool.py:1043: InsecureRequestWarning: Unverified HTTPS request is being made to host 'gateway.ipfs.io'. Adding certificate verification is strongly advised. See: https://urllib3.readthedocs.io/en/1.26.x/advanced-usage.html#ssl-warnings\n",
      "  warnings.warn(\n"
     ]
    },
    {
     "name": "stdout",
     "output_type": "stream",
     "text": [
      "downloading from https://gateway.ipfs.io/ipfs/QmdgigQJ1vtcnJadgSGXaop5TEHEydC4dKGvJVnuZzyyWm\n",
      "downloading from https://gateway.ipfs.io/ipfs/QmNvY8QguB4PjU52jRjHijbhwHLf8vhSQLiTx3d2uoC5xZ\n"
     ]
    },
    {
     "name": "stderr",
     "output_type": "stream",
     "text": [
      "/Users/huohongyi/opt/anaconda3/lib/python3.9/site-packages/urllib3/connectionpool.py:1043: InsecureRequestWarning: Unverified HTTPS request is being made to host 'gateway.ipfs.io'. Adding certificate verification is strongly advised. See: https://urllib3.readthedocs.io/en/1.26.x/advanced-usage.html#ssl-warnings\n",
      "  warnings.warn(\n",
      "/Users/huohongyi/opt/anaconda3/lib/python3.9/site-packages/urllib3/connectionpool.py:1043: InsecureRequestWarning: Unverified HTTPS request is being made to host 'gateway.ipfs.io'. Adding certificate verification is strongly advised. See: https://urllib3.readthedocs.io/en/1.26.x/advanced-usage.html#ssl-warnings\n",
      "  warnings.warn(\n"
     ]
    },
    {
     "name": "stdout",
     "output_type": "stream",
     "text": [
      "downloading from https://gateway.ipfs.io/ipfs/QmXrryHR29pCwojGx5ckvUgk6s5eqbfFA6F4KyTwP9S9ju\n",
      "downloading from https://gateway.ipfs.io/ipfs/QmU4B3Lx8EkN6Y57rv72rdprUxbSkGsQ7KduF1yaQHXYCB\n"
     ]
    },
    {
     "name": "stderr",
     "output_type": "stream",
     "text": [
      "/Users/huohongyi/opt/anaconda3/lib/python3.9/site-packages/urllib3/connectionpool.py:1043: InsecureRequestWarning: Unverified HTTPS request is being made to host 'gateway.ipfs.io'. Adding certificate verification is strongly advised. See: https://urllib3.readthedocs.io/en/1.26.x/advanced-usage.html#ssl-warnings\n",
      "  warnings.warn(\n",
      "/Users/huohongyi/opt/anaconda3/lib/python3.9/site-packages/urllib3/connectionpool.py:1043: InsecureRequestWarning: Unverified HTTPS request is being made to host 'gateway.ipfs.io'. Adding certificate verification is strongly advised. See: https://urllib3.readthedocs.io/en/1.26.x/advanced-usage.html#ssl-warnings\n",
      "  warnings.warn(\n"
     ]
    },
    {
     "name": "stdout",
     "output_type": "stream",
     "text": [
      "downloading from https://gateway.ipfs.io/ipfs/QmXosv45PtSV2cm7KT8nV9MEQAyMBkBnTexGoYCavvM9ey\n"
     ]
    },
    {
     "name": "stderr",
     "output_type": "stream",
     "text": [
      "/Users/huohongyi/opt/anaconda3/lib/python3.9/site-packages/urllib3/connectionpool.py:1043: InsecureRequestWarning: Unverified HTTPS request is being made to host 'gateway.ipfs.io'. Adding certificate verification is strongly advised. See: https://urllib3.readthedocs.io/en/1.26.x/advanced-usage.html#ssl-warnings\n",
      "  warnings.warn(\n"
     ]
    },
    {
     "name": "stdout",
     "output_type": "stream",
     "text": [
      "downloading from https://gateway.ipfs.io/ipfs/QmTGoX61bdBDwAVyGSgmoFJX5ZFaM9Tmw7meiUfu2JRdTn\n",
      "downloading from https://gateway.ipfs.io/ipfs/QmWWiC524Mud1mYhmxWD4XJeLvJPqfyh14ECmYV4BZSrTE\n"
     ]
    },
    {
     "name": "stderr",
     "output_type": "stream",
     "text": [
      "/Users/huohongyi/opt/anaconda3/lib/python3.9/site-packages/urllib3/connectionpool.py:1043: InsecureRequestWarning: Unverified HTTPS request is being made to host 'gateway.ipfs.io'. Adding certificate verification is strongly advised. See: https://urllib3.readthedocs.io/en/1.26.x/advanced-usage.html#ssl-warnings\n",
      "  warnings.warn(\n",
      "/Users/huohongyi/opt/anaconda3/lib/python3.9/site-packages/urllib3/connectionpool.py:1043: InsecureRequestWarning: Unverified HTTPS request is being made to host 'gateway.ipfs.io'. Adding certificate verification is strongly advised. See: https://urllib3.readthedocs.io/en/1.26.x/advanced-usage.html#ssl-warnings\n",
      "  warnings.warn(\n"
     ]
    },
    {
     "name": "stdout",
     "output_type": "stream",
     "text": [
      "downloading from https://gateway.ipfs.io/ipfs/QmaoiR9QSS3wJ7TaAQPegxDsNQsSp1mcWGeezKEQHniqTr\n",
      "downloading from https://gateway.ipfs.io/ipfs/QmZBcmh55WBiEr9kXHBqgoLQaDhvahsbq5bCeB8gqMdi61\n"
     ]
    },
    {
     "name": "stderr",
     "output_type": "stream",
     "text": [
      "/Users/huohongyi/opt/anaconda3/lib/python3.9/site-packages/urllib3/connectionpool.py:1043: InsecureRequestWarning: Unverified HTTPS request is being made to host 'gateway.ipfs.io'. Adding certificate verification is strongly advised. See: https://urllib3.readthedocs.io/en/1.26.x/advanced-usage.html#ssl-warnings\n",
      "  warnings.warn(\n",
      "/Users/huohongyi/opt/anaconda3/lib/python3.9/site-packages/urllib3/connectionpool.py:1043: InsecureRequestWarning: Unverified HTTPS request is being made to host 'gateway.ipfs.io'. Adding certificate verification is strongly advised. See: https://urllib3.readthedocs.io/en/1.26.x/advanced-usage.html#ssl-warnings\n",
      "  warnings.warn(\n"
     ]
    },
    {
     "name": "stdout",
     "output_type": "stream",
     "text": [
      "downloading from https://gateway.ipfs.io/ipfs/QmP7EDJqa8yLWNxxZqXLKkmbAX6njQFqikgZuaymNrJGaw\n",
      "downloading from https://gateway.ipfs.io/ipfs/QmeCanaMC1179pZLHfBGDn5jZXp1GTJFGLjXhGLwMCoJQG\n"
     ]
    },
    {
     "name": "stderr",
     "output_type": "stream",
     "text": [
      "/Users/huohongyi/opt/anaconda3/lib/python3.9/site-packages/urllib3/connectionpool.py:1043: InsecureRequestWarning: Unverified HTTPS request is being made to host 'gateway.ipfs.io'. Adding certificate verification is strongly advised. See: https://urllib3.readthedocs.io/en/1.26.x/advanced-usage.html#ssl-warnings\n",
      "  warnings.warn(\n",
      "/Users/huohongyi/opt/anaconda3/lib/python3.9/site-packages/urllib3/connectionpool.py:1043: InsecureRequestWarning: Unverified HTTPS request is being made to host 'gateway.ipfs.io'. Adding certificate verification is strongly advised. See: https://urllib3.readthedocs.io/en/1.26.x/advanced-usage.html#ssl-warnings\n",
      "  warnings.warn(\n"
     ]
    },
    {
     "name": "stdout",
     "output_type": "stream",
     "text": [
      "downloading from https://gateway.ipfs.io/ipfs/QmPQ3WCRDJmL7yP9XtZJcXd2o7sT48CHLcMGf6CnmCsYxK\n"
     ]
    },
    {
     "name": "stderr",
     "output_type": "stream",
     "text": [
      "/Users/huohongyi/opt/anaconda3/lib/python3.9/site-packages/urllib3/connectionpool.py:1043: InsecureRequestWarning: Unverified HTTPS request is being made to host 'gateway.ipfs.io'. Adding certificate verification is strongly advised. See: https://urllib3.readthedocs.io/en/1.26.x/advanced-usage.html#ssl-warnings\n",
      "  warnings.warn(\n",
      "/Users/huohongyi/opt/anaconda3/lib/python3.9/site-packages/urllib3/connectionpool.py:1043: InsecureRequestWarning: Unverified HTTPS request is being made to host 'gateway.ipfs.io'. Adding certificate verification is strongly advised. See: https://urllib3.readthedocs.io/en/1.26.x/advanced-usage.html#ssl-warnings\n",
      "  warnings.warn(\n"
     ]
    },
    {
     "name": "stdout",
     "output_type": "stream",
     "text": [
      "downloading from https://gateway.ipfs.io/ipfs/QmT1mZhYuveUZiUyKHVqDTDFL33nEgJNYSeMnmeGEXXJcz\n",
      "downloading from https://gateway.ipfs.io/ipfs/QmNvu9vAANMFtrw8LGxZLEY9Gj9mQY4MAryH3qjpVmiXaN\n"
     ]
    },
    {
     "name": "stderr",
     "output_type": "stream",
     "text": [
      "/Users/huohongyi/opt/anaconda3/lib/python3.9/site-packages/urllib3/connectionpool.py:1043: InsecureRequestWarning: Unverified HTTPS request is being made to host 'gateway.ipfs.io'. Adding certificate verification is strongly advised. See: https://urllib3.readthedocs.io/en/1.26.x/advanced-usage.html#ssl-warnings\n",
      "  warnings.warn(\n"
     ]
    },
    {
     "name": "stdout",
     "output_type": "stream",
     "text": [
      "downloading from https://gateway.ipfs.io/ipfs/QmPHUqdwqbrw2fBmrnTaBGufHRErrAxEYX5FDy2bCABh1K\n"
     ]
    },
    {
     "name": "stderr",
     "output_type": "stream",
     "text": [
      "/Users/huohongyi/opt/anaconda3/lib/python3.9/site-packages/urllib3/connectionpool.py:1043: InsecureRequestWarning: Unverified HTTPS request is being made to host 'gateway.ipfs.io'. Adding certificate verification is strongly advised. See: https://urllib3.readthedocs.io/en/1.26.x/advanced-usage.html#ssl-warnings\n",
      "  warnings.warn(\n"
     ]
    },
    {
     "name": "stdout",
     "output_type": "stream",
     "text": [
      "downloading from https://gateway.ipfs.io/ipfs/QmPtTifrKDZ41tKpkBUAKEJgzqzKW5FtMXFK4k4gZqUCT1\n"
     ]
    },
    {
     "name": "stderr",
     "output_type": "stream",
     "text": [
      "/Users/huohongyi/opt/anaconda3/lib/python3.9/site-packages/urllib3/connectionpool.py:1043: InsecureRequestWarning: Unverified HTTPS request is being made to host 'gateway.ipfs.io'. Adding certificate verification is strongly advised. See: https://urllib3.readthedocs.io/en/1.26.x/advanced-usage.html#ssl-warnings\n",
      "  warnings.warn(\n"
     ]
    },
    {
     "name": "stdout",
     "output_type": "stream",
     "text": [
      "downloading from https://gateway.ipfs.io/ipfs/QmVCZzJrg7BMLPokwEKVPDMsdsVS2FExFnnMLJskf52PK1\n",
      "downloading from https://gateway.ipfs.io/ipfs/QmVgQjrviwNW3nNgPg6B56zm5SWbqqq3YGRamHi7PNrhCs\n"
     ]
    },
    {
     "name": "stderr",
     "output_type": "stream",
     "text": [
      "/Users/huohongyi/opt/anaconda3/lib/python3.9/site-packages/urllib3/connectionpool.py:1043: InsecureRequestWarning: Unverified HTTPS request is being made to host 'gateway.ipfs.io'. Adding certificate verification is strongly advised. See: https://urllib3.readthedocs.io/en/1.26.x/advanced-usage.html#ssl-warnings\n",
      "  warnings.warn(\n",
      "/Users/huohongyi/opt/anaconda3/lib/python3.9/site-packages/urllib3/connectionpool.py:1043: InsecureRequestWarning: Unverified HTTPS request is being made to host 'gateway.ipfs.io'. Adding certificate verification is strongly advised. See: https://urllib3.readthedocs.io/en/1.26.x/advanced-usage.html#ssl-warnings\n",
      "  warnings.warn(\n"
     ]
    },
    {
     "name": "stdout",
     "output_type": "stream",
     "text": [
      "downloading from https://gateway.ipfs.io/ipfs/QmbaGuBfpHXydYmyeJGBwkb5PJzjEFWTeUjibYMHzya87p\n"
     ]
    },
    {
     "name": "stderr",
     "output_type": "stream",
     "text": [
      "/Users/huohongyi/opt/anaconda3/lib/python3.9/site-packages/urllib3/connectionpool.py:1043: InsecureRequestWarning: Unverified HTTPS request is being made to host 'gateway.ipfs.io'. Adding certificate verification is strongly advised. See: https://urllib3.readthedocs.io/en/1.26.x/advanced-usage.html#ssl-warnings\n",
      "  warnings.warn(\n",
      "/Users/huohongyi/opt/anaconda3/lib/python3.9/site-packages/urllib3/connectionpool.py:1043: InsecureRequestWarning: Unverified HTTPS request is being made to host 'gateway.ipfs.io'. Adding certificate verification is strongly advised. See: https://urllib3.readthedocs.io/en/1.26.x/advanced-usage.html#ssl-warnings\n",
      "  warnings.warn(\n"
     ]
    },
    {
     "name": "stdout",
     "output_type": "stream",
     "text": [
      "downloading from https://gateway.ipfs.io/ipfs/QmVmaznR12KCKwdbgGZZtanh6FxbjsknPvG4KS7rSEb5gY\n",
      "downloading from https://gateway.ipfs.io/ipfs/QmVqDVafMqFkgkTr7BpW3GZBDYjrar2MiyPcY91sGend8R\n"
     ]
    },
    {
     "name": "stderr",
     "output_type": "stream",
     "text": [
      "/Users/huohongyi/opt/anaconda3/lib/python3.9/site-packages/urllib3/connectionpool.py:1043: InsecureRequestWarning: Unverified HTTPS request is being made to host 'gateway.ipfs.io'. Adding certificate verification is strongly advised. See: https://urllib3.readthedocs.io/en/1.26.x/advanced-usage.html#ssl-warnings\n",
      "  warnings.warn(\n"
     ]
    },
    {
     "name": "stdout",
     "output_type": "stream",
     "text": [
      "downloading from https://gateway.ipfs.io/ipfs/QmXzGnp4kwv9iAkXoXmzch4ZBQ5StXKtFytjRX5ogZFaz9\n",
      "downloading from https://gateway.ipfs.io/ipfs/QmXwW3QN4SS3L75h1HotoSuc5CJurURckdSCz9vT1JmuCc\n"
     ]
    },
    {
     "name": "stderr",
     "output_type": "stream",
     "text": [
      "/Users/huohongyi/opt/anaconda3/lib/python3.9/site-packages/urllib3/connectionpool.py:1043: InsecureRequestWarning: Unverified HTTPS request is being made to host 'gateway.ipfs.io'. Adding certificate verification is strongly advised. See: https://urllib3.readthedocs.io/en/1.26.x/advanced-usage.html#ssl-warnings\n",
      "  warnings.warn(\n",
      "/Users/huohongyi/opt/anaconda3/lib/python3.9/site-packages/urllib3/connectionpool.py:1043: InsecureRequestWarning: Unverified HTTPS request is being made to host 'gateway.ipfs.io'. Adding certificate verification is strongly advised. See: https://urllib3.readthedocs.io/en/1.26.x/advanced-usage.html#ssl-warnings\n",
      "  warnings.warn(\n"
     ]
    },
    {
     "name": "stdout",
     "output_type": "stream",
     "text": [
      "downloading from https://gateway.ipfs.io/ipfs/QmNrEBhQwHkC84NA8J1Ppdgfe3quSUEiUBdiM2MdLRsgPt\n"
     ]
    },
    {
     "name": "stderr",
     "output_type": "stream",
     "text": [
      "/Users/huohongyi/opt/anaconda3/lib/python3.9/site-packages/urllib3/connectionpool.py:1043: InsecureRequestWarning: Unverified HTTPS request is being made to host 'gateway.ipfs.io'. Adding certificate verification is strongly advised. See: https://urllib3.readthedocs.io/en/1.26.x/advanced-usage.html#ssl-warnings\n",
      "  warnings.warn(\n"
     ]
    },
    {
     "name": "stdout",
     "output_type": "stream",
     "text": [
      "downloading from https://gateway.ipfs.io/ipfs/QmUBeA27KaYfSkYTa1S1EBFU2CHohaVJJmopPFhSQmidTJ\n"
     ]
    },
    {
     "name": "stderr",
     "output_type": "stream",
     "text": [
      "/Users/huohongyi/opt/anaconda3/lib/python3.9/site-packages/urllib3/connectionpool.py:1043: InsecureRequestWarning: Unverified HTTPS request is being made to host 'gateway.ipfs.io'. Adding certificate verification is strongly advised. See: https://urllib3.readthedocs.io/en/1.26.x/advanced-usage.html#ssl-warnings\n",
      "  warnings.warn(\n"
     ]
    },
    {
     "name": "stdout",
     "output_type": "stream",
     "text": [
      "downloading from https://gateway.ipfs.io/ipfs/QmZhK4zUuA4iBoRLVK3X3exAAFvFQyNas9fCiaCnc3BqQi\n"
     ]
    },
    {
     "name": "stderr",
     "output_type": "stream",
     "text": [
      "/Users/huohongyi/opt/anaconda3/lib/python3.9/site-packages/urllib3/connectionpool.py:1043: InsecureRequestWarning: Unverified HTTPS request is being made to host 'gateway.ipfs.io'. Adding certificate verification is strongly advised. See: https://urllib3.readthedocs.io/en/1.26.x/advanced-usage.html#ssl-warnings\n",
      "  warnings.warn(\n"
     ]
    },
    {
     "name": "stdout",
     "output_type": "stream",
     "text": [
      "downloading from https://gateway.ipfs.io/ipfs/QmVL1ujSjeEmZv55mfhcmoK93RHH6SDBUKip1kQNNmee29\n",
      "downloading from https://gateway.ipfs.io/ipfs/Qmc8XdmWhqw4DfhZqPpK3WnQRTp2haczQynuR8FtFXchFV\n"
     ]
    },
    {
     "name": "stderr",
     "output_type": "stream",
     "text": [
      "/Users/huohongyi/opt/anaconda3/lib/python3.9/site-packages/urllib3/connectionpool.py:1043: InsecureRequestWarning: Unverified HTTPS request is being made to host 'gateway.ipfs.io'. Adding certificate verification is strongly advised. See: https://urllib3.readthedocs.io/en/1.26.x/advanced-usage.html#ssl-warnings\n",
      "  warnings.warn(\n",
      "/Users/huohongyi/opt/anaconda3/lib/python3.9/site-packages/urllib3/connectionpool.py:1043: InsecureRequestWarning: Unverified HTTPS request is being made to host 'gateway.ipfs.io'. Adding certificate verification is strongly advised. See: https://urllib3.readthedocs.io/en/1.26.x/advanced-usage.html#ssl-warnings\n",
      "  warnings.warn(\n"
     ]
    },
    {
     "name": "stdout",
     "output_type": "stream",
     "text": [
      "downloading from https://gateway.ipfs.io/ipfs/QmNM8fce88N44GtJcC1P8Nb6yH3RancZXt27dX7x39Yann\n",
      "downloading from https://gateway.ipfs.io/ipfs/QmdPJdSsPJecfoxzkdEnNYf3W1Hm6BoPpg6ijarSNedbXz\n"
     ]
    },
    {
     "name": "stderr",
     "output_type": "stream",
     "text": [
      "/Users/huohongyi/opt/anaconda3/lib/python3.9/site-packages/urllib3/connectionpool.py:1043: InsecureRequestWarning: Unverified HTTPS request is being made to host 'gateway.ipfs.io'. Adding certificate verification is strongly advised. See: https://urllib3.readthedocs.io/en/1.26.x/advanced-usage.html#ssl-warnings\n",
      "  warnings.warn(\n",
      "/Users/huohongyi/opt/anaconda3/lib/python3.9/site-packages/urllib3/connectionpool.py:1043: InsecureRequestWarning: Unverified HTTPS request is being made to host 'gateway.ipfs.io'. Adding certificate verification is strongly advised. See: https://urllib3.readthedocs.io/en/1.26.x/advanced-usage.html#ssl-warnings\n",
      "  warnings.warn(\n"
     ]
    },
    {
     "name": "stdout",
     "output_type": "stream",
     "text": [
      "downloading from https://gateway.ipfs.io/ipfs/QmQ4eyGJDMCddJEkcNaA4sYxtxRaC7uTnLs6K7YgqwA9NP\n",
      "downloading from https://gateway.ipfs.io/ipfs/QmbAsHZty3jJ6XrFY25iwqh7yYRCjxx1wBssBbdUcTd4ru\n"
     ]
    },
    {
     "name": "stderr",
     "output_type": "stream",
     "text": [
      "/Users/huohongyi/opt/anaconda3/lib/python3.9/site-packages/urllib3/connectionpool.py:1043: InsecureRequestWarning: Unverified HTTPS request is being made to host 'gateway.ipfs.io'. Adding certificate verification is strongly advised. See: https://urllib3.readthedocs.io/en/1.26.x/advanced-usage.html#ssl-warnings\n",
      "  warnings.warn(\n",
      "/Users/huohongyi/opt/anaconda3/lib/python3.9/site-packages/urllib3/connectionpool.py:1043: InsecureRequestWarning: Unverified HTTPS request is being made to host 'gateway.ipfs.io'. Adding certificate verification is strongly advised. See: https://urllib3.readthedocs.io/en/1.26.x/advanced-usage.html#ssl-warnings\n",
      "  warnings.warn(\n"
     ]
    },
    {
     "name": "stdout",
     "output_type": "stream",
     "text": [
      "downloading from https://gateway.ipfs.io/ipfs/Qmaa4ncz4WVyoFrKXrq3rbY8ZVD7np9WDRpvc9YopkMomT\n"
     ]
    },
    {
     "name": "stderr",
     "output_type": "stream",
     "text": [
      "/Users/huohongyi/opt/anaconda3/lib/python3.9/site-packages/urllib3/connectionpool.py:1043: InsecureRequestWarning: Unverified HTTPS request is being made to host 'gateway.ipfs.io'. Adding certificate verification is strongly advised. See: https://urllib3.readthedocs.io/en/1.26.x/advanced-usage.html#ssl-warnings\n",
      "  warnings.warn(\n"
     ]
    },
    {
     "name": "stdout",
     "output_type": "stream",
     "text": [
      "downloading from https://gateway.ipfs.io/ipfs/QmWhhhwERQdrhmDWQLyX8bW4tiMo3YCvVoL6jK5RRoVuaN\n"
     ]
    },
    {
     "name": "stderr",
     "output_type": "stream",
     "text": [
      "/Users/huohongyi/opt/anaconda3/lib/python3.9/site-packages/urllib3/connectionpool.py:1043: InsecureRequestWarning: Unverified HTTPS request is being made to host 'gateway.ipfs.io'. Adding certificate verification is strongly advised. See: https://urllib3.readthedocs.io/en/1.26.x/advanced-usage.html#ssl-warnings\n",
      "  warnings.warn(\n"
     ]
    },
    {
     "name": "stdout",
     "output_type": "stream",
     "text": [
      "downloading from https://gateway.ipfs.io/ipfs/QmZLvTw83fqSVvZJA7u1E35hcTrZJtUteRE4cqMZiNpXbi\n",
      "downloading from https://gateway.ipfs.io/ipfs/QmeAwgXchkSzb9PdZ4mc6bQwgoFD9u57qiN4GGrdL6MrPk\n"
     ]
    },
    {
     "name": "stderr",
     "output_type": "stream",
     "text": [
      "/Users/huohongyi/opt/anaconda3/lib/python3.9/site-packages/urllib3/connectionpool.py:1043: InsecureRequestWarning: Unverified HTTPS request is being made to host 'gateway.ipfs.io'. Adding certificate verification is strongly advised. See: https://urllib3.readthedocs.io/en/1.26.x/advanced-usage.html#ssl-warnings\n",
      "  warnings.warn(\n",
      "/Users/huohongyi/opt/anaconda3/lib/python3.9/site-packages/urllib3/connectionpool.py:1043: InsecureRequestWarning: Unverified HTTPS request is being made to host 'gateway.ipfs.io'. Adding certificate verification is strongly advised. See: https://urllib3.readthedocs.io/en/1.26.x/advanced-usage.html#ssl-warnings\n",
      "  warnings.warn(\n"
     ]
    },
    {
     "name": "stdout",
     "output_type": "stream",
     "text": [
      "downloading from https://gateway.ipfs.io/ipfs/QmUPjjZP1ASx3ceBK5VcoHK86mf6vZJ3gvDmnBcFezDa3Q\n",
      "downloading from https://gateway.ipfs.io/ipfs/QmSHJXju4dg8LrDmj4knKWBvtB1cTdWagredmN8AozPWNS\n"
     ]
    },
    {
     "name": "stderr",
     "output_type": "stream",
     "text": [
      "/Users/huohongyi/opt/anaconda3/lib/python3.9/site-packages/urllib3/connectionpool.py:1043: InsecureRequestWarning: Unverified HTTPS request is being made to host 'gateway.ipfs.io'. Adding certificate verification is strongly advised. See: https://urllib3.readthedocs.io/en/1.26.x/advanced-usage.html#ssl-warnings\n",
      "  warnings.warn(\n",
      "/Users/huohongyi/opt/anaconda3/lib/python3.9/site-packages/urllib3/connectionpool.py:1043: InsecureRequestWarning: Unverified HTTPS request is being made to host 'gateway.ipfs.io'. Adding certificate verification is strongly advised. See: https://urllib3.readthedocs.io/en/1.26.x/advanced-usage.html#ssl-warnings\n",
      "  warnings.warn(\n"
     ]
    },
    {
     "name": "stdout",
     "output_type": "stream",
     "text": [
      "downloading from https://gateway.ipfs.io/ipfs/Qma8uZAJNW7ZYjYPsiTzFVkpJ6KktDVQwTg1oXb1CYyBi5\n",
      "downloading from https://gateway.ipfs.io/ipfs/QmP7kYrw532sNU8QLTw1PUGFqREwnbSf5PG991k7D1H9nf\n"
     ]
    },
    {
     "name": "stderr",
     "output_type": "stream",
     "text": [
      "/Users/huohongyi/opt/anaconda3/lib/python3.9/site-packages/urllib3/connectionpool.py:1043: InsecureRequestWarning: Unverified HTTPS request is being made to host 'gateway.ipfs.io'. Adding certificate verification is strongly advised. See: https://urllib3.readthedocs.io/en/1.26.x/advanced-usage.html#ssl-warnings\n",
      "  warnings.warn(\n",
      "/Users/huohongyi/opt/anaconda3/lib/python3.9/site-packages/urllib3/connectionpool.py:1043: InsecureRequestWarning: Unverified HTTPS request is being made to host 'gateway.ipfs.io'. Adding certificate verification is strongly advised. See: https://urllib3.readthedocs.io/en/1.26.x/advanced-usage.html#ssl-warnings\n",
      "  warnings.warn(\n"
     ]
    },
    {
     "name": "stdout",
     "output_type": "stream",
     "text": [
      "downloading from https://gateway.ipfs.io/ipfs/QmfAFZebtru4mVU7itSinVV9VJkS1BFpM9wNsHFHKi7UpM\n"
     ]
    },
    {
     "name": "stderr",
     "output_type": "stream",
     "text": [
      "/Users/huohongyi/opt/anaconda3/lib/python3.9/site-packages/urllib3/connectionpool.py:1043: InsecureRequestWarning: Unverified HTTPS request is being made to host 'gateway.ipfs.io'. Adding certificate verification is strongly advised. See: https://urllib3.readthedocs.io/en/1.26.x/advanced-usage.html#ssl-warnings\n",
      "  warnings.warn(\n"
     ]
    },
    {
     "name": "stdout",
     "output_type": "stream",
     "text": [
      "downloading from https://gateway.ipfs.io/ipfs/QmcAL5NvdFrry6AfM9Wf8Gq6Sp2r26DAS4BRV1b7sAPL6U\n",
      "downloading from https://gateway.ipfs.io/ipfs/QmQemntYGATv53aG8NTgW2gF7L9AnBWQv7tWNDGwZN1ugc\n"
     ]
    },
    {
     "name": "stderr",
     "output_type": "stream",
     "text": [
      "/Users/huohongyi/opt/anaconda3/lib/python3.9/site-packages/urllib3/connectionpool.py:1043: InsecureRequestWarning: Unverified HTTPS request is being made to host 'gateway.ipfs.io'. Adding certificate verification is strongly advised. See: https://urllib3.readthedocs.io/en/1.26.x/advanced-usage.html#ssl-warnings\n",
      "  warnings.warn(\n",
      "/Users/huohongyi/opt/anaconda3/lib/python3.9/site-packages/urllib3/connectionpool.py:1043: InsecureRequestWarning: Unverified HTTPS request is being made to host 'gateway.ipfs.io'. Adding certificate verification is strongly advised. See: https://urllib3.readthedocs.io/en/1.26.x/advanced-usage.html#ssl-warnings\n",
      "  warnings.warn(\n"
     ]
    },
    {
     "name": "stdout",
     "output_type": "stream",
     "text": [
      "downloading from https://gateway.ipfs.io/ipfs/QmdVRS4yKuxWCLJQjS8raKXzcGHs6winZFRVh5JDP3JBxn\n"
     ]
    },
    {
     "name": "stderr",
     "output_type": "stream",
     "text": [
      "/Users/huohongyi/opt/anaconda3/lib/python3.9/site-packages/urllib3/connectionpool.py:1043: InsecureRequestWarning: Unverified HTTPS request is being made to host 'gateway.ipfs.io'. Adding certificate verification is strongly advised. See: https://urllib3.readthedocs.io/en/1.26.x/advanced-usage.html#ssl-warnings\n",
      "  warnings.warn(\n",
      "/Users/huohongyi/opt/anaconda3/lib/python3.9/site-packages/urllib3/connectionpool.py:1043: InsecureRequestWarning: Unverified HTTPS request is being made to host 'gateway.ipfs.io'. Adding certificate verification is strongly advised. See: https://urllib3.readthedocs.io/en/1.26.x/advanced-usage.html#ssl-warnings\n",
      "  warnings.warn(\n"
     ]
    },
    {
     "name": "stdout",
     "output_type": "stream",
     "text": [
      "downloading from https://gateway.ipfs.io/ipfs/QmeUnzERRnZFUxjDXC4wwuKnxiLomAbDQZ8SbjjkniR47X\n",
      "downloading from https://gateway.ipfs.io/ipfs/QmPGdkSdTDLLsnhb7kD7RupL3cqKAxwAADk9XmEEMqStUH\n"
     ]
    },
    {
     "name": "stderr",
     "output_type": "stream",
     "text": [
      "/Users/huohongyi/opt/anaconda3/lib/python3.9/site-packages/urllib3/connectionpool.py:1043: InsecureRequestWarning: Unverified HTTPS request is being made to host 'gateway.ipfs.io'. Adding certificate verification is strongly advised. See: https://urllib3.readthedocs.io/en/1.26.x/advanced-usage.html#ssl-warnings\n",
      "  warnings.warn(\n",
      "/Users/huohongyi/opt/anaconda3/lib/python3.9/site-packages/urllib3/connectionpool.py:1043: InsecureRequestWarning: Unverified HTTPS request is being made to host 'gateway.ipfs.io'. Adding certificate verification is strongly advised. See: https://urllib3.readthedocs.io/en/1.26.x/advanced-usage.html#ssl-warnings\n",
      "  warnings.warn(\n"
     ]
    },
    {
     "name": "stdout",
     "output_type": "stream",
     "text": [
      "downloading from https://gateway.ipfs.io/ipfs/QmRiawoYX5bJ7joXiQhZqyzekxXhZ8xM6qKJ9QSgzbcikK\n",
      "downloading from https://gateway.ipfs.io/ipfs/QmRtrExGyGQ2VbWA7iALDBoZQ1U53N2TQ5R9ZxopptJUqR\n"
     ]
    },
    {
     "name": "stderr",
     "output_type": "stream",
     "text": [
      "/Users/huohongyi/opt/anaconda3/lib/python3.9/site-packages/urllib3/connectionpool.py:1043: InsecureRequestWarning: Unverified HTTPS request is being made to host 'gateway.ipfs.io'. Adding certificate verification is strongly advised. See: https://urllib3.readthedocs.io/en/1.26.x/advanced-usage.html#ssl-warnings\n",
      "  warnings.warn(\n",
      "/Users/huohongyi/opt/anaconda3/lib/python3.9/site-packages/urllib3/connectionpool.py:1043: InsecureRequestWarning: Unverified HTTPS request is being made to host 'gateway.ipfs.io'. Adding certificate verification is strongly advised. See: https://urllib3.readthedocs.io/en/1.26.x/advanced-usage.html#ssl-warnings\n",
      "  warnings.warn(\n"
     ]
    },
    {
     "name": "stdout",
     "output_type": "stream",
     "text": [
      "downloading from https://gateway.ipfs.io/ipfs/QmTYGWD8EwShaqkHuprAXhUyNpE24M5CVWzfqZdQYE5QtB\n",
      "downloading from https://gateway.ipfs.io/ipfs/QmeQpA7PQ71pEG3w18Txft7eDNDm1m74RBKHi6RRji8cYg\n",
      "downloading from https://gateway.ipfs.io/ipfs/QmczVbK56Uuk8saqb8HggrqAvVsMc5ndADsJo8ejnPz4fn\n"
     ]
    },
    {
     "name": "stderr",
     "output_type": "stream",
     "text": [
      "/Users/huohongyi/opt/anaconda3/lib/python3.9/site-packages/urllib3/connectionpool.py:1043: InsecureRequestWarning: Unverified HTTPS request is being made to host 'gateway.ipfs.io'. Adding certificate verification is strongly advised. See: https://urllib3.readthedocs.io/en/1.26.x/advanced-usage.html#ssl-warnings\n",
      "  warnings.warn(\n",
      "/Users/huohongyi/opt/anaconda3/lib/python3.9/site-packages/urllib3/connectionpool.py:1043: InsecureRequestWarning: Unverified HTTPS request is being made to host 'gateway.ipfs.io'. Adding certificate verification is strongly advised. See: https://urllib3.readthedocs.io/en/1.26.x/advanced-usage.html#ssl-warnings\n",
      "  warnings.warn(\n"
     ]
    },
    {
     "name": "stdout",
     "output_type": "stream",
     "text": [
      "downloading from https://gateway.ipfs.io/ipfs/Qma5EGZ5DTG8qYMLVHCnquZh1CECC6PLxgnBcRd3jW9DFP\n"
     ]
    },
    {
     "name": "stderr",
     "output_type": "stream",
     "text": [
      "/Users/huohongyi/opt/anaconda3/lib/python3.9/site-packages/urllib3/connectionpool.py:1043: InsecureRequestWarning: Unverified HTTPS request is being made to host 'gateway.ipfs.io'. Adding certificate verification is strongly advised. See: https://urllib3.readthedocs.io/en/1.26.x/advanced-usage.html#ssl-warnings\n",
      "  warnings.warn(\n"
     ]
    },
    {
     "name": "stdout",
     "output_type": "stream",
     "text": [
      "downloading from https://gateway.ipfs.io/ipfs/Qmcyhw368xohy7omL1caZVzZwmREQZwhP4t4thWe2p4mnq\n"
     ]
    },
    {
     "name": "stderr",
     "output_type": "stream",
     "text": [
      "/Users/huohongyi/opt/anaconda3/lib/python3.9/site-packages/urllib3/connectionpool.py:1043: InsecureRequestWarning: Unverified HTTPS request is being made to host 'gateway.ipfs.io'. Adding certificate verification is strongly advised. See: https://urllib3.readthedocs.io/en/1.26.x/advanced-usage.html#ssl-warnings\n",
      "  warnings.warn(\n"
     ]
    },
    {
     "name": "stdout",
     "output_type": "stream",
     "text": [
      "downloading from https://gateway.ipfs.io/ipfs/QmSf9hSNNyrgKs4hzJUSqWZZtpjHmnYuheSDdbsd8CLkVF\n",
      "downloading from https://gateway.ipfs.io/ipfs/QmZvocRSRAD3XM5qoRgBjhS1RP32aMghCg3V4CMYnT5wWD\n"
     ]
    },
    {
     "name": "stderr",
     "output_type": "stream",
     "text": [
      "/Users/huohongyi/opt/anaconda3/lib/python3.9/site-packages/urllib3/connectionpool.py:1043: InsecureRequestWarning: Unverified HTTPS request is being made to host 'gateway.ipfs.io'. Adding certificate verification is strongly advised. See: https://urllib3.readthedocs.io/en/1.26.x/advanced-usage.html#ssl-warnings\n",
      "  warnings.warn(\n",
      "/Users/huohongyi/opt/anaconda3/lib/python3.9/site-packages/urllib3/connectionpool.py:1043: InsecureRequestWarning: Unverified HTTPS request is being made to host 'gateway.ipfs.io'. Adding certificate verification is strongly advised. See: https://urllib3.readthedocs.io/en/1.26.x/advanced-usage.html#ssl-warnings\n",
      "  warnings.warn(\n"
     ]
    },
    {
     "name": "stdout",
     "output_type": "stream",
     "text": [
      "downloading from https://gateway.ipfs.io/ipfs/QmNakQ24fQiGSQbEbgZEBDgpLvszWf3QttFPJi7t8KGbtK\n"
     ]
    },
    {
     "name": "stderr",
     "output_type": "stream",
     "text": [
      "/Users/huohongyi/opt/anaconda3/lib/python3.9/site-packages/urllib3/connectionpool.py:1043: InsecureRequestWarning: Unverified HTTPS request is being made to host 'gateway.ipfs.io'. Adding certificate verification is strongly advised. See: https://urllib3.readthedocs.io/en/1.26.x/advanced-usage.html#ssl-warnings\n",
      "  warnings.warn(\n"
     ]
    },
    {
     "name": "stdout",
     "output_type": "stream",
     "text": [
      "downloading from https://gateway.ipfs.io/ipfs/Qmd87HPiE4mRuNTSawT5bhwYGzjbs4K5MicKiGMwgGaUx4\n"
     ]
    },
    {
     "name": "stderr",
     "output_type": "stream",
     "text": [
      "/Users/huohongyi/opt/anaconda3/lib/python3.9/site-packages/urllib3/connectionpool.py:1043: InsecureRequestWarning: Unverified HTTPS request is being made to host 'gateway.ipfs.io'. Adding certificate verification is strongly advised. See: https://urllib3.readthedocs.io/en/1.26.x/advanced-usage.html#ssl-warnings\n",
      "  warnings.warn(\n"
     ]
    },
    {
     "name": "stdout",
     "output_type": "stream",
     "text": [
      "downloading from https://gateway.ipfs.io/ipfs/QmT8CrpJh9pYbXzSH5MrAaZ4qao273Q1su2X9b7NGBMPh9\n"
     ]
    },
    {
     "name": "stderr",
     "output_type": "stream",
     "text": [
      "/Users/huohongyi/opt/anaconda3/lib/python3.9/site-packages/urllib3/connectionpool.py:1043: InsecureRequestWarning: Unverified HTTPS request is being made to host 'gateway.ipfs.io'. Adding certificate verification is strongly advised. See: https://urllib3.readthedocs.io/en/1.26.x/advanced-usage.html#ssl-warnings\n",
      "  warnings.warn(\n"
     ]
    },
    {
     "name": "stdout",
     "output_type": "stream",
     "text": [
      "downloading from https://gateway.ipfs.io/ipfs/QmX9mM6y2miNSN1PgRysvaxx1vkrE3gYbd5Q7tPbQ6zJaa\n"
     ]
    },
    {
     "name": "stderr",
     "output_type": "stream",
     "text": [
      "/Users/huohongyi/opt/anaconda3/lib/python3.9/site-packages/urllib3/connectionpool.py:1043: InsecureRequestWarning: Unverified HTTPS request is being made to host 'gateway.ipfs.io'. Adding certificate verification is strongly advised. See: https://urllib3.readthedocs.io/en/1.26.x/advanced-usage.html#ssl-warnings\n",
      "  warnings.warn(\n"
     ]
    },
    {
     "name": "stdout",
     "output_type": "stream",
     "text": [
      "downloading from https://gateway.ipfs.io/ipfs/QmPowu6SZDJ4kp7STZiSVjNvas6S8WkMMkXMCrVdQLoZSc\n"
     ]
    },
    {
     "name": "stderr",
     "output_type": "stream",
     "text": [
      "/Users/huohongyi/opt/anaconda3/lib/python3.9/site-packages/urllib3/connectionpool.py:1043: InsecureRequestWarning: Unverified HTTPS request is being made to host 'gateway.ipfs.io'. Adding certificate verification is strongly advised. See: https://urllib3.readthedocs.io/en/1.26.x/advanced-usage.html#ssl-warnings\n",
      "  warnings.warn(\n"
     ]
    },
    {
     "name": "stdout",
     "output_type": "stream",
     "text": [
      "downloading from https://gateway.ipfs.io/ipfs/Qmd2Wi9vWS37ygx6U55WTcqmT9umptX7MMib4LUtAUbk93\n"
     ]
    },
    {
     "name": "stderr",
     "output_type": "stream",
     "text": [
      "/Users/huohongyi/opt/anaconda3/lib/python3.9/site-packages/urllib3/connectionpool.py:1043: InsecureRequestWarning: Unverified HTTPS request is being made to host 'gateway.ipfs.io'. Adding certificate verification is strongly advised. See: https://urllib3.readthedocs.io/en/1.26.x/advanced-usage.html#ssl-warnings\n",
      "  warnings.warn(\n"
     ]
    },
    {
     "name": "stdout",
     "output_type": "stream",
     "text": [
      "downloading from https://gateway.ipfs.io/ipfs/QmVArzjXNTe82UgCsWiDRSeG29JvdaEe85XE7VyhHvnMZx\n",
      "downloading from https://gateway.ipfs.io/ipfs/QmUVdbCMpGKRcaVBps7UWHuo7hsfufMoB2iQVdbpaGqsWj\n"
     ]
    },
    {
     "name": "stderr",
     "output_type": "stream",
     "text": [
      "/Users/huohongyi/opt/anaconda3/lib/python3.9/site-packages/urllib3/connectionpool.py:1043: InsecureRequestWarning: Unverified HTTPS request is being made to host 'gateway.ipfs.io'. Adding certificate verification is strongly advised. See: https://urllib3.readthedocs.io/en/1.26.x/advanced-usage.html#ssl-warnings\n",
      "  warnings.warn(\n",
      "/Users/huohongyi/opt/anaconda3/lib/python3.9/site-packages/urllib3/connectionpool.py:1043: InsecureRequestWarning: Unverified HTTPS request is being made to host 'gateway.ipfs.io'. Adding certificate verification is strongly advised. See: https://urllib3.readthedocs.io/en/1.26.x/advanced-usage.html#ssl-warnings\n",
      "  warnings.warn(\n"
     ]
    },
    {
     "name": "stdout",
     "output_type": "stream",
     "text": [
      "downloading from https://gateway.ipfs.io/ipfs/QmP2Hj7AukRmqKf622CydEuGVp1RxbqVqU1Jfw2PMvokJz\n",
      "downloading from https://gateway.ipfs.io/ipfs/Qmeb69w4SzuZCrSt3pDTuyVqUXKt1oWuJhrayv3FWYTUqz\n"
     ]
    },
    {
     "name": "stderr",
     "output_type": "stream",
     "text": [
      "/Users/huohongyi/opt/anaconda3/lib/python3.9/site-packages/urllib3/connectionpool.py:1043: InsecureRequestWarning: Unverified HTTPS request is being made to host 'gateway.ipfs.io'. Adding certificate verification is strongly advised. See: https://urllib3.readthedocs.io/en/1.26.x/advanced-usage.html#ssl-warnings\n",
      "  warnings.warn(\n",
      "/Users/huohongyi/opt/anaconda3/lib/python3.9/site-packages/urllib3/connectionpool.py:1043: InsecureRequestWarning: Unverified HTTPS request is being made to host 'gateway.ipfs.io'. Adding certificate verification is strongly advised. See: https://urllib3.readthedocs.io/en/1.26.x/advanced-usage.html#ssl-warnings\n",
      "  warnings.warn(\n"
     ]
    },
    {
     "name": "stdout",
     "output_type": "stream",
     "text": [
      "downloading from https://gateway.ipfs.io/ipfs/QmY7fLSedCBRQWHqw31dw5CDRYUccWfzeUgz6yGNeDq9TQ\n"
     ]
    },
    {
     "name": "stderr",
     "output_type": "stream",
     "text": [
      "/Users/huohongyi/opt/anaconda3/lib/python3.9/site-packages/urllib3/connectionpool.py:1043: InsecureRequestWarning: Unverified HTTPS request is being made to host 'gateway.ipfs.io'. Adding certificate verification is strongly advised. See: https://urllib3.readthedocs.io/en/1.26.x/advanced-usage.html#ssl-warnings\n",
      "  warnings.warn(\n",
      "/Users/huohongyi/opt/anaconda3/lib/python3.9/site-packages/urllib3/connectionpool.py:1043: InsecureRequestWarning: Unverified HTTPS request is being made to host 'gateway.ipfs.io'. Adding certificate verification is strongly advised. See: https://urllib3.readthedocs.io/en/1.26.x/advanced-usage.html#ssl-warnings\n",
      "  warnings.warn(\n"
     ]
    },
    {
     "name": "stdout",
     "output_type": "stream",
     "text": [
      "downloading from https://gateway.ipfs.io/ipfs/QmWWakRrYSqWpvcR5PKHR4ahJeF3g3rTGLauwFEUrFf4wi\n",
      "downloading from https://gateway.ipfs.io/ipfs/QmfLHZ9nBcP15mst1YEAepDnvsNQDEaUWdqdYZeeT8ejsW\n"
     ]
    },
    {
     "name": "stderr",
     "output_type": "stream",
     "text": [
      "/Users/huohongyi/opt/anaconda3/lib/python3.9/site-packages/urllib3/connectionpool.py:1043: InsecureRequestWarning: Unverified HTTPS request is being made to host 'gateway.ipfs.io'. Adding certificate verification is strongly advised. See: https://urllib3.readthedocs.io/en/1.26.x/advanced-usage.html#ssl-warnings\n",
      "  warnings.warn(\n"
     ]
    },
    {
     "name": "stdout",
     "output_type": "stream",
     "text": [
      "downloading from https://gateway.ipfs.io/ipfs/QmaFXyAdkaCSTonPHcdECmvf439yDRaXyACzDavZjY1crG\n",
      "downloading from https://gateway.ipfs.io/ipfs/QmWvBsDmuWWXAb3F6UABJ6gYqxQ2srjy5TTwyPh1CZKgSP\n"
     ]
    },
    {
     "name": "stderr",
     "output_type": "stream",
     "text": [
      "/Users/huohongyi/opt/anaconda3/lib/python3.9/site-packages/urllib3/connectionpool.py:1043: InsecureRequestWarning: Unverified HTTPS request is being made to host 'gateway.ipfs.io'. Adding certificate verification is strongly advised. See: https://urllib3.readthedocs.io/en/1.26.x/advanced-usage.html#ssl-warnings\n",
      "  warnings.warn(\n",
      "/Users/huohongyi/opt/anaconda3/lib/python3.9/site-packages/urllib3/connectionpool.py:1043: InsecureRequestWarning: Unverified HTTPS request is being made to host 'gateway.ipfs.io'. Adding certificate verification is strongly advised. See: https://urllib3.readthedocs.io/en/1.26.x/advanced-usage.html#ssl-warnings\n",
      "  warnings.warn(\n"
     ]
    },
    {
     "name": "stdout",
     "output_type": "stream",
     "text": [
      "downloading from https://gateway.ipfs.io/ipfs/QmTR3gczyHGGsf7XFPdEUfrGV2LCaUsMDyTd2vrHw6bZKv\n"
     ]
    },
    {
     "name": "stderr",
     "output_type": "stream",
     "text": [
      "/Users/huohongyi/opt/anaconda3/lib/python3.9/site-packages/urllib3/connectionpool.py:1043: InsecureRequestWarning: Unverified HTTPS request is being made to host 'gateway.ipfs.io'. Adding certificate verification is strongly advised. See: https://urllib3.readthedocs.io/en/1.26.x/advanced-usage.html#ssl-warnings\n",
      "  warnings.warn(\n"
     ]
    },
    {
     "name": "stdout",
     "output_type": "stream",
     "text": [
      "downloading from https://gateway.ipfs.io/ipfs/Qmewkuq22tGT1539WaUdjTMGvRnWqUjXKBxxQrCBcK8KLY\n",
      "downloading from https://gateway.ipfs.io/ipfs/QmaebzvXGN1Xxdyn5oEucUDAAeaE8eTi5q9x4XcCiBFfXP\n"
     ]
    },
    {
     "name": "stderr",
     "output_type": "stream",
     "text": [
      "/Users/huohongyi/opt/anaconda3/lib/python3.9/site-packages/urllib3/connectionpool.py:1043: InsecureRequestWarning: Unverified HTTPS request is being made to host 'gateway.ipfs.io'. Adding certificate verification is strongly advised. See: https://urllib3.readthedocs.io/en/1.26.x/advanced-usage.html#ssl-warnings\n",
      "  warnings.warn(\n",
      "/Users/huohongyi/opt/anaconda3/lib/python3.9/site-packages/urllib3/connectionpool.py:1043: InsecureRequestWarning: Unverified HTTPS request is being made to host 'gateway.ipfs.io'. Adding certificate verification is strongly advised. See: https://urllib3.readthedocs.io/en/1.26.x/advanced-usage.html#ssl-warnings\n",
      "  warnings.warn(\n"
     ]
    },
    {
     "name": "stdout",
     "output_type": "stream",
     "text": [
      "downloading from https://gateway.ipfs.io/ipfs/QmYhS8vg8wC2EdHHDM9q1hesbWsa4L1VFFxn8tMDgW9xo7\n",
      "downloading from https://gateway.ipfs.io/ipfs/QmRo4r3NC36Nz8QeP5bosd1MZALgabo6eqPkG5beWfBoSj\n"
     ]
    },
    {
     "name": "stderr",
     "output_type": "stream",
     "text": [
      "/Users/huohongyi/opt/anaconda3/lib/python3.9/site-packages/urllib3/connectionpool.py:1043: InsecureRequestWarning: Unverified HTTPS request is being made to host 'gateway.ipfs.io'. Adding certificate verification is strongly advised. See: https://urllib3.readthedocs.io/en/1.26.x/advanced-usage.html#ssl-warnings\n",
      "  warnings.warn(\n",
      "/Users/huohongyi/opt/anaconda3/lib/python3.9/site-packages/urllib3/connectionpool.py:1043: InsecureRequestWarning: Unverified HTTPS request is being made to host 'gateway.ipfs.io'. Adding certificate verification is strongly advised. See: https://urllib3.readthedocs.io/en/1.26.x/advanced-usage.html#ssl-warnings\n",
      "  warnings.warn(\n"
     ]
    },
    {
     "name": "stdout",
     "output_type": "stream",
     "text": [
      "downloading from https://gateway.ipfs.io/ipfs/QmSWePArcUwqATKkYHsyhsuyHnDYvrJ4s4Gs6rLqHZXRMP\n",
      "downloading from https://gateway.ipfs.io/ipfs/QmTCZ9FJzGmKDAXCf6d6433RmichFEkBjfk5kZVbYGrKXD\n"
     ]
    },
    {
     "name": "stderr",
     "output_type": "stream",
     "text": [
      "/Users/huohongyi/opt/anaconda3/lib/python3.9/site-packages/urllib3/connectionpool.py:1043: InsecureRequestWarning: Unverified HTTPS request is being made to host 'gateway.ipfs.io'. Adding certificate verification is strongly advised. See: https://urllib3.readthedocs.io/en/1.26.x/advanced-usage.html#ssl-warnings\n",
      "  warnings.warn(\n",
      "/Users/huohongyi/opt/anaconda3/lib/python3.9/site-packages/urllib3/connectionpool.py:1043: InsecureRequestWarning: Unverified HTTPS request is being made to host 'gateway.ipfs.io'. Adding certificate verification is strongly advised. See: https://urllib3.readthedocs.io/en/1.26.x/advanced-usage.html#ssl-warnings\n",
      "  warnings.warn(\n"
     ]
    },
    {
     "name": "stdout",
     "output_type": "stream",
     "text": [
      "downloading from https://gateway.ipfs.io/ipfs/QmPAia5LnBC4pRMtYLBXNhfwQSuZsrnJTMCtvtaneVYGC5\n"
     ]
    },
    {
     "name": "stderr",
     "output_type": "stream",
     "text": [
      "/Users/huohongyi/opt/anaconda3/lib/python3.9/site-packages/urllib3/connectionpool.py:1043: InsecureRequestWarning: Unverified HTTPS request is being made to host 'gateway.ipfs.io'. Adding certificate verification is strongly advised. See: https://urllib3.readthedocs.io/en/1.26.x/advanced-usage.html#ssl-warnings\n",
      "  warnings.warn(\n"
     ]
    },
    {
     "name": "stdout",
     "output_type": "stream",
     "text": [
      "downloading from https://gateway.ipfs.io/ipfs/QmYgtTCyvJtaiU8yGB1phcScb4FYBhyJGnrEVn5dPg32p1\n",
      "downloading from https://gateway.ipfs.io/ipfs/Qmc5M4MFFpwuCgvZfCi9w8e73qYcQACDwqug5qRvsjkrNj\n"
     ]
    },
    {
     "name": "stderr",
     "output_type": "stream",
     "text": [
      "/Users/huohongyi/opt/anaconda3/lib/python3.9/site-packages/urllib3/connectionpool.py:1043: InsecureRequestWarning: Unverified HTTPS request is being made to host 'gateway.ipfs.io'. Adding certificate verification is strongly advised. See: https://urllib3.readthedocs.io/en/1.26.x/advanced-usage.html#ssl-warnings\n",
      "  warnings.warn(\n",
      "/Users/huohongyi/opt/anaconda3/lib/python3.9/site-packages/urllib3/connectionpool.py:1043: InsecureRequestWarning: Unverified HTTPS request is being made to host 'gateway.ipfs.io'. Adding certificate verification is strongly advised. See: https://urllib3.readthedocs.io/en/1.26.x/advanced-usage.html#ssl-warnings\n",
      "  warnings.warn(\n"
     ]
    },
    {
     "name": "stdout",
     "output_type": "stream",
     "text": [
      "downloading from https://gateway.ipfs.io/ipfs/Qmc6HPLu9vCz1Af5h9HNosU7gv2rHwuCwiQH4b4u3qxZYk\n",
      "downloading from https://gateway.ipfs.io/ipfs/QmacaVLKogBrv8rXjNEHmffmrXftyUReobNx8zEHvGFTSj\n"
     ]
    },
    {
     "name": "stderr",
     "output_type": "stream",
     "text": [
      "/Users/huohongyi/opt/anaconda3/lib/python3.9/site-packages/urllib3/connectionpool.py:1043: InsecureRequestWarning: Unverified HTTPS request is being made to host 'gateway.ipfs.io'. Adding certificate verification is strongly advised. See: https://urllib3.readthedocs.io/en/1.26.x/advanced-usage.html#ssl-warnings\n",
      "  warnings.warn(\n",
      "/Users/huohongyi/opt/anaconda3/lib/python3.9/site-packages/urllib3/connectionpool.py:1043: InsecureRequestWarning: Unverified HTTPS request is being made to host 'gateway.ipfs.io'. Adding certificate verification is strongly advised. See: https://urllib3.readthedocs.io/en/1.26.x/advanced-usage.html#ssl-warnings\n",
      "  warnings.warn(\n"
     ]
    },
    {
     "name": "stdout",
     "output_type": "stream",
     "text": [
      "downloading from https://gateway.ipfs.io/ipfs/QmcGzPGhSZG9ukB2WiGymTxcLxeV7t6u2Ts2ZPC8ud8e7M\n",
      "downloading from https://gateway.ipfs.io/ipfs/QmPhK7nCoQkNjew6QFRo5cEWMcW1P9LgjSoM8mT9maiG5c\n"
     ]
    },
    {
     "name": "stderr",
     "output_type": "stream",
     "text": [
      "/Users/huohongyi/opt/anaconda3/lib/python3.9/site-packages/urllib3/connectionpool.py:1043: InsecureRequestWarning: Unverified HTTPS request is being made to host 'gateway.ipfs.io'. Adding certificate verification is strongly advised. See: https://urllib3.readthedocs.io/en/1.26.x/advanced-usage.html#ssl-warnings\n",
      "  warnings.warn(\n",
      "/Users/huohongyi/opt/anaconda3/lib/python3.9/site-packages/urllib3/connectionpool.py:1043: InsecureRequestWarning: Unverified HTTPS request is being made to host 'gateway.ipfs.io'. Adding certificate verification is strongly advised. See: https://urllib3.readthedocs.io/en/1.26.x/advanced-usage.html#ssl-warnings\n",
      "  warnings.warn(\n"
     ]
    },
    {
     "name": "stdout",
     "output_type": "stream",
     "text": [
      "downloading from https://gateway.ipfs.io/ipfs/QmWbMwzLMsXcPscPZDGFf3USzHo7sGaqgjb2SKTRiM4HDF\n"
     ]
    },
    {
     "name": "stderr",
     "output_type": "stream",
     "text": [
      "/Users/huohongyi/opt/anaconda3/lib/python3.9/site-packages/urllib3/connectionpool.py:1043: InsecureRequestWarning: Unverified HTTPS request is being made to host 'gateway.ipfs.io'. Adding certificate verification is strongly advised. See: https://urllib3.readthedocs.io/en/1.26.x/advanced-usage.html#ssl-warnings\n",
      "  warnings.warn(\n"
     ]
    },
    {
     "name": "stdout",
     "output_type": "stream",
     "text": [
      "downloading from https://gateway.ipfs.io/ipfs/QmUrZESmiuTkS3TXT4Y83GXXJ5o152MASdTQxB9mYLpKTz\n"
     ]
    },
    {
     "name": "stderr",
     "output_type": "stream",
     "text": [
      "/Users/huohongyi/opt/anaconda3/lib/python3.9/site-packages/urllib3/connectionpool.py:1043: InsecureRequestWarning: Unverified HTTPS request is being made to host 'gateway.ipfs.io'. Adding certificate verification is strongly advised. See: https://urllib3.readthedocs.io/en/1.26.x/advanced-usage.html#ssl-warnings\n",
      "  warnings.warn(\n",
      "/Users/huohongyi/opt/anaconda3/lib/python3.9/site-packages/urllib3/connectionpool.py:1043: InsecureRequestWarning: Unverified HTTPS request is being made to host 'gateway.ipfs.io'. Adding certificate verification is strongly advised. See: https://urllib3.readthedocs.io/en/1.26.x/advanced-usage.html#ssl-warnings\n",
      "  warnings.warn(\n"
     ]
    },
    {
     "name": "stdout",
     "output_type": "stream",
     "text": [
      "downloading from https://gateway.ipfs.io/ipfs/QmPBWXsqKoQcBJm9WguCV7GuALUvLwvxjJ2rYpRYy7eoMV\n",
      "downloading from https://gateway.ipfs.io/ipfs/QmfEurdKXXGtqp154hu38vT4nmbt5MGVh55y5RBuPjeW5K\n"
     ]
    },
    {
     "name": "stderr",
     "output_type": "stream",
     "text": [
      "/Users/huohongyi/opt/anaconda3/lib/python3.9/site-packages/urllib3/connectionpool.py:1043: InsecureRequestWarning: Unverified HTTPS request is being made to host 'gateway.ipfs.io'. Adding certificate verification is strongly advised. See: https://urllib3.readthedocs.io/en/1.26.x/advanced-usage.html#ssl-warnings\n",
      "  warnings.warn(\n"
     ]
    },
    {
     "name": "stdout",
     "output_type": "stream",
     "text": [
      "downloading from https://gateway.ipfs.io/ipfs/QmbKbH3dF9BmtYbN2cJF2SAc5BbBFHXnpbkBfQEEn3c5NK\n"
     ]
    },
    {
     "name": "stderr",
     "output_type": "stream",
     "text": [
      "/Users/huohongyi/opt/anaconda3/lib/python3.9/site-packages/urllib3/connectionpool.py:1043: InsecureRequestWarning: Unverified HTTPS request is being made to host 'gateway.ipfs.io'. Adding certificate verification is strongly advised. See: https://urllib3.readthedocs.io/en/1.26.x/advanced-usage.html#ssl-warnings\n",
      "  warnings.warn(\n"
     ]
    },
    {
     "name": "stdout",
     "output_type": "stream",
     "text": [
      "downloading from https://gateway.ipfs.io/ipfs/QmYwoPcJM6BhH42Vexr8dSs6FyDPbq7ELraK9isMraw4pX\n"
     ]
    },
    {
     "name": "stderr",
     "output_type": "stream",
     "text": [
      "/Users/huohongyi/opt/anaconda3/lib/python3.9/site-packages/urllib3/connectionpool.py:1043: InsecureRequestWarning: Unverified HTTPS request is being made to host 'gateway.ipfs.io'. Adding certificate verification is strongly advised. See: https://urllib3.readthedocs.io/en/1.26.x/advanced-usage.html#ssl-warnings\n",
      "  warnings.warn(\n"
     ]
    },
    {
     "name": "stdout",
     "output_type": "stream",
     "text": [
      "downloading from https://gateway.ipfs.io/ipfs/QmeGEBcHh2WNZ1Yz8SyEYSZHjH7LVMsom34TNNNcSjYJpg\n",
      "downloading from https://gateway.ipfs.io/ipfs/QmXiL9YSneTchg3ZWiCPMRpQoBbDXGfCNrLgmwD8HUsaWS\n"
     ]
    },
    {
     "name": "stderr",
     "output_type": "stream",
     "text": [
      "/Users/huohongyi/opt/anaconda3/lib/python3.9/site-packages/urllib3/connectionpool.py:1043: InsecureRequestWarning: Unverified HTTPS request is being made to host 'gateway.ipfs.io'. Adding certificate verification is strongly advised. See: https://urllib3.readthedocs.io/en/1.26.x/advanced-usage.html#ssl-warnings\n",
      "  warnings.warn(\n",
      "/Users/huohongyi/opt/anaconda3/lib/python3.9/site-packages/urllib3/connectionpool.py:1043: InsecureRequestWarning: Unverified HTTPS request is being made to host 'gateway.ipfs.io'. Adding certificate verification is strongly advised. See: https://urllib3.readthedocs.io/en/1.26.x/advanced-usage.html#ssl-warnings\n",
      "  warnings.warn(\n"
     ]
    },
    {
     "name": "stdout",
     "output_type": "stream",
     "text": [
      "downloading from https://gateway.ipfs.io/ipfs/QmTTfUrfpKsE1n3JjdJLt9CJgkFw7Z1T5qJJVjkjeFWWb7\n"
     ]
    },
    {
     "name": "stderr",
     "output_type": "stream",
     "text": [
      "/Users/huohongyi/opt/anaconda3/lib/python3.9/site-packages/urllib3/connectionpool.py:1043: InsecureRequestWarning: Unverified HTTPS request is being made to host 'gateway.ipfs.io'. Adding certificate verification is strongly advised. See: https://urllib3.readthedocs.io/en/1.26.x/advanced-usage.html#ssl-warnings\n",
      "  warnings.warn(\n",
      "/Users/huohongyi/opt/anaconda3/lib/python3.9/site-packages/urllib3/connectionpool.py:1043: InsecureRequestWarning: Unverified HTTPS request is being made to host 'gateway.ipfs.io'. Adding certificate verification is strongly advised. See: https://urllib3.readthedocs.io/en/1.26.x/advanced-usage.html#ssl-warnings\n",
      "  warnings.warn(\n"
     ]
    },
    {
     "name": "stdout",
     "output_type": "stream",
     "text": [
      "downloading from https://gateway.ipfs.io/ipfs/QmayZrFJRmtMMDL5uFVUuqCEehPjjdaJwviFg9XP4QSJEq\n",
      "downloading from https://gateway.ipfs.io/ipfs/QmTFUcyWRTYmCo3pNzufBgBpo9WCJHPaJv2dR8DJdDcjFQ\n"
     ]
    },
    {
     "name": "stderr",
     "output_type": "stream",
     "text": [
      "/Users/huohongyi/opt/anaconda3/lib/python3.9/site-packages/urllib3/connectionpool.py:1043: InsecureRequestWarning: Unverified HTTPS request is being made to host 'gateway.ipfs.io'. Adding certificate verification is strongly advised. See: https://urllib3.readthedocs.io/en/1.26.x/advanced-usage.html#ssl-warnings\n",
      "  warnings.warn(\n"
     ]
    },
    {
     "name": "stdout",
     "output_type": "stream",
     "text": [
      "downloading from https://gateway.ipfs.io/ipfs/Qme1T6xMLGHVeBMR6j7HRtHCqBLMJag7yAL1hdC9yc5zbQ\n"
     ]
    },
    {
     "name": "stderr",
     "output_type": "stream",
     "text": [
      "/Users/huohongyi/opt/anaconda3/lib/python3.9/site-packages/urllib3/connectionpool.py:1043: InsecureRequestWarning: Unverified HTTPS request is being made to host 'gateway.ipfs.io'. Adding certificate verification is strongly advised. See: https://urllib3.readthedocs.io/en/1.26.x/advanced-usage.html#ssl-warnings\n",
      "  warnings.warn(\n"
     ]
    },
    {
     "name": "stdout",
     "output_type": "stream",
     "text": [
      "downloading from https://gateway.ipfs.io/ipfs/QmP3PDogNZXDzR49YDbdadyXzHnNhTrfRhnuX9crHEt8hQ\n",
      "downloading from https://gateway.ipfs.io/ipfs/QmTqMSMDKfiq31DHDExwkheksRrtyjcuvMACeDspCxcHQ2\n"
     ]
    },
    {
     "name": "stderr",
     "output_type": "stream",
     "text": [
      "/Users/huohongyi/opt/anaconda3/lib/python3.9/site-packages/urllib3/connectionpool.py:1043: InsecureRequestWarning: Unverified HTTPS request is being made to host 'gateway.ipfs.io'. Adding certificate verification is strongly advised. See: https://urllib3.readthedocs.io/en/1.26.x/advanced-usage.html#ssl-warnings\n",
      "  warnings.warn(\n",
      "/Users/huohongyi/opt/anaconda3/lib/python3.9/site-packages/urllib3/connectionpool.py:1043: InsecureRequestWarning: Unverified HTTPS request is being made to host 'gateway.ipfs.io'. Adding certificate verification is strongly advised. See: https://urllib3.readthedocs.io/en/1.26.x/advanced-usage.html#ssl-warnings\n",
      "  warnings.warn(\n"
     ]
    },
    {
     "name": "stdout",
     "output_type": "stream",
     "text": [
      "downloading from https://gateway.ipfs.io/ipfs/QmZghnhj6QV9uyWZcQjBuiLq1xmHcztmxkrxfDA84jtu62\n"
     ]
    },
    {
     "name": "stderr",
     "output_type": "stream",
     "text": [
      "/Users/huohongyi/opt/anaconda3/lib/python3.9/site-packages/urllib3/connectionpool.py:1043: InsecureRequestWarning: Unverified HTTPS request is being made to host 'gateway.ipfs.io'. Adding certificate verification is strongly advised. See: https://urllib3.readthedocs.io/en/1.26.x/advanced-usage.html#ssl-warnings\n",
      "  warnings.warn(\n"
     ]
    },
    {
     "name": "stdout",
     "output_type": "stream",
     "text": [
      "downloading from https://gateway.ipfs.io/ipfs/QmeNygWqKSckPAdbzVyk6BbKSRApJi6d75JyBiCVHN963H\n"
     ]
    },
    {
     "name": "stderr",
     "output_type": "stream",
     "text": [
      "/Users/huohongyi/opt/anaconda3/lib/python3.9/site-packages/urllib3/connectionpool.py:1043: InsecureRequestWarning: Unverified HTTPS request is being made to host 'gateway.ipfs.io'. Adding certificate verification is strongly advised. See: https://urllib3.readthedocs.io/en/1.26.x/advanced-usage.html#ssl-warnings\n",
      "  warnings.warn(\n"
     ]
    },
    {
     "name": "stdout",
     "output_type": "stream",
     "text": [
      "downloading from https://gateway.ipfs.io/ipfs/QmdQoCEZugmT69d6DAZYiW51ism8JeKiLWGBzZ2NneMnWp\n",
      "downloading from https://gateway.ipfs.io/ipfs/QmUXwEXmvYbV4ekFzNs7XoWikS1Nmxi5Lgf52jWYZ43aV5\n"
     ]
    },
    {
     "name": "stderr",
     "output_type": "stream",
     "text": [
      "/Users/huohongyi/opt/anaconda3/lib/python3.9/site-packages/urllib3/connectionpool.py:1043: InsecureRequestWarning: Unverified HTTPS request is being made to host 'gateway.ipfs.io'. Adding certificate verification is strongly advised. See: https://urllib3.readthedocs.io/en/1.26.x/advanced-usage.html#ssl-warnings\n",
      "  warnings.warn(\n",
      "/Users/huohongyi/opt/anaconda3/lib/python3.9/site-packages/urllib3/connectionpool.py:1043: InsecureRequestWarning: Unverified HTTPS request is being made to host 'gateway.ipfs.io'. Adding certificate verification is strongly advised. See: https://urllib3.readthedocs.io/en/1.26.x/advanced-usage.html#ssl-warnings\n",
      "  warnings.warn(\n"
     ]
    },
    {
     "name": "stdout",
     "output_type": "stream",
     "text": [
      "downloading from https://gateway.ipfs.io/ipfs/QmeWgSDFQANUZsfzeeP8xcmJccEdTfwoGNBfz1M9sG3M9P\n"
     ]
    },
    {
     "name": "stderr",
     "output_type": "stream",
     "text": [
      "/Users/huohongyi/opt/anaconda3/lib/python3.9/site-packages/urllib3/connectionpool.py:1043: InsecureRequestWarning: Unverified HTTPS request is being made to host 'gateway.ipfs.io'. Adding certificate verification is strongly advised. See: https://urllib3.readthedocs.io/en/1.26.x/advanced-usage.html#ssl-warnings\n",
      "  warnings.warn(\n"
     ]
    },
    {
     "name": "stdout",
     "output_type": "stream",
     "text": [
      "downloading from https://gateway.ipfs.io/ipfs/QmZr1cyBD2jJoJQog8FNx88hAeSuNM64DQ49F8r5w3qLrc\n"
     ]
    },
    {
     "name": "stderr",
     "output_type": "stream",
     "text": [
      "/Users/huohongyi/opt/anaconda3/lib/python3.9/site-packages/urllib3/connectionpool.py:1043: InsecureRequestWarning: Unverified HTTPS request is being made to host 'gateway.ipfs.io'. Adding certificate verification is strongly advised. See: https://urllib3.readthedocs.io/en/1.26.x/advanced-usage.html#ssl-warnings\n",
      "  warnings.warn(\n"
     ]
    },
    {
     "name": "stdout",
     "output_type": "stream",
     "text": [
      "downloading from https://gateway.ipfs.io/ipfs/QmcLxRWSyNbm3ChAukRExCABKAY15FEQXoLiQuguKKSsf2\n"
     ]
    },
    {
     "name": "stderr",
     "output_type": "stream",
     "text": [
      "/Users/huohongyi/opt/anaconda3/lib/python3.9/site-packages/urllib3/connectionpool.py:1043: InsecureRequestWarning: Unverified HTTPS request is being made to host 'gateway.ipfs.io'. Adding certificate verification is strongly advised. See: https://urllib3.readthedocs.io/en/1.26.x/advanced-usage.html#ssl-warnings\n",
      "  warnings.warn(\n"
     ]
    },
    {
     "name": "stdout",
     "output_type": "stream",
     "text": [
      "downloading from https://gateway.ipfs.io/ipfs/QmTU6sKNqboUf61V3HAM7wy5DKRcY3LQbqoSQnegbdCvq9\n",
      "downloading from https://gateway.ipfs.io/ipfs/QmSs17tFCA9hLv8nCyzHKUaPx8U75B8uJsKfw56GUJQPTa\n"
     ]
    },
    {
     "name": "stderr",
     "output_type": "stream",
     "text": [
      "/Users/huohongyi/opt/anaconda3/lib/python3.9/site-packages/urllib3/connectionpool.py:1043: InsecureRequestWarning: Unverified HTTPS request is being made to host 'gateway.ipfs.io'. Adding certificate verification is strongly advised. See: https://urllib3.readthedocs.io/en/1.26.x/advanced-usage.html#ssl-warnings\n",
      "  warnings.warn(\n",
      "/Users/huohongyi/opt/anaconda3/lib/python3.9/site-packages/urllib3/connectionpool.py:1043: InsecureRequestWarning: Unverified HTTPS request is being made to host 'gateway.ipfs.io'. Adding certificate verification is strongly advised. See: https://urllib3.readthedocs.io/en/1.26.x/advanced-usage.html#ssl-warnings\n",
      "  warnings.warn(\n",
      "/Users/huohongyi/opt/anaconda3/lib/python3.9/site-packages/urllib3/connectionpool.py:1043: InsecureRequestWarning: Unverified HTTPS request is being made to host 'gateway.ipfs.io'. Adding certificate verification is strongly advised. See: https://urllib3.readthedocs.io/en/1.26.x/advanced-usage.html#ssl-warnings\n",
      "  warnings.warn(\n"
     ]
    },
    {
     "name": "stdout",
     "output_type": "stream",
     "text": [
      "downloading from https://gateway.ipfs.io/ipfs/QmR87JSxPxyUi5sFCedLTHFizZRKwikT5cNvepgez1kNVg\n",
      "downloading from https://gateway.ipfs.io/ipfs/QmbCdrpzrHmBUDE4PM2HeshJAM7usr27EFBCG1qkpCV9sE\n"
     ]
    },
    {
     "name": "stderr",
     "output_type": "stream",
     "text": [
      "/Users/huohongyi/opt/anaconda3/lib/python3.9/site-packages/urllib3/connectionpool.py:1043: InsecureRequestWarning: Unverified HTTPS request is being made to host 'gateway.ipfs.io'. Adding certificate verification is strongly advised. See: https://urllib3.readthedocs.io/en/1.26.x/advanced-usage.html#ssl-warnings\n",
      "  warnings.warn(\n",
      "/Users/huohongyi/opt/anaconda3/lib/python3.9/site-packages/urllib3/connectionpool.py:1043: InsecureRequestWarning: Unverified HTTPS request is being made to host 'gateway.ipfs.io'. Adding certificate verification is strongly advised. See: https://urllib3.readthedocs.io/en/1.26.x/advanced-usage.html#ssl-warnings\n",
      "  warnings.warn(\n"
     ]
    },
    {
     "name": "stdout",
     "output_type": "stream",
     "text": [
      "downloading from https://gateway.ipfs.io/ipfs/QmSAWdgP4XyPXudUCiav4zYrYy6XuWFELP3Bs8LY8Jn2e8\n",
      "downloading from https://gateway.ipfs.io/ipfs/QmeLdr3L2ob6pLh7WUeUhi5ZTDHfL9J1Woxz8GKP1GKZ6R\n"
     ]
    },
    {
     "name": "stderr",
     "output_type": "stream",
     "text": [
      "/Users/huohongyi/opt/anaconda3/lib/python3.9/site-packages/urllib3/connectionpool.py:1043: InsecureRequestWarning: Unverified HTTPS request is being made to host 'gateway.ipfs.io'. Adding certificate verification is strongly advised. See: https://urllib3.readthedocs.io/en/1.26.x/advanced-usage.html#ssl-warnings\n",
      "  warnings.warn(\n"
     ]
    },
    {
     "name": "stdout",
     "output_type": "stream",
     "text": [
      "downloading from https://gateway.ipfs.io/ipfs/QmXpm7P4yNwzT7B1qGiRJxaVUxDwNSp2XYQcD8xmmeFDiJ\n"
     ]
    },
    {
     "name": "stderr",
     "output_type": "stream",
     "text": [
      "/Users/huohongyi/opt/anaconda3/lib/python3.9/site-packages/urllib3/connectionpool.py:1043: InsecureRequestWarning: Unverified HTTPS request is being made to host 'gateway.ipfs.io'. Adding certificate verification is strongly advised. See: https://urllib3.readthedocs.io/en/1.26.x/advanced-usage.html#ssl-warnings\n",
      "  warnings.warn(\n",
      "/Users/huohongyi/opt/anaconda3/lib/python3.9/site-packages/urllib3/connectionpool.py:1043: InsecureRequestWarning: Unverified HTTPS request is being made to host 'gateway.ipfs.io'. Adding certificate verification is strongly advised. See: https://urllib3.readthedocs.io/en/1.26.x/advanced-usage.html#ssl-warnings\n",
      "  warnings.warn(\n"
     ]
    },
    {
     "name": "stdout",
     "output_type": "stream",
     "text": [
      "downloading from https://gateway.ipfs.io/ipfs/QmQDwxptQh6mBH72BWeLVpTMnTRV17PpbCMaQ1yvxZSTP8\n",
      "downloading from https://gateway.ipfs.io/ipfs/QmVFBfzFFFrt2gHq6uJFfZvw4Qn7ppsMUrnPS2MJWpNnBT\n"
     ]
    },
    {
     "name": "stderr",
     "output_type": "stream",
     "text": [
      "/Users/huohongyi/opt/anaconda3/lib/python3.9/site-packages/urllib3/connectionpool.py:1043: InsecureRequestWarning: Unverified HTTPS request is being made to host 'gateway.ipfs.io'. Adding certificate verification is strongly advised. See: https://urllib3.readthedocs.io/en/1.26.x/advanced-usage.html#ssl-warnings\n",
      "  warnings.warn(\n"
     ]
    },
    {
     "name": "stdout",
     "output_type": "stream",
     "text": [
      "downloading from https://gateway.ipfs.io/ipfs/QmZtj9iuFvyEKkxq5ygoXyMsZctT5mC8rbYeAbmiZvkLaU\n"
     ]
    },
    {
     "name": "stderr",
     "output_type": "stream",
     "text": [
      "/Users/huohongyi/opt/anaconda3/lib/python3.9/site-packages/urllib3/connectionpool.py:1043: InsecureRequestWarning: Unverified HTTPS request is being made to host 'gateway.ipfs.io'. Adding certificate verification is strongly advised. See: https://urllib3.readthedocs.io/en/1.26.x/advanced-usage.html#ssl-warnings\n",
      "  warnings.warn(\n"
     ]
    },
    {
     "name": "stdout",
     "output_type": "stream",
     "text": [
      "downloading from https://gateway.ipfs.io/ipfs/QmdcWukFixu1EvJ17ELEY8xv6AYm9AUVC2BGkaUNVWRi9H\n"
     ]
    },
    {
     "name": "stderr",
     "output_type": "stream",
     "text": [
      "/Users/huohongyi/opt/anaconda3/lib/python3.9/site-packages/urllib3/connectionpool.py:1043: InsecureRequestWarning: Unverified HTTPS request is being made to host 'gateway.ipfs.io'. Adding certificate verification is strongly advised. See: https://urllib3.readthedocs.io/en/1.26.x/advanced-usage.html#ssl-warnings\n",
      "  warnings.warn(\n"
     ]
    },
    {
     "name": "stdout",
     "output_type": "stream",
     "text": [
      "downloading from https://gateway.ipfs.io/ipfs/QmcpiVLkSHSEQ79qdh12M2yJcXDyzkxUCr7BVBCtd7Hkac\n"
     ]
    },
    {
     "name": "stderr",
     "output_type": "stream",
     "text": [
      "/Users/huohongyi/opt/anaconda3/lib/python3.9/site-packages/urllib3/connectionpool.py:1043: InsecureRequestWarning: Unverified HTTPS request is being made to host 'gateway.ipfs.io'. Adding certificate verification is strongly advised. See: https://urllib3.readthedocs.io/en/1.26.x/advanced-usage.html#ssl-warnings\n",
      "  warnings.warn(\n"
     ]
    },
    {
     "name": "stdout",
     "output_type": "stream",
     "text": [
      "downloading from https://gateway.ipfs.io/ipfs/QmZuyvF7imCVQ32AqZUVvNHEfuwXEnoSYYQ1w134bqQ7m9\n",
      "downloading from https://gateway.ipfs.io/ipfs/Qmbp3hHCbCecdwYbG59M9dn2Ws71YksQ6E2j2ahZkDWiwh\n"
     ]
    },
    {
     "name": "stderr",
     "output_type": "stream",
     "text": [
      "/Users/huohongyi/opt/anaconda3/lib/python3.9/site-packages/urllib3/connectionpool.py:1043: InsecureRequestWarning: Unverified HTTPS request is being made to host 'gateway.ipfs.io'. Adding certificate verification is strongly advised. See: https://urllib3.readthedocs.io/en/1.26.x/advanced-usage.html#ssl-warnings\n",
      "  warnings.warn(\n",
      "/Users/huohongyi/opt/anaconda3/lib/python3.9/site-packages/urllib3/connectionpool.py:1043: InsecureRequestWarning: Unverified HTTPS request is being made to host 'gateway.ipfs.io'. Adding certificate verification is strongly advised. See: https://urllib3.readthedocs.io/en/1.26.x/advanced-usage.html#ssl-warnings\n",
      "  warnings.warn(\n",
      "/Users/huohongyi/opt/anaconda3/lib/python3.9/site-packages/urllib3/connectionpool.py:1043: InsecureRequestWarning: Unverified HTTPS request is being made to host 'gateway.ipfs.io'. Adding certificate verification is strongly advised. See: https://urllib3.readthedocs.io/en/1.26.x/advanced-usage.html#ssl-warnings\n",
      "  warnings.warn(\n"
     ]
    },
    {
     "name": "stdout",
     "output_type": "stream",
     "text": [
      "downloading from https://gateway.ipfs.io/ipfs/QmPyjKFobqzkrwRmN5JQprBGscfVjifkD2izBu1iUNpBsa\n",
      "downloading from https://gateway.ipfs.io/ipfs/QmT1HbQYRc4TbPxjGzeRexv8XUWgkNWvrEFYGdrHCG3SjM\n"
     ]
    },
    {
     "name": "stderr",
     "output_type": "stream",
     "text": [
      "/Users/huohongyi/opt/anaconda3/lib/python3.9/site-packages/urllib3/connectionpool.py:1043: InsecureRequestWarning: Unverified HTTPS request is being made to host 'gateway.ipfs.io'. Adding certificate verification is strongly advised. See: https://urllib3.readthedocs.io/en/1.26.x/advanced-usage.html#ssl-warnings\n",
      "  warnings.warn(\n",
      "/Users/huohongyi/opt/anaconda3/lib/python3.9/site-packages/urllib3/connectionpool.py:1043: InsecureRequestWarning: Unverified HTTPS request is being made to host 'gateway.ipfs.io'. Adding certificate verification is strongly advised. See: https://urllib3.readthedocs.io/en/1.26.x/advanced-usage.html#ssl-warnings\n",
      "  warnings.warn(\n"
     ]
    },
    {
     "name": "stdout",
     "output_type": "stream",
     "text": [
      "downloading from https://gateway.ipfs.io/ipfs/QmQtQz3fooTxi2sQCM8PzSGfHxC3ztpLQpPFAM8MLm7yzL\n",
      "downloading from https://gateway.ipfs.io/ipfs/QmSaM9CWYdVZTLuqgBktM4uMDgdjxRYCGhTrMcSjPe5jg2\n"
     ]
    },
    {
     "name": "stderr",
     "output_type": "stream",
     "text": [
      "/Users/huohongyi/opt/anaconda3/lib/python3.9/site-packages/urllib3/connectionpool.py:1043: InsecureRequestWarning: Unverified HTTPS request is being made to host 'gateway.ipfs.io'. Adding certificate verification is strongly advised. See: https://urllib3.readthedocs.io/en/1.26.x/advanced-usage.html#ssl-warnings\n",
      "  warnings.warn(\n",
      "/Users/huohongyi/opt/anaconda3/lib/python3.9/site-packages/urllib3/connectionpool.py:1043: InsecureRequestWarning: Unverified HTTPS request is being made to host 'gateway.ipfs.io'. Adding certificate verification is strongly advised. See: https://urllib3.readthedocs.io/en/1.26.x/advanced-usage.html#ssl-warnings\n",
      "  warnings.warn(\n"
     ]
    },
    {
     "name": "stdout",
     "output_type": "stream",
     "text": [
      "downloading from https://gateway.ipfs.io/ipfs/QmYNEEXi5UptMqWdm7Ps33w1VjgARK3BJsEa1boLGBbEek\n",
      "downloading from https://gateway.ipfs.io/ipfs/QmV3ekhkP9VtZnR7Gn28WeR4nokzvV4uxwgkuWoYk6zCs6\n"
     ]
    },
    {
     "name": "stderr",
     "output_type": "stream",
     "text": [
      "/Users/huohongyi/opt/anaconda3/lib/python3.9/site-packages/urllib3/connectionpool.py:1043: InsecureRequestWarning: Unverified HTTPS request is being made to host 'gateway.ipfs.io'. Adding certificate verification is strongly advised. See: https://urllib3.readthedocs.io/en/1.26.x/advanced-usage.html#ssl-warnings\n",
      "  warnings.warn(\n"
     ]
    },
    {
     "name": "stdout",
     "output_type": "stream",
     "text": [
      "downloading from https://gateway.ipfs.io/ipfs/QmaEAXJLtgcGSPKAdtr3dw6ktqCp6xdHCat27htgfCM9o8\n",
      "downloading from https://gateway.ipfs.io/ipfs/QmVa7Di4kwNAnRFrLz5WBhvdtnCbM8Mjzr8EzSwH5C9m4o\n"
     ]
    },
    {
     "name": "stderr",
     "output_type": "stream",
     "text": [
      "/Users/huohongyi/opt/anaconda3/lib/python3.9/site-packages/urllib3/connectionpool.py:1043: InsecureRequestWarning: Unverified HTTPS request is being made to host 'gateway.ipfs.io'. Adding certificate verification is strongly advised. See: https://urllib3.readthedocs.io/en/1.26.x/advanced-usage.html#ssl-warnings\n",
      "  warnings.warn(\n",
      "/Users/huohongyi/opt/anaconda3/lib/python3.9/site-packages/urllib3/connectionpool.py:1043: InsecureRequestWarning: Unverified HTTPS request is being made to host 'gateway.ipfs.io'. Adding certificate verification is strongly advised. See: https://urllib3.readthedocs.io/en/1.26.x/advanced-usage.html#ssl-warnings\n",
      "  warnings.warn(\n"
     ]
    },
    {
     "name": "stdout",
     "output_type": "stream",
     "text": [
      "downloading from https://gateway.ipfs.io/ipfs/QmZ1NQTrriM9v2PZq9Q8cqZKKuVbuzhDk9qFdie4Giqstq\n",
      "downloading from https://gateway.ipfs.io/ipfs/QmRcLGzjbyTgSLRi4Tm7PHzsD9tuvchV5gsHyy14v9yT8W\n"
     ]
    },
    {
     "name": "stderr",
     "output_type": "stream",
     "text": [
      "/Users/huohongyi/opt/anaconda3/lib/python3.9/site-packages/urllib3/connectionpool.py:1043: InsecureRequestWarning: Unverified HTTPS request is being made to host 'gateway.ipfs.io'. Adding certificate verification is strongly advised. See: https://urllib3.readthedocs.io/en/1.26.x/advanced-usage.html#ssl-warnings\n",
      "  warnings.warn(\n",
      "/Users/huohongyi/opt/anaconda3/lib/python3.9/site-packages/urllib3/connectionpool.py:1043: InsecureRequestWarning: Unverified HTTPS request is being made to host 'gateway.ipfs.io'. Adding certificate verification is strongly advised. See: https://urllib3.readthedocs.io/en/1.26.x/advanced-usage.html#ssl-warnings\n",
      "  warnings.warn(\n"
     ]
    },
    {
     "name": "stdout",
     "output_type": "stream",
     "text": [
      "downloading from https://gateway.ipfs.io/ipfs/QmVcxdJgL9T5AAtApT2D8hw4bjQorCGybMPzyMitcsY5T3\n"
     ]
    },
    {
     "name": "stderr",
     "output_type": "stream",
     "text": [
      "/Users/huohongyi/opt/anaconda3/lib/python3.9/site-packages/urllib3/connectionpool.py:1043: InsecureRequestWarning: Unverified HTTPS request is being made to host 'gateway.ipfs.io'. Adding certificate verification is strongly advised. See: https://urllib3.readthedocs.io/en/1.26.x/advanced-usage.html#ssl-warnings\n",
      "  warnings.warn(\n"
     ]
    },
    {
     "name": "stdout",
     "output_type": "stream",
     "text": [
      "downloading from https://gateway.ipfs.io/ipfs/QmQQ1YmYgYfH8vTbGksvVyKi38k285rxJfuS9NFqRX3ioG\n"
     ]
    },
    {
     "name": "stderr",
     "output_type": "stream",
     "text": [
      "/Users/huohongyi/opt/anaconda3/lib/python3.9/site-packages/urllib3/connectionpool.py:1043: InsecureRequestWarning: Unverified HTTPS request is being made to host 'gateway.ipfs.io'. Adding certificate verification is strongly advised. See: https://urllib3.readthedocs.io/en/1.26.x/advanced-usage.html#ssl-warnings\n",
      "  warnings.warn(\n"
     ]
    },
    {
     "name": "stdout",
     "output_type": "stream",
     "text": [
      "downloading from https://gateway.ipfs.io/ipfs/QmSoiep6V6jkaLiiuBoNeCBYr78Sr4H2zdTzC2ZDKDMyeW\n",
      "downloading from https://gateway.ipfs.io/ipfs/QmYmEgiR7zHHS6bdejaZc4ALV2KnbQm9Fc3zjZZSLhBVBv\n"
     ]
    },
    {
     "name": "stderr",
     "output_type": "stream",
     "text": [
      "/Users/huohongyi/opt/anaconda3/lib/python3.9/site-packages/urllib3/connectionpool.py:1043: InsecureRequestWarning: Unverified HTTPS request is being made to host 'gateway.ipfs.io'. Adding certificate verification is strongly advised. See: https://urllib3.readthedocs.io/en/1.26.x/advanced-usage.html#ssl-warnings\n",
      "  warnings.warn(\n",
      "/Users/huohongyi/opt/anaconda3/lib/python3.9/site-packages/urllib3/connectionpool.py:1043: InsecureRequestWarning: Unverified HTTPS request is being made to host 'gateway.ipfs.io'. Adding certificate verification is strongly advised. See: https://urllib3.readthedocs.io/en/1.26.x/advanced-usage.html#ssl-warnings\n",
      "  warnings.warn(\n"
     ]
    },
    {
     "name": "stdout",
     "output_type": "stream",
     "text": [
      "downloading from https://gateway.ipfs.io/ipfs/QmRrwmcqUTphwhycFsZV2bZrkTtTQXWw2CJ4ypgH3yDh8W\n"
     ]
    },
    {
     "name": "stderr",
     "output_type": "stream",
     "text": [
      "/Users/huohongyi/opt/anaconda3/lib/python3.9/site-packages/urllib3/connectionpool.py:1043: InsecureRequestWarning: Unverified HTTPS request is being made to host 'gateway.ipfs.io'. Adding certificate verification is strongly advised. See: https://urllib3.readthedocs.io/en/1.26.x/advanced-usage.html#ssl-warnings\n",
      "  warnings.warn(\n",
      "/Users/huohongyi/opt/anaconda3/lib/python3.9/site-packages/urllib3/connectionpool.py:1043: InsecureRequestWarning: Unverified HTTPS request is being made to host 'gateway.ipfs.io'. Adding certificate verification is strongly advised. See: https://urllib3.readthedocs.io/en/1.26.x/advanced-usage.html#ssl-warnings\n",
      "  warnings.warn(\n"
     ]
    },
    {
     "name": "stdout",
     "output_type": "stream",
     "text": [
      "downloading from https://gateway.ipfs.io/ipfs/QmT9mzv5X642hc5BwmijoQjXP6Exgz9QinUxh9JCUBRdm1\n",
      "downloading from https://gateway.ipfs.io/ipfs/QmRQtcy321NBrEPayt6SQgAbRcqkgvTaFd21XdCWWCYsav\n"
     ]
    },
    {
     "name": "stderr",
     "output_type": "stream",
     "text": [
      "/Users/huohongyi/opt/anaconda3/lib/python3.9/site-packages/urllib3/connectionpool.py:1043: InsecureRequestWarning: Unverified HTTPS request is being made to host 'gateway.ipfs.io'. Adding certificate verification is strongly advised. See: https://urllib3.readthedocs.io/en/1.26.x/advanced-usage.html#ssl-warnings\n",
      "  warnings.warn(\n"
     ]
    },
    {
     "name": "stdout",
     "output_type": "stream",
     "text": [
      "downloading from https://gateway.ipfs.io/ipfs/QmQZwaAH4Yt3sjm7gSfEsir1AjgZe6rUZ3ciY1MnEkhqBv\n",
      "downloading from https://gateway.ipfs.io/ipfs/QmXycXHi5tHnF1qv9vo96Dv62NoXXFHNXMiZASrgRSf87C\n"
     ]
    },
    {
     "name": "stderr",
     "output_type": "stream",
     "text": [
      "/Users/huohongyi/opt/anaconda3/lib/python3.9/site-packages/urllib3/connectionpool.py:1043: InsecureRequestWarning: Unverified HTTPS request is being made to host 'gateway.ipfs.io'. Adding certificate verification is strongly advised. See: https://urllib3.readthedocs.io/en/1.26.x/advanced-usage.html#ssl-warnings\n",
      "  warnings.warn(\n",
      "/Users/huohongyi/opt/anaconda3/lib/python3.9/site-packages/urllib3/connectionpool.py:1043: InsecureRequestWarning: Unverified HTTPS request is being made to host 'gateway.ipfs.io'. Adding certificate verification is strongly advised. See: https://urllib3.readthedocs.io/en/1.26.x/advanced-usage.html#ssl-warnings\n",
      "  warnings.warn(\n"
     ]
    },
    {
     "name": "stdout",
     "output_type": "stream",
     "text": [
      "downloading from https://gateway.ipfs.io/ipfs/QmNtqHTdTkeWABHFs1vX9jFuP8WDLc1vbKdVP4kQSNkPTy\n",
      "downloading from https://gateway.ipfs.io/ipfs/QmWXtNCz6ybA959cgRW3aNpPR8BBZomqHP1k3XMSNftPrr\n"
     ]
    },
    {
     "name": "stderr",
     "output_type": "stream",
     "text": [
      "/Users/huohongyi/opt/anaconda3/lib/python3.9/site-packages/urllib3/connectionpool.py:1043: InsecureRequestWarning: Unverified HTTPS request is being made to host 'gateway.ipfs.io'. Adding certificate verification is strongly advised. See: https://urllib3.readthedocs.io/en/1.26.x/advanced-usage.html#ssl-warnings\n",
      "  warnings.warn(\n",
      "/Users/huohongyi/opt/anaconda3/lib/python3.9/site-packages/urllib3/connectionpool.py:1043: InsecureRequestWarning: Unverified HTTPS request is being made to host 'gateway.ipfs.io'. Adding certificate verification is strongly advised. See: https://urllib3.readthedocs.io/en/1.26.x/advanced-usage.html#ssl-warnings\n",
      "  warnings.warn(\n"
     ]
    },
    {
     "name": "stdout",
     "output_type": "stream",
     "text": [
      "downloading from https://gateway.ipfs.io/ipfs/QmVKSmmBVw8XbmymEYiV6L3D7AwhXkXop1TfC3Nz3dQnFq\n",
      "downloading from https://gateway.ipfs.io/ipfs/QmPau7rsyeZRWFgxAxsx1hTSeLeGBmFyr87b9QSRQKMFWd\n"
     ]
    },
    {
     "name": "stderr",
     "output_type": "stream",
     "text": [
      "/Users/huohongyi/opt/anaconda3/lib/python3.9/site-packages/urllib3/connectionpool.py:1043: InsecureRequestWarning: Unverified HTTPS request is being made to host 'gateway.ipfs.io'. Adding certificate verification is strongly advised. See: https://urllib3.readthedocs.io/en/1.26.x/advanced-usage.html#ssl-warnings\n",
      "  warnings.warn(\n",
      "/Users/huohongyi/opt/anaconda3/lib/python3.9/site-packages/urllib3/connectionpool.py:1043: InsecureRequestWarning: Unverified HTTPS request is being made to host 'gateway.ipfs.io'. Adding certificate verification is strongly advised. See: https://urllib3.readthedocs.io/en/1.26.x/advanced-usage.html#ssl-warnings\n",
      "  warnings.warn(\n"
     ]
    },
    {
     "name": "stdout",
     "output_type": "stream",
     "text": [
      "downloading from https://gateway.ipfs.io/ipfs/Qmdn9W3gTxrBjk4mRNSqTrzQ3j97USUxRjQH16z8SpGTax\n"
     ]
    },
    {
     "name": "stderr",
     "output_type": "stream",
     "text": [
      "/Users/huohongyi/opt/anaconda3/lib/python3.9/site-packages/urllib3/connectionpool.py:1043: InsecureRequestWarning: Unverified HTTPS request is being made to host 'gateway.ipfs.io'. Adding certificate verification is strongly advised. See: https://urllib3.readthedocs.io/en/1.26.x/advanced-usage.html#ssl-warnings\n",
      "  warnings.warn(\n"
     ]
    },
    {
     "name": "stdout",
     "output_type": "stream",
     "text": [
      "downloading from https://gateway.ipfs.io/ipfs/QmUx7MU3XzPyy1ZKCQfSDL6ipejouNypDSgRGM8qi9mAXe\n"
     ]
    },
    {
     "name": "stderr",
     "output_type": "stream",
     "text": [
      "/Users/huohongyi/opt/anaconda3/lib/python3.9/site-packages/urllib3/connectionpool.py:1043: InsecureRequestWarning: Unverified HTTPS request is being made to host 'gateway.ipfs.io'. Adding certificate verification is strongly advised. See: https://urllib3.readthedocs.io/en/1.26.x/advanced-usage.html#ssl-warnings\n",
      "  warnings.warn(\n"
     ]
    },
    {
     "name": "stdout",
     "output_type": "stream",
     "text": [
      "downloading from https://gateway.ipfs.io/ipfs/QmXrh8heUsGfjVHjmidVdhc92R72tr7zq5B8UgfriQ9rzr\n"
     ]
    },
    {
     "name": "stderr",
     "output_type": "stream",
     "text": [
      "/Users/huohongyi/opt/anaconda3/lib/python3.9/site-packages/urllib3/connectionpool.py:1043: InsecureRequestWarning: Unverified HTTPS request is being made to host 'gateway.ipfs.io'. Adding certificate verification is strongly advised. See: https://urllib3.readthedocs.io/en/1.26.x/advanced-usage.html#ssl-warnings\n",
      "  warnings.warn(\n"
     ]
    },
    {
     "name": "stdout",
     "output_type": "stream",
     "text": [
      "downloading from https://gateway.ipfs.io/ipfs/QmY6pgLZ13MPBnZZhiofRwoNMuG9ygemZeY7xC31viHbPK\n"
     ]
    },
    {
     "name": "stderr",
     "output_type": "stream",
     "text": [
      "/Users/huohongyi/opt/anaconda3/lib/python3.9/site-packages/urllib3/connectionpool.py:1043: InsecureRequestWarning: Unverified HTTPS request is being made to host 'gateway.ipfs.io'. Adding certificate verification is strongly advised. See: https://urllib3.readthedocs.io/en/1.26.x/advanced-usage.html#ssl-warnings\n",
      "  warnings.warn(\n"
     ]
    },
    {
     "name": "stdout",
     "output_type": "stream",
     "text": [
      "downloading from https://gateway.ipfs.io/ipfs/QmaFWX4NdaSVnWuqvgfzodZimzpw26eLquXZ6mKeRXbBMr\n"
     ]
    },
    {
     "name": "stderr",
     "output_type": "stream",
     "text": [
      "/Users/huohongyi/opt/anaconda3/lib/python3.9/site-packages/urllib3/connectionpool.py:1043: InsecureRequestWarning: Unverified HTTPS request is being made to host 'gateway.ipfs.io'. Adding certificate verification is strongly advised. See: https://urllib3.readthedocs.io/en/1.26.x/advanced-usage.html#ssl-warnings\n",
      "  warnings.warn(\n"
     ]
    },
    {
     "name": "stdout",
     "output_type": "stream",
     "text": [
      "downloading from https://gateway.ipfs.io/ipfs/QmPwCo3CKzUjK1hE3gFjAvp9vRwKNXBxV1tJjdCceujWrA\n"
     ]
    },
    {
     "name": "stderr",
     "output_type": "stream",
     "text": [
      "/Users/huohongyi/opt/anaconda3/lib/python3.9/site-packages/urllib3/connectionpool.py:1043: InsecureRequestWarning: Unverified HTTPS request is being made to host 'gateway.ipfs.io'. Adding certificate verification is strongly advised. See: https://urllib3.readthedocs.io/en/1.26.x/advanced-usage.html#ssl-warnings\n",
      "  warnings.warn(\n"
     ]
    },
    {
     "name": "stdout",
     "output_type": "stream",
     "text": [
      "downloading from https://gateway.ipfs.io/ipfs/QmWqRUtGZYEL3eX9eYJ4HBHcUxH8riH2KpzJyApNf7rfcj\n",
      "downloading from https://gateway.ipfs.io/ipfs/QmNRmFpkNspATYurAVN6yxUWNAncF1nFdFp2c9uNRYdES3\n"
     ]
    },
    {
     "name": "stderr",
     "output_type": "stream",
     "text": [
      "/Users/huohongyi/opt/anaconda3/lib/python3.9/site-packages/urllib3/connectionpool.py:1043: InsecureRequestWarning: Unverified HTTPS request is being made to host 'gateway.ipfs.io'. Adding certificate verification is strongly advised. See: https://urllib3.readthedocs.io/en/1.26.x/advanced-usage.html#ssl-warnings\n",
      "  warnings.warn(\n",
      "/Users/huohongyi/opt/anaconda3/lib/python3.9/site-packages/urllib3/connectionpool.py:1043: InsecureRequestWarning: Unverified HTTPS request is being made to host 'gateway.ipfs.io'. Adding certificate verification is strongly advised. See: https://urllib3.readthedocs.io/en/1.26.x/advanced-usage.html#ssl-warnings\n",
      "  warnings.warn(\n"
     ]
    },
    {
     "name": "stdout",
     "output_type": "stream",
     "text": [
      "downloading from https://gateway.ipfs.io/ipfs/QmZbpU15vLSa3z1UCRMQ3JBqC635Ta6wnMfyW8oFKpa222\n"
     ]
    },
    {
     "name": "stderr",
     "output_type": "stream",
     "text": [
      "/Users/huohongyi/opt/anaconda3/lib/python3.9/site-packages/urllib3/connectionpool.py:1043: InsecureRequestWarning: Unverified HTTPS request is being made to host 'gateway.ipfs.io'. Adding certificate verification is strongly advised. See: https://urllib3.readthedocs.io/en/1.26.x/advanced-usage.html#ssl-warnings\n",
      "  warnings.warn(\n",
      "/Users/huohongyi/opt/anaconda3/lib/python3.9/site-packages/urllib3/connectionpool.py:1043: InsecureRequestWarning: Unverified HTTPS request is being made to host 'gateway.ipfs.io'. Adding certificate verification is strongly advised. See: https://urllib3.readthedocs.io/en/1.26.x/advanced-usage.html#ssl-warnings\n",
      "  warnings.warn(\n"
     ]
    },
    {
     "name": "stdout",
     "output_type": "stream",
     "text": [
      "downloading from https://gateway.ipfs.io/ipfs/QmQFiAKNDhzVR3PqoL1orRetNpYHEUpLFCpVMmspLec4P4\n",
      "downloading from https://gateway.ipfs.io/ipfs/QmTpD7aQEgrbgKUCv6xTk8P1a5sfcfAnfKKA7hz1QBKBPh\n"
     ]
    },
    {
     "name": "stderr",
     "output_type": "stream",
     "text": [
      "/Users/huohongyi/opt/anaconda3/lib/python3.9/site-packages/urllib3/connectionpool.py:1043: InsecureRequestWarning: Unverified HTTPS request is being made to host 'gateway.ipfs.io'. Adding certificate verification is strongly advised. See: https://urllib3.readthedocs.io/en/1.26.x/advanced-usage.html#ssl-warnings\n",
      "  warnings.warn(\n"
     ]
    },
    {
     "name": "stdout",
     "output_type": "stream",
     "text": [
      "downloading from https://gateway.ipfs.io/ipfs/QmToMU8NdUHHGtBSiJGynbotGF5DLxXQWnmLcrp7H2DJTk\n"
     ]
    },
    {
     "name": "stderr",
     "output_type": "stream",
     "text": [
      "/Users/huohongyi/opt/anaconda3/lib/python3.9/site-packages/urllib3/connectionpool.py:1043: InsecureRequestWarning: Unverified HTTPS request is being made to host 'gateway.ipfs.io'. Adding certificate verification is strongly advised. See: https://urllib3.readthedocs.io/en/1.26.x/advanced-usage.html#ssl-warnings\n",
      "  warnings.warn(\n"
     ]
    },
    {
     "name": "stdout",
     "output_type": "stream",
     "text": [
      "downloading from https://gateway.ipfs.io/ipfs/QmX6Ge4S4u5orsTxiHs39j2TVwsBwQs2FBrg6k2xgQ6uTw\n"
     ]
    },
    {
     "name": "stderr",
     "output_type": "stream",
     "text": [
      "/Users/huohongyi/opt/anaconda3/lib/python3.9/site-packages/urllib3/connectionpool.py:1043: InsecureRequestWarning: Unverified HTTPS request is being made to host 'gateway.ipfs.io'. Adding certificate verification is strongly advised. See: https://urllib3.readthedocs.io/en/1.26.x/advanced-usage.html#ssl-warnings\n",
      "  warnings.warn(\n"
     ]
    },
    {
     "name": "stdout",
     "output_type": "stream",
     "text": [
      "downloading from https://gateway.ipfs.io/ipfs/QmV2h6nGSrmVmqZ7cKs55SmDfyFZbFsMSh1YABWeYnoX3a\n"
     ]
    },
    {
     "name": "stderr",
     "output_type": "stream",
     "text": [
      "/Users/huohongyi/opt/anaconda3/lib/python3.9/site-packages/urllib3/connectionpool.py:1043: InsecureRequestWarning: Unverified HTTPS request is being made to host 'gateway.ipfs.io'. Adding certificate verification is strongly advised. See: https://urllib3.readthedocs.io/en/1.26.x/advanced-usage.html#ssl-warnings\n",
      "  warnings.warn(\n"
     ]
    },
    {
     "name": "stdout",
     "output_type": "stream",
     "text": [
      "downloading from https://gateway.ipfs.io/ipfs/QmXzXW4K5S6bS2VBWsVJS15LLYc4rUYW19shpELQxpG7Zs\n"
     ]
    },
    {
     "name": "stderr",
     "output_type": "stream",
     "text": [
      "/Users/huohongyi/opt/anaconda3/lib/python3.9/site-packages/urllib3/connectionpool.py:1043: InsecureRequestWarning: Unverified HTTPS request is being made to host 'gateway.ipfs.io'. Adding certificate verification is strongly advised. See: https://urllib3.readthedocs.io/en/1.26.x/advanced-usage.html#ssl-warnings\n",
      "  warnings.warn(\n"
     ]
    },
    {
     "name": "stdout",
     "output_type": "stream",
     "text": [
      "downloading from https://gateway.ipfs.io/ipfs/QmSorbC4UvLA6s92myE7CMog9htep9J5TXi4mUTFckc4mU\n",
      "downloading from https://gateway.ipfs.io/ipfs/QmRBMJnEwu51poxZyfFADiAPJEJFtddwvoQ6SYUKLu1hRo\n"
     ]
    },
    {
     "name": "stderr",
     "output_type": "stream",
     "text": [
      "/Users/huohongyi/opt/anaconda3/lib/python3.9/site-packages/urllib3/connectionpool.py:1043: InsecureRequestWarning: Unverified HTTPS request is being made to host 'gateway.ipfs.io'. Adding certificate verification is strongly advised. See: https://urllib3.readthedocs.io/en/1.26.x/advanced-usage.html#ssl-warnings\n",
      "  warnings.warn(\n",
      "/Users/huohongyi/opt/anaconda3/lib/python3.9/site-packages/urllib3/connectionpool.py:1043: InsecureRequestWarning: Unverified HTTPS request is being made to host 'gateway.ipfs.io'. Adding certificate verification is strongly advised. See: https://urllib3.readthedocs.io/en/1.26.x/advanced-usage.html#ssl-warnings\n",
      "  warnings.warn(\n"
     ]
    },
    {
     "name": "stdout",
     "output_type": "stream",
     "text": [
      "downloading from https://gateway.ipfs.io/ipfs/Qma9Lsa4xCdEE9nMQy3zVZdKjnPJHXHywLkCB4TUdsrSR8\n"
     ]
    },
    {
     "name": "stderr",
     "output_type": "stream",
     "text": [
      "/Users/huohongyi/opt/anaconda3/lib/python3.9/site-packages/urllib3/connectionpool.py:1043: InsecureRequestWarning: Unverified HTTPS request is being made to host 'gateway.ipfs.io'. Adding certificate verification is strongly advised. See: https://urllib3.readthedocs.io/en/1.26.x/advanced-usage.html#ssl-warnings\n",
      "  warnings.warn(\n"
     ]
    },
    {
     "name": "stdout",
     "output_type": "stream",
     "text": [
      "downloading from https://gateway.ipfs.io/ipfs/QmU5Pzz9KsKKWKMf8DfNjiFZVpd2EhPELnmvs5j4r9qMGR\n"
     ]
    },
    {
     "name": "stderr",
     "output_type": "stream",
     "text": [
      "/Users/huohongyi/opt/anaconda3/lib/python3.9/site-packages/urllib3/connectionpool.py:1043: InsecureRequestWarning: Unverified HTTPS request is being made to host 'gateway.ipfs.io'. Adding certificate verification is strongly advised. See: https://urllib3.readthedocs.io/en/1.26.x/advanced-usage.html#ssl-warnings\n",
      "  warnings.warn(\n"
     ]
    },
    {
     "name": "stdout",
     "output_type": "stream",
     "text": [
      "downloading from https://gateway.ipfs.io/ipfs/QmNQRnjPWcs8A6cAFZtuxHrBjpvQEHx71niSihpQ7B3Rfe\n"
     ]
    },
    {
     "name": "stderr",
     "output_type": "stream",
     "text": [
      "/Users/huohongyi/opt/anaconda3/lib/python3.9/site-packages/urllib3/connectionpool.py:1043: InsecureRequestWarning: Unverified HTTPS request is being made to host 'gateway.ipfs.io'. Adding certificate verification is strongly advised. See: https://urllib3.readthedocs.io/en/1.26.x/advanced-usage.html#ssl-warnings\n",
      "  warnings.warn(\n"
     ]
    },
    {
     "name": "stdout",
     "output_type": "stream",
     "text": [
      "downloading from https://gateway.ipfs.io/ipfs/QmYhFRQyZuRFRXt3fBiqaEZZA6LmyL3qK41tFhbh85diBT\n"
     ]
    },
    {
     "name": "stderr",
     "output_type": "stream",
     "text": [
      "/Users/huohongyi/opt/anaconda3/lib/python3.9/site-packages/urllib3/connectionpool.py:1043: InsecureRequestWarning: Unverified HTTPS request is being made to host 'gateway.ipfs.io'. Adding certificate verification is strongly advised. See: https://urllib3.readthedocs.io/en/1.26.x/advanced-usage.html#ssl-warnings\n",
      "  warnings.warn(\n"
     ]
    },
    {
     "name": "stdout",
     "output_type": "stream",
     "text": [
      "downloading from https://gateway.ipfs.io/ipfs/QmTVkrU5KzHt3B2uG9u1CsAwN2W6Vr8cJfUePrA3tqKNzC\n"
     ]
    },
    {
     "name": "stderr",
     "output_type": "stream",
     "text": [
      "/Users/huohongyi/opt/anaconda3/lib/python3.9/site-packages/urllib3/connectionpool.py:1043: InsecureRequestWarning: Unverified HTTPS request is being made to host 'gateway.ipfs.io'. Adding certificate verification is strongly advised. See: https://urllib3.readthedocs.io/en/1.26.x/advanced-usage.html#ssl-warnings\n",
      "  warnings.warn(\n"
     ]
    },
    {
     "name": "stdout",
     "output_type": "stream",
     "text": [
      "downloading from https://gateway.ipfs.io/ipfs/QmUrSjBEUEV3LKNzacvP1wZPKXBr8TtWuzeK9wS7UwD8HF\n",
      "downloading from https://gateway.ipfs.io/ipfs/QmUx9Y6pXY3GC7LZHBzQT2b1nyxcbbx3kD31DwURRj9svw\n"
     ]
    },
    {
     "name": "stderr",
     "output_type": "stream",
     "text": [
      "/Users/huohongyi/opt/anaconda3/lib/python3.9/site-packages/urllib3/connectionpool.py:1043: InsecureRequestWarning: Unverified HTTPS request is being made to host 'gateway.ipfs.io'. Adding certificate verification is strongly advised. See: https://urllib3.readthedocs.io/en/1.26.x/advanced-usage.html#ssl-warnings\n",
      "  warnings.warn(\n",
      "/Users/huohongyi/opt/anaconda3/lib/python3.9/site-packages/urllib3/connectionpool.py:1043: InsecureRequestWarning: Unverified HTTPS request is being made to host 'gateway.ipfs.io'. Adding certificate verification is strongly advised. See: https://urllib3.readthedocs.io/en/1.26.x/advanced-usage.html#ssl-warnings\n",
      "  warnings.warn(\n"
     ]
    },
    {
     "name": "stdout",
     "output_type": "stream",
     "text": [
      "downloading from https://gateway.ipfs.io/ipfs/QmbgoH9hv22FweD5nFgV4gFuu26qbbSFoP6pyQcmq53d3A\n"
     ]
    },
    {
     "name": "stderr",
     "output_type": "stream",
     "text": [
      "/Users/huohongyi/opt/anaconda3/lib/python3.9/site-packages/urllib3/connectionpool.py:1043: InsecureRequestWarning: Unverified HTTPS request is being made to host 'gateway.ipfs.io'. Adding certificate verification is strongly advised. See: https://urllib3.readthedocs.io/en/1.26.x/advanced-usage.html#ssl-warnings\n",
      "  warnings.warn(\n"
     ]
    },
    {
     "name": "stdout",
     "output_type": "stream",
     "text": [
      "downloading from https://gateway.ipfs.io/ipfs/QmVk9g4ZQF6xXbL7rEZKEbTv73dVgrUZb7ToSr3XTB69uN\n"
     ]
    },
    {
     "name": "stderr",
     "output_type": "stream",
     "text": [
      "/Users/huohongyi/opt/anaconda3/lib/python3.9/site-packages/urllib3/connectionpool.py:1043: InsecureRequestWarning: Unverified HTTPS request is being made to host 'gateway.ipfs.io'. Adding certificate verification is strongly advised. See: https://urllib3.readthedocs.io/en/1.26.x/advanced-usage.html#ssl-warnings\n",
      "  warnings.warn(\n"
     ]
    },
    {
     "name": "stdout",
     "output_type": "stream",
     "text": [
      "downloading from https://gateway.ipfs.io/ipfs/QmR8JMVYDWonM5EAAdPhBXwhfjB6EzNBpRqXGkV1rqV4yg\n"
     ]
    },
    {
     "name": "stderr",
     "output_type": "stream",
     "text": [
      "/Users/huohongyi/opt/anaconda3/lib/python3.9/site-packages/urllib3/connectionpool.py:1043: InsecureRequestWarning: Unverified HTTPS request is being made to host 'gateway.ipfs.io'. Adding certificate verification is strongly advised. See: https://urllib3.readthedocs.io/en/1.26.x/advanced-usage.html#ssl-warnings\n",
      "  warnings.warn(\n"
     ]
    },
    {
     "name": "stdout",
     "output_type": "stream",
     "text": [
      "downloading from https://gateway.ipfs.io/ipfs/QmU6zaSyzMUuysThgsFvrPvK4XSGPCXGhQraNmV5yipskx\n"
     ]
    },
    {
     "name": "stderr",
     "output_type": "stream",
     "text": [
      "/Users/huohongyi/opt/anaconda3/lib/python3.9/site-packages/urllib3/connectionpool.py:1043: InsecureRequestWarning: Unverified HTTPS request is being made to host 'gateway.ipfs.io'. Adding certificate verification is strongly advised. See: https://urllib3.readthedocs.io/en/1.26.x/advanced-usage.html#ssl-warnings\n",
      "  warnings.warn(\n"
     ]
    },
    {
     "name": "stdout",
     "output_type": "stream",
     "text": [
      "downloading from https://gateway.ipfs.io/ipfs/QmVhfkoGUkDLAVuqHJafH6xwjH46TUpwF7j2Qvw3XJi6fS\n"
     ]
    },
    {
     "name": "stderr",
     "output_type": "stream",
     "text": [
      "/Users/huohongyi/opt/anaconda3/lib/python3.9/site-packages/urllib3/connectionpool.py:1043: InsecureRequestWarning: Unverified HTTPS request is being made to host 'gateway.ipfs.io'. Adding certificate verification is strongly advised. See: https://urllib3.readthedocs.io/en/1.26.x/advanced-usage.html#ssl-warnings\n",
      "  warnings.warn(\n"
     ]
    },
    {
     "name": "stdout",
     "output_type": "stream",
     "text": [
      "downloading from https://gateway.ipfs.io/ipfs/QmWE1GpCchFkdqSKcgSWQ6wvVX9XM5A5sF2yyFAaxGpm67\n"
     ]
    },
    {
     "name": "stderr",
     "output_type": "stream",
     "text": [
      "/Users/huohongyi/opt/anaconda3/lib/python3.9/site-packages/urllib3/connectionpool.py:1043: InsecureRequestWarning: Unverified HTTPS request is being made to host 'gateway.ipfs.io'. Adding certificate verification is strongly advised. See: https://urllib3.readthedocs.io/en/1.26.x/advanced-usage.html#ssl-warnings\n",
      "  warnings.warn(\n"
     ]
    },
    {
     "name": "stdout",
     "output_type": "stream",
     "text": [
      "downloading from https://gateway.ipfs.io/ipfs/QmQb7S3v8fryaPecgHEmYiGUN7eRg4ufPD2e6pBwXxoUeS\n"
     ]
    },
    {
     "name": "stderr",
     "output_type": "stream",
     "text": [
      "/Users/huohongyi/opt/anaconda3/lib/python3.9/site-packages/urllib3/connectionpool.py:1043: InsecureRequestWarning: Unverified HTTPS request is being made to host 'gateway.ipfs.io'. Adding certificate verification is strongly advised. See: https://urllib3.readthedocs.io/en/1.26.x/advanced-usage.html#ssl-warnings\n",
      "  warnings.warn(\n"
     ]
    },
    {
     "name": "stdout",
     "output_type": "stream",
     "text": [
      "downloading from https://gateway.ipfs.io/ipfs/QmcjJJRdwz9ZXXx1fHRcESsbscWdWP5HShTBxS4EsdapVP\n"
     ]
    },
    {
     "name": "stderr",
     "output_type": "stream",
     "text": [
      "/Users/huohongyi/opt/anaconda3/lib/python3.9/site-packages/urllib3/connectionpool.py:1043: InsecureRequestWarning: Unverified HTTPS request is being made to host 'gateway.ipfs.io'. Adding certificate verification is strongly advised. See: https://urllib3.readthedocs.io/en/1.26.x/advanced-usage.html#ssl-warnings\n",
      "  warnings.warn(\n"
     ]
    },
    {
     "name": "stdout",
     "output_type": "stream",
     "text": [
      "downloading from https://gateway.ipfs.io/ipfs/QmZ6hoDixwKf5j8ctctxmmWphh7VH84TJuSNPZWzu75Tho\n"
     ]
    },
    {
     "name": "stderr",
     "output_type": "stream",
     "text": [
      "/Users/huohongyi/opt/anaconda3/lib/python3.9/site-packages/urllib3/connectionpool.py:1043: InsecureRequestWarning: Unverified HTTPS request is being made to host 'gateway.ipfs.io'. Adding certificate verification is strongly advised. See: https://urllib3.readthedocs.io/en/1.26.x/advanced-usage.html#ssl-warnings\n",
      "  warnings.warn(\n"
     ]
    },
    {
     "name": "stdout",
     "output_type": "stream",
     "text": [
      "downloading from https://gateway.ipfs.io/ipfs/QmQfDVRZKGsQTkniviCdh5xCxoAh1nUmp71Shfux3S1uga\n",
      "downloading from https://gateway.ipfs.io/ipfs/QmQQmr3ohKSpvafWgLyA2iyn2oTNi6iKCZTdx9JBiMdEoS\n"
     ]
    },
    {
     "name": "stderr",
     "output_type": "stream",
     "text": [
      "/Users/huohongyi/opt/anaconda3/lib/python3.9/site-packages/urllib3/connectionpool.py:1043: InsecureRequestWarning: Unverified HTTPS request is being made to host 'gateway.ipfs.io'. Adding certificate verification is strongly advised. See: https://urllib3.readthedocs.io/en/1.26.x/advanced-usage.html#ssl-warnings\n",
      "  warnings.warn(\n",
      "/Users/huohongyi/opt/anaconda3/lib/python3.9/site-packages/urllib3/connectionpool.py:1043: InsecureRequestWarning: Unverified HTTPS request is being made to host 'gateway.ipfs.io'. Adding certificate verification is strongly advised. See: https://urllib3.readthedocs.io/en/1.26.x/advanced-usage.html#ssl-warnings\n",
      "  warnings.warn(\n"
     ]
    },
    {
     "name": "stdout",
     "output_type": "stream",
     "text": [
      "downloading from https://gateway.ipfs.io/ipfs/QmT4FqZyop9MKbKRNjHgPScVUWofKEob4P2b3z8ASCncmt\n",
      "downloading from https://gateway.ipfs.io/ipfs/QmRgANtRLQqcnhMZQXotxPn48dFwzL7nYSX1jEmcjLpzqK\n"
     ]
    },
    {
     "name": "stderr",
     "output_type": "stream",
     "text": [
      "/Users/huohongyi/opt/anaconda3/lib/python3.9/site-packages/urllib3/connectionpool.py:1043: InsecureRequestWarning: Unverified HTTPS request is being made to host 'gateway.ipfs.io'. Adding certificate verification is strongly advised. See: https://urllib3.readthedocs.io/en/1.26.x/advanced-usage.html#ssl-warnings\n",
      "  warnings.warn(\n",
      "/Users/huohongyi/opt/anaconda3/lib/python3.9/site-packages/urllib3/connectionpool.py:1043: InsecureRequestWarning: Unverified HTTPS request is being made to host 'gateway.ipfs.io'. Adding certificate verification is strongly advised. See: https://urllib3.readthedocs.io/en/1.26.x/advanced-usage.html#ssl-warnings\n",
      "  warnings.warn(\n"
     ]
    },
    {
     "name": "stdout",
     "output_type": "stream",
     "text": [
      "downloading from https://gateway.ipfs.io/ipfs/QmUVigMXqqVVaPf2xayZauF2B78exa4NcAeK3XC9yKCX7g\n"
     ]
    },
    {
     "name": "stderr",
     "output_type": "stream",
     "text": [
      "/Users/huohongyi/opt/anaconda3/lib/python3.9/site-packages/urllib3/connectionpool.py:1043: InsecureRequestWarning: Unverified HTTPS request is being made to host 'gateway.ipfs.io'. Adding certificate verification is strongly advised. See: https://urllib3.readthedocs.io/en/1.26.x/advanced-usage.html#ssl-warnings\n",
      "  warnings.warn(\n"
     ]
    },
    {
     "name": "stdout",
     "output_type": "stream",
     "text": [
      "downloading from https://gateway.ipfs.io/ipfs/QmQe5xvwGJGNQHSyiWGeJC5tyiPzrQESuApVVCMmpvDPzQ\n"
     ]
    },
    {
     "name": "stderr",
     "output_type": "stream",
     "text": [
      "/Users/huohongyi/opt/anaconda3/lib/python3.9/site-packages/urllib3/connectionpool.py:1043: InsecureRequestWarning: Unverified HTTPS request is being made to host 'gateway.ipfs.io'. Adding certificate verification is strongly advised. See: https://urllib3.readthedocs.io/en/1.26.x/advanced-usage.html#ssl-warnings\n",
      "  warnings.warn(\n"
     ]
    },
    {
     "name": "stdout",
     "output_type": "stream",
     "text": [
      "downloading from https://gateway.ipfs.io/ipfs/QmbGgz9J7maD4oUmZkDCuAWNgZN2AfvogYnaZCcK8TtvYy\n",
      "downloading from https://gateway.ipfs.io/ipfs/QmQkpZ3vZJxuvMN5j9XebKZPK36g6KFxnQft4PunLitEvB\n"
     ]
    },
    {
     "name": "stderr",
     "output_type": "stream",
     "text": [
      "/Users/huohongyi/opt/anaconda3/lib/python3.9/site-packages/urllib3/connectionpool.py:1043: InsecureRequestWarning: Unverified HTTPS request is being made to host 'gateway.ipfs.io'. Adding certificate verification is strongly advised. See: https://urllib3.readthedocs.io/en/1.26.x/advanced-usage.html#ssl-warnings\n",
      "  warnings.warn(\n",
      "/Users/huohongyi/opt/anaconda3/lib/python3.9/site-packages/urllib3/connectionpool.py:1043: InsecureRequestWarning: Unverified HTTPS request is being made to host 'gateway.ipfs.io'. Adding certificate verification is strongly advised. See: https://urllib3.readthedocs.io/en/1.26.x/advanced-usage.html#ssl-warnings\n",
      "  warnings.warn(\n"
     ]
    },
    {
     "name": "stdout",
     "output_type": "stream",
     "text": [
      "downloading from https://gateway.ipfs.io/ipfs/QmQh5aqUEqcbbMp5Ba1FDxazzS5q8LnfhsXTEDuEpQhmFV\n"
     ]
    },
    {
     "name": "stderr",
     "output_type": "stream",
     "text": [
      "/Users/huohongyi/opt/anaconda3/lib/python3.9/site-packages/urllib3/connectionpool.py:1043: InsecureRequestWarning: Unverified HTTPS request is being made to host 'gateway.ipfs.io'. Adding certificate verification is strongly advised. See: https://urllib3.readthedocs.io/en/1.26.x/advanced-usage.html#ssl-warnings\n",
      "  warnings.warn(\n"
     ]
    },
    {
     "name": "stdout",
     "output_type": "stream",
     "text": [
      "downloading from https://gateway.ipfs.io/ipfs/QmfYevSknLLmLF2HCUEmkc6Py81sdC5T6AzFXcX6kpb6Ta\n"
     ]
    },
    {
     "name": "stderr",
     "output_type": "stream",
     "text": [
      "/Users/huohongyi/opt/anaconda3/lib/python3.9/site-packages/urllib3/connectionpool.py:1043: InsecureRequestWarning: Unverified HTTPS request is being made to host 'gateway.ipfs.io'. Adding certificate verification is strongly advised. See: https://urllib3.readthedocs.io/en/1.26.x/advanced-usage.html#ssl-warnings\n",
      "  warnings.warn(\n"
     ]
    },
    {
     "name": "stdout",
     "output_type": "stream",
     "text": [
      "downloading from https://gateway.ipfs.io/ipfs/QmWhYB4Dhz9gB2oVb37pJ5pw6db9ygtZrxHVcEnCrbZFYP\n"
     ]
    },
    {
     "name": "stderr",
     "output_type": "stream",
     "text": [
      "/Users/huohongyi/opt/anaconda3/lib/python3.9/site-packages/urllib3/connectionpool.py:1043: InsecureRequestWarning: Unverified HTTPS request is being made to host 'gateway.ipfs.io'. Adding certificate verification is strongly advised. See: https://urllib3.readthedocs.io/en/1.26.x/advanced-usage.html#ssl-warnings\n",
      "  warnings.warn(\n"
     ]
    },
    {
     "name": "stdout",
     "output_type": "stream",
     "text": [
      "downloading from https://gateway.ipfs.io/ipfs/QmSj4JvbcdYRDXeqdge5pHrTgk5ZSPfZtiKHB1GCK7oJRk\n"
     ]
    },
    {
     "name": "stderr",
     "output_type": "stream",
     "text": [
      "/Users/huohongyi/opt/anaconda3/lib/python3.9/site-packages/urllib3/connectionpool.py:1043: InsecureRequestWarning: Unverified HTTPS request is being made to host 'gateway.ipfs.io'. Adding certificate verification is strongly advised. See: https://urllib3.readthedocs.io/en/1.26.x/advanced-usage.html#ssl-warnings\n",
      "  warnings.warn(\n"
     ]
    },
    {
     "name": "stdout",
     "output_type": "stream",
     "text": [
      "downloading from https://gateway.ipfs.io/ipfs/QmchTETpBHAgRTN6KyymE4nXC4mKFCCgs4jCeYBLPjv6RE\n"
     ]
    },
    {
     "name": "stderr",
     "output_type": "stream",
     "text": [
      "/Users/huohongyi/opt/anaconda3/lib/python3.9/site-packages/urllib3/connectionpool.py:1043: InsecureRequestWarning: Unverified HTTPS request is being made to host 'gateway.ipfs.io'. Adding certificate verification is strongly advised. See: https://urllib3.readthedocs.io/en/1.26.x/advanced-usage.html#ssl-warnings\n",
      "  warnings.warn(\n"
     ]
    },
    {
     "name": "stdout",
     "output_type": "stream",
     "text": [
      "downloading from https://gateway.ipfs.io/ipfs/QmbcwjpLoCMbCzKjNiFCUVYjUZFncMJTaZXiyGAeW7TuSa\n"
     ]
    },
    {
     "name": "stderr",
     "output_type": "stream",
     "text": [
      "/Users/huohongyi/opt/anaconda3/lib/python3.9/site-packages/urllib3/connectionpool.py:1043: InsecureRequestWarning: Unverified HTTPS request is being made to host 'gateway.ipfs.io'. Adding certificate verification is strongly advised. See: https://urllib3.readthedocs.io/en/1.26.x/advanced-usage.html#ssl-warnings\n",
      "  warnings.warn(\n"
     ]
    },
    {
     "name": "stdout",
     "output_type": "stream",
     "text": [
      "downloading from https://gateway.ipfs.io/ipfs/QmcjkzfXokirWPpAzwtnSxHeTbWZ7Mk5EKiV18XhPZbTih\n"
     ]
    },
    {
     "name": "stderr",
     "output_type": "stream",
     "text": [
      "/Users/huohongyi/opt/anaconda3/lib/python3.9/site-packages/urllib3/connectionpool.py:1043: InsecureRequestWarning: Unverified HTTPS request is being made to host 'gateway.ipfs.io'. Adding certificate verification is strongly advised. See: https://urllib3.readthedocs.io/en/1.26.x/advanced-usage.html#ssl-warnings\n",
      "  warnings.warn(\n"
     ]
    },
    {
     "name": "stdout",
     "output_type": "stream",
     "text": [
      "downloading from https://gateway.ipfs.io/ipfs/QmWDo4apfEM3YM38mJzLyQanHTFhPxBfc1JDDGQNMc5YkC\n"
     ]
    },
    {
     "name": "stderr",
     "output_type": "stream",
     "text": [
      "/Users/huohongyi/opt/anaconda3/lib/python3.9/site-packages/urllib3/connectionpool.py:1043: InsecureRequestWarning: Unverified HTTPS request is being made to host 'gateway.ipfs.io'. Adding certificate verification is strongly advised. See: https://urllib3.readthedocs.io/en/1.26.x/advanced-usage.html#ssl-warnings\n",
      "  warnings.warn(\n"
     ]
    },
    {
     "name": "stdout",
     "output_type": "stream",
     "text": [
      "downloading from https://gateway.ipfs.io/ipfs/QmUGJ4aCopQpbRY5fjZyqGMay7K6oHKiMLRMkwqLgcu1PT\n"
     ]
    },
    {
     "name": "stderr",
     "output_type": "stream",
     "text": [
      "/Users/huohongyi/opt/anaconda3/lib/python3.9/site-packages/urllib3/connectionpool.py:1043: InsecureRequestWarning: Unverified HTTPS request is being made to host 'gateway.ipfs.io'. Adding certificate verification is strongly advised. See: https://urllib3.readthedocs.io/en/1.26.x/advanced-usage.html#ssl-warnings\n",
      "  warnings.warn(\n"
     ]
    },
    {
     "name": "stdout",
     "output_type": "stream",
     "text": [
      "downloading from https://gateway.ipfs.io/ipfs/QmUu534uZ7ZcGmuyvokjNcpdr1fwwuctssiVMbZgBWofLo\n"
     ]
    },
    {
     "name": "stderr",
     "output_type": "stream",
     "text": [
      "/Users/huohongyi/opt/anaconda3/lib/python3.9/site-packages/urllib3/connectionpool.py:1043: InsecureRequestWarning: Unverified HTTPS request is being made to host 'gateway.ipfs.io'. Adding certificate verification is strongly advised. See: https://urllib3.readthedocs.io/en/1.26.x/advanced-usage.html#ssl-warnings\n",
      "  warnings.warn(\n"
     ]
    },
    {
     "name": "stdout",
     "output_type": "stream",
     "text": [
      "downloading from https://gateway.ipfs.io/ipfs/QmPR71nHvCsmvtBkqWgzUipX6wtvziHvxXmqZ3Rf8WqzSt\n"
     ]
    },
    {
     "name": "stderr",
     "output_type": "stream",
     "text": [
      "/Users/huohongyi/opt/anaconda3/lib/python3.9/site-packages/urllib3/connectionpool.py:1043: InsecureRequestWarning: Unverified HTTPS request is being made to host 'gateway.ipfs.io'. Adding certificate verification is strongly advised. See: https://urllib3.readthedocs.io/en/1.26.x/advanced-usage.html#ssl-warnings\n",
      "  warnings.warn(\n"
     ]
    },
    {
     "name": "stdout",
     "output_type": "stream",
     "text": [
      "downloading from https://gateway.ipfs.io/ipfs/QmTfcxMwrkgx6Wrd17pQx81XNAcWHLFUxKHL9ZHD42v4Gy\n"
     ]
    },
    {
     "name": "stderr",
     "output_type": "stream",
     "text": [
      "/Users/huohongyi/opt/anaconda3/lib/python3.9/site-packages/urllib3/connectionpool.py:1043: InsecureRequestWarning: Unverified HTTPS request is being made to host 'gateway.ipfs.io'. Adding certificate verification is strongly advised. See: https://urllib3.readthedocs.io/en/1.26.x/advanced-usage.html#ssl-warnings\n",
      "  warnings.warn(\n",
      "/Users/huohongyi/opt/anaconda3/lib/python3.9/site-packages/urllib3/connectionpool.py:1043: InsecureRequestWarning: Unverified HTTPS request is being made to host 'gateway.ipfs.io'. Adding certificate verification is strongly advised. See: https://urllib3.readthedocs.io/en/1.26.x/advanced-usage.html#ssl-warnings\n",
      "  warnings.warn(\n"
     ]
    },
    {
     "name": "stdout",
     "output_type": "stream",
     "text": [
      "downloading from https://gateway.ipfs.io/ipfs/QmVuWSCCYAEKxNdgntun6DAdi3oQ77TkTABzdadKFGeQSn\n",
      "downloading from https://gateway.ipfs.io/ipfs/QmfTEpJzhmh8myHPqgPNXDUcjA2QAV9JjR5yQC6imxnd4e\n"
     ]
    },
    {
     "name": "stderr",
     "output_type": "stream",
     "text": [
      "/Users/huohongyi/opt/anaconda3/lib/python3.9/site-packages/urllib3/connectionpool.py:1043: InsecureRequestWarning: Unverified HTTPS request is being made to host 'gateway.ipfs.io'. Adding certificate verification is strongly advised. See: https://urllib3.readthedocs.io/en/1.26.x/advanced-usage.html#ssl-warnings\n",
      "  warnings.warn(\n",
      "/Users/huohongyi/opt/anaconda3/lib/python3.9/site-packages/urllib3/connectionpool.py:1043: InsecureRequestWarning: Unverified HTTPS request is being made to host 'gateway.ipfs.io'. Adding certificate verification is strongly advised. See: https://urllib3.readthedocs.io/en/1.26.x/advanced-usage.html#ssl-warnings\n",
      "  warnings.warn(\n"
     ]
    },
    {
     "name": "stdout",
     "output_type": "stream",
     "text": [
      "downloading from https://gateway.ipfs.io/ipfs/QmUaa15QnhZAZ4j7PSS3aNM21jmMzsr78UPtm67P77a827\n",
      "downloading from https://gateway.ipfs.io/ipfs/QmV5cLm6x8P2mMrEn5GJN2wVj7a65L5U4EEg4np7SX6yDv\n"
     ]
    },
    {
     "name": "stderr",
     "output_type": "stream",
     "text": [
      "/Users/huohongyi/opt/anaconda3/lib/python3.9/site-packages/urllib3/connectionpool.py:1043: InsecureRequestWarning: Unverified HTTPS request is being made to host 'gateway.ipfs.io'. Adding certificate verification is strongly advised. See: https://urllib3.readthedocs.io/en/1.26.x/advanced-usage.html#ssl-warnings\n",
      "  warnings.warn(\n"
     ]
    },
    {
     "name": "stdout",
     "output_type": "stream",
     "text": [
      "downloading from https://gateway.ipfs.io/ipfs/QmPWFDDA4ebMbgPBSxcF9wVmNSKivsa4TGsvtypbUhcRcu\n",
      "downloading from https://gateway.ipfs.io/ipfs/QmVD2HHDM7CtNb47tcqDyc7hwg93ej2WgLoeq1VvisCQ19\n"
     ]
    },
    {
     "name": "stderr",
     "output_type": "stream",
     "text": [
      "/Users/huohongyi/opt/anaconda3/lib/python3.9/site-packages/urllib3/connectionpool.py:1043: InsecureRequestWarning: Unverified HTTPS request is being made to host 'gateway.ipfs.io'. Adding certificate verification is strongly advised. See: https://urllib3.readthedocs.io/en/1.26.x/advanced-usage.html#ssl-warnings\n",
      "  warnings.warn(\n",
      "/Users/huohongyi/opt/anaconda3/lib/python3.9/site-packages/urllib3/connectionpool.py:1043: InsecureRequestWarning: Unverified HTTPS request is being made to host 'gateway.ipfs.io'. Adding certificate verification is strongly advised. See: https://urllib3.readthedocs.io/en/1.26.x/advanced-usage.html#ssl-warnings\n",
      "  warnings.warn(\n"
     ]
    },
    {
     "name": "stdout",
     "output_type": "stream",
     "text": [
      "downloading from https://gateway.ipfs.io/ipfs/QmZzBvdJ8psrcmXqTxNVZBQJG4hR4oYtfgigkVvCiSvuuQ\n"
     ]
    },
    {
     "name": "stderr",
     "output_type": "stream",
     "text": [
      "/Users/huohongyi/opt/anaconda3/lib/python3.9/site-packages/urllib3/connectionpool.py:1043: InsecureRequestWarning: Unverified HTTPS request is being made to host 'gateway.ipfs.io'. Adding certificate verification is strongly advised. See: https://urllib3.readthedocs.io/en/1.26.x/advanced-usage.html#ssl-warnings\n",
      "  warnings.warn(\n"
     ]
    },
    {
     "name": "stdout",
     "output_type": "stream",
     "text": [
      "downloading from https://gateway.ipfs.io/ipfs/QmXGLYUrUQGAMJk7fA5XHdPvE1Lzmiso7m5hs8WfaWfarK\n"
     ]
    },
    {
     "name": "stderr",
     "output_type": "stream",
     "text": [
      "/Users/huohongyi/opt/anaconda3/lib/python3.9/site-packages/urllib3/connectionpool.py:1043: InsecureRequestWarning: Unverified HTTPS request is being made to host 'gateway.ipfs.io'. Adding certificate verification is strongly advised. See: https://urllib3.readthedocs.io/en/1.26.x/advanced-usage.html#ssl-warnings\n",
      "  warnings.warn(\n"
     ]
    },
    {
     "name": "stdout",
     "output_type": "stream",
     "text": [
      "downloading from https://gateway.ipfs.io/ipfs/QmbQ2yiA5Fg5F9rPGb4dwn5d6kAnZJw4muofeBZJGvBJGp\n"
     ]
    },
    {
     "name": "stderr",
     "output_type": "stream",
     "text": [
      "/Users/huohongyi/opt/anaconda3/lib/python3.9/site-packages/urllib3/connectionpool.py:1043: InsecureRequestWarning: Unverified HTTPS request is being made to host 'gateway.ipfs.io'. Adding certificate verification is strongly advised. See: https://urllib3.readthedocs.io/en/1.26.x/advanced-usage.html#ssl-warnings\n",
      "  warnings.warn(\n"
     ]
    },
    {
     "name": "stdout",
     "output_type": "stream",
     "text": [
      "downloading from https://gateway.ipfs.io/ipfs/QmUETPmaMEPoaJrZbuLDqCuR9TTSDXD8CmzwX6cULS9DWn\n",
      "downloading from https://gateway.ipfs.io/ipfs/QmabXr6NNy7abXhGYyLBNFwAxDmipAzBKKFbxG9i9NdYFC\n"
     ]
    },
    {
     "name": "stderr",
     "output_type": "stream",
     "text": [
      "/Users/huohongyi/opt/anaconda3/lib/python3.9/site-packages/urllib3/connectionpool.py:1043: InsecureRequestWarning: Unverified HTTPS request is being made to host 'gateway.ipfs.io'. Adding certificate verification is strongly advised. See: https://urllib3.readthedocs.io/en/1.26.x/advanced-usage.html#ssl-warnings\n",
      "  warnings.warn(\n",
      "/Users/huohongyi/opt/anaconda3/lib/python3.9/site-packages/urllib3/connectionpool.py:1043: InsecureRequestWarning: Unverified HTTPS request is being made to host 'gateway.ipfs.io'. Adding certificate verification is strongly advised. See: https://urllib3.readthedocs.io/en/1.26.x/advanced-usage.html#ssl-warnings\n",
      "  warnings.warn(\n"
     ]
    },
    {
     "name": "stdout",
     "output_type": "stream",
     "text": [
      "downloading from https://gateway.ipfs.io/ipfs/Qmf6RuFJ9LTBYvzLXXZdLtY6qbuJSxRUzm8c9McpUeoawF\n",
      "downloading from https://gateway.ipfs.io/ipfs/QmYUSENpM4zMXa7KPuAAH2GKbUW25nRxSXFu7CkSMKDccF\n"
     ]
    },
    {
     "name": "stderr",
     "output_type": "stream",
     "text": [
      "/Users/huohongyi/opt/anaconda3/lib/python3.9/site-packages/urllib3/connectionpool.py:1043: InsecureRequestWarning: Unverified HTTPS request is being made to host 'gateway.ipfs.io'. Adding certificate verification is strongly advised. See: https://urllib3.readthedocs.io/en/1.26.x/advanced-usage.html#ssl-warnings\n",
      "  warnings.warn(\n",
      "/Users/huohongyi/opt/anaconda3/lib/python3.9/site-packages/urllib3/connectionpool.py:1043: InsecureRequestWarning: Unverified HTTPS request is being made to host 'gateway.ipfs.io'. Adding certificate verification is strongly advised. See: https://urllib3.readthedocs.io/en/1.26.x/advanced-usage.html#ssl-warnings\n",
      "  warnings.warn(\n"
     ]
    },
    {
     "name": "stdout",
     "output_type": "stream",
     "text": [
      "downloading from https://gateway.ipfs.io/ipfs/QmarUdRPtTxc6V9fCeZZLhh3gS8M1FC62yrW4RmmJDxbnf\n"
     ]
    },
    {
     "name": "stderr",
     "output_type": "stream",
     "text": [
      "/Users/huohongyi/opt/anaconda3/lib/python3.9/site-packages/urllib3/connectionpool.py:1043: InsecureRequestWarning: Unverified HTTPS request is being made to host 'gateway.ipfs.io'. Adding certificate verification is strongly advised. See: https://urllib3.readthedocs.io/en/1.26.x/advanced-usage.html#ssl-warnings\n",
      "  warnings.warn(\n"
     ]
    },
    {
     "name": "stdout",
     "output_type": "stream",
     "text": [
      "downloading from https://gateway.ipfs.io/ipfs/QmcUxgbTrdhv6E8ZPaTxhtE3t6PPsZXK8B2AzyZ7S5SjfE\n"
     ]
    },
    {
     "name": "stderr",
     "output_type": "stream",
     "text": [
      "/Users/huohongyi/opt/anaconda3/lib/python3.9/site-packages/urllib3/connectionpool.py:1043: InsecureRequestWarning: Unverified HTTPS request is being made to host 'gateway.ipfs.io'. Adding certificate verification is strongly advised. See: https://urllib3.readthedocs.io/en/1.26.x/advanced-usage.html#ssl-warnings\n",
      "  warnings.warn(\n"
     ]
    },
    {
     "name": "stdout",
     "output_type": "stream",
     "text": [
      "downloading from https://gateway.ipfs.io/ipfs/QmXhvH7bGfg7fEeGdo32yvhJfEAuyLjYF1ZZbd4eRsiFiA\n"
     ]
    },
    {
     "name": "stderr",
     "output_type": "stream",
     "text": [
      "/Users/huohongyi/opt/anaconda3/lib/python3.9/site-packages/urllib3/connectionpool.py:1043: InsecureRequestWarning: Unverified HTTPS request is being made to host 'gateway.ipfs.io'. Adding certificate verification is strongly advised. See: https://urllib3.readthedocs.io/en/1.26.x/advanced-usage.html#ssl-warnings\n",
      "  warnings.warn(\n"
     ]
    },
    {
     "name": "stdout",
     "output_type": "stream",
     "text": [
      "downloading from https://gateway.ipfs.io/ipfs/QmY5u9Ld7MJxmGb2hjQKPoHJdj6LsFV4du82QJGhBE7A5c\n"
     ]
    },
    {
     "name": "stderr",
     "output_type": "stream",
     "text": [
      "/Users/huohongyi/opt/anaconda3/lib/python3.9/site-packages/urllib3/connectionpool.py:1043: InsecureRequestWarning: Unverified HTTPS request is being made to host 'gateway.ipfs.io'. Adding certificate verification is strongly advised. See: https://urllib3.readthedocs.io/en/1.26.x/advanced-usage.html#ssl-warnings\n",
      "  warnings.warn(\n"
     ]
    },
    {
     "name": "stdout",
     "output_type": "stream",
     "text": [
      "downloading from https://gateway.ipfs.io/ipfs/QmeL8VJUZsX1FEVXBNu98QGBEFYRtKojbC71zb1PhQi92A\n"
     ]
    },
    {
     "name": "stderr",
     "output_type": "stream",
     "text": [
      "/Users/huohongyi/opt/anaconda3/lib/python3.9/site-packages/urllib3/connectionpool.py:1043: InsecureRequestWarning: Unverified HTTPS request is being made to host 'gateway.ipfs.io'. Adding certificate verification is strongly advised. See: https://urllib3.readthedocs.io/en/1.26.x/advanced-usage.html#ssl-warnings\n",
      "  warnings.warn(\n"
     ]
    },
    {
     "name": "stdout",
     "output_type": "stream",
     "text": [
      "downloading from https://gateway.ipfs.io/ipfs/QmfMgd5YKb7FiQDNvw5mcyEoLCrWni24yPtDL8FPHSDghK\n"
     ]
    },
    {
     "name": "stderr",
     "output_type": "stream",
     "text": [
      "/Users/huohongyi/opt/anaconda3/lib/python3.9/site-packages/urllib3/connectionpool.py:1043: InsecureRequestWarning: Unverified HTTPS request is being made to host 'gateway.ipfs.io'. Adding certificate verification is strongly advised. See: https://urllib3.readthedocs.io/en/1.26.x/advanced-usage.html#ssl-warnings\n",
      "  warnings.warn(\n"
     ]
    },
    {
     "name": "stdout",
     "output_type": "stream",
     "text": [
      "downloading from https://gateway.ipfs.io/ipfs/QmSELXCcpwnJyWRFvEmMFMq5Uakpr3smBePt6NHC2byeXV\n"
     ]
    },
    {
     "name": "stderr",
     "output_type": "stream",
     "text": [
      "/Users/huohongyi/opt/anaconda3/lib/python3.9/site-packages/urllib3/connectionpool.py:1043: InsecureRequestWarning: Unverified HTTPS request is being made to host 'gateway.ipfs.io'. Adding certificate verification is strongly advised. See: https://urllib3.readthedocs.io/en/1.26.x/advanced-usage.html#ssl-warnings\n",
      "  warnings.warn(\n"
     ]
    },
    {
     "name": "stdout",
     "output_type": "stream",
     "text": [
      "downloading from https://gateway.ipfs.io/ipfs/QmTs3FuFWv11QWuKPuFV7f2Fo5XFC7aaQv9Q1UzEQCVnwC\n",
      "downloading from https://gateway.ipfs.io/ipfs/QmeyL2kUREFogF6hvpp2xEyBxoJbSr75gQJvcQdvch8fYK\n"
     ]
    },
    {
     "name": "stderr",
     "output_type": "stream",
     "text": [
      "/Users/huohongyi/opt/anaconda3/lib/python3.9/site-packages/urllib3/connectionpool.py:1043: InsecureRequestWarning: Unverified HTTPS request is being made to host 'gateway.ipfs.io'. Adding certificate verification is strongly advised. See: https://urllib3.readthedocs.io/en/1.26.x/advanced-usage.html#ssl-warnings\n",
      "  warnings.warn(\n",
      "/Users/huohongyi/opt/anaconda3/lib/python3.9/site-packages/urllib3/connectionpool.py:1043: InsecureRequestWarning: Unverified HTTPS request is being made to host 'gateway.ipfs.io'. Adding certificate verification is strongly advised. See: https://urllib3.readthedocs.io/en/1.26.x/advanced-usage.html#ssl-warnings\n",
      "  warnings.warn(\n"
     ]
    },
    {
     "name": "stdout",
     "output_type": "stream",
     "text": [
      "downloading from https://gateway.ipfs.io/ipfs/QmcHfzHLG7ECv7a5qbhics2PFNt8qESvLyGdM3RfU32Bs8\n",
      "downloading from https://gateway.ipfs.io/ipfs/Qmf2ZCoB7McnkH1Khyv9u2FZLydSxbkhwLNArtggLU4Yxp\n"
     ]
    },
    {
     "name": "stderr",
     "output_type": "stream",
     "text": [
      "/Users/huohongyi/opt/anaconda3/lib/python3.9/site-packages/urllib3/connectionpool.py:1043: InsecureRequestWarning: Unverified HTTPS request is being made to host 'gateway.ipfs.io'. Adding certificate verification is strongly advised. See: https://urllib3.readthedocs.io/en/1.26.x/advanced-usage.html#ssl-warnings\n",
      "  warnings.warn(\n",
      "/Users/huohongyi/opt/anaconda3/lib/python3.9/site-packages/urllib3/connectionpool.py:1043: InsecureRequestWarning: Unverified HTTPS request is being made to host 'gateway.ipfs.io'. Adding certificate verification is strongly advised. See: https://urllib3.readthedocs.io/en/1.26.x/advanced-usage.html#ssl-warnings\n",
      "  warnings.warn(\n"
     ]
    },
    {
     "name": "stdout",
     "output_type": "stream",
     "text": [
      "downloading from https://gateway.ipfs.io/ipfs/QmT9MDxV7QSb31ieQfFcnDRZ9tPJ4zdM15EUjok42sAFsu\n",
      "downloading from https://gateway.ipfs.io/ipfs/QmVtxcmJqZNvE48a9nCs2PhCyULQ821rYQQJkJNheqKEQk\n"
     ]
    },
    {
     "name": "stderr",
     "output_type": "stream",
     "text": [
      "/Users/huohongyi/opt/anaconda3/lib/python3.9/site-packages/urllib3/connectionpool.py:1043: InsecureRequestWarning: Unverified HTTPS request is being made to host 'gateway.ipfs.io'. Adding certificate verification is strongly advised. See: https://urllib3.readthedocs.io/en/1.26.x/advanced-usage.html#ssl-warnings\n",
      "  warnings.warn(\n",
      "/Users/huohongyi/opt/anaconda3/lib/python3.9/site-packages/urllib3/connectionpool.py:1043: InsecureRequestWarning: Unverified HTTPS request is being made to host 'gateway.ipfs.io'. Adding certificate verification is strongly advised. See: https://urllib3.readthedocs.io/en/1.26.x/advanced-usage.html#ssl-warnings\n",
      "  warnings.warn(\n"
     ]
    },
    {
     "name": "stdout",
     "output_type": "stream",
     "text": [
      "downloading from https://gateway.ipfs.io/ipfs/QmNa6YxonMZfuPhywhtE6XaEmhrNTgevgz3K5u1bMmFAJZ\n"
     ]
    },
    {
     "name": "stderr",
     "output_type": "stream",
     "text": [
      "/Users/huohongyi/opt/anaconda3/lib/python3.9/site-packages/urllib3/connectionpool.py:1043: InsecureRequestWarning: Unverified HTTPS request is being made to host 'gateway.ipfs.io'. Adding certificate verification is strongly advised. See: https://urllib3.readthedocs.io/en/1.26.x/advanced-usage.html#ssl-warnings\n",
      "  warnings.warn(\n",
      "/Users/huohongyi/opt/anaconda3/lib/python3.9/site-packages/urllib3/connectionpool.py:1043: InsecureRequestWarning: Unverified HTTPS request is being made to host 'gateway.ipfs.io'. Adding certificate verification is strongly advised. See: https://urllib3.readthedocs.io/en/1.26.x/advanced-usage.html#ssl-warnings\n",
      "  warnings.warn(\n"
     ]
    },
    {
     "name": "stdout",
     "output_type": "stream",
     "text": [
      "downloading from https://gateway.ipfs.io/ipfs/QmapDbm5xt7oFi3bSBtUUYed1TwLbPiLQXtZ4jCA4Zfsmv\n",
      "downloading from https://gateway.ipfs.io/ipfs/QmbnMeMVWHjBNCUZhdZE9GJ1so3HYSuS1GdSxdn69v5Ug1\n"
     ]
    },
    {
     "name": "stderr",
     "output_type": "stream",
     "text": [
      "/Users/huohongyi/opt/anaconda3/lib/python3.9/site-packages/urllib3/connectionpool.py:1043: InsecureRequestWarning: Unverified HTTPS request is being made to host 'gateway.ipfs.io'. Adding certificate verification is strongly advised. See: https://urllib3.readthedocs.io/en/1.26.x/advanced-usage.html#ssl-warnings\n",
      "  warnings.warn(\n"
     ]
    },
    {
     "name": "stdout",
     "output_type": "stream",
     "text": [
      "downloading from https://gateway.ipfs.io/ipfs/QmWdWn95YkyWuD9aRQqwZ2VbLB8UxLuZ89tA87LdgWrBMg\n"
     ]
    },
    {
     "name": "stderr",
     "output_type": "stream",
     "text": [
      "/Users/huohongyi/opt/anaconda3/lib/python3.9/site-packages/urllib3/connectionpool.py:1043: InsecureRequestWarning: Unverified HTTPS request is being made to host 'gateway.ipfs.io'. Adding certificate verification is strongly advised. See: https://urllib3.readthedocs.io/en/1.26.x/advanced-usage.html#ssl-warnings\n",
      "  warnings.warn(\n"
     ]
    },
    {
     "name": "stdout",
     "output_type": "stream",
     "text": [
      "downloading from https://gateway.ipfs.io/ipfs/QmY7kRusZ7Sg6bnajjoC4CDCEMRP6mXfpLqn5CX8dKaFZ1\n"
     ]
    },
    {
     "name": "stderr",
     "output_type": "stream",
     "text": [
      "/Users/huohongyi/opt/anaconda3/lib/python3.9/site-packages/urllib3/connectionpool.py:1043: InsecureRequestWarning: Unverified HTTPS request is being made to host 'gateway.ipfs.io'. Adding certificate verification is strongly advised. See: https://urllib3.readthedocs.io/en/1.26.x/advanced-usage.html#ssl-warnings\n",
      "  warnings.warn(\n",
      "/Users/huohongyi/opt/anaconda3/lib/python3.9/site-packages/urllib3/connectionpool.py:1043: InsecureRequestWarning: Unverified HTTPS request is being made to host 'gateway.ipfs.io'. Adding certificate verification is strongly advised. See: https://urllib3.readthedocs.io/en/1.26.x/advanced-usage.html#ssl-warnings\n",
      "  warnings.warn(\n"
     ]
    },
    {
     "name": "stdout",
     "output_type": "stream",
     "text": [
      "downloading from https://gateway.ipfs.io/ipfs/QmbYDFgvUVkHLc82eEJQ3fESjDKZvg8CB54mBYFTuozVqH\n",
      "downloading from https://gateway.ipfs.io/ipfs/QmPmdTj7fDBngToQMH2BMcMW4niRMWsV6FWGqfqAQVmuQc\n",
      "downloading from https://gateway.ipfs.io/ipfs/Qmc2ncrFHVzDerYa2W5BCoHSqPmhYdzNypXsFSH7urzKtQ\n"
     ]
    },
    {
     "name": "stderr",
     "output_type": "stream",
     "text": [
      "/Users/huohongyi/opt/anaconda3/lib/python3.9/site-packages/urllib3/connectionpool.py:1043: InsecureRequestWarning: Unverified HTTPS request is being made to host 'gateway.ipfs.io'. Adding certificate verification is strongly advised. See: https://urllib3.readthedocs.io/en/1.26.x/advanced-usage.html#ssl-warnings\n",
      "  warnings.warn(\n",
      "/Users/huohongyi/opt/anaconda3/lib/python3.9/site-packages/urllib3/connectionpool.py:1043: InsecureRequestWarning: Unverified HTTPS request is being made to host 'gateway.ipfs.io'. Adding certificate verification is strongly advised. See: https://urllib3.readthedocs.io/en/1.26.x/advanced-usage.html#ssl-warnings\n",
      "  warnings.warn(\n"
     ]
    },
    {
     "name": "stdout",
     "output_type": "stream",
     "text": [
      "downloading from https://gateway.ipfs.io/ipfs/QmdnCRcdAK7hqEsV52vm412ZtmZnPBcXkFwZWacJny4R4T\n"
     ]
    },
    {
     "name": "stderr",
     "output_type": "stream",
     "text": [
      "/Users/huohongyi/opt/anaconda3/lib/python3.9/site-packages/urllib3/connectionpool.py:1043: InsecureRequestWarning: Unverified HTTPS request is being made to host 'gateway.ipfs.io'. Adding certificate verification is strongly advised. See: https://urllib3.readthedocs.io/en/1.26.x/advanced-usage.html#ssl-warnings\n",
      "  warnings.warn(\n"
     ]
    },
    {
     "name": "stdout",
     "output_type": "stream",
     "text": [
      "downloading from https://gateway.ipfs.io/ipfs/QmSz52GKRJZuYxpzHwoUVCwxdoxgpvn8h8fRpvYgdfRiYT\n",
      "downloading from https://gateway.ipfs.io/ipfs/QmQ185hsFhWcXrFABh3xaxNmKsSd5PCd8q8Ys6sjbq8T8e\n"
     ]
    },
    {
     "name": "stderr",
     "output_type": "stream",
     "text": [
      "/Users/huohongyi/opt/anaconda3/lib/python3.9/site-packages/urllib3/connectionpool.py:1043: InsecureRequestWarning: Unverified HTTPS request is being made to host 'gateway.ipfs.io'. Adding certificate verification is strongly advised. See: https://urllib3.readthedocs.io/en/1.26.x/advanced-usage.html#ssl-warnings\n",
      "  warnings.warn(\n",
      "/Users/huohongyi/opt/anaconda3/lib/python3.9/site-packages/urllib3/connectionpool.py:1043: InsecureRequestWarning: Unverified HTTPS request is being made to host 'gateway.ipfs.io'. Adding certificate verification is strongly advised. See: https://urllib3.readthedocs.io/en/1.26.x/advanced-usage.html#ssl-warnings\n",
      "  warnings.warn(\n"
     ]
    },
    {
     "name": "stdout",
     "output_type": "stream",
     "text": [
      "downloading from https://gateway.ipfs.io/ipfs/QmWeVnSePP6nEKi4GRhKsWfD19VSRMSxrYPSD3tXwZHL9P\n"
     ]
    },
    {
     "name": "stderr",
     "output_type": "stream",
     "text": [
      "/Users/huohongyi/opt/anaconda3/lib/python3.9/site-packages/urllib3/connectionpool.py:1043: InsecureRequestWarning: Unverified HTTPS request is being made to host 'gateway.ipfs.io'. Adding certificate verification is strongly advised. See: https://urllib3.readthedocs.io/en/1.26.x/advanced-usage.html#ssl-warnings\n",
      "  warnings.warn(\n",
      "/Users/huohongyi/opt/anaconda3/lib/python3.9/site-packages/urllib3/connectionpool.py:1043: InsecureRequestWarning: Unverified HTTPS request is being made to host 'gateway.ipfs.io'. Adding certificate verification is strongly advised. See: https://urllib3.readthedocs.io/en/1.26.x/advanced-usage.html#ssl-warnings\n",
      "  warnings.warn(\n"
     ]
    },
    {
     "name": "stdout",
     "output_type": "stream",
     "text": [
      "downloading from https://gateway.ipfs.io/ipfs/QmPKt4Tb71uR3fvpRDqQUN2DcdCmWqtVVHe8hfPWN3fj5x\n",
      "downloading from https://gateway.ipfs.io/ipfs/QmYwSX8rVc4U7Go451ryrVLayjL5Fdm2ixSAMaPQtAjpen\n"
     ]
    },
    {
     "name": "stderr",
     "output_type": "stream",
     "text": [
      "/Users/huohongyi/opt/anaconda3/lib/python3.9/site-packages/urllib3/connectionpool.py:1043: InsecureRequestWarning: Unverified HTTPS request is being made to host 'gateway.ipfs.io'. Adding certificate verification is strongly advised. See: https://urllib3.readthedocs.io/en/1.26.x/advanced-usage.html#ssl-warnings\n",
      "  warnings.warn(\n"
     ]
    },
    {
     "name": "stdout",
     "output_type": "stream",
     "text": [
      "downloading from https://gateway.ipfs.io/ipfs/QmWGqgpYTPTdznJtecM41XqVKSHCaWpw6PeyWnWcWV3PjD\n"
     ]
    },
    {
     "name": "stderr",
     "output_type": "stream",
     "text": [
      "/Users/huohongyi/opt/anaconda3/lib/python3.9/site-packages/urllib3/connectionpool.py:1043: InsecureRequestWarning: Unverified HTTPS request is being made to host 'gateway.ipfs.io'. Adding certificate verification is strongly advised. See: https://urllib3.readthedocs.io/en/1.26.x/advanced-usage.html#ssl-warnings\n",
      "  warnings.warn(\n"
     ]
    },
    {
     "name": "stdout",
     "output_type": "stream",
     "text": [
      "downloading from https://gateway.ipfs.io/ipfs/QmVH5WyFjSY3Auh7eZpTZ1zeEwsXuMexj9iEeEtymbH3yq\n"
     ]
    },
    {
     "name": "stderr",
     "output_type": "stream",
     "text": [
      "/Users/huohongyi/opt/anaconda3/lib/python3.9/site-packages/urllib3/connectionpool.py:1043: InsecureRequestWarning: Unverified HTTPS request is being made to host 'gateway.ipfs.io'. Adding certificate verification is strongly advised. See: https://urllib3.readthedocs.io/en/1.26.x/advanced-usage.html#ssl-warnings\n",
      "  warnings.warn(\n"
     ]
    },
    {
     "name": "stdout",
     "output_type": "stream",
     "text": [
      "downloading from https://gateway.ipfs.io/ipfs/QmYeJpoHapXuofAkfPLuxsFenaLvB5bYDi39P6WExxSzQN\n",
      "downloading from https://gateway.ipfs.io/ipfs/QmNWExBmSQ1Ui99WSz4f3Jj9p448Pbsdg7YRxPRDfJfkuD\n"
     ]
    },
    {
     "name": "stderr",
     "output_type": "stream",
     "text": [
      "/Users/huohongyi/opt/anaconda3/lib/python3.9/site-packages/urllib3/connectionpool.py:1043: InsecureRequestWarning: Unverified HTTPS request is being made to host 'gateway.ipfs.io'. Adding certificate verification is strongly advised. See: https://urllib3.readthedocs.io/en/1.26.x/advanced-usage.html#ssl-warnings\n",
      "  warnings.warn(\n",
      "/Users/huohongyi/opt/anaconda3/lib/python3.9/site-packages/urllib3/connectionpool.py:1043: InsecureRequestWarning: Unverified HTTPS request is being made to host 'gateway.ipfs.io'. Adding certificate verification is strongly advised. See: https://urllib3.readthedocs.io/en/1.26.x/advanced-usage.html#ssl-warnings\n",
      "  warnings.warn(\n"
     ]
    },
    {
     "name": "stdout",
     "output_type": "stream",
     "text": [
      "downloading from https://gateway.ipfs.io/ipfs/QmbKKJxmbzpWPc9MwRJ76waY1bbB8QnADAh3TjCaxwyZMa\n"
     ]
    },
    {
     "name": "stderr",
     "output_type": "stream",
     "text": [
      "/Users/huohongyi/opt/anaconda3/lib/python3.9/site-packages/urllib3/connectionpool.py:1043: InsecureRequestWarning: Unverified HTTPS request is being made to host 'gateway.ipfs.io'. Adding certificate verification is strongly advised. See: https://urllib3.readthedocs.io/en/1.26.x/advanced-usage.html#ssl-warnings\n",
      "  warnings.warn(\n"
     ]
    },
    {
     "name": "stdout",
     "output_type": "stream",
     "text": [
      "downloading from https://gateway.ipfs.io/ipfs/QmQeC1UYoNZXGUPRdXPMRvNYMJkpNf1TigSapGWrGziTrg\n",
      "downloading from https://gateway.ipfs.io/ipfs/QmVNzfHNqrgsuyEt6KaQRtXcukCvqsVxt4JWEKJJBwfAk3\n"
     ]
    },
    {
     "name": "stderr",
     "output_type": "stream",
     "text": [
      "/Users/huohongyi/opt/anaconda3/lib/python3.9/site-packages/urllib3/connectionpool.py:1043: InsecureRequestWarning: Unverified HTTPS request is being made to host 'gateway.ipfs.io'. Adding certificate verification is strongly advised. See: https://urllib3.readthedocs.io/en/1.26.x/advanced-usage.html#ssl-warnings\n",
      "  warnings.warn(\n",
      "/Users/huohongyi/opt/anaconda3/lib/python3.9/site-packages/urllib3/connectionpool.py:1043: InsecureRequestWarning: Unverified HTTPS request is being made to host 'gateway.ipfs.io'. Adding certificate verification is strongly advised. See: https://urllib3.readthedocs.io/en/1.26.x/advanced-usage.html#ssl-warnings\n",
      "  warnings.warn(\n"
     ]
    },
    {
     "name": "stdout",
     "output_type": "stream",
     "text": [
      "downloading from https://gateway.ipfs.io/ipfs/QmVi1MPnnRnHUnN38UCjpHVtV6NyWn7aAJprRVZbDp1m4K\n"
     ]
    },
    {
     "name": "stderr",
     "output_type": "stream",
     "text": [
      "/Users/huohongyi/opt/anaconda3/lib/python3.9/site-packages/urllib3/connectionpool.py:1043: InsecureRequestWarning: Unverified HTTPS request is being made to host 'gateway.ipfs.io'. Adding certificate verification is strongly advised. See: https://urllib3.readthedocs.io/en/1.26.x/advanced-usage.html#ssl-warnings\n",
      "  warnings.warn(\n"
     ]
    },
    {
     "name": "stdout",
     "output_type": "stream",
     "text": [
      "downloading from https://gateway.ipfs.io/ipfs/QmTPKc33UELsnXxVDo1SzNPMeSC67KySEhfNBuvRb9M7pS\n",
      "downloading from https://gateway.ipfs.io/ipfs/QmXuf31P6vYyrQz5saHxKrh7RWE4hpvqW39UZSqX1G38RM\n"
     ]
    },
    {
     "name": "stderr",
     "output_type": "stream",
     "text": [
      "/Users/huohongyi/opt/anaconda3/lib/python3.9/site-packages/urllib3/connectionpool.py:1043: InsecureRequestWarning: Unverified HTTPS request is being made to host 'gateway.ipfs.io'. Adding certificate verification is strongly advised. See: https://urllib3.readthedocs.io/en/1.26.x/advanced-usage.html#ssl-warnings\n",
      "  warnings.warn(\n",
      "/Users/huohongyi/opt/anaconda3/lib/python3.9/site-packages/urllib3/connectionpool.py:1043: InsecureRequestWarning: Unverified HTTPS request is being made to host 'gateway.ipfs.io'. Adding certificate verification is strongly advised. See: https://urllib3.readthedocs.io/en/1.26.x/advanced-usage.html#ssl-warnings\n",
      "  warnings.warn(\n"
     ]
    },
    {
     "name": "stdout",
     "output_type": "stream",
     "text": [
      "downloading from https://gateway.ipfs.io/ipfs/QmPYDJ1gBE3PzGxFthZrr2niXCujFCkfZyw3ou7wD6cuPN\n"
     ]
    },
    {
     "name": "stderr",
     "output_type": "stream",
     "text": [
      "/Users/huohongyi/opt/anaconda3/lib/python3.9/site-packages/urllib3/connectionpool.py:1043: InsecureRequestWarning: Unverified HTTPS request is being made to host 'gateway.ipfs.io'. Adding certificate verification is strongly advised. See: https://urllib3.readthedocs.io/en/1.26.x/advanced-usage.html#ssl-warnings\n",
      "  warnings.warn(\n"
     ]
    },
    {
     "name": "stdout",
     "output_type": "stream",
     "text": [
      "downloading from https://gateway.ipfs.io/ipfs/QmUo2L2kPMBrZweHFPJJDRZAv2UFCy7Do4Hzg6fxiXaL84\n"
     ]
    },
    {
     "name": "stderr",
     "output_type": "stream",
     "text": [
      "/Users/huohongyi/opt/anaconda3/lib/python3.9/site-packages/urllib3/connectionpool.py:1043: InsecureRequestWarning: Unverified HTTPS request is being made to host 'gateway.ipfs.io'. Adding certificate verification is strongly advised. See: https://urllib3.readthedocs.io/en/1.26.x/advanced-usage.html#ssl-warnings\n",
      "  warnings.warn(\n",
      "/Users/huohongyi/opt/anaconda3/lib/python3.9/site-packages/urllib3/connectionpool.py:1043: InsecureRequestWarning: Unverified HTTPS request is being made to host 'gateway.ipfs.io'. Adding certificate verification is strongly advised. See: https://urllib3.readthedocs.io/en/1.26.x/advanced-usage.html#ssl-warnings\n",
      "  warnings.warn(\n"
     ]
    },
    {
     "name": "stdout",
     "output_type": "stream",
     "text": [
      "downloading from https://gateway.ipfs.io/ipfs/QmbT4JaF8wE4v1kfGrnZS2MwEPJtNYxQGp3ZS7hJaG9ePN\n",
      "downloading from https://gateway.ipfs.io/ipfs/QmQAxGBAAGiW1Vtxc8i2t6EkZMxHdSVXThaFpthcJGd68p\n",
      "downloading from https://gateway.ipfs.io/ipfs/QmXAd8qLmkr6MJeMhJ22mwfh4oivW5uKiioZBdshj2hU2y\n"
     ]
    },
    {
     "name": "stderr",
     "output_type": "stream",
     "text": [
      "/Users/huohongyi/opt/anaconda3/lib/python3.9/site-packages/urllib3/connectionpool.py:1043: InsecureRequestWarning: Unverified HTTPS request is being made to host 'gateway.ipfs.io'. Adding certificate verification is strongly advised. See: https://urllib3.readthedocs.io/en/1.26.x/advanced-usage.html#ssl-warnings\n",
      "  warnings.warn(\n",
      "/Users/huohongyi/opt/anaconda3/lib/python3.9/site-packages/urllib3/connectionpool.py:1043: InsecureRequestWarning: Unverified HTTPS request is being made to host 'gateway.ipfs.io'. Adding certificate verification is strongly advised. See: https://urllib3.readthedocs.io/en/1.26.x/advanced-usage.html#ssl-warnings\n",
      "  warnings.warn(\n"
     ]
    },
    {
     "name": "stdout",
     "output_type": "stream",
     "text": [
      "downloading from https://gateway.ipfs.io/ipfs/QmdDGYwTJ5q3RK96rpwEUKXAE6woJQwcQYwh3vUiGPTUqp\n",
      "downloading from https://gateway.ipfs.io/ipfs/QmPpf4hsG822dTSmHJ7PB1dD42sMnGc7WfSDAA5NQ3XKdu\n"
     ]
    },
    {
     "name": "stderr",
     "output_type": "stream",
     "text": [
      "/Users/huohongyi/opt/anaconda3/lib/python3.9/site-packages/urllib3/connectionpool.py:1043: InsecureRequestWarning: Unverified HTTPS request is being made to host 'gateway.ipfs.io'. Adding certificate verification is strongly advised. See: https://urllib3.readthedocs.io/en/1.26.x/advanced-usage.html#ssl-warnings\n",
      "  warnings.warn(\n",
      "/Users/huohongyi/opt/anaconda3/lib/python3.9/site-packages/urllib3/connectionpool.py:1043: InsecureRequestWarning: Unverified HTTPS request is being made to host 'gateway.ipfs.io'. Adding certificate verification is strongly advised. See: https://urllib3.readthedocs.io/en/1.26.x/advanced-usage.html#ssl-warnings\n",
      "  warnings.warn(\n"
     ]
    },
    {
     "name": "stdout",
     "output_type": "stream",
     "text": [
      "downloading from https://gateway.ipfs.io/ipfs/QmXdZGDPFzEw98SXDL9N1YynbAneumZGbv3i5HuqW7Gzh1\n",
      "downloading from https://gateway.ipfs.io/ipfs/QmdCS1iM5Z9js6QRHTaXteVWfXNBeRDrvi4TECPBpRhnXg\n"
     ]
    },
    {
     "name": "stderr",
     "output_type": "stream",
     "text": [
      "/Users/huohongyi/opt/anaconda3/lib/python3.9/site-packages/urllib3/connectionpool.py:1043: InsecureRequestWarning: Unverified HTTPS request is being made to host 'gateway.ipfs.io'. Adding certificate verification is strongly advised. See: https://urllib3.readthedocs.io/en/1.26.x/advanced-usage.html#ssl-warnings\n",
      "  warnings.warn(\n",
      "/Users/huohongyi/opt/anaconda3/lib/python3.9/site-packages/urllib3/connectionpool.py:1043: InsecureRequestWarning: Unverified HTTPS request is being made to host 'gateway.ipfs.io'. Adding certificate verification is strongly advised. See: https://urllib3.readthedocs.io/en/1.26.x/advanced-usage.html#ssl-warnings\n",
      "  warnings.warn(\n"
     ]
    },
    {
     "name": "stdout",
     "output_type": "stream",
     "text": [
      "downloading from https://gateway.ipfs.io/ipfs/QmWAfRXN3nEDPsVHpJFBsbYZyRUoJMvTcsCAGRz1c7QCGs\n",
      "downloading from https://gateway.ipfs.io/ipfs/Qmcq4eyPH4SKBjy7dBak5KMxrxABXeKzDctahm2KJDscQY\n"
     ]
    },
    {
     "name": "stderr",
     "output_type": "stream",
     "text": [
      "/Users/huohongyi/opt/anaconda3/lib/python3.9/site-packages/urllib3/connectionpool.py:1043: InsecureRequestWarning: Unverified HTTPS request is being made to host 'gateway.ipfs.io'. Adding certificate verification is strongly advised. See: https://urllib3.readthedocs.io/en/1.26.x/advanced-usage.html#ssl-warnings\n",
      "  warnings.warn(\n",
      "/Users/huohongyi/opt/anaconda3/lib/python3.9/site-packages/urllib3/connectionpool.py:1043: InsecureRequestWarning: Unverified HTTPS request is being made to host 'gateway.ipfs.io'. Adding certificate verification is strongly advised. See: https://urllib3.readthedocs.io/en/1.26.x/advanced-usage.html#ssl-warnings\n",
      "  warnings.warn(\n"
     ]
    },
    {
     "name": "stdout",
     "output_type": "stream",
     "text": [
      "downloading from https://gateway.ipfs.io/ipfs/QmWLAkmwFTuN8mA4nTCbLzjpNUYoHC1GVL6QuTaKXtKujk\n"
     ]
    },
    {
     "name": "stderr",
     "output_type": "stream",
     "text": [
      "/Users/huohongyi/opt/anaconda3/lib/python3.9/site-packages/urllib3/connectionpool.py:1043: InsecureRequestWarning: Unverified HTTPS request is being made to host 'gateway.ipfs.io'. Adding certificate verification is strongly advised. See: https://urllib3.readthedocs.io/en/1.26.x/advanced-usage.html#ssl-warnings\n",
      "  warnings.warn(\n",
      "/Users/huohongyi/opt/anaconda3/lib/python3.9/site-packages/urllib3/connectionpool.py:1043: InsecureRequestWarning: Unverified HTTPS request is being made to host 'gateway.ipfs.io'. Adding certificate verification is strongly advised. See: https://urllib3.readthedocs.io/en/1.26.x/advanced-usage.html#ssl-warnings\n",
      "  warnings.warn(\n"
     ]
    },
    {
     "name": "stdout",
     "output_type": "stream",
     "text": [
      "downloading from https://gateway.ipfs.io/ipfs/QmYSwefbzHCQNAN37iDanASz5F9BZ4RhuFTA74Ud598tfL\n",
      "downloading from https://gateway.ipfs.io/ipfs/QmbZjorkBGbj2cNtjEwWw3bmCh3UMPdWocMSRHuHNkwbNh\n"
     ]
    },
    {
     "name": "stderr",
     "output_type": "stream",
     "text": [
      "/Users/huohongyi/opt/anaconda3/lib/python3.9/site-packages/urllib3/connectionpool.py:1043: InsecureRequestWarning: Unverified HTTPS request is being made to host 'gateway.ipfs.io'. Adding certificate verification is strongly advised. See: https://urllib3.readthedocs.io/en/1.26.x/advanced-usage.html#ssl-warnings\n",
      "  warnings.warn(\n",
      "/Users/huohongyi/opt/anaconda3/lib/python3.9/site-packages/urllib3/connectionpool.py:1043: InsecureRequestWarning: Unverified HTTPS request is being made to host 'gateway.ipfs.io'. Adding certificate verification is strongly advised. See: https://urllib3.readthedocs.io/en/1.26.x/advanced-usage.html#ssl-warnings\n",
      "  warnings.warn(\n"
     ]
    },
    {
     "name": "stdout",
     "output_type": "stream",
     "text": [
      "downloading from https://gateway.ipfs.io/ipfs/QmPphgveANNwEdTcR2zFxyRetAFET6tf4M2yRYyuK4KKwY\n",
      "downloading from https://gateway.ipfs.io/ipfs/QmVhCYeYxALspE9MzD6g81eBCsNQgtcakCnEyjNkHTNXTC\n"
     ]
    },
    {
     "name": "stderr",
     "output_type": "stream",
     "text": [
      "/Users/huohongyi/opt/anaconda3/lib/python3.9/site-packages/urllib3/connectionpool.py:1043: InsecureRequestWarning: Unverified HTTPS request is being made to host 'gateway.ipfs.io'. Adding certificate verification is strongly advised. See: https://urllib3.readthedocs.io/en/1.26.x/advanced-usage.html#ssl-warnings\n",
      "  warnings.warn(\n"
     ]
    },
    {
     "name": "stdout",
     "output_type": "stream",
     "text": [
      "downloading from https://gateway.ipfs.io/ipfs/QmUK4aoKgTipqvGU65RwiMqRp5nC8S4pMPQvi9FNN9Qpu4\n",
      "downloading from https://gateway.ipfs.io/ipfs/Qmd34aUPH53xuk9LxAqnnJsTFEoBbd4TouFx6TLxxk9HYR\n"
     ]
    },
    {
     "name": "stderr",
     "output_type": "stream",
     "text": [
      "/Users/huohongyi/opt/anaconda3/lib/python3.9/site-packages/urllib3/connectionpool.py:1043: InsecureRequestWarning: Unverified HTTPS request is being made to host 'gateway.ipfs.io'. Adding certificate verification is strongly advised. See: https://urllib3.readthedocs.io/en/1.26.x/advanced-usage.html#ssl-warnings\n",
      "  warnings.warn(\n",
      "/Users/huohongyi/opt/anaconda3/lib/python3.9/site-packages/urllib3/connectionpool.py:1043: InsecureRequestWarning: Unverified HTTPS request is being made to host 'gateway.ipfs.io'. Adding certificate verification is strongly advised. See: https://urllib3.readthedocs.io/en/1.26.x/advanced-usage.html#ssl-warnings\n",
      "  warnings.warn(\n",
      "/Users/huohongyi/opt/anaconda3/lib/python3.9/site-packages/urllib3/connectionpool.py:1043: InsecureRequestWarning: Unverified HTTPS request is being made to host 'gateway.ipfs.io'. Adding certificate verification is strongly advised. See: https://urllib3.readthedocs.io/en/1.26.x/advanced-usage.html#ssl-warnings\n",
      "  warnings.warn(\n"
     ]
    },
    {
     "name": "stdout",
     "output_type": "stream",
     "text": [
      "downloading from https://gateway.ipfs.io/ipfs/QmefZdvdz3zfqo83EM9F8yRmbXEjjeVaGUYrj2KxVkSQHW\n",
      "downloading from https://gateway.ipfs.io/ipfs/QmPoR8incUy9poW3A131GPNQjoL5RRv7uYEa1CPhVDVhRj\n",
      "downloading from https://gateway.ipfs.io/ipfs/QmTRhW4VmEedRNo7v88522oUtJsT59atjteZMX9rGDj1Y4\n"
     ]
    },
    {
     "name": "stderr",
     "output_type": "stream",
     "text": [
      "/Users/huohongyi/opt/anaconda3/lib/python3.9/site-packages/urllib3/connectionpool.py:1043: InsecureRequestWarning: Unverified HTTPS request is being made to host 'gateway.ipfs.io'. Adding certificate verification is strongly advised. See: https://urllib3.readthedocs.io/en/1.26.x/advanced-usage.html#ssl-warnings\n",
      "  warnings.warn(\n",
      "/Users/huohongyi/opt/anaconda3/lib/python3.9/site-packages/urllib3/connectionpool.py:1043: InsecureRequestWarning: Unverified HTTPS request is being made to host 'gateway.ipfs.io'. Adding certificate verification is strongly advised. See: https://urllib3.readthedocs.io/en/1.26.x/advanced-usage.html#ssl-warnings\n",
      "  warnings.warn(\n"
     ]
    },
    {
     "name": "stdout",
     "output_type": "stream",
     "text": [
      "downloading from https://gateway.ipfs.io/ipfs/Qmf6c4qyqAhDfvXMpcQPL4jU2Wd5cSYKotzdATxwrk7Xxd\n",
      "downloading from https://gateway.ipfs.io/ipfs/QmfTd6LHqN54akgCX7Zvt7NnFFWyyawT79KhXdUhYvZUVE\n"
     ]
    },
    {
     "name": "stderr",
     "output_type": "stream",
     "text": [
      "/Users/huohongyi/opt/anaconda3/lib/python3.9/site-packages/urllib3/connectionpool.py:1043: InsecureRequestWarning: Unverified HTTPS request is being made to host 'gateway.ipfs.io'. Adding certificate verification is strongly advised. See: https://urllib3.readthedocs.io/en/1.26.x/advanced-usage.html#ssl-warnings\n",
      "  warnings.warn(\n",
      "/Users/huohongyi/opt/anaconda3/lib/python3.9/site-packages/urllib3/connectionpool.py:1043: InsecureRequestWarning: Unverified HTTPS request is being made to host 'gateway.ipfs.io'. Adding certificate verification is strongly advised. See: https://urllib3.readthedocs.io/en/1.26.x/advanced-usage.html#ssl-warnings\n",
      "  warnings.warn(\n"
     ]
    },
    {
     "name": "stdout",
     "output_type": "stream",
     "text": [
      "downloading from https://gateway.ipfs.io/ipfs/Qmb3q9yGsHCyDFmBn4mKhcY2KV2JqRHTcfassvRC66rtLe\n"
     ]
    },
    {
     "name": "stderr",
     "output_type": "stream",
     "text": [
      "/Users/huohongyi/opt/anaconda3/lib/python3.9/site-packages/urllib3/connectionpool.py:1043: InsecureRequestWarning: Unverified HTTPS request is being made to host 'gateway.ipfs.io'. Adding certificate verification is strongly advised. See: https://urllib3.readthedocs.io/en/1.26.x/advanced-usage.html#ssl-warnings\n",
      "  warnings.warn(\n"
     ]
    },
    {
     "name": "stdout",
     "output_type": "stream",
     "text": [
      "downloading from https://gateway.ipfs.io/ipfs/QmcqyKmvneJf1bqmt8zBf8nq98TvbLwe1bdG7WPVbNe93M\n"
     ]
    },
    {
     "name": "stderr",
     "output_type": "stream",
     "text": [
      "/Users/huohongyi/opt/anaconda3/lib/python3.9/site-packages/urllib3/connectionpool.py:1043: InsecureRequestWarning: Unverified HTTPS request is being made to host 'gateway.ipfs.io'. Adding certificate verification is strongly advised. See: https://urllib3.readthedocs.io/en/1.26.x/advanced-usage.html#ssl-warnings\n",
      "  warnings.warn(\n",
      "/Users/huohongyi/opt/anaconda3/lib/python3.9/site-packages/urllib3/connectionpool.py:1043: InsecureRequestWarning: Unverified HTTPS request is being made to host 'gateway.ipfs.io'. Adding certificate verification is strongly advised. See: https://urllib3.readthedocs.io/en/1.26.x/advanced-usage.html#ssl-warnings\n",
      "  warnings.warn(\n"
     ]
    },
    {
     "name": "stdout",
     "output_type": "stream",
     "text": [
      "downloading from https://gateway.ipfs.io/ipfs/QmcdJF9LqauAbArgF6uChbCA29i127V7vwtRvFo1FaERfn\n",
      "downloading from https://gateway.ipfs.io/ipfs/QmaXdqfnQ19vo4rtyFdA9BnxczmhfoBD3XQmjyX61UqR3A\n"
     ]
    },
    {
     "name": "stderr",
     "output_type": "stream",
     "text": [
      "/Users/huohongyi/opt/anaconda3/lib/python3.9/site-packages/urllib3/connectionpool.py:1043: InsecureRequestWarning: Unverified HTTPS request is being made to host 'gateway.ipfs.io'. Adding certificate verification is strongly advised. See: https://urllib3.readthedocs.io/en/1.26.x/advanced-usage.html#ssl-warnings\n",
      "  warnings.warn(\n",
      "/Users/huohongyi/opt/anaconda3/lib/python3.9/site-packages/urllib3/connectionpool.py:1043: InsecureRequestWarning: Unverified HTTPS request is being made to host 'gateway.ipfs.io'. Adding certificate verification is strongly advised. See: https://urllib3.readthedocs.io/en/1.26.x/advanced-usage.html#ssl-warnings\n",
      "  warnings.warn(\n"
     ]
    },
    {
     "name": "stdout",
     "output_type": "stream",
     "text": [
      "downloading from https://gateway.ipfs.io/ipfs/QmNV1WtURnwrUR3pYHPLpmAuhRvXhAcKrw7g3hhGEx3o12\n",
      "downloading from https://gateway.ipfs.io/ipfs/QmQAVkPaGjkejZzUUUYNd2pdA39yiCxMbU1SgfX15LDjrH\n"
     ]
    },
    {
     "name": "stderr",
     "output_type": "stream",
     "text": [
      "/Users/huohongyi/opt/anaconda3/lib/python3.9/site-packages/urllib3/connectionpool.py:1043: InsecureRequestWarning: Unverified HTTPS request is being made to host 'gateway.ipfs.io'. Adding certificate verification is strongly advised. See: https://urllib3.readthedocs.io/en/1.26.x/advanced-usage.html#ssl-warnings\n",
      "  warnings.warn(\n"
     ]
    },
    {
     "name": "stdout",
     "output_type": "stream",
     "text": [
      "downloading from https://gateway.ipfs.io/ipfs/QmXXH34kumGDiVTtiPon2jc56xq9aNV7VopLwVk8GkPKQf\n",
      "downloading from https://gateway.ipfs.io/ipfs/QmXV1Pbyz7u6s5qUZ9P7Mi9LRcgSFpj2o9gendfGsxUz1h\n"
     ]
    },
    {
     "name": "stderr",
     "output_type": "stream",
     "text": [
      "/Users/huohongyi/opt/anaconda3/lib/python3.9/site-packages/urllib3/connectionpool.py:1043: InsecureRequestWarning: Unverified HTTPS request is being made to host 'gateway.ipfs.io'. Adding certificate verification is strongly advised. See: https://urllib3.readthedocs.io/en/1.26.x/advanced-usage.html#ssl-warnings\n",
      "  warnings.warn(\n",
      "/Users/huohongyi/opt/anaconda3/lib/python3.9/site-packages/urllib3/connectionpool.py:1043: InsecureRequestWarning: Unverified HTTPS request is being made to host 'gateway.ipfs.io'. Adding certificate verification is strongly advised. See: https://urllib3.readthedocs.io/en/1.26.x/advanced-usage.html#ssl-warnings\n",
      "  warnings.warn(\n"
     ]
    },
    {
     "name": "stdout",
     "output_type": "stream",
     "text": [
      "downloading from https://gateway.ipfs.io/ipfs/QmYporsnhSG9opkjc5PTepwoq5jH5yRytCqEnFgHfLoTLi\n",
      "downloading from https://gateway.ipfs.io/ipfs/QmX7jSfAMquygZSJk7F9hQQwrEGYMNcrmGokMGC3UeLfBa\n"
     ]
    },
    {
     "name": "stderr",
     "output_type": "stream",
     "text": [
      "/Users/huohongyi/opt/anaconda3/lib/python3.9/site-packages/urllib3/connectionpool.py:1043: InsecureRequestWarning: Unverified HTTPS request is being made to host 'gateway.ipfs.io'. Adding certificate verification is strongly advised. See: https://urllib3.readthedocs.io/en/1.26.x/advanced-usage.html#ssl-warnings\n",
      "  warnings.warn(\n",
      "/Users/huohongyi/opt/anaconda3/lib/python3.9/site-packages/urllib3/connectionpool.py:1043: InsecureRequestWarning: Unverified HTTPS request is being made to host 'gateway.ipfs.io'. Adding certificate verification is strongly advised. See: https://urllib3.readthedocs.io/en/1.26.x/advanced-usage.html#ssl-warnings\n",
      "  warnings.warn(\n"
     ]
    },
    {
     "name": "stdout",
     "output_type": "stream",
     "text": [
      "downloading from https://gateway.ipfs.io/ipfs/QmeQsBckmWweXZbkfmzyAcbpNMHDAdCPfgV7MfUCBCEkJu\n",
      "downloading from https://gateway.ipfs.io/ipfs/QmRRev5T6dKhqntBcUbUAVCLMyyTyRn55LL1W84WZjqN4t\n"
     ]
    },
    {
     "name": "stderr",
     "output_type": "stream",
     "text": [
      "/Users/huohongyi/opt/anaconda3/lib/python3.9/site-packages/urllib3/connectionpool.py:1043: InsecureRequestWarning: Unverified HTTPS request is being made to host 'gateway.ipfs.io'. Adding certificate verification is strongly advised. See: https://urllib3.readthedocs.io/en/1.26.x/advanced-usage.html#ssl-warnings\n",
      "  warnings.warn(\n",
      "/Users/huohongyi/opt/anaconda3/lib/python3.9/site-packages/urllib3/connectionpool.py:1043: InsecureRequestWarning: Unverified HTTPS request is being made to host 'gateway.ipfs.io'. Adding certificate verification is strongly advised. See: https://urllib3.readthedocs.io/en/1.26.x/advanced-usage.html#ssl-warnings\n",
      "  warnings.warn(\n"
     ]
    },
    {
     "name": "stdout",
     "output_type": "stream",
     "text": [
      "downloading from https://gateway.ipfs.io/ipfs/QmWUYn8w1tXKXWrx7KHEC5ofAtUkGyThVHBRSgy8R8bLad\n",
      "downloading from https://gateway.ipfs.io/ipfs/QmZchn1yZTZwe9HgNScG3zTaXWmJE2qV3PtqzNLfRBn7V1\n"
     ]
    },
    {
     "name": "stderr",
     "output_type": "stream",
     "text": [
      "/Users/huohongyi/opt/anaconda3/lib/python3.9/site-packages/urllib3/connectionpool.py:1043: InsecureRequestWarning: Unverified HTTPS request is being made to host 'gateway.ipfs.io'. Adding certificate verification is strongly advised. See: https://urllib3.readthedocs.io/en/1.26.x/advanced-usage.html#ssl-warnings\n",
      "  warnings.warn(\n",
      "/Users/huohongyi/opt/anaconda3/lib/python3.9/site-packages/urllib3/connectionpool.py:1043: InsecureRequestWarning: Unverified HTTPS request is being made to host 'gateway.ipfs.io'. Adding certificate verification is strongly advised. See: https://urllib3.readthedocs.io/en/1.26.x/advanced-usage.html#ssl-warnings\n",
      "  warnings.warn(\n"
     ]
    },
    {
     "name": "stdout",
     "output_type": "stream",
     "text": [
      "downloading from https://gateway.ipfs.io/ipfs/QmZauyzzh97uWd7WcuKwrLqDJaiCFq85Z43vozyU8rPG3t\n",
      "downloading from https://gateway.ipfs.io/ipfs/QmSeM4fcFhx4j9hb4S8QV4VzrthwwpNbC3e1KYMLMuRKks\n"
     ]
    },
    {
     "name": "stderr",
     "output_type": "stream",
     "text": [
      "/Users/huohongyi/opt/anaconda3/lib/python3.9/site-packages/urllib3/connectionpool.py:1043: InsecureRequestWarning: Unverified HTTPS request is being made to host 'gateway.ipfs.io'. Adding certificate verification is strongly advised. See: https://urllib3.readthedocs.io/en/1.26.x/advanced-usage.html#ssl-warnings\n",
      "  warnings.warn(\n",
      "/Users/huohongyi/opt/anaconda3/lib/python3.9/site-packages/urllib3/connectionpool.py:1043: InsecureRequestWarning: Unverified HTTPS request is being made to host 'gateway.ipfs.io'. Adding certificate verification is strongly advised. See: https://urllib3.readthedocs.io/en/1.26.x/advanced-usage.html#ssl-warnings\n",
      "  warnings.warn(\n"
     ]
    },
    {
     "name": "stdout",
     "output_type": "stream",
     "text": [
      "downloading from https://gateway.ipfs.io/ipfs/QmdocKWVY4WuX8GYud9rHJeE5GTGiKmHmiFgu7CC52P7br\n",
      "downloading from https://gateway.ipfs.io/ipfs/QmfDbjQ4CBc7fcQHExMTSx3E2ESHsjxH1jNLnAcjxofjed\n"
     ]
    },
    {
     "name": "stderr",
     "output_type": "stream",
     "text": [
      "/Users/huohongyi/opt/anaconda3/lib/python3.9/site-packages/urllib3/connectionpool.py:1043: InsecureRequestWarning: Unverified HTTPS request is being made to host 'gateway.ipfs.io'. Adding certificate verification is strongly advised. See: https://urllib3.readthedocs.io/en/1.26.x/advanced-usage.html#ssl-warnings\n",
      "  warnings.warn(\n",
      "/Users/huohongyi/opt/anaconda3/lib/python3.9/site-packages/urllib3/connectionpool.py:1043: InsecureRequestWarning: Unverified HTTPS request is being made to host 'gateway.ipfs.io'. Adding certificate verification is strongly advised. See: https://urllib3.readthedocs.io/en/1.26.x/advanced-usage.html#ssl-warnings\n",
      "  warnings.warn(\n"
     ]
    },
    {
     "name": "stdout",
     "output_type": "stream",
     "text": [
      "downloading from https://gateway.ipfs.io/ipfs/QmNRP9EYamxHVc97ZFxriEisMUt4HowYCjwho9E7fJ9c8H\n"
     ]
    },
    {
     "name": "stderr",
     "output_type": "stream",
     "text": [
      "/Users/huohongyi/opt/anaconda3/lib/python3.9/site-packages/urllib3/connectionpool.py:1043: InsecureRequestWarning: Unverified HTTPS request is being made to host 'gateway.ipfs.io'. Adding certificate verification is strongly advised. See: https://urllib3.readthedocs.io/en/1.26.x/advanced-usage.html#ssl-warnings\n",
      "  warnings.warn(\n"
     ]
    },
    {
     "name": "stdout",
     "output_type": "stream",
     "text": [
      "downloading from https://gateway.ipfs.io/ipfs/QmZ6qzBwH7rpXuDEszEA3uu6FZ4xhfDz4mD3dXkmjzR3oz\n",
      "downloading from https://gateway.ipfs.io/ipfs/QmVu5X93wRYecaY2gixAzgBxRvja6JcPqSixWnVM5t58Wa\n"
     ]
    },
    {
     "name": "stderr",
     "output_type": "stream",
     "text": [
      "/Users/huohongyi/opt/anaconda3/lib/python3.9/site-packages/urllib3/connectionpool.py:1043: InsecureRequestWarning: Unverified HTTPS request is being made to host 'gateway.ipfs.io'. Adding certificate verification is strongly advised. See: https://urllib3.readthedocs.io/en/1.26.x/advanced-usage.html#ssl-warnings\n",
      "  warnings.warn(\n",
      "/Users/huohongyi/opt/anaconda3/lib/python3.9/site-packages/urllib3/connectionpool.py:1043: InsecureRequestWarning: Unverified HTTPS request is being made to host 'gateway.ipfs.io'. Adding certificate verification is strongly advised. See: https://urllib3.readthedocs.io/en/1.26.x/advanced-usage.html#ssl-warnings\n",
      "  warnings.warn(\n"
     ]
    },
    {
     "name": "stdout",
     "output_type": "stream",
     "text": [
      "downloading from https://gateway.ipfs.io/ipfs/QmVagcFX63t4Qp5TnafZZTvTmx8ZMwkW9ZTyfSLNdf4PEX\n"
     ]
    },
    {
     "name": "stderr",
     "output_type": "stream",
     "text": [
      "/Users/huohongyi/opt/anaconda3/lib/python3.9/site-packages/urllib3/connectionpool.py:1043: InsecureRequestWarning: Unverified HTTPS request is being made to host 'gateway.ipfs.io'. Adding certificate verification is strongly advised. See: https://urllib3.readthedocs.io/en/1.26.x/advanced-usage.html#ssl-warnings\n",
      "  warnings.warn(\n"
     ]
    },
    {
     "name": "stdout",
     "output_type": "stream",
     "text": [
      "downloading from https://gateway.ipfs.io/ipfs/QmazLjAXfPkDYjtn6wfena5MeTQt691mZX8CDxeeGV1KU2\n"
     ]
    },
    {
     "name": "stderr",
     "output_type": "stream",
     "text": [
      "/Users/huohongyi/opt/anaconda3/lib/python3.9/site-packages/urllib3/connectionpool.py:1043: InsecureRequestWarning: Unverified HTTPS request is being made to host 'gateway.ipfs.io'. Adding certificate verification is strongly advised. See: https://urllib3.readthedocs.io/en/1.26.x/advanced-usage.html#ssl-warnings\n",
      "  warnings.warn(\n",
      "/Users/huohongyi/opt/anaconda3/lib/python3.9/site-packages/urllib3/connectionpool.py:1043: InsecureRequestWarning: Unverified HTTPS request is being made to host 'gateway.ipfs.io'. Adding certificate verification is strongly advised. See: https://urllib3.readthedocs.io/en/1.26.x/advanced-usage.html#ssl-warnings\n",
      "  warnings.warn(\n"
     ]
    },
    {
     "name": "stdout",
     "output_type": "stream",
     "text": [
      "downloading from https://gateway.ipfs.io/ipfs/QmV46zDUxT34kd45EQU4kz5iYMTZsj3eUGyhFUSPZo1C39\n",
      "downloading from https://gateway.ipfs.io/ipfs/QmVExXwp4TkG7ZeygxxG1LKGRgdKNaPTRXCxdc8L9dWdni\n"
     ]
    },
    {
     "name": "stderr",
     "output_type": "stream",
     "text": [
      "/Users/huohongyi/opt/anaconda3/lib/python3.9/site-packages/urllib3/connectionpool.py:1043: InsecureRequestWarning: Unverified HTTPS request is being made to host 'gateway.ipfs.io'. Adding certificate verification is strongly advised. See: https://urllib3.readthedocs.io/en/1.26.x/advanced-usage.html#ssl-warnings\n",
      "  warnings.warn(\n"
     ]
    },
    {
     "name": "stdout",
     "output_type": "stream",
     "text": [
      "downloading from https://gateway.ipfs.io/ipfs/QmddQN2e5ZGpdvDPJdo4fwchejqhaWEK4BWoijSxcymGV5\n"
     ]
    },
    {
     "name": "stderr",
     "output_type": "stream",
     "text": [
      "/Users/huohongyi/opt/anaconda3/lib/python3.9/site-packages/urllib3/connectionpool.py:1043: InsecureRequestWarning: Unverified HTTPS request is being made to host 'gateway.ipfs.io'. Adding certificate verification is strongly advised. See: https://urllib3.readthedocs.io/en/1.26.x/advanced-usage.html#ssl-warnings\n",
      "  warnings.warn(\n"
     ]
    },
    {
     "name": "stdout",
     "output_type": "stream",
     "text": [
      "downloading from https://gateway.ipfs.io/ipfs/QmX18WBXMCG4U3jcHingdAtiSdX4swRmQHVSb5GiPSsazP\n"
     ]
    },
    {
     "name": "stderr",
     "output_type": "stream",
     "text": [
      "/Users/huohongyi/opt/anaconda3/lib/python3.9/site-packages/urllib3/connectionpool.py:1043: InsecureRequestWarning: Unverified HTTPS request is being made to host 'gateway.ipfs.io'. Adding certificate verification is strongly advised. See: https://urllib3.readthedocs.io/en/1.26.x/advanced-usage.html#ssl-warnings\n",
      "  warnings.warn(\n"
     ]
    },
    {
     "name": "stdout",
     "output_type": "stream",
     "text": [
      "downloading from https://gateway.ipfs.io/ipfs/QmSLUigSQCZzZQshrDcZTh4gsgdTdQVPGGVtKJZaeZPejs\n"
     ]
    },
    {
     "name": "stderr",
     "output_type": "stream",
     "text": [
      "/Users/huohongyi/opt/anaconda3/lib/python3.9/site-packages/urllib3/connectionpool.py:1043: InsecureRequestWarning: Unverified HTTPS request is being made to host 'gateway.ipfs.io'. Adding certificate verification is strongly advised. See: https://urllib3.readthedocs.io/en/1.26.x/advanced-usage.html#ssl-warnings\n",
      "  warnings.warn(\n"
     ]
    },
    {
     "name": "stdout",
     "output_type": "stream",
     "text": [
      "downloading from https://gateway.ipfs.io/ipfs/QmP91ToPcyvobpXAUdxUi6ZNyVNncVx8ZE4XH9cngkadxq\n"
     ]
    },
    {
     "name": "stderr",
     "output_type": "stream",
     "text": [
      "/Users/huohongyi/opt/anaconda3/lib/python3.9/site-packages/urllib3/connectionpool.py:1043: InsecureRequestWarning: Unverified HTTPS request is being made to host 'gateway.ipfs.io'. Adding certificate verification is strongly advised. See: https://urllib3.readthedocs.io/en/1.26.x/advanced-usage.html#ssl-warnings\n",
      "  warnings.warn(\n"
     ]
    },
    {
     "name": "stdout",
     "output_type": "stream",
     "text": [
      "downloading from https://gateway.ipfs.io/ipfs/QmNVvmGwnAVCPuoMteme3gLvk64ky7iobLFfCHjcks4ECY\n",
      "downloading from https://gateway.ipfs.io/ipfs/QmY33d8DqdQA6mYG24sSXBKiUJj8QcuKQKadf13bW6aaz7\n"
     ]
    },
    {
     "name": "stderr",
     "output_type": "stream",
     "text": [
      "/Users/huohongyi/opt/anaconda3/lib/python3.9/site-packages/urllib3/connectionpool.py:1043: InsecureRequestWarning: Unverified HTTPS request is being made to host 'gateway.ipfs.io'. Adding certificate verification is strongly advised. See: https://urllib3.readthedocs.io/en/1.26.x/advanced-usage.html#ssl-warnings\n",
      "  warnings.warn(\n",
      "/Users/huohongyi/opt/anaconda3/lib/python3.9/site-packages/urllib3/connectionpool.py:1043: InsecureRequestWarning: Unverified HTTPS request is being made to host 'gateway.ipfs.io'. Adding certificate verification is strongly advised. See: https://urllib3.readthedocs.io/en/1.26.x/advanced-usage.html#ssl-warnings\n",
      "  warnings.warn(\n"
     ]
    },
    {
     "name": "stdout",
     "output_type": "stream",
     "text": [
      "downloading from https://gateway.ipfs.io/ipfs/QmcHEbTTzf4UiuTjGBSn3ivRky21mVhfe1b95rsHxaCbUE\n"
     ]
    },
    {
     "name": "stderr",
     "output_type": "stream",
     "text": [
      "/Users/huohongyi/opt/anaconda3/lib/python3.9/site-packages/urllib3/connectionpool.py:1043: InsecureRequestWarning: Unverified HTTPS request is being made to host 'gateway.ipfs.io'. Adding certificate verification is strongly advised. See: https://urllib3.readthedocs.io/en/1.26.x/advanced-usage.html#ssl-warnings\n",
      "  warnings.warn(\n"
     ]
    },
    {
     "name": "stdout",
     "output_type": "stream",
     "text": [
      "downloading from https://gateway.ipfs.io/ipfs/QmY4FMP5CegKCLiWZaYkHjqkd6yvSTuQP8nLx6rF8oJJUj\n"
     ]
    },
    {
     "name": "stderr",
     "output_type": "stream",
     "text": [
      "/Users/huohongyi/opt/anaconda3/lib/python3.9/site-packages/urllib3/connectionpool.py:1043: InsecureRequestWarning: Unverified HTTPS request is being made to host 'gateway.ipfs.io'. Adding certificate verification is strongly advised. See: https://urllib3.readthedocs.io/en/1.26.x/advanced-usage.html#ssl-warnings\n",
      "  warnings.warn(\n"
     ]
    },
    {
     "name": "stdout",
     "output_type": "stream",
     "text": [
      "downloading from https://gateway.ipfs.io/ipfs/QmNXETQicwtvodHa6Mx2u6wYwY86WsqU4x2e9HC8VGfu3v\n",
      "downloading from https://gateway.ipfs.io/ipfs/Qmb8WGu55dy6wkUYg9VpPu966umTpaq3NDSgQ2pyMcdYk8\n"
     ]
    },
    {
     "name": "stderr",
     "output_type": "stream",
     "text": [
      "/Users/huohongyi/opt/anaconda3/lib/python3.9/site-packages/urllib3/connectionpool.py:1043: InsecureRequestWarning: Unverified HTTPS request is being made to host 'gateway.ipfs.io'. Adding certificate verification is strongly advised. See: https://urllib3.readthedocs.io/en/1.26.x/advanced-usage.html#ssl-warnings\n",
      "  warnings.warn(\n",
      "/Users/huohongyi/opt/anaconda3/lib/python3.9/site-packages/urllib3/connectionpool.py:1043: InsecureRequestWarning: Unverified HTTPS request is being made to host 'gateway.ipfs.io'. Adding certificate verification is strongly advised. See: https://urllib3.readthedocs.io/en/1.26.x/advanced-usage.html#ssl-warnings\n",
      "  warnings.warn(\n"
     ]
    },
    {
     "name": "stdout",
     "output_type": "stream",
     "text": [
      "downloading from https://gateway.ipfs.io/ipfs/QmUUyed25usLGvseMk8hoAUB691qVt4ebuL2ufJGiAnATv\n"
     ]
    },
    {
     "name": "stderr",
     "output_type": "stream",
     "text": [
      "/Users/huohongyi/opt/anaconda3/lib/python3.9/site-packages/urllib3/connectionpool.py:1043: InsecureRequestWarning: Unverified HTTPS request is being made to host 'gateway.ipfs.io'. Adding certificate verification is strongly advised. See: https://urllib3.readthedocs.io/en/1.26.x/advanced-usage.html#ssl-warnings\n",
      "  warnings.warn(\n"
     ]
    },
    {
     "name": "stdout",
     "output_type": "stream",
     "text": [
      "downloading from https://gateway.ipfs.io/ipfs/QmWLbJk3bwm8A1zvhBkYVwCgXJkFESn1EWtsF38o55HnFz\n",
      "downloading from https://gateway.ipfs.io/ipfs/QmarBBHdVxCphRPUARMo73htB7V8n1dt9ztMnsP9qwCEiW\n"
     ]
    },
    {
     "name": "stderr",
     "output_type": "stream",
     "text": [
      "/Users/huohongyi/opt/anaconda3/lib/python3.9/site-packages/urllib3/connectionpool.py:1043: InsecureRequestWarning: Unverified HTTPS request is being made to host 'gateway.ipfs.io'. Adding certificate verification is strongly advised. See: https://urllib3.readthedocs.io/en/1.26.x/advanced-usage.html#ssl-warnings\n",
      "  warnings.warn(\n",
      "/Users/huohongyi/opt/anaconda3/lib/python3.9/site-packages/urllib3/connectionpool.py:1043: InsecureRequestWarning: Unverified HTTPS request is being made to host 'gateway.ipfs.io'. Adding certificate verification is strongly advised. See: https://urllib3.readthedocs.io/en/1.26.x/advanced-usage.html#ssl-warnings\n",
      "  warnings.warn(\n"
     ]
    },
    {
     "name": "stdout",
     "output_type": "stream",
     "text": [
      "downloading from https://gateway.ipfs.io/ipfs/QmfVfv4TqWMsx57pQ5HEZ4TbrvJbxNWwomT1rrmBHEohWb\n"
     ]
    },
    {
     "name": "stderr",
     "output_type": "stream",
     "text": [
      "/Users/huohongyi/opt/anaconda3/lib/python3.9/site-packages/urllib3/connectionpool.py:1043: InsecureRequestWarning: Unverified HTTPS request is being made to host 'gateway.ipfs.io'. Adding certificate verification is strongly advised. See: https://urllib3.readthedocs.io/en/1.26.x/advanced-usage.html#ssl-warnings\n",
      "  warnings.warn(\n"
     ]
    },
    {
     "name": "stdout",
     "output_type": "stream",
     "text": [
      "downloading from https://gateway.ipfs.io/ipfs/QmXANFbWZm6yg7zmE8713vXSCyEa5JnZLsfDoPRaNPdo4m\n",
      "downloading from https://gateway.ipfs.io/ipfs/QmU1bWJ6Rc9pyAx9oKPJvmHvGPtewYFmR27cWGPaiw2RHq\n"
     ]
    },
    {
     "name": "stderr",
     "output_type": "stream",
     "text": [
      "/Users/huohongyi/opt/anaconda3/lib/python3.9/site-packages/urllib3/connectionpool.py:1043: InsecureRequestWarning: Unverified HTTPS request is being made to host 'gateway.ipfs.io'. Adding certificate verification is strongly advised. See: https://urllib3.readthedocs.io/en/1.26.x/advanced-usage.html#ssl-warnings\n",
      "  warnings.warn(\n",
      "/Users/huohongyi/opt/anaconda3/lib/python3.9/site-packages/urllib3/connectionpool.py:1043: InsecureRequestWarning: Unverified HTTPS request is being made to host 'gateway.ipfs.io'. Adding certificate verification is strongly advised. See: https://urllib3.readthedocs.io/en/1.26.x/advanced-usage.html#ssl-warnings\n",
      "  warnings.warn(\n"
     ]
    },
    {
     "name": "stdout",
     "output_type": "stream",
     "text": [
      "downloading from https://gateway.ipfs.io/ipfs/QmQYWUKGkRbDLsGVi3FCqagjaVNma6FWHCfGwFwrSAJEPR\n"
     ]
    },
    {
     "name": "stderr",
     "output_type": "stream",
     "text": [
      "/Users/huohongyi/opt/anaconda3/lib/python3.9/site-packages/urllib3/connectionpool.py:1043: InsecureRequestWarning: Unverified HTTPS request is being made to host 'gateway.ipfs.io'. Adding certificate verification is strongly advised. See: https://urllib3.readthedocs.io/en/1.26.x/advanced-usage.html#ssl-warnings\n",
      "  warnings.warn(\n"
     ]
    },
    {
     "name": "stdout",
     "output_type": "stream",
     "text": [
      "downloading from https://gateway.ipfs.io/ipfs/QmPLqKAhHXhBUk1qDir3Cg466fhRorcRTuXAvQBZ4U6PBM\n",
      "downloading from https://gateway.ipfs.io/ipfs/QmY3GhNPEY7XmNvAjPmr59E9ZkogZk183YFEqtXTww6wGU\n"
     ]
    },
    {
     "name": "stderr",
     "output_type": "stream",
     "text": [
      "/Users/huohongyi/opt/anaconda3/lib/python3.9/site-packages/urllib3/connectionpool.py:1043: InsecureRequestWarning: Unverified HTTPS request is being made to host 'gateway.ipfs.io'. Adding certificate verification is strongly advised. See: https://urllib3.readthedocs.io/en/1.26.x/advanced-usage.html#ssl-warnings\n",
      "  warnings.warn(\n",
      "/Users/huohongyi/opt/anaconda3/lib/python3.9/site-packages/urllib3/connectionpool.py:1043: InsecureRequestWarning: Unverified HTTPS request is being made to host 'gateway.ipfs.io'. Adding certificate verification is strongly advised. See: https://urllib3.readthedocs.io/en/1.26.x/advanced-usage.html#ssl-warnings\n",
      "  warnings.warn(\n"
     ]
    },
    {
     "name": "stdout",
     "output_type": "stream",
     "text": [
      "downloading from https://gateway.ipfs.io/ipfs/QmS6CiDhEb3XB2utNYf6gszUcofWhZ3jvrUnigLkpL94wd\n"
     ]
    },
    {
     "name": "stderr",
     "output_type": "stream",
     "text": [
      "/Users/huohongyi/opt/anaconda3/lib/python3.9/site-packages/urllib3/connectionpool.py:1043: InsecureRequestWarning: Unverified HTTPS request is being made to host 'gateway.ipfs.io'. Adding certificate verification is strongly advised. See: https://urllib3.readthedocs.io/en/1.26.x/advanced-usage.html#ssl-warnings\n",
      "  warnings.warn(\n"
     ]
    },
    {
     "name": "stdout",
     "output_type": "stream",
     "text": [
      "downloading from https://gateway.ipfs.io/ipfs/QmTqfE7kbDytQiGTzZvsd4h61ZC3cc4euW6U9Nk5Du61N8\n"
     ]
    },
    {
     "name": "stderr",
     "output_type": "stream",
     "text": [
      "/Users/huohongyi/opt/anaconda3/lib/python3.9/site-packages/urllib3/connectionpool.py:1043: InsecureRequestWarning: Unverified HTTPS request is being made to host 'gateway.ipfs.io'. Adding certificate verification is strongly advised. See: https://urllib3.readthedocs.io/en/1.26.x/advanced-usage.html#ssl-warnings\n",
      "  warnings.warn(\n"
     ]
    },
    {
     "name": "stdout",
     "output_type": "stream",
     "text": [
      "downloading from https://gateway.ipfs.io/ipfs/QmT85DpSPF65gHMBNYpRzKVSRiLydCq9NYq55ssXaxQY5x\n"
     ]
    },
    {
     "name": "stderr",
     "output_type": "stream",
     "text": [
      "/Users/huohongyi/opt/anaconda3/lib/python3.9/site-packages/urllib3/connectionpool.py:1043: InsecureRequestWarning: Unverified HTTPS request is being made to host 'gateway.ipfs.io'. Adding certificate verification is strongly advised. See: https://urllib3.readthedocs.io/en/1.26.x/advanced-usage.html#ssl-warnings\n",
      "  warnings.warn(\n",
      "/Users/huohongyi/opt/anaconda3/lib/python3.9/site-packages/urllib3/connectionpool.py:1043: InsecureRequestWarning: Unverified HTTPS request is being made to host 'gateway.ipfs.io'. Adding certificate verification is strongly advised. See: https://urllib3.readthedocs.io/en/1.26.x/advanced-usage.html#ssl-warnings\n",
      "  warnings.warn(\n"
     ]
    },
    {
     "name": "stdout",
     "output_type": "stream",
     "text": [
      "downloading from https://gateway.ipfs.io/ipfs/QmX9jRH16btobZSnj6zJkymMssZKiinaty3mrKweQ3sYb5\n",
      "downloading from https://gateway.ipfs.io/ipfs/QmNQU6Yvucx7oNMW74sjCd1SwofhvTiuGjoXav6bhVgdKA\n"
     ]
    },
    {
     "name": "stderr",
     "output_type": "stream",
     "text": [
      "/Users/huohongyi/opt/anaconda3/lib/python3.9/site-packages/urllib3/connectionpool.py:1043: InsecureRequestWarning: Unverified HTTPS request is being made to host 'gateway.ipfs.io'. Adding certificate verification is strongly advised. See: https://urllib3.readthedocs.io/en/1.26.x/advanced-usage.html#ssl-warnings\n",
      "  warnings.warn(\n"
     ]
    },
    {
     "name": "stdout",
     "output_type": "stream",
     "text": [
      "downloading from https://gateway.ipfs.io/ipfs/QmYhYj88XLA7YnuaMmGexTHZgz9Q9mQwuzTKYm8rAXwBZV\n",
      "downloading from https://gateway.ipfs.io/ipfs/QmYynGbbSvVkr8LrnZXu6HQpkPNAdwskoc8u291ok5Uq7a\n"
     ]
    },
    {
     "name": "stderr",
     "output_type": "stream",
     "text": [
      "/Users/huohongyi/opt/anaconda3/lib/python3.9/site-packages/urllib3/connectionpool.py:1043: InsecureRequestWarning: Unverified HTTPS request is being made to host 'gateway.ipfs.io'. Adding certificate verification is strongly advised. See: https://urllib3.readthedocs.io/en/1.26.x/advanced-usage.html#ssl-warnings\n",
      "  warnings.warn(\n",
      "/Users/huohongyi/opt/anaconda3/lib/python3.9/site-packages/urllib3/connectionpool.py:1043: InsecureRequestWarning: Unverified HTTPS request is being made to host 'gateway.ipfs.io'. Adding certificate verification is strongly advised. See: https://urllib3.readthedocs.io/en/1.26.x/advanced-usage.html#ssl-warnings\n",
      "  warnings.warn(\n"
     ]
    },
    {
     "name": "stdout",
     "output_type": "stream",
     "text": [
      "downloading from https://gateway.ipfs.io/ipfs/QmPtRLj2cEDMRXRSVpCUWdjG1QyQJCFVWdrPGy1hF2tXib\n",
      "downloading from https://gateway.ipfs.io/ipfs/Qmf1k87Er73UyoohLUmm9mccW75mgHpgabvrKAmKh2fj9H\n"
     ]
    },
    {
     "name": "stderr",
     "output_type": "stream",
     "text": [
      "/Users/huohongyi/opt/anaconda3/lib/python3.9/site-packages/urllib3/connectionpool.py:1043: InsecureRequestWarning: Unverified HTTPS request is being made to host 'gateway.ipfs.io'. Adding certificate verification is strongly advised. See: https://urllib3.readthedocs.io/en/1.26.x/advanced-usage.html#ssl-warnings\n",
      "  warnings.warn(\n",
      "/Users/huohongyi/opt/anaconda3/lib/python3.9/site-packages/urllib3/connectionpool.py:1043: InsecureRequestWarning: Unverified HTTPS request is being made to host 'gateway.ipfs.io'. Adding certificate verification is strongly advised. See: https://urllib3.readthedocs.io/en/1.26.x/advanced-usage.html#ssl-warnings\n",
      "  warnings.warn(\n"
     ]
    },
    {
     "name": "stdout",
     "output_type": "stream",
     "text": [
      "downloading from https://gateway.ipfs.io/ipfs/Qmc7sypkjKpwcaKjYjXsZu98aH335sR1eYFPxLmNvLaEhR\n",
      "downloading from https://gateway.ipfs.io/ipfs/QmSLRs2ZU9cv3PCinNProS3qg1PLhXdseNhEopd4PfzAYM\n"
     ]
    },
    {
     "name": "stderr",
     "output_type": "stream",
     "text": [
      "/Users/huohongyi/opt/anaconda3/lib/python3.9/site-packages/urllib3/connectionpool.py:1043: InsecureRequestWarning: Unverified HTTPS request is being made to host 'gateway.ipfs.io'. Adding certificate verification is strongly advised. See: https://urllib3.readthedocs.io/en/1.26.x/advanced-usage.html#ssl-warnings\n",
      "  warnings.warn(\n",
      "/Users/huohongyi/opt/anaconda3/lib/python3.9/site-packages/urllib3/connectionpool.py:1043: InsecureRequestWarning: Unverified HTTPS request is being made to host 'gateway.ipfs.io'. Adding certificate verification is strongly advised. See: https://urllib3.readthedocs.io/en/1.26.x/advanced-usage.html#ssl-warnings\n",
      "  warnings.warn(\n"
     ]
    },
    {
     "name": "stdout",
     "output_type": "stream",
     "text": [
      "downloading from https://gateway.ipfs.io/ipfs/QmZUY2y7s7MS4UcN9KbrEQ3yzEg5eho4FzafAebRZNt6Lv\n",
      "downloading from https://gateway.ipfs.io/ipfs/QmUxgi43kehDRmBG12Fg7HVWpr9tVwFpdKBt6Zeyoy6rFU\n"
     ]
    },
    {
     "name": "stderr",
     "output_type": "stream",
     "text": [
      "/Users/huohongyi/opt/anaconda3/lib/python3.9/site-packages/urllib3/connectionpool.py:1043: InsecureRequestWarning: Unverified HTTPS request is being made to host 'gateway.ipfs.io'. Adding certificate verification is strongly advised. See: https://urllib3.readthedocs.io/en/1.26.x/advanced-usage.html#ssl-warnings\n",
      "  warnings.warn(\n",
      "/Users/huohongyi/opt/anaconda3/lib/python3.9/site-packages/urllib3/connectionpool.py:1043: InsecureRequestWarning: Unverified HTTPS request is being made to host 'gateway.ipfs.io'. Adding certificate verification is strongly advised. See: https://urllib3.readthedocs.io/en/1.26.x/advanced-usage.html#ssl-warnings\n",
      "  warnings.warn(\n"
     ]
    },
    {
     "name": "stdout",
     "output_type": "stream",
     "text": [
      "downloading from https://gateway.ipfs.io/ipfs/QmWzA3Rq8x69hPpqvmrvdNFcuWwdQ4rNWdxKArpp1sNjQw\n"
     ]
    },
    {
     "name": "stderr",
     "output_type": "stream",
     "text": [
      "/Users/huohongyi/opt/anaconda3/lib/python3.9/site-packages/urllib3/connectionpool.py:1043: InsecureRequestWarning: Unverified HTTPS request is being made to host 'gateway.ipfs.io'. Adding certificate verification is strongly advised. See: https://urllib3.readthedocs.io/en/1.26.x/advanced-usage.html#ssl-warnings\n",
      "  warnings.warn(\n"
     ]
    },
    {
     "name": "stdout",
     "output_type": "stream",
     "text": [
      "downloading from https://gateway.ipfs.io/ipfs/QmbYFNJgotmUsv1b1XLa9pHax8kisrK6zS7MbEXwnoNtkD\n",
      "downloading from https://gateway.ipfs.io/ipfs/QmbaUFMm1iBPtJm8NSZWhFJFmxa8U7gPdE7Ld7Gsmz8icC\n"
     ]
    },
    {
     "name": "stderr",
     "output_type": "stream",
     "text": [
      "/Users/huohongyi/opt/anaconda3/lib/python3.9/site-packages/urllib3/connectionpool.py:1043: InsecureRequestWarning: Unverified HTTPS request is being made to host 'gateway.ipfs.io'. Adding certificate verification is strongly advised. See: https://urllib3.readthedocs.io/en/1.26.x/advanced-usage.html#ssl-warnings\n",
      "  warnings.warn(\n",
      "/Users/huohongyi/opt/anaconda3/lib/python3.9/site-packages/urllib3/connectionpool.py:1043: InsecureRequestWarning: Unverified HTTPS request is being made to host 'gateway.ipfs.io'. Adding certificate verification is strongly advised. See: https://urllib3.readthedocs.io/en/1.26.x/advanced-usage.html#ssl-warnings\n",
      "  warnings.warn(\n"
     ]
    },
    {
     "name": "stdout",
     "output_type": "stream",
     "text": [
      "downloading from https://gateway.ipfs.io/ipfs/QmSb8JHudiQQxCycQCwg1aX1ogwCPk14zPgUYpQtev2nAc\n"
     ]
    },
    {
     "name": "stderr",
     "output_type": "stream",
     "text": [
      "/Users/huohongyi/opt/anaconda3/lib/python3.9/site-packages/urllib3/connectionpool.py:1043: InsecureRequestWarning: Unverified HTTPS request is being made to host 'gateway.ipfs.io'. Adding certificate verification is strongly advised. See: https://urllib3.readthedocs.io/en/1.26.x/advanced-usage.html#ssl-warnings\n",
      "  warnings.warn(\n"
     ]
    },
    {
     "name": "stdout",
     "output_type": "stream",
     "text": [
      "downloading from https://gateway.ipfs.io/ipfs/QmQd7oegfqJvQwxE4voKNtutUrMZxy6D8qwx3gDHoPMEV8\n"
     ]
    },
    {
     "name": "stderr",
     "output_type": "stream",
     "text": [
      "/Users/huohongyi/opt/anaconda3/lib/python3.9/site-packages/urllib3/connectionpool.py:1043: InsecureRequestWarning: Unverified HTTPS request is being made to host 'gateway.ipfs.io'. Adding certificate verification is strongly advised. See: https://urllib3.readthedocs.io/en/1.26.x/advanced-usage.html#ssl-warnings\n",
      "  warnings.warn(\n",
      "/Users/huohongyi/opt/anaconda3/lib/python3.9/site-packages/urllib3/connectionpool.py:1043: InsecureRequestWarning: Unverified HTTPS request is being made to host 'gateway.ipfs.io'. Adding certificate verification is strongly advised. See: https://urllib3.readthedocs.io/en/1.26.x/advanced-usage.html#ssl-warnings\n",
      "  warnings.warn(\n"
     ]
    },
    {
     "name": "stdout",
     "output_type": "stream",
     "text": [
      "downloading from https://gateway.ipfs.io/ipfs/QmUy9j4vhFLag7Gne5M9GKd8NyTSGpDZSuK117GXWZNo61\n",
      "downloading from https://gateway.ipfs.io/ipfs/QmNZzVpQYGhn4Rv1zgxrq1faSDUJPzbw2TQtnffgTN4GgB\n",
      "downloading from https://gateway.ipfs.io/ipfs/QmfYJZtXzRNSrbDbADrUdjym9DWUuqqatBcC5KZWCyTY9T\n"
     ]
    },
    {
     "name": "stderr",
     "output_type": "stream",
     "text": [
      "/Users/huohongyi/opt/anaconda3/lib/python3.9/site-packages/urllib3/connectionpool.py:1043: InsecureRequestWarning: Unverified HTTPS request is being made to host 'gateway.ipfs.io'. Adding certificate verification is strongly advised. See: https://urllib3.readthedocs.io/en/1.26.x/advanced-usage.html#ssl-warnings\n",
      "  warnings.warn(\n",
      "/Users/huohongyi/opt/anaconda3/lib/python3.9/site-packages/urllib3/connectionpool.py:1043: InsecureRequestWarning: Unverified HTTPS request is being made to host 'gateway.ipfs.io'. Adding certificate verification is strongly advised. See: https://urllib3.readthedocs.io/en/1.26.x/advanced-usage.html#ssl-warnings\n",
      "  warnings.warn(\n"
     ]
    },
    {
     "name": "stdout",
     "output_type": "stream",
     "text": [
      "downloading from https://gateway.ipfs.io/ipfs/QmcTQVU3SRhbCJJpBFKaLu9k2PWZ6874iMnoeqjZPUCJq2\n",
      "downloading from https://gateway.ipfs.io/ipfs/QmSLiAMHhV7RkG7evQW964rqtifXnyANH6wt1SEf5g7ycE\n"
     ]
    },
    {
     "name": "stderr",
     "output_type": "stream",
     "text": [
      "/Users/huohongyi/opt/anaconda3/lib/python3.9/site-packages/urllib3/connectionpool.py:1043: InsecureRequestWarning: Unverified HTTPS request is being made to host 'gateway.ipfs.io'. Adding certificate verification is strongly advised. See: https://urllib3.readthedocs.io/en/1.26.x/advanced-usage.html#ssl-warnings\n",
      "  warnings.warn(\n",
      "/Users/huohongyi/opt/anaconda3/lib/python3.9/site-packages/urllib3/connectionpool.py:1043: InsecureRequestWarning: Unverified HTTPS request is being made to host 'gateway.ipfs.io'. Adding certificate verification is strongly advised. See: https://urllib3.readthedocs.io/en/1.26.x/advanced-usage.html#ssl-warnings\n",
      "  warnings.warn(\n"
     ]
    },
    {
     "name": "stdout",
     "output_type": "stream",
     "text": [
      "downloading from https://gateway.ipfs.io/ipfs/QmdE9yRqEAaxNfU1ZG21kLz5YL4yU9vfaZAgakGKrY5Z8v\n",
      "downloading from https://gateway.ipfs.io/ipfs/QmZNWifZnjgNEgY5T8TbdcLNYZVvWBWLzh3VsP4v4XRKDh\n"
     ]
    },
    {
     "name": "stderr",
     "output_type": "stream",
     "text": [
      "/Users/huohongyi/opt/anaconda3/lib/python3.9/site-packages/urllib3/connectionpool.py:1043: InsecureRequestWarning: Unverified HTTPS request is being made to host 'gateway.ipfs.io'. Adding certificate verification is strongly advised. See: https://urllib3.readthedocs.io/en/1.26.x/advanced-usage.html#ssl-warnings\n",
      "  warnings.warn(\n",
      "/Users/huohongyi/opt/anaconda3/lib/python3.9/site-packages/urllib3/connectionpool.py:1043: InsecureRequestWarning: Unverified HTTPS request is being made to host 'gateway.ipfs.io'. Adding certificate verification is strongly advised. See: https://urllib3.readthedocs.io/en/1.26.x/advanced-usage.html#ssl-warnings\n",
      "  warnings.warn(\n"
     ]
    },
    {
     "name": "stdout",
     "output_type": "stream",
     "text": [
      "downloading from https://gateway.ipfs.io/ipfs/QmetuEnWJ7crWq2zton2WH5Yn5nRRvptPGjCJhTVcCu39X\n",
      "downloading from https://gateway.ipfs.io/ipfs/QmSLUQxGAPsdovAGBhcjz8oZEFFe2KjZc3UeM2a7VVdTYg\n"
     ]
    },
    {
     "name": "stderr",
     "output_type": "stream",
     "text": [
      "/Users/huohongyi/opt/anaconda3/lib/python3.9/site-packages/urllib3/connectionpool.py:1043: InsecureRequestWarning: Unverified HTTPS request is being made to host 'gateway.ipfs.io'. Adding certificate verification is strongly advised. See: https://urllib3.readthedocs.io/en/1.26.x/advanced-usage.html#ssl-warnings\n",
      "  warnings.warn(\n",
      "/Users/huohongyi/opt/anaconda3/lib/python3.9/site-packages/urllib3/connectionpool.py:1043: InsecureRequestWarning: Unverified HTTPS request is being made to host 'gateway.ipfs.io'. Adding certificate verification is strongly advised. See: https://urllib3.readthedocs.io/en/1.26.x/advanced-usage.html#ssl-warnings\n",
      "  warnings.warn(\n"
     ]
    },
    {
     "name": "stdout",
     "output_type": "stream",
     "text": [
      "downloading from https://gateway.ipfs.io/ipfs/QmRGNbFECDisx1ETMfuX8unvXrs18qWWDRzK6ficJ5XEBz\n",
      "downloading from https://gateway.ipfs.io/ipfs/QmTkdrzkBVfGugf9UMVFoRsxNF6mbMdq82yJYPEpkABvYm\n"
     ]
    },
    {
     "name": "stderr",
     "output_type": "stream",
     "text": [
      "/Users/huohongyi/opt/anaconda3/lib/python3.9/site-packages/urllib3/connectionpool.py:1043: InsecureRequestWarning: Unverified HTTPS request is being made to host 'gateway.ipfs.io'. Adding certificate verification is strongly advised. See: https://urllib3.readthedocs.io/en/1.26.x/advanced-usage.html#ssl-warnings\n",
      "  warnings.warn(\n",
      "/Users/huohongyi/opt/anaconda3/lib/python3.9/site-packages/urllib3/connectionpool.py:1043: InsecureRequestWarning: Unverified HTTPS request is being made to host 'gateway.ipfs.io'. Adding certificate verification is strongly advised. See: https://urllib3.readthedocs.io/en/1.26.x/advanced-usage.html#ssl-warnings\n",
      "  warnings.warn(\n"
     ]
    },
    {
     "ename": "IndexError",
     "evalue": "index 500 is out of bounds for axis 0 with size 500",
     "output_type": "error",
     "traceback": [
      "\u001b[0;31m---------------------------------------------------------------------------\u001b[0m",
      "\u001b[0;31mIndexError\u001b[0m                                Traceback (most recent call last)",
      "Input \u001b[0;32mIn [125]\u001b[0m, in \u001b[0;36m<cell line: 1>\u001b[0;34m()\u001b[0m\n\u001b[1;32m      1\u001b[0m \u001b[38;5;28;01mfor\u001b[39;00m i \u001b[38;5;129;01min\u001b[39;00m \u001b[38;5;28mrange\u001b[39m(\u001b[38;5;241m1\u001b[39m, \u001b[38;5;241m501\u001b[39m):    \n\u001b[0;32m----> 2\u001b[0m     download_img(\u001b[43mipfs_array\u001b[49m\u001b[43m[\u001b[49m\u001b[43mi\u001b[49m\u001b[43m]\u001b[49m, \u001b[38;5;124m\"\u001b[39m\u001b[38;5;124m/Users/huohongyi/Desktop/BlockchainData/IPFS_interface/Monkeys/\u001b[39m\u001b[38;5;124m\"\u001b[39m)\n\u001b[1;32m      4\u001b[0m     path \u001b[38;5;241m=\u001b[39m \u001b[38;5;124m\"\u001b[39m\u001b[38;5;124m/Users/huohongyi/Desktop/BlockchainData/IPFS_interface/Monkeys/\u001b[39m\u001b[38;5;124m\"\u001b[39m\n\u001b[1;32m      6\u001b[0m     ipfs_hash \u001b[38;5;241m=\u001b[39m ipfs_array[i][\u001b[38;5;241m7\u001b[39m:]\n",
      "\u001b[0;31mIndexError\u001b[0m: index 500 is out of bounds for axis 0 with size 500"
     ]
    }
   ],
   "source": [
    "for i in range(1, 501):    \n",
    "    download_img(ipfs_array[i], \"/Users/huohongyi/Desktop/BlockchainData/IPFS_interface/Monkeys/\")\n",
    "    \n",
    "    path = \"/Users/huohongyi/Desktop/BlockchainData/IPFS_interface/Monkeys/\"\n",
    "    \n",
    "    ipfs_hash = ipfs_array[i][7:]\n",
    "\n",
    "    # 加上.png后缀\n",
    "    old_name = path + ipfs_hash + \".png\"\n",
    "    \n",
    "\n",
    "    # 新文件名\n",
    "    new_name = path + str(i) + \".png\"\n",
    "\n",
    "    # 重命名文件\n",
    "    os.rename(old_name, new_name)\n",
    "\n",
    "\n",
    "    time.sleep(0.01)\n"
   ]
  },
  {
   "cell_type": "code",
   "execution_count": 126,
   "id": "33e111da",
   "metadata": {},
   "outputs": [
    {
     "name": "stdout",
     "output_type": "stream",
     "text": [
      "downloading from https://gateway.ipfs.io/ipfs/QmVFPvu8aeJHXyNVxpfftVHaKjRsbtH6dXWscJ2TukM3xi\n"
     ]
    },
    {
     "name": "stderr",
     "output_type": "stream",
     "text": [
      "/Users/huohongyi/opt/anaconda3/lib/python3.9/site-packages/urllib3/connectionpool.py:1043: InsecureRequestWarning: Unverified HTTPS request is being made to host 'gateway.ipfs.io'. Adding certificate verification is strongly advised. See: https://urllib3.readthedocs.io/en/1.26.x/advanced-usage.html#ssl-warnings\n",
      "  warnings.warn(\n"
     ]
    }
   ],
   "source": [
    "  \n",
    "import numpy as np\n",
    "import json\n",
    "\n",
    "response = json.loads(getMetaData('0x60E4d786628Fea6478F785A6d7e704777c86a7c6', 1).content)\n",
    "ipfs_address = response['metadata']['image']\n",
    "\n",
    "\n",
    "    \n",
    "\n",
    "    \n",
    "download_img(ipfs_address, \"/Users/huohongyi/Desktop/BlockchainData/IPFS_interface/Monkeys/\")\n",
    "\n",
    "path = \"/Users/huohongyi/Desktop/BlockchainData/IPFS_interface/Monkeys/\"\n",
    "\n",
    "\n",
    "\n",
    "# # 加上.png后缀\n",
    "# old_name = path + ipfs_address + \".png\"\n",
    "\n",
    "\n",
    "# # 新文件名\n",
    "# new_name = path + str(500) + \".png\"\n",
    "\n",
    "# # 重命名文件\n",
    "# os.rename(old_name, new_name)\n",
    "\n",
    "\n"
   ]
  },
  {
   "cell_type": "code",
   "execution_count": 127,
   "id": "d3d0a91f",
   "metadata": {},
   "outputs": [],
   "source": [
    "import os\n",
    "import shutil\n",
    "\n",
    "# 原始文件夹路径\n",
    "folder_path = \"/Users/huohongyi/Desktop/BlockchainData/IPFS_interface/Monkeys/\"\n",
    "\n",
    "i = 499\n",
    "# 循环重命名文件\n",
    "while(i >= 0):\n",
    "    old_file_name = f\"{i}.png\"  # 原始文件名\n",
    "    new_file_name = f\"{i+1}.png\"  # 新文件名\n",
    "    old_file_path = os.path.join(folder_path, old_file_name)  # 原始文件路径\n",
    "    new_file_path = os.path.join(folder_path, new_file_name)  # 新文件路径\n",
    "    shutil.move(old_file_path, new_file_path)  # 重命名文件\n",
    "    i = i - 1\n"
   ]
  },
  {
   "cell_type": "code",
   "execution_count": 79,
   "id": "e1a8b3a2",
   "metadata": {},
   "outputs": [
    {
     "name": "stdout",
     "output_type": "stream",
     "text": [
      "Collecting opencv-python\n",
      "  Downloading opencv_python-4.7.0.72-cp37-abi3-macosx_10_16_x86_64.whl (53.9 MB)\n",
      "\u001b[2K     \u001b[90m━━━━━━━━━━━━━━━━━━━━━━━━━━━━━━━━━━━━━━━━\u001b[0m \u001b[32m53.9/53.9 MB\u001b[0m \u001b[31m9.0 MB/s\u001b[0m eta \u001b[36m0:00:00\u001b[0m:00:01\u001b[0m00:01\u001b[0m\n",
      "\u001b[?25hRequirement already satisfied: numpy>=1.17.0 in /Users/huohongyi/opt/anaconda3/lib/python3.9/site-packages (from opencv-python) (1.23.4)\n",
      "Installing collected packages: opencv-python\n",
      "Successfully installed opencv-python-4.7.0.72\n",
      "Note: you may need to restart the kernel to use updated packages.\n"
     ]
    }
   ],
   "source": [
    "# pip install opencv-python\n"
   ]
  },
  {
   "cell_type": "code",
   "execution_count": 102,
   "id": "39491a4b",
   "metadata": {},
   "outputs": [
    {
     "name": "stdout",
     "output_type": "stream",
     "text": [
      "Requirement already satisfied: matplotlib in /Users/huohongyi/opt/anaconda3/lib/python3.9/site-packages (3.5.1)\n",
      "Requirement already satisfied: cycler>=0.10 in /Users/huohongyi/opt/anaconda3/lib/python3.9/site-packages (from matplotlib) (0.11.0)\n",
      "Requirement already satisfied: fonttools>=4.22.0 in /Users/huohongyi/opt/anaconda3/lib/python3.9/site-packages (from matplotlib) (4.25.0)\n",
      "Requirement already satisfied: kiwisolver>=1.0.1 in /Users/huohongyi/opt/anaconda3/lib/python3.9/site-packages (from matplotlib) (1.3.2)\n",
      "Requirement already satisfied: numpy>=1.17 in /Users/huohongyi/opt/anaconda3/lib/python3.9/site-packages (from matplotlib) (1.23.4)\n",
      "Requirement already satisfied: packaging>=20.0 in /Users/huohongyi/opt/anaconda3/lib/python3.9/site-packages (from matplotlib) (21.3)\n",
      "Requirement already satisfied: pillow>=6.2.0 in /Users/huohongyi/opt/anaconda3/lib/python3.9/site-packages (from matplotlib) (9.0.1)\n",
      "Requirement already satisfied: pyparsing>=2.2.1 in /Users/huohongyi/opt/anaconda3/lib/python3.9/site-packages (from matplotlib) (3.0.4)\n",
      "Requirement already satisfied: python-dateutil>=2.7 in /Users/huohongyi/opt/anaconda3/lib/python3.9/site-packages (from matplotlib) (2.8.2)\n",
      "Requirement already satisfied: six>=1.5 in /Users/huohongyi/opt/anaconda3/lib/python3.9/site-packages (from python-dateutil>=2.7->matplotlib) (1.16.0)\n"
     ]
    }
   ],
   "source": [
    "\n",
    "!pip install matplotlib"
   ]
  },
  {
   "cell_type": "code",
   "execution_count": 62,
   "id": "ad2388ad",
   "metadata": {},
   "outputs": [
    {
     "data": {
      "image/png": "[encoded data removed]",
      "text/plain": [
       "<Figure size 432x288 with 1 Axes>"
      ]
     },
     "metadata": {
      "needs_background": "light"
     },
     "output_type": "display_data"
    }
   ],
   "source": [
    "import imageio\n",
    "import numpy as np\n",
    "import matplotlib.pyplot as plt\n",
    "\n",
    "path = \"/Users/huohongyi/Desktop/BlockchainData/IPFS_interface/Monkeys/\"\n",
    "\n",
    "dir_img = path + '1.png'\n",
    "img = imageio.imread(dir_img)\n",
    "img_np = np.array(img)\n",
    "plt.imshow(img_np)\n",
    "plt.show()"
   ]
  },
  {
   "cell_type": "code",
   "execution_count": 112,
   "id": "dad26d66",
   "metadata": {},
   "outputs": [
    {
     "name": "stdout",
     "output_type": "stream",
     "text": [
      "4\n",
      "11\n",
      "36\n",
      "37\n",
      "40\n",
      "51\n",
      "54\n",
      "81\n",
      "104\n",
      "123\n",
      "131\n",
      "141\n",
      "155\n",
      "168\n",
      "170\n",
      "185\n",
      "213\n",
      "223\n",
      "232\n",
      "253\n",
      "260\n",
      "261\n",
      "268\n",
      "298\n",
      "299\n",
      "309\n",
      "310\n",
      "311\n",
      "325\n",
      "326\n",
      "327\n",
      "328\n",
      "332\n",
      "349\n",
      "353\n",
      "354\n",
      "355\n",
      "363\n",
      "366\n",
      "368\n",
      "370\n",
      "372\n",
      "380\n",
      "404\n",
      "426\n",
      "432\n",
      "434\n",
      "439\n",
      "448\n",
      "455\n",
      "456\n",
      "496\n",
      "498\n",
      "[[[0 0 0]\n",
      "  [0 0 0]\n",
      "  [0 0 0]\n",
      "  ...\n",
      "  [0 0 0]\n",
      "  [0 0 0]\n",
      "  [0 0 0]]\n",
      "\n",
      " [[0 0 0]\n",
      "  [0 0 0]\n",
      "  [0 0 0]\n",
      "  ...\n",
      "  [0 0 0]\n",
      "  [0 0 0]\n",
      "  [0 0 0]]\n",
      "\n",
      " [[0 0 0]\n",
      "  [0 0 0]\n",
      "  [0 0 0]\n",
      "  ...\n",
      "  [0 0 0]\n",
      "  [0 0 0]\n",
      "  [0 0 0]]\n",
      "\n",
      " ...\n",
      "\n",
      " [[0 0 0]\n",
      "  [0 0 0]\n",
      "  [0 0 0]\n",
      "  ...\n",
      "  [0 0 0]\n",
      "  [0 0 0]\n",
      "  [0 0 0]]\n",
      "\n",
      " [[0 0 0]\n",
      "  [0 0 0]\n",
      "  [0 0 0]\n",
      "  ...\n",
      "  [0 0 0]\n",
      "  [0 0 0]\n",
      "  [0 0 0]]\n",
      "\n",
      " [[0 0 0]\n",
      "  [0 0 0]\n",
      "  [0 0 0]\n",
      "  ...\n",
      "  [0 0 0]\n",
      "  [0 0 0]\n",
      "  [0 0 0]]]\n"
     ]
    }
   ],
   "source": [
    "import numpy as np\n",
    "from PIL import Image\n",
    "\n",
    "def get_price(contractAddress, tokenid, roundto):\n",
    "    response = json.loads(getNFTSales(contractAddress,tokenid).content)\n",
    "    res = int(response['nftSales'][-1]['sellerFee']['amount'])/ (10**int(response['nftSales'][-1]['sellerFee']['decimals']))\n",
    "    res = round(res, roundto)\n",
    "    return res\n",
    "\n",
    "\n",
    "image_data = np.zeros((500, 1262, 1262, 3), dtype=np.uint8)\n",
    "price_data = np.zeros(500, dtype=np.float32)\n",
    "\n",
    "curr = 1\n",
    "\n",
    "for i in range(1,501):   \n",
    "    \n",
    "    try:\n",
    "        price = get_price('0x60E4d786628Fea6478F785A6d7e704777c86a7c6', i, 5)\n",
    "        \n",
    "    except:\n",
    "        print(i)\n",
    "        continue\n",
    "    \n",
    "    \n",
    "    # 构造图片路径\n",
    "    image_path = \"/Users/huohongyi/Desktop/BlockchainData/IPFS_interface/Monkeys/{}.png\".format(i)\n",
    "    # 使用Pillow库打开图片\n",
    "    image = Image.open(image_path)\n",
    "    # 将图片转换为RGB模式\n",
    "    image = image.convert(\"RGB\")\n",
    "    # 将图片转换为numpy数组，并存储到三维数组中\n",
    "    image_data[curr-1] = np.array(image)\n",
    "    price_data[curr-1] = price\n",
    "    curr+=1    \n",
    "    \n",
    "# 显示第一张图片的RGB值\n",
    "print(image_data[0])\n",
    "\n"
   ]
  },
  {
   "cell_type": "code",
   "execution_count": 113,
   "id": "1a87693e",
   "metadata": {},
   "outputs": [
    {
     "name": "stdout",
     "output_type": "stream",
     "text": [
      "448\n"
     ]
    }
   ],
   "source": [
    "print(curr) #449"
   ]
  },
  {
   "cell_type": "code",
   "execution_count": 114,
   "id": "879795ff",
   "metadata": {},
   "outputs": [
    {
     "name": "stdout",
     "output_type": "stream",
     "text": [
      "447\n"
     ]
    }
   ],
   "source": [
    "num=0\n",
    "for i in range(500):\n",
    "    if price_data[i] != 0:\n",
    "        num+=1\n",
    "print(num)"
   ]
  },
  {
   "cell_type": "code",
   "execution_count": 121,
   "id": "21eff844",
   "metadata": {},
   "outputs": [
    {
     "name": "stdout",
     "output_type": "stream",
     "text": [
      "6.65\n"
     ]
    }
   ],
   "source": [
    "print(price_data[0])"
   ]
  },
  {
   "cell_type": "markdown",
   "id": "46259b1a",
   "metadata": {},
   "source": [
    "# idx： 0 到 447 有东西，448之后没内容\n"
   ]
  },
  {
   "cell_type": "code",
   "execution_count": 97,
   "id": "6671656a",
   "metadata": {},
   "outputs": [],
   "source": [
    "# import numpy as np\n",
    "# import pickle\n",
    "\n",
    "# # 创建一个numpy数组\n",
    "# my_array = np.array([[1, 2, 3], [4, 5, 6], [7, 8, 9]])\n",
    "\n",
    "# # 将数组保存为pickle文件\n",
    "# with open(\"my_array.pickle\", \"wb\") as f:\n",
    "#     pickle.dump(my_array, f)\n"
   ]
  },
  {
   "cell_type": "code",
   "execution_count": 116,
   "id": "60140428",
   "metadata": {},
   "outputs": [],
   "source": [
    "import numpy as np\n",
    "import pickle\n",
    "\n",
    "# 将image_data数组保存为pickle文件\n",
    "with open(\"image_data.pickle\", \"wb\") as f:\n",
    "    pickle.dump(image_data, f)"
   ]
  },
  {
   "cell_type": "code",
   "execution_count": 117,
   "id": "87b4936e",
   "metadata": {},
   "outputs": [],
   "source": [
    "import numpy as np\n",
    "import pickle\n",
    "\n",
    "# 将price_data数组保存为pickle文件\n",
    "with open(\"price_data.pickle\", \"wb\") as f:\n",
    "    pickle.dump(price_data, f)"
   ]
  },
  {
   "cell_type": "code",
   "execution_count": 6,
   "id": "4702edf8",
   "metadata": {},
   "outputs": [
    {
     "name": "stdout",
     "output_type": "stream",
     "text": [
      "[6.650000e+00 2.090000e+01 1.430000e+01 4.750000e+00 2.565000e+01\n",
      " 1.643500e+01 2.318000e+01 2.530750e+01 7.600000e+00 3.123600e+01\n",
      " 1.283550e+01 1.947500e+01 6.175000e+00 5.177500e+00 1.708100e+01\n",
      " 1.330000e+01 3.325000e+01 1.183400e+01 2.375000e+01 8.455000e+00\n",
      " 1.387000e+01 1.337489e+01 1.327171e+01 2.165050e+01 8.550000e+00\n",
      " 6.868500e+00 1.752750e+01 3.705000e+00 5.225000e+00 1.172300e+01\n",
      " 5.937500e+00 7.505000e+00 5.320000e+00 2.200000e+01 1.733977e+01\n",
      " 1.045000e+01 2.660000e+01 1.400000e+01 1.277083e+01 2.089050e+01\n",
      " 1.520000e+01 1.818300e+01 1.558000e+01 2.755000e+01 1.610000e+01\n",
      " 5.700000e+00 1.605500e+01 1.319360e+01 1.814500e+01 2.850000e+01\n",
      " 6.555000e+00 1.260665e+01 2.080500e+01 5.367500e+00 2.196500e+01\n",
      " 3.492000e+01 4.560000e+00 2.310000e+01 1.646725e+01 1.520000e+01\n",
      " 6.602500e+00 1.710000e+01 1.158050e+01 6.365000e+00 1.329050e+01\n",
      " 1.709997e+01 1.789000e+01 4.370000e+01 1.205550e+01 1.330216e+01\n",
      " 4.750000e+00 1.312306e+01 1.097600e+01 4.446000e+00 1.320236e+01\n",
      " 8.056000e+00 9.500000e+00 9.470550e+00 3.800000e+00 1.886500e+01\n",
      " 6.412500e+00 8.360000e+00 4.180000e+00 1.165000e+01 4.373450e+00\n",
      " 1.666625e+01 1.329900e+01 2.200000e+01 4.750000e+00 1.345976e+01\n",
      " 1.092500e+01 1.395550e+01 1.560940e+01 5.795000e+00 2.768545e+01\n",
      " 3.704050e+01 8.615550e+00 1.805000e+01 1.655375e+01 1.034800e+01\n",
      " 1.615000e+01 8.255500e+00 1.631800e+01 1.201956e+01 1.989990e+01\n",
      " 2.744550e+01 9.262500e+00 1.318600e+01 2.089050e+01 2.079360e+01\n",
      " 7.581000e+00 7.381500e+00 2.232500e+01 6.840000e+00 1.406000e+01\n",
      " 1.878560e+01 5.225000e+00 5.462500e+00 1.592000e+01 1.612895e+01\n",
      " 7.505000e+00 1.606925e+01 1.392005e+01 1.995000e+01 2.374050e+01\n",
      " 1.938000e+01 1.312405e+01 1.876250e+01 1.786000e+01 4.180000e+00\n",
      " 2.150000e+01 1.510000e+01 1.424050e+01 1.506700e+01 1.888600e+01\n",
      " 4.636000e+00 6.080000e+00 3.705000e+00 1.653000e+01 1.447725e+01\n",
      " 5.035000e+00 3.420000e+01 9.500000e+00 1.472500e+01 2.147000e+01\n",
      " 1.432500e+01 2.707500e+01 6.555000e+00 8.455000e+00 1.439000e+01\n",
      " 2.066250e+01 2.736000e+01 7.077500e+00 1.519050e+01 1.757500e+01\n",
      " 9.262500e+00 1.235690e+01 1.363150e+01 1.424050e+01 1.864999e+01\n",
      " 1.662500e+01 1.395949e+01 1.154200e+01 1.320500e+01 3.920000e+01\n",
      " 1.995000e+01 1.635620e+01 1.182060e+01 1.392700e+01 1.890500e+01\n",
      " 1.511405e+01 1.862000e+01 1.894300e+01 5.557500e+00 2.090000e+01\n",
      " 2.030000e+01 2.850000e+01 1.187500e+01 1.691500e+01 2.183100e+01\n",
      " 6.650000e+00 5.510000e+00 1.472500e+01 2.612500e+01 1.424050e+01\n",
      " 1.623500e+01 1.282500e+01 2.945000e+01 1.775550e+01 1.274595e+01\n",
      " 2.090000e+01 1.508600e+01 5.605000e+00 1.611900e+01 8.740000e+00\n",
      " 4.655000e+00 1.100000e+01 4.265500e+00 1.092500e+01 9.500000e+00\n",
      " 2.865000e+01 2.175500e+01 3.342500e+01 5.367500e+00 1.045000e+01\n",
      " 1.000000e+02 4.748860e+00 1.700000e+01 2.185000e+01 6.023000e+00\n",
      " 2.375000e+01 3.485550e+01 4.341500e+01 1.710000e+01 3.990000e+00\n",
      " 1.727100e+01 1.472500e+01 3.277500e+01 1.626875e+01 4.132500e+01\n",
      " 5.795000e+00 2.090000e+01 2.137500e+01 3.581500e+00 1.859655e+01\n",
      " 1.793600e+01 2.849050e+01 4.085000e+00 1.282500e+01 1.635000e+01\n",
      " 9.490500e+00 2.660000e+01 1.045000e+01 1.191300e+01 1.476580e+01\n",
      " 1.235000e+01 1.662500e+01 3.800000e+01 1.402950e+01 3.770550e+01\n",
      " 1.596000e+01 1.919550e+01 1.520000e+01 1.615000e+01 1.130500e+01\n",
      " 1.109425e+01 6.555000e+00 4.503000e+00 2.650000e+01 1.320500e+01\n",
      " 4.370000e+01 3.514050e+00 8.787500e+00 4.037500e+00 1.234050e+01\n",
      " 1.852500e+01 2.845250e+01 7.505000e+00 5.120500e+00 1.567500e+01\n",
      " 9.205500e+00 2.014950e+01 1.512300e+01 1.600750e+01 6.555000e+00\n",
      " 7.600000e+00 1.757500e+01 1.520000e+01 1.752750e+01 4.037500e+00\n",
      " 4.085000e+00 1.266635e+01 6.080000e+00 1.700000e+01 2.327500e+01\n",
      " 5.595500e+00 1.130500e+01 1.843000e+01 2.565000e+01 6.327000e+00\n",
      " 1.270000e+01 6.640500e+00 1.688882e+01 4.339410e+00 1.487425e+01\n",
      " 2.155550e+01 7.476500e+00 3.686000e+00 1.417775e+01 4.066000e+01\n",
      " 1.391750e+01 2.755000e+01 4.180000e+00 9.500000e+00 1.425000e+01\n",
      " 1.800000e+01 3.752500e+00 6.650000e+00 2.660000e+01 2.375000e+01\n",
      " 1.477575e+01 1.629999e+01 1.575000e+01 1.472500e+01 7.372000e+00\n",
      " 1.384750e+01 2.185000e+01 2.375000e+01 3.832490e+01 6.251000e+00\n",
      " 1.021865e+01 2.110900e+01 1.243750e+01 1.792650e+01 1.390000e+01\n",
      " 1.648250e+01 6.982500e+00 7.790000e+00 5.367500e+00 1.425000e+01\n",
      " 2.721750e+01 4.750000e+00 2.184050e+01 2.950950e+01 5.586000e+00\n",
      " 2.090000e+01 1.606687e+01 5.225000e+00 3.785750e+01 4.275000e+00\n",
      " 1.700500e+01 3.230000e+01 1.805000e+01 4.457400e+00 2.006551e+01\n",
      " 1.259060e+01 4.655000e+04 1.852500e+01 5.890000e+00 5.890000e+00\n",
      " 1.805000e+01 2.663380e+01 1.396500e+01 1.482000e+01 3.325000e+01\n",
      " 2.317050e+01 1.260000e+01 4.693000e+00 1.755600e+01 1.368000e+01\n",
      " 1.400000e+01 1.924700e+01 5.120500e+00 2.865000e+01 1.173250e+01\n",
      " 3.790500e+00 1.610000e+01 2.802500e+01 1.149500e+01 1.710000e+01\n",
      " 2.165000e+01 2.517500e+01 1.396800e+01 1.457675e+01 2.104250e+01\n",
      " 1.235000e+01 2.935500e+01 3.496000e+01 1.709050e+01 4.011000e+01\n",
      " 1.610000e+01 1.900000e+01 1.450150e+01 1.083555e+01 1.488800e+01\n",
      " 3.230000e+01 1.045000e+01 1.414550e+01 3.420000e+01 1.290316e+01\n",
      " 1.900000e+01 1.365140e+01 1.708955e+01 4.037500e+00 3.800000e+00\n",
      " 2.249600e+01 1.852500e+01 1.624500e+01 2.850000e+01 1.300550e+01\n",
      " 4.987500e+00 7.381500e+00 4.275000e+00 6.650000e+00 7.504900e+00\n",
      " 1.390000e+01 6.620550e+00 2.707500e+01 9.500000e+00 4.607500e+00\n",
      " 3.880750e+00 4.018500e+00 4.560000e+00 2.565000e+01 1.615000e+01\n",
      " 7.267500e+00 3.473200e+01 1.140000e+01 1.691192e+01 6.175000e+00\n",
      " 5.405500e+00 1.257750e+01 6.650000e+00 2.101000e+01 1.317002e+01\n",
      " 1.615000e+01 8.436000e+00 5.510000e+00 1.995000e+01 1.970100e+01\n",
      " 2.985000e+00 1.377500e+01 1.642000e+01 7.125000e+00 4.655000e+01\n",
      " 2.564050e+01 1.139050e+01 1.641750e+01 2.375000e+01 1.140000e+01\n",
      " 2.251500e+01 2.543150e+01 7.125000e+00 2.004500e+01 1.900000e+01\n",
      " 2.502100e+01 2.042745e+01 1.163750e+01 8.502500e+00 1.375000e+01\n",
      " 3.000000e+01 2.299000e+01 2.042500e+01 2.132750e+01 3.325000e+01\n",
      " 4.275000e+00 1.983600e+01 0.000000e+00 0.000000e+00 0.000000e+00\n",
      " 0.000000e+00 0.000000e+00 0.000000e+00 0.000000e+00 0.000000e+00\n",
      " 0.000000e+00 0.000000e+00 0.000000e+00 0.000000e+00 0.000000e+00\n",
      " 0.000000e+00 0.000000e+00 0.000000e+00 0.000000e+00 0.000000e+00\n",
      " 0.000000e+00 0.000000e+00 0.000000e+00 0.000000e+00 0.000000e+00\n",
      " 0.000000e+00 0.000000e+00 0.000000e+00 0.000000e+00 0.000000e+00\n",
      " 0.000000e+00 0.000000e+00 0.000000e+00 0.000000e+00 0.000000e+00\n",
      " 0.000000e+00 0.000000e+00 0.000000e+00 0.000000e+00 0.000000e+00\n",
      " 0.000000e+00 0.000000e+00 0.000000e+00 0.000000e+00 0.000000e+00\n",
      " 0.000000e+00 0.000000e+00 0.000000e+00 0.000000e+00 0.000000e+00\n",
      " 0.000000e+00 0.000000e+00 0.000000e+00 0.000000e+00 0.000000e+00]\n"
     ]
    }
   ],
   "source": [
    "import numpy as np\n",
    "import pickle\n",
    "\n",
    "# 从pickle文件中加载数组\n",
    "with open(\"price_data.pickle\", \"rb\") as f:\n",
    "    array2 = pickle.load(f)\n",
    "\n",
    "# 打印数组\n",
    "print(array2)"
   ]
  },
  {
   "cell_type": "code",
   "execution_count": 5,
   "id": "8becfbea",
   "metadata": {},
   "outputs": [
    {
     "name": "stdout",
     "output_type": "stream",
     "text": [
      "[[[[0 0 0]\n",
      "   [0 0 0]\n",
      "   [0 0 0]\n",
      "   ...\n",
      "   [0 0 0]\n",
      "   [0 0 0]\n",
      "   [0 0 0]]\n",
      "\n",
      "  [[0 0 0]\n",
      "   [0 0 0]\n",
      "   [0 0 0]\n",
      "   ...\n",
      "   [0 0 0]\n",
      "   [0 0 0]\n",
      "   [0 0 0]]\n",
      "\n",
      "  [[0 0 0]\n",
      "   [0 0 0]\n",
      "   [0 0 0]\n",
      "   ...\n",
      "   [0 0 0]\n",
      "   [0 0 0]\n",
      "   [0 0 0]]\n",
      "\n",
      "  ...\n",
      "\n",
      "  [[0 0 0]\n",
      "   [0 0 0]\n",
      "   [0 0 0]\n",
      "   ...\n",
      "   [0 0 0]\n",
      "   [0 0 0]\n",
      "   [0 0 0]]\n",
      "\n",
      "  [[0 0 0]\n",
      "   [0 0 0]\n",
      "   [0 0 0]\n",
      "   ...\n",
      "   [0 0 0]\n",
      "   [0 0 0]\n",
      "   [0 0 0]]\n",
      "\n",
      "  [[0 0 0]\n",
      "   [0 0 0]\n",
      "   [0 0 0]\n",
      "   ...\n",
      "   [0 0 0]\n",
      "   [0 0 0]\n",
      "   [0 0 0]]]\n",
      "\n",
      "\n",
      " [[[0 0 0]\n",
      "   [0 0 0]\n",
      "   [0 0 0]\n",
      "   ...\n",
      "   [0 0 0]\n",
      "   [0 0 0]\n",
      "   [0 0 0]]\n",
      "\n",
      "  [[0 0 0]\n",
      "   [0 0 0]\n",
      "   [0 0 0]\n",
      "   ...\n",
      "   [0 0 0]\n",
      "   [0 0 0]\n",
      "   [0 0 0]]\n",
      "\n",
      "  [[0 0 0]\n",
      "   [0 0 0]\n",
      "   [0 0 0]\n",
      "   ...\n",
      "   [0 0 0]\n",
      "   [0 0 0]\n",
      "   [0 0 0]]\n",
      "\n",
      "  ...\n",
      "\n",
      "  [[0 0 0]\n",
      "   [0 0 0]\n",
      "   [0 0 0]\n",
      "   ...\n",
      "   [0 0 0]\n",
      "   [0 0 0]\n",
      "   [0 0 0]]\n",
      "\n",
      "  [[0 0 0]\n",
      "   [0 0 0]\n",
      "   [0 0 0]\n",
      "   ...\n",
      "   [0 0 0]\n",
      "   [0 0 0]\n",
      "   [0 0 0]]\n",
      "\n",
      "  [[0 0 0]\n",
      "   [0 0 0]\n",
      "   [0 0 0]\n",
      "   ...\n",
      "   [0 0 0]\n",
      "   [0 0 0]\n",
      "   [0 0 0]]]\n",
      "\n",
      "\n",
      " [[[0 0 0]\n",
      "   [0 0 0]\n",
      "   [0 0 0]\n",
      "   ...\n",
      "   [0 0 0]\n",
      "   [0 0 0]\n",
      "   [0 0 0]]\n",
      "\n",
      "  [[0 0 0]\n",
      "   [0 0 0]\n",
      "   [0 0 0]\n",
      "   ...\n",
      "   [0 0 0]\n",
      "   [0 0 0]\n",
      "   [0 0 0]]\n",
      "\n",
      "  [[0 0 0]\n",
      "   [0 0 0]\n",
      "   [0 0 0]\n",
      "   ...\n",
      "   [0 0 0]\n",
      "   [0 0 0]\n",
      "   [0 0 0]]\n",
      "\n",
      "  ...\n",
      "\n",
      "  [[0 0 0]\n",
      "   [0 0 0]\n",
      "   [0 0 0]\n",
      "   ...\n",
      "   [0 0 0]\n",
      "   [0 0 0]\n",
      "   [0 0 0]]\n",
      "\n",
      "  [[0 0 0]\n",
      "   [0 0 0]\n",
      "   [0 0 0]\n",
      "   ...\n",
      "   [0 0 0]\n",
      "   [0 0 0]\n",
      "   [0 0 0]]\n",
      "\n",
      "  [[0 0 0]\n",
      "   [0 0 0]\n",
      "   [0 0 0]\n",
      "   ...\n",
      "   [0 0 0]\n",
      "   [0 0 0]\n",
      "   [0 0 0]]]\n",
      "\n",
      "\n",
      " ...\n",
      "\n",
      "\n",
      " [[[0 0 0]\n",
      "   [0 0 0]\n",
      "   [0 0 0]\n",
      "   ...\n",
      "   [0 0 0]\n",
      "   [0 0 0]\n",
      "   [0 0 0]]\n",
      "\n",
      "  [[0 0 0]\n",
      "   [0 0 0]\n",
      "   [0 0 0]\n",
      "   ...\n",
      "   [0 0 0]\n",
      "   [0 0 0]\n",
      "   [0 0 0]]\n",
      "\n",
      "  [[0 0 0]\n",
      "   [0 0 0]\n",
      "   [0 0 0]\n",
      "   ...\n",
      "   [0 0 0]\n",
      "   [0 0 0]\n",
      "   [0 0 0]]\n",
      "\n",
      "  ...\n",
      "\n",
      "  [[0 0 0]\n",
      "   [0 0 0]\n",
      "   [0 0 0]\n",
      "   ...\n",
      "   [0 0 0]\n",
      "   [0 0 0]\n",
      "   [0 0 0]]\n",
      "\n",
      "  [[0 0 0]\n",
      "   [0 0 0]\n",
      "   [0 0 0]\n",
      "   ...\n",
      "   [0 0 0]\n",
      "   [0 0 0]\n",
      "   [0 0 0]]\n",
      "\n",
      "  [[0 0 0]\n",
      "   [0 0 0]\n",
      "   [0 0 0]\n",
      "   ...\n",
      "   [0 0 0]\n",
      "   [0 0 0]\n",
      "   [0 0 0]]]\n",
      "\n",
      "\n",
      " [[[0 0 0]\n",
      "   [0 0 0]\n",
      "   [0 0 0]\n",
      "   ...\n",
      "   [0 0 0]\n",
      "   [0 0 0]\n",
      "   [0 0 0]]\n",
      "\n",
      "  [[0 0 0]\n",
      "   [0 0 0]\n",
      "   [0 0 0]\n",
      "   ...\n",
      "   [0 0 0]\n",
      "   [0 0 0]\n",
      "   [0 0 0]]\n",
      "\n",
      "  [[0 0 0]\n",
      "   [0 0 0]\n",
      "   [0 0 0]\n",
      "   ...\n",
      "   [0 0 0]\n",
      "   [0 0 0]\n",
      "   [0 0 0]]\n",
      "\n",
      "  ...\n",
      "\n",
      "  [[0 0 0]\n",
      "   [0 0 0]\n",
      "   [0 0 0]\n",
      "   ...\n",
      "   [0 0 0]\n",
      "   [0 0 0]\n",
      "   [0 0 0]]\n",
      "\n",
      "  [[0 0 0]\n",
      "   [0 0 0]\n",
      "   [0 0 0]\n",
      "   ...\n",
      "   [0 0 0]\n",
      "   [0 0 0]\n",
      "   [0 0 0]]\n",
      "\n",
      "  [[0 0 0]\n",
      "   [0 0 0]\n",
      "   [0 0 0]\n",
      "   ...\n",
      "   [0 0 0]\n",
      "   [0 0 0]\n",
      "   [0 0 0]]]\n",
      "\n",
      "\n",
      " [[[0 0 0]\n",
      "   [0 0 0]\n",
      "   [0 0 0]\n",
      "   ...\n",
      "   [0 0 0]\n",
      "   [0 0 0]\n",
      "   [0 0 0]]\n",
      "\n",
      "  [[0 0 0]\n",
      "   [0 0 0]\n",
      "   [0 0 0]\n",
      "   ...\n",
      "   [0 0 0]\n",
      "   [0 0 0]\n",
      "   [0 0 0]]\n",
      "\n",
      "  [[0 0 0]\n",
      "   [0 0 0]\n",
      "   [0 0 0]\n",
      "   ...\n",
      "   [0 0 0]\n",
      "   [0 0 0]\n",
      "   [0 0 0]]\n",
      "\n",
      "  ...\n",
      "\n",
      "  [[0 0 0]\n",
      "   [0 0 0]\n",
      "   [0 0 0]\n",
      "   ...\n",
      "   [0 0 0]\n",
      "   [0 0 0]\n",
      "   [0 0 0]]\n",
      "\n",
      "  [[0 0 0]\n",
      "   [0 0 0]\n",
      "   [0 0 0]\n",
      "   ...\n",
      "   [0 0 0]\n",
      "   [0 0 0]\n",
      "   [0 0 0]]\n",
      "\n",
      "  [[0 0 0]\n",
      "   [0 0 0]\n",
      "   [0 0 0]\n",
      "   ...\n",
      "   [0 0 0]\n",
      "   [0 0 0]\n",
      "   [0 0 0]]]]\n"
     ]
    }
   ],
   "source": [
    "import numpy as np\n",
    "import pickle\n",
    "\n",
    "# 从pickle文件中加载数组\n",
    "with open(\"image_data.pickle\", \"rb\") as f:\n",
    "    array1 = pickle.load(f)\n",
    "\n",
    "# 打印数组\n",
    "print(array1)\n"
   ]
  },
  {
   "cell_type": "code",
   "execution_count": null,
   "id": "05fac6b6",
   "metadata": {},
   "outputs": [],
   "source": []
  },
  {
   "cell_type": "code",
   "execution_count": 98,
   "id": "d2625d23",
   "metadata": {},
   "outputs": [
    {
     "name": "stdout",
     "output_type": "stream",
     "text": [
      "/Users/huohongyi/Desktop/BlockchainData/RGB Analyze \n"
     ]
    }
   ],
   "source": [
    "import os\n",
    "cwd = os.getcwd()\n",
    "print(cwd)\n"
   ]
  },
  {
   "cell_type": "code",
   "execution_count": 109,
   "id": "d20c163d",
   "metadata": {},
   "outputs": [
    {
     "name": "stdout",
     "output_type": "stream",
     "text": [
      "文件已成功删除\n"
     ]
    }
   ],
   "source": [
    "import os\n",
    "\n",
    "# 指定要删除的文件路径\n",
    "file_path = \"image_data.pickle\"\n",
    "\n",
    "# 使用os模块删除文件\n",
    "if os.path.exists(file_path):\n",
    "    os.remove(file_path)\n",
    "    print(\"文件已成功删除\")\n",
    "else:\n",
    "    print(\"文件不存在\")\n"
   ]
  },
  {
   "cell_type": "code",
   "execution_count": 123,
   "id": "883115fe",
   "metadata": {},
   "outputs": [
    {
     "name": "stdout",
     "output_type": "stream",
     "text": [
      "22.325\n"
     ]
    }
   ],
   "source": [
    "print(get_price('0x60E4d786628Fea6478F785A6d7e704777c86a7c6',122,5))"
   ]
  },
  {
   "cell_type": "code",
   "execution_count": 149,
   "id": "e9deb7aa",
   "metadata": {},
   "outputs": [
    {
     "name": "stdout",
     "output_type": "stream",
     "text": [
      "\t 1\n",
      "1 2\n"
     ]
    }
   ],
   "source": [
    "list = [1,2]\n",
    "l = [23,34,45,46,56]\n",
    "print('\\t' , 1) \n",
    "\n",
    "print(*list)"
   ]
  },
  {
   "cell_type": "code",
   "execution_count": null,
   "id": "02d79ff1",
   "metadata": {},
   "outputs": [],
   "source": [
    "import numpy as np\n",
    "from sklearn.ensemble import RandomForestRegressor\n",
    "from sklearn.decomposition import PCA\n",
    "from sklearn.model_selection import train_test_split\n",
    "\n",
    "# Load image data and price data\n",
    "array1 = np.array(array1)\n",
    "array2 = np.array(array2)\n",
    "\n",
    "# Use PCA to reduce feature dimensionality\n",
    "pca = PCA(n_components=100)\n",
    "X = pca.fit_transform(array1.reshape(array1.shape[0], -1))\n",
    "\n",
    "# Split into training and testing sets\n",
    "X_train, X_test, y_train, y_test = train_test_split(X, array2, test_size=0.2, random_state=42)\n",
    "\n",
    "# Use stratified sampling to reduce training set size\n",
    "sample_size = 500\n",
    "classes = np.unique(y_train)\n",
    "X_train_sampled = np.zeros((sample_size * len(classes), X_train.shape[1]))\n",
    "y_train_sampled = np.zeros(sample_size * len(classes))\n",
    "for i, c in enumerate(classes):\n",
    "    class_indices = np.where(y_train == c)[0]\n",
    "    sampled_indices = np.random.choice(class_indices, size=sample_size, replace=False)\n",
    "    X_train_sampled[i*sample_size:(i+1)*sample_size] = X_train[sampled_indices]\n",
    "    y_train_sampled[i*sample_size:(i+1)*sample_size] = y_train[sampled_indices]\n",
    "\n",
    "# Train random forest model\n",
    "rf = RandomForestRegressor(n_estimators=100, max_depth=10)\n",
    "rf.fit(X_train_sampled, y_train_sampled)\n",
    "\n",
    "# Calculate feature importances\n",
    "importances = rf.feature_importances_\n",
    "print(importances)\n",
    "\n",
    "# Calculate correlation coefficients\n",
    "corr_coef = np.corrcoef(X_train_sampled.T, y_train_sampled)\n",
    "print(corr_coef)\n"
   ]
  },
  {
   "cell_type": "code",
   "execution_count": null,
   "id": "d9191488",
   "metadata": {},
   "outputs": [],
   "source": [
    "import numpy as np\n",
    "from sklearn import svm\n",
    "from sklearn.decomposition import PCA\n",
    "from sklearn.model_selection import train_test_split\n",
    "\n",
    "# Load and preprocess dataset\n",
    "X = np.load('image_data.npy')\n",
    "y = np.load('price_data.npy')\n",
    "\n",
    "# Reduce dimensionality using PCA\n",
    "pca = PCA(n_components=100)\n",
    "X_pca = pca.fit_transform(X.reshape(X.shape[0], -1))\n",
    "\n",
    "# Split into training and testing sets\n",
    "X_train, X_test, y_train, y_test = train_test_split(X_pca, y, test_size=0.2, random_state=42)\n",
    "\n",
    "# Sample a subset of the training data\n",
    "train_idx = np.random.choice(X_train.shape[0], size=1000, replace=False)\n",
    "X_train = X_train[train_idx]\n",
    "y_train = y_train[train_idx]\n",
    "\n",
    "# Train SVM model\n",
    "svm_model = svm.SVR(kernel='rbf', C=10, gamma=0.01)\n",
    "svm_model.fit(X_train, y_train)\n",
    "\n",
    "# Evaluate model\n",
    "test_score = svm_model.score(X_test, y_test)\n",
    "\n",
    "# Calculate correlation coefficients\n",
    "corr_coef = np.corrcoef(X_pca.T, y)\n",
    "print(corr_coef)\n",
    "\n"
   ]
  },
  {
   "cell_type": "code",
   "execution_count": null,
   "id": "96de65db",
   "metadata": {},
   "outputs": [],
   "source": [
    "from tensorflow import keras\n",
    "from sklearn.model_selection import train_test_split\n",
    "import numpy as np\n",
    "\n",
    "# Load and preprocess dataset\n",
    "X = np.load('image_data.npy')\n",
    "y = np.load('price_data.npy')\n",
    "\n",
    "# Split into training and testing sets\n",
    "X_train, X_test, y_train, y_test = train_test_split(X, y, test_size=0.2, random_state=42)\n",
    "\n",
    "# Define neural network architecture\n",
    "model = keras.Sequential([\n",
    "    keras.layers.Dense(128, activation='relu', input_shape=(X.shape[1],)),\n",
    "    keras.layers.Dense(64, activation='relu'),\n",
    "    keras.layers.Dense(1, activation='linear')\n",
    "])\n",
    "\n",
    "# Compile model\n",
    "model.compile(optimizer='adam', loss='mse', metrics=['mae'])\n",
    "\n",
    "# Train model\n",
    "model.fit(X_train, y_train, epochs=50, batch_size=32, validation_data=(X_test, y_test))\n",
    "\n",
    "# Evaluate model\n",
    "test_loss, test_mae = model.evaluate(X_test, y_test)\n",
    "\n",
    "# Make predictions\n",
    "y_pred = model.predict(X_test)\n"
   ]
  },
  {
   "cell_type": "code",
   "execution_count": 124,
   "id": "3cb79bf6",
   "metadata": {},
   "outputs": [
    {
     "name": "stdout",
     "output_type": "stream",
     "text": [
      "499\n"
     ]
    }
   ],
   "source": [
    "print(i)"
   ]
  },
  {
   "cell_type": "code",
   "execution_count": null,
   "id": "b1daced5",
   "metadata": {},
   "outputs": [],
   "source": [
    "# print(len(features), len(labels))"
   ]
  }
 ],
 "metadata": {
  "kernelspec": {
   "display_name": "Python 3 (ipykernel)",
   "language": "python",
   "name": "python3"
  },
  "language_info": {
   "codemirror_mode": {
    "name": "ipython",
    "version": 3
   },
   "file_extension": ".py",
   "mimetype": "text/x-python",
   "name": "python",
   "nbconvert_exporter": "python",
   "pygments_lexer": "ipython3",
   "version": "3.9.12"
  }
 },
 "nbformat": 4,
 "nbformat_minor": 5
}
