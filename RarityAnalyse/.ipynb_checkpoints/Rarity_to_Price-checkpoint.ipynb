{
 "cells": [
  {
   "cell_type": "markdown",
   "id": "95af7f7f",
   "metadata": {},
   "source": [
    "# Rarity Analyse \n",
    "**created by yuteng_zeng on 4/23/2023**"
   ]
  },
  {
   "cell_type": "code",
   "execution_count": 6,
   "id": "80cf795c",
   "metadata": {},
   "outputs": [],
   "source": [
    "# install required library\n",
    "#!pip install web3"
   ]
  },
  {
   "cell_type": "code",
   "execution_count": 17,
   "id": "eebd91a3",
   "metadata": {},
   "outputs": [],
   "source": [
    "# import libraries\n",
    "import requests\n",
    "import json\n",
    "from web3 import Web3"
   ]
  },
  {
   "cell_type": "code",
   "execution_count": 56,
   "id": "be98a75a",
   "metadata": {},
   "outputs": [],
   "source": [
    "# get api_interfaces by tangyizhi\n",
    "# API factors\n",
    "API_key = 'PlIE5PSJaLBOTy67DORlQwY3MchgQxfP'\n",
    "API_url = \"https://eth-mainnet.g.alchemy.com/v2/PlIE5PSJaLBOTy67DORlQwY3MchgQxfP\"\n",
    "API_nft_url = 'https://eth-mainnet.g.alchemy.com/nft/v2/PlIE5PSJaLBOTy67DORlQwY3MchgQxfP'\n",
    "\n",
    "# data collection functions\n",
    "def getNFTsForCollection(contractAddress, withMetadata):\n",
    "    url = API_url + '/getNFTsForCollection?contractAddress=' + contractAddress + '&withMetadata=' + str(withMetadata)\n",
    "    r = requests.get(url, headers={\"accept\": \"application/json\"})\n",
    "    return r\n",
    "def getNFTSales(contractAddress, tokenid):\n",
    "    # from block 0 to latest block, with ascending order\n",
    "    url = API_url + '/getNFTSales?fromBlock=0&toBlock=latest&order=asc&contractAddress=' + contractAddress + '&tokenId=' + str(tokenid)\n",
    "    r = requests.get(url, headers={\"accept\": \"application/json\"})\n",
    "    return r\n",
    "\n",
    "def getFloorPrice(contractAddress):\n",
    "    url = API_nft_url + \"/getFloorPrice?contractAddress=\" + contractAddress\n",
    "    r = requests.get(url, headers={\"accept\": \"application/json\"})\n",
    "    return r\n",
    "\n",
    "def computeRarity(contractAddress, tokenid):\n",
    "    url = API_nft_url + '/computeRarity/?contractAddress=' + contractAddress + '&tokenId=' + str(tokenid)\n",
    "    r = requests.get(url, headers={\"accept\": \"application/json\"})\n",
    "    return r\n",
    "\n",
    "def getMetaData(contractAddress, tokenid):\n",
    "    url = API_nft_url + '/getNFTMetadata?contractAddress=' + contractAddress + '&tokenId=' + str(tokenid) + '&refreshCache=false'\n",
    "    r = requests.get(url, headers={\"accept\": \"application/json\"})\n",
    "    return r\n",
    "\n",
    "def getNFTAttributes(contractAddress):\n",
    "    url = API_nft_url + '/summarizeNFTAttributes?contractAddress=' + contractAddress\n",
    "    r = requests.get(url, headers={\"accept\": \"application/json\"})\n",
    "    return r"
   ]
  },
  {
   "cell_type": "markdown",
   "id": "5830e34d",
   "metadata": {},
   "source": [
    "*The following is api test and further utils for data collection and prep*"
   ]
  },
  {
   "cell_type": "code",
   "execution_count": 57,
   "id": "1942f48d",
   "metadata": {},
   "outputs": [
    {
     "name": "stdout",
     "output_type": "stream",
     "text": [
      "{'contract': {'address': '0x60e4d786628fea6478f785a6d7e704777c86a7c6'}, 'id': {'tokenId': '0x0000000000000000000000000000000000000000000000000000000000000000', 'tokenMetadata': {'tokenType': 'ERC721'}}, 'title': '', 'description': '', 'tokenUri': {'gateway': 'https://boredapeyachtclub.com/api/mutants/0', 'raw': 'https://boredapeyachtclub.com/api/mutants/0'}, 'media': [{'gateway': 'https://nft-cdn.alchemy.com/eth-mainnet/c480d814f8a4e2b5f02dd3aa189ca742', 'thumbnail': 'https://res.cloudinary.com/alchemyapi/image/upload/thumbnailv2/eth-mainnet/c480d814f8a4e2b5f02dd3aa189ca742', 'raw': 'ipfs://QmURua8bNrAwX76Tp6G9t6Lospdxyt61JGy3UsXY7skfR1', 'format': 'png', 'bytes': 577530}], 'metadata': {'image': 'ipfs://QmURua8bNrAwX76Tp6G9t6Lospdxyt61JGy3UsXY7skfR1', 'attributes': [{'value': 'M1 Purple', 'trait_type': 'Background'}, {'value': 'M1 Cheetah', 'trait_type': 'Fur'}, {'value': 'M1 Scumbag', 'trait_type': 'Eyes'}, {'value': 'M1 Toga', 'trait_type': 'Clothes'}, {'value': 'M1 Bored Unshaven', 'trait_type': 'Mouth'}]}, 'timeLastUpdated': '2023-04-18T02:34:09.376Z', 'contractMetadata': {'name': 'MutantApeYachtClub', 'symbol': 'MAYC', 'totalSupply': '19468', 'tokenType': 'ERC721', 'contractDeployer': '0x9056d15c49b19df52ffad1e6c11627f035c0c960', 'deployedBlockNumber': 13117018, 'openSea': {'floorPrice': 15.5, 'collectionName': 'Mutant Ape Yacht Club', 'safelistRequestStatus': 'verified', 'imageUrl': 'https://i.seadn.io/gae/lHexKRMpw-aoSyB1WdFBff5yfANLReFxHzt1DOj_sg7mS14yARpuvYcUtsyyx-Nkpk6WTcUPFoG53VnLJezYi8hAs0OxNZwlw6Y-dmI?w=500&auto=format', 'description': 'The MUTANT APE YACHT CLUB is a collection of up to 20,000 Mutant Apes that can only be created by exposing an existing Bored Ape to a vial of MUTANT SERUM or by minting a Mutant Ape in the public sale.', 'lastIngestedAt': '2023-03-18T01:37:24.000Z'}}}\n"
     ]
    }
   ],
   "source": [
    "response = json.loads(getNFTsForCollection('0x60E4d786628Fea6478F785A6d7e704777c86a7c6', True).content)\n",
    "print(response['nfts'][0])"
   ]
  },
  {
   "cell_type": "code",
   "execution_count": 45,
   "id": "af2c2216",
   "metadata": {},
   "outputs": [
    {
     "name": "stdout",
     "output_type": "stream",
     "text": [
      "dict_keys(['Fur', 'Eyes', 'Background', 'Mouth', 'Clothes', 'Earring', 'Hat', 'Name'])\n"
     ]
    }
   ],
   "source": [
    "response = json.loads(getNFTAttributes('0x60E4d786628Fea6478F785A6d7e704777c86a7c6').content)\n",
    "print(response['summary'].keys())"
   ]
  },
  {
   "cell_type": "code",
   "execution_count": 49,
   "id": "f4318e3c",
   "metadata": {},
   "outputs": [
    {
     "name": "stdout",
     "output_type": "stream",
     "text": [
      "[{'value': 'M1 Purple', 'trait_type': 'Background', 'prevalence': 0.09621621621621622}, {'value': 'M1 Cheetah', 'trait_type': 'Fur', 'prevalence': 0.03099099099099099}, {'value': 'M1 Scumbag', 'trait_type': 'Eyes', 'prevalence': 0.016885456885456885}, {'value': 'M1 Toga', 'trait_type': 'Clothes', 'prevalence': 0.01662805662805663}, {'value': 'M1 Bored Unshaven', 'trait_type': 'Mouth', 'prevalence': 0.11613899613899614}]\n"
     ]
    }
   ],
   "source": [
    "response = json.loads(computeRarity('0x60E4d786628Fea6478F785A6d7e704777c86a7c6',0).content)\n",
    "print(response)"
   ]
  },
  {
   "cell_type": "code",
   "execution_count": 55,
   "id": "a692cae5",
   "metadata": {},
   "outputs": [
    {
     "name": "stdout",
     "output_type": "stream",
     "text": [
      "{'amount': '23740500000000000000', 'tokenAddress': '0x0000000000000000000000000000000000000000', 'symbol': 'ETH', 'decimals': 18}\n",
      "{'amount': '624750000000000000', 'tokenAddress': '0x0000000000000000000000000000000000000000', 'symbol': 'ETH', 'decimals': 18}\n",
      "{'amount': '624750000000000000', 'tokenAddress': '0x0000000000000000000000000000000000000000', 'symbol': 'ETH', 'decimals': 18}\n"
     ]
    }
   ],
   "source": [
    "response = json.loads(getNFTSales('0x60E4d786628Fea6478F785A6d7e704777c86a7c6',555).content)\n",
    "print(response['nftSales'][-1]['sellerFee'])\n",
    "print(response['nftSales'][-1]['protocolFee'])\n",
    "print(response['nftSales'][-1]['royaltyFee'])"
   ]
  },
  {
   "cell_type": "code",
   "execution_count": 72,
   "id": "7533c22d",
   "metadata": {},
   "outputs": [
    {
     "data": {
      "text/plain": [
       "23.7405"
      ]
     },
     "execution_count": 72,
     "metadata": {},
     "output_type": "execute_result"
    }
   ],
   "source": [
    "# get the sell price from the api\n",
    "def get_price(contractAddress, tokenid, roundto):\n",
    "    response = json.loads(getNFTSales(contractAddress,tokenid).content)\n",
    "    res = int(response['nftSales'][-1]['sellerFee']['amount'])/ (10**int(response['nftSales'][-1]['sellerFee']['decimals']))\n",
    "    res = round(res, roundto)\n",
    "    return res\n",
    "\n",
    "get_price('0x60E4d786628Fea6478F785A6d7e704777c86a7c6',555,5)"
   ]
  },
  {
   "cell_type": "code",
   "execution_count": null,
   "id": "08afe89a",
   "metadata": {},
   "outputs": [],
   "source": [
    "# make the dataset using the template ['Fur', 'Eyes', 'Background', 'Mouth', 'Clothes', 'Earring', 'Hat', 'Name']\n",
    "attribute_list = ['Fur', 'Eyes', 'Background', 'Mouth', 'Clothes', 'Earring', 'Hat', 'Name']\n",
    "\n",
    "# "
   ]
  }
 ],
 "metadata": {
  "kernelspec": {
   "display_name": "Python 3 (ipykernel)",
   "language": "python",
   "name": "python3"
  },
  "language_info": {
   "codemirror_mode": {
    "name": "ipython",
    "version": 3
   },
   "file_extension": ".py",
   "mimetype": "text/x-python",
   "name": "python",
   "nbconvert_exporter": "python",
   "pygments_lexer": "ipython3",
   "version": "3.9.13"
  }
 },
 "nbformat": 4,
 "nbformat_minor": 5
}
