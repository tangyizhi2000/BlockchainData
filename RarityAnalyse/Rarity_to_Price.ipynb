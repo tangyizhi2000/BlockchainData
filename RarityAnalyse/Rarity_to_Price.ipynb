{
 "cells": [
  {
   "cell_type": "markdown",
   "id": "8ec53bf3",
   "metadata": {},
   "source": [
    "# Rarity Analyse \n",
    "**created by yuteng_zeng on 4/23/2023**"
   ]
  },
  {
   "cell_type": "code",
   "execution_count": 1,
   "id": "e66207e0",
   "metadata": {},
   "outputs": [],
   "source": [
    "# install required library\n",
    "#!pip install web3"
   ]
  },
  {
   "cell_type": "code",
   "execution_count": 20,
   "id": "845b6ddc",
   "metadata": {},
   "outputs": [],
   "source": [
    "# import libraries\n",
    "import requests\n",
    "import json\n",
    "from web3 import Web3\n",
    "\n",
    "import numpy as np\n",
    "import os\n",
    "import time\n",
    "import h5py\n",
    "\n",
    "import torch\n",
    "import torch.nn as nn\n",
    "import torch.nn.functional as F\n",
    "import torch.optim as optim\n",
    "\n",
    "import matplotlib.pyplot as plt\n",
    "\n",
    "import pickle"
   ]
  },
  {
   "cell_type": "code",
   "execution_count": 3,
   "id": "28d30ca3",
   "metadata": {},
   "outputs": [],
   "source": [
    "# get api_interfaces by tangyizhi\n",
    "# API factors\n",
    "API_key = 'PlIE5PSJaLBOTy67DORlQwY3MchgQxfP'\n",
    "API_url = \"https://eth-mainnet.g.alchemy.com/v2/PlIE5PSJaLBOTy67DORlQwY3MchgQxfP\"\n",
    "API_nft_url = 'https://eth-mainnet.g.alchemy.com/nft/v2/PlIE5PSJaLBOTy67DORlQwY3MchgQxfP'\n",
    "\n",
    "# data collection functions\n",
    "def getNFTsForCollection(contractAddress, withMetadata):\n",
    "    url = API_url + '/getNFTsForCollection?contractAddress=' + contractAddress + '&withMetadata=' + str(withMetadata)\n",
    "    r = requests.get(url, headers={\"accept\": \"application/json\"})\n",
    "    return r\n",
    "def getNFTSales(contractAddress, tokenid):\n",
    "    # from block 0 to latest block, with ascending order\n",
    "    url = API_url + '/getNFTSales?fromBlock=0&toBlock=latest&order=asc&contractAddress=' + contractAddress + '&tokenId=' + str(tokenid)\n",
    "    r = requests.get(url, headers={\"accept\": \"application/json\"})\n",
    "    return r\n",
    "\n",
    "def getFloorPrice(contractAddress):\n",
    "    url = API_nft_url + \"/getFloorPrice?contractAddress=\" + contractAddress\n",
    "    r = requests.get(url, headers={\"accept\": \"application/json\"})\n",
    "    return r\n",
    "\n",
    "def computeRarity(contractAddress, tokenid):\n",
    "    url = API_nft_url + '/computeRarity/?contractAddress=' + contractAddress + '&tokenId=' + str(tokenid)\n",
    "    r = requests.get(url, headers={\"accept\": \"application/json\"})\n",
    "    return r\n",
    "\n",
    "def getMetaData(contractAddress, tokenid):\n",
    "    url = API_nft_url + '/getNFTMetadata?contractAddress=' + contractAddress + '&tokenId=' + str(tokenid) + '&refreshCache=false'\n",
    "    r = requests.get(url, headers={\"accept\": \"application/json\"})\n",
    "    return r\n",
    "\n",
    "def getNFTAttributes(contractAddress):\n",
    "    url = API_nft_url + '/summarizeNFTAttributes?contractAddress=' + contractAddress\n",
    "    r = requests.get(url, headers={\"accept\": \"application/json\"})\n",
    "    return r"
   ]
  },
  {
   "cell_type": "markdown",
   "id": "8e9fc66b",
   "metadata": {},
   "source": [
    "*The following is api test and further utils for data collection and prep*"
   ]
  },
  {
   "cell_type": "code",
   "execution_count": 4,
   "id": "96f3ab96",
   "metadata": {},
   "outputs": [
    {
     "name": "stdout",
     "output_type": "stream",
     "text": [
      "{'contract': {'address': '0x60e4d786628fea6478f785a6d7e704777c86a7c6'}, 'id': {'tokenId': '0x0000000000000000000000000000000000000000000000000000000000000000', 'tokenMetadata': {'tokenType': 'ERC721'}}, 'title': '', 'description': '', 'tokenUri': {'gateway': 'https://boredapeyachtclub.com/api/mutants/0', 'raw': 'https://boredapeyachtclub.com/api/mutants/0'}, 'media': [{'gateway': 'https://nft-cdn.alchemy.com/eth-mainnet/c480d814f8a4e2b5f02dd3aa189ca742', 'thumbnail': 'https://res.cloudinary.com/alchemyapi/image/upload/thumbnailv2/eth-mainnet/c480d814f8a4e2b5f02dd3aa189ca742', 'raw': 'ipfs://QmURua8bNrAwX76Tp6G9t6Lospdxyt61JGy3UsXY7skfR1', 'format': 'png', 'bytes': 577530}], 'metadata': {'image': 'ipfs://QmURua8bNrAwX76Tp6G9t6Lospdxyt61JGy3UsXY7skfR1', 'attributes': [{'value': 'M1 Purple', 'trait_type': 'Background'}, {'value': 'M1 Cheetah', 'trait_type': 'Fur'}, {'value': 'M1 Scumbag', 'trait_type': 'Eyes'}, {'value': 'M1 Toga', 'trait_type': 'Clothes'}, {'value': 'M1 Bored Unshaven', 'trait_type': 'Mouth'}]}, 'timeLastUpdated': '2023-04-18T02:34:09.376Z', 'contractMetadata': {'name': 'MutantApeYachtClub', 'symbol': 'MAYC', 'totalSupply': '19468', 'tokenType': 'ERC721', 'contractDeployer': '0x9056d15c49b19df52ffad1e6c11627f035c0c960', 'deployedBlockNumber': 13117018, 'openSea': {'floorPrice': 15.5, 'collectionName': 'Mutant Ape Yacht Club', 'safelistRequestStatus': 'verified', 'imageUrl': 'https://i.seadn.io/gae/lHexKRMpw-aoSyB1WdFBff5yfANLReFxHzt1DOj_sg7mS14yARpuvYcUtsyyx-Nkpk6WTcUPFoG53VnLJezYi8hAs0OxNZwlw6Y-dmI?w=500&auto=format', 'description': 'The MUTANT APE YACHT CLUB is a collection of up to 20,000 Mutant Apes that can only be created by exposing an existing Bored Ape to a vial of MUTANT SERUM or by minting a Mutant Ape in the public sale.', 'lastIngestedAt': '2023-03-18T01:37:24.000Z'}}}\n"
     ]
    }
   ],
   "source": [
    "response = json.loads(getNFTsForCollection('0x60E4d786628Fea6478F785A6d7e704777c86a7c6', True).content)\n",
    "print(response['nfts'][0])"
   ]
  },
  {
   "cell_type": "code",
   "execution_count": 5,
   "id": "b6cad9ed",
   "metadata": {},
   "outputs": [
    {
     "name": "stdout",
     "output_type": "stream",
     "text": [
      "dict_keys(['Fur', 'Eyes', 'Background', 'Mouth', 'Clothes', 'Earring', 'Hat', 'Name'])\n"
     ]
    }
   ],
   "source": [
    "# check the attribute lists.\n",
    "response = json.loads(getNFTAttributes('0x60E4d786628Fea6478F785A6d7e704777c86a7c6').content)\n",
    "print(response['summary'].keys())"
   ]
  },
  {
   "cell_type": "code",
   "execution_count": 6,
   "id": "bcbda3c0",
   "metadata": {},
   "outputs": [
    {
     "name": "stdout",
     "output_type": "stream",
     "text": [
      "[{'value': 'M1 Purple', 'trait_type': 'Background', 'prevalence': 0.09621621621621622}, {'value': 'M1 Cheetah', 'trait_type': 'Fur', 'prevalence': 0.03099099099099099}, {'value': 'M1 Scumbag', 'trait_type': 'Eyes', 'prevalence': 0.016885456885456885}, {'value': 'M1 Toga', 'trait_type': 'Clothes', 'prevalence': 0.01662805662805663}, {'value': 'M1 Bored Unshaven', 'trait_type': 'Mouth', 'prevalence': 0.11613899613899614}]\n"
     ]
    }
   ],
   "source": [
    "response = json.loads(computeRarity('0x60E4d786628Fea6478F785A6d7e704777c86a7c6',0).content)\n",
    "print(response)"
   ]
  },
  {
   "cell_type": "code",
   "execution_count": 7,
   "id": "173c5633",
   "metadata": {},
   "outputs": [
    {
     "name": "stdout",
     "output_type": "stream",
     "text": [
      "{'amount': '23740500000000000000', 'tokenAddress': '0x0000000000000000000000000000000000000000', 'symbol': 'ETH', 'decimals': 18}\n",
      "{'amount': '624750000000000000', 'tokenAddress': '0x0000000000000000000000000000000000000000', 'symbol': 'ETH', 'decimals': 18}\n",
      "{'amount': '624750000000000000', 'tokenAddress': '0x0000000000000000000000000000000000000000', 'symbol': 'ETH', 'decimals': 18}\n"
     ]
    }
   ],
   "source": [
    "response = json.loads(getNFTSales('0x60E4d786628Fea6478F785A6d7e704777c86a7c6',555).content)\n",
    "print(response['nftSales'][-1]['sellerFee'])\n",
    "print(response['nftSales'][-1]['protocolFee'])\n",
    "print(response['nftSales'][-1]['royaltyFee'])"
   ]
  },
  {
   "cell_type": "code",
   "execution_count": 8,
   "id": "adbdfd90",
   "metadata": {},
   "outputs": [
    {
     "name": "stdout",
     "output_type": "stream",
     "text": [
      "23.7405\n",
      "106.875\n"
     ]
    }
   ],
   "source": [
    "# get the sell price from the api\n",
    "def get_price(contractAddress, tokenid, roundto):\n",
    "    response = json.loads(getNFTSales(contractAddress,tokenid).content)\n",
    "    res = int(response['nftSales'][-1]['sellerFee']['amount'])/ (10**int(response['nftSales'][-1]['sellerFee']['decimals']))\n",
    "    res = round(res, roundto)\n",
    "    return res\n",
    "\n",
    "print(get_price('0x60E4d786628Fea6478F785A6d7e704777c86a7c6',555,5))\n",
    "print(get_price('0x60E4d786628Fea6478F785A6d7e704777c86a7c6',28905,5))"
   ]
  },
  {
   "cell_type": "code",
   "execution_count": 9,
   "id": "4b13580d",
   "metadata": {},
   "outputs": [],
   "source": [
    "# get feature and labels for building the dataset\n",
    "def get_monkey(contractAddress, tokenid, roundto):\n",
    "    # initialize all attributes to one, which means least rare\n",
    "    feature = {'Fur':1, 'Eyes':1, 'Background':1, 'Mouth':1, 'Clothes':1, 'Earring':1, 'Hat':1, 'Name':1}\n",
    "    feature_response = json.loads(computeRarity(contractAddress,tokenid).content)\n",
    "    #print(feature_response)\n",
    "    for i in feature_response:\n",
    "        feature[i['trait_type']] = round(1 / i['prevalence'], roundto)\n",
    "        \n",
    "    # get price\n",
    "    price = None\n",
    "    try:\n",
    "        price = get_price(contractAddress, tokenid, roundto)\n",
    "    except:\n",
    "        pass\n",
    "    return feature, price"
   ]
  },
  {
   "cell_type": "markdown",
   "id": "16515692",
   "metadata": {},
   "source": [
    "there are monkeys that has never been traded, thus *try* get the price, \n",
    "\n",
    "if price donnot exist then the price is set to **None**"
   ]
  },
  {
   "cell_type": "code",
   "execution_count": 10,
   "id": "c3cef91c",
   "metadata": {},
   "outputs": [
    {
     "name": "stdout",
     "output_type": "stream",
     "text": [
      "({'Fur': 9.95643, 'Eyes': 7.71752, 'Background': 10.76177, 'Mouth': 5.86327, 'Clothes': 33.31904, 'Earring': 1, 'Hat': 99.61538, 'Name': 1}, 20.9)\n",
      "True\n"
     ]
    }
   ],
   "source": [
    "print(get_monkey('0x60E4d786628Fea6478F785A6d7e704777c86a7c6',2,5))\n",
    "print(get_monkey('0x60E4d786628Fea6478F785A6d7e704777c86a7c6',10000,5)[1] is None)"
   ]
  },
  {
   "cell_type": "markdown",
   "id": "c16194d1",
   "metadata": {},
   "source": [
    "make the dataset using the template ['Fur', 'Eyes', 'Background', 'Mouth', 'Clothes', 'Earring', 'Hat', 'Name'] as **features**\n",
    "\n",
    "seller price as **labels** to predict\n"
   ]
  },
  {
   "cell_type": "code",
   "execution_count": 11,
   "id": "c56cfff5",
   "metadata": {},
   "outputs": [
    {
     "name": "stdout",
     "output_type": "stream",
     "text": [
      "[[20.90958, 40.21739, 11.1, 25.9, 56.63265, 1, 84.45652, 1], [9.95643, 7.71752, 10.76177, 5.86327, 33.31904, 1, 99.61538, 1], [17.45283, 41.24204, 10.1489, 8.61037, 1, 1, 52.35849, 1], [9.80565, 40.21739, 10.8459, 31.79214, 51.11842, 1, 85.57269, 1], [10.85802, 17.43716, 10.3766, 98.60406, 73.30189, 29.25452, 35.51188, 1], [33.95979, 33.03571, 10.3766, 18.58852, 92.5, 1, 23.0975, 1], [22.27638, 15.18765, 10.1489, 5.86327, 66.52397, 1, 53.66022, 1], [33.95979, 7.71752, 10.3766, 98.60406, 38.77246, 1, 45.06961, 1], [26.35685, 51.8, 10.1489, 8.61037, 63.06818, 1, 1, 1], [68.88298, 109.74576, 32.10744, 61.86306, 183.25472, 46.69471, 1, 1], [9.80565, 18.80445, 10.8459, 50.71802, 59.22256, 1, 84.45652, 1], [28.07081, 24.77679, 11.1, 18.58852, 60.13932, 1, 67.44792, 1], [34.01926, 181.54206, 29.88462, 97.125, 236.89024, 1, 127.79605, 1], [57.8125, 7.71752, 10.8459, 5.86327, 60.13932, 1, 67.44792, 1], [33.95979, 27.71041, 11.1, 50.85079, 56.63265, 1, 57.47041, 1], [34.01926, 123.72611, 32.70202, 19.64105, 1, 1, 107.32044, 1], [17.45283, 50.85079, 10.39326, 80.2686, 1, 1, 50.98425, 1], [28.07081, 28.19303, 10.53416, 107.91667, 57.13235, 1, 31.48298, 1], [9.95643, 7.71752, 11.1, 5.86327, 84.09091, 1, 45.06961, 1], [71.41544, 54.56461, 32.10744, 19.64105, 154.16667, 1, 334.91379, 1], [26.35685, 39.16331, 10.53416, 50.85079, 65.40404, 1, 52.35849, 1], [20.90958, 39.16331, 10.76177, 25.9, 55.5, 1, 1, 1], [9.80565, 28.19303, 10.8459, 53.80886, 1, 1, 70.12635, 1], [10.85802, 83.72845, 10.8459, 31.79214, 79.61066, 1, 53.95833, 1], [55.81897, 64.10891, 32.8125, 346.875, 204.47368, 81.61765, 141.78832, 1], [10.85802, 27.71041, 10.53416, 25.9, 58.86364, 1, 43.65169, 1], [9.95643, 114.94083, 10.76177, 40.05155, 41.59529, 1, 31.48298, 1], [28.07081, 18.80445, 10.76177, 53.95833, 65.40404, 86.33333, 35.51188, 1], [9.80565, 7.71752, 10.1489, 98.60406, 50.32383, 1, 105.0, 1], [22.27638, 15.18765, 10.8459, 18.95122, 58.86364, 16.30982, 1, 1], [26.35685, 15.18765, 10.76177, 5.86327, 60.13932, 15.51518, 1, 1], [10.85802, 24.77679, 10.76177, 8.61037, 102.23684, 1, 1, 1], [9.95643, 27.71041, 10.39326, 5.86327, 79.61066, 15.51518, 67.44792, 1], [17.45283, 24.77679, 10.80367, 8.61037, 51.11842, 30.88235, 35.51188, 1], [68.88298, 123.72611, 29.88462, 27.32068, 218.25843, 46.69471, 208.87097, 1], [168.91304, 25.19455, 35.57692, 234.03614, 202.34375, 1, 1, 1], [32.26744, 64.10891, 11.1, 5.86327, 87.5, 1, 70.12635, 1], [83.72845, 25.19455, 32.70202, 245.88608, 143.88889, 1, 103.87701, 1], [57.8125, 83.72845, 10.1489, 50.85079, 57.13235, 16.30982, 1, 1], [9.80565, 7.71752, 11.1, 25.9, 57.13235, 1, 70.12635, 1], [10.85802, 7.71752, 10.53416, 134.89583, 1, 1, 31.48298, 1], [17.45283, 18.80445, 10.80367, 8.61037, 51.8, 30.88235, 41.59529, 1], [37.93945, 118.44512, 32.70202, 27.32068, 106.14754, 1, 1, 1], [34.01926, 25.19455, 29.88462, 27.32068, 1, 1, 127.79605, 1], [37.93945, 109.74576, 29.88462, 19.64105, 346.875, 46.69471, 1, 1], [20.90958, 15.18765, 10.3766, 5.86327, 50.32383, 1, 41.95464, 1], [26.60959, 7.71752, 10.3766, 80.2686, 100.12887, 1, 1, 1], [28.07081, 7.71752, 10.53416, 62.66129, 60.13932, 15.51518, 1, 1], [20.90958, 24.77679, 10.39326, 50.85079, 104.43548, 1, 37.79183, 1], [22.27638, 18.80445, 11.1, 5.86327, 57.13235, 1, 74.71154, 1], [9.95643, 24.52652, 10.3766, 98.60406, 55.5, 15.51518, 53.95833, 1], [33.95979, 27.71041, 10.1489, 107.91667, 56.63265, 1, 1, 1], [55.81897, 25.19455, 32.10744, 61.86306, 225.87209, 1, 127.79605, 1], [40.98101, 33.03571, 10.53416, 8.61037, 60.13932, 29.25452, 102.23684, 1], [17.45283, 7.71752, 11.1, 5.86327, 1, 1, 112.93605, 1], [9.95643, 17.43716, 10.39326, 40.05155, 84.09091, 1, 41.59529, 1], [223.27586, 54.56461, 32.8125, 19.64105, 225.87209, 1, 103.87701, 1], [26.60959, 7.71752, 10.80367, 18.95122, 50.32383, 16.30982, 1, 1], [27.32068, 24.52652, 10.3766, 50.71802, 63.06818, 30.88235, 53.66022, 1], [84.45652, 123.72611, 32.70202, 97.125, 1, 1, 127.79605, 1], [83.72845, 54.56461, 32.70202, 485.625, 149.42308, 1, 308.33333, 1], [9.95643, 31.89655, 10.8459, 18.95122, 51.8, 15.51518, 31.48298, 1], [9.80565, 15.18765, 10.1489, 18.95122, 1, 1, 102.23684, 1], [9.80565, 7.71752, 11.1, 18.95122, 62.86408, 1, 99.61538, 1], [10.85802, 15.18765, 11.1, 31.79214, 79.61066, 1, 50.98425, 1], [27.32068, 18.80445, 10.3766, 18.58852, 1, 1, 1, 1], [33.95979, 31.84426, 10.76177, 135.83916, 60.13932, 86.33333, 67.44792, 1], [32.97963, 47.84483, 32.70202, 27.32068, 106.14754, 1, 103.87701, 1], [20.90958, 15.18765, 10.53416, 5.86327, 59.22256, 1, 42.69231, 1], [20.90958, 15.18765, 10.1489, 269.79167, 60.13932, 16.30982, 1, 1], [27.32068, 24.52652, 10.3766, 31.79214, 55.5, 1, 126.13636, 1], [28.07081, 40.21739, 11.1, 80.2686, 97.61307, 1, 42.69231, 1], [17.45283, 27.71041, 11.1, 25.9, 84.82533, 1, 37.79183, 1], [10.85802, 17.43716, 10.3766, 107.91667, 1, 1, 57.8125, 1], [9.95643, 7.71752, 10.3766, 8.61037, 97.61307, 1, 1, 1], [9.95643, 15.18765, 10.39326, 50.85079, 38.77246, 1, 1, 1], [26.60959, 18.80445, 10.53416, 57.98507, 73.30189, 29.25452, 57.47041, 1], [32.97963, 176.59091, 32.8125, 137.76596, 225.87209, 1, 303.51562, 1], [83.72845, 79.93827, 32.8125, 56.96481, 277.5, 1, 186.77885, 1], [26.60959, 7.71752, 10.39326, 31.79214, 58.86364, 1, 23.0975, 1], [28.07081, 31.89655, 10.53416, 5.86327, 33.31904, 1, 57.47041, 1], [33.95979, 18.80445, 10.53416, 53.95833, 47.37805, 1, 41.95464, 1], [10.85802, 7.71752, 10.3766, 5.86327, 59.22256, 86.33333, 102.23684, 1], [67.91958, 24.77679, 10.1489, 5.86327, 146.05263, 1, 126.96078, 1], [81.61765, 76.77866, 35.57692, 27.32068, 178.21101, 1, 1, 1], [22.27638, 59.22256, 11.1, 8.61037, 60.13932, 1, 1, 1], [32.97963, 25.19455, 32.10744, 19.64105, 1, 1, 308.33333, 1], [32.97963, 84.45652, 32.8125, 202.34375, 106.14754, 46.69471, 215.83333, 1], [138.75, 112.93605, 32.75717, 234.03614, 334.91379, 81.61765, 152.95276, 1], [10.85802, 31.89655, 10.80367, 5.86327, 51.8, 1, 89.1055, 1], [9.80565, 40.21739, 10.76177, 441.47727, 58.86364, 1, 23.0975, 1], [26.60959, 39.16331, 10.53416, 50.85079, 119.17178, 1, 175.0, 1], [9.80565, 39.16331, 10.39326, 31.79214, 1, 1, 43.65169, 1], [37.93945, 25.19455, 29.88462, 308.33333, 225.87209, 1, 208.87097, 1], [84.45652, 112.93605, 32.70202, 27.32068, 178.21101, 1, 76.17647, 1], [28.07081, 15.18765, 10.39326, 25.9, 1, 1, 31.48298, 1], [68.88298, 176.59091, 32.70202, 19.64105, 204.47368, 170.39474, 303.51562, 1], [10.85802, 31.89655, 10.53416, 135.83916, 58.86364, 1, 57.8125, 1], [57.8125, 18.80445, 10.1489, 5.86327, 1, 1, 105.0, 1], [20.90958, 39.16331, 10.39326, 18.58852, 1, 1, 23.0975, 1], [79.93827, 27.71041, 10.39326, 50.85079, 102.23684, 1, 37.79183, 1], [47.0339, 17.43716, 11.1, 18.58852, 92.5, 1, 52.35849, 1], [28.07081, 18.80445, 10.76177, 25.9, 104.43548, 15.51518, 188.59223, 1], [81.61765, 76.77866, 32.10744, 27.32068, 190.44118, 1, 128.64238, 1], [26.35685, 50.85079, 10.53416, 5.86327, 63.06818, 1, 41.95464, 1], [17.45283, 40.21739, 10.8459, 186.77885, 73.30189, 1, 72.75281, 1], [26.35685, 15.18765, 11.1, 255.59211, 1, 1, 37.79183, 1], [40.98101, 39.40162, 10.76177, 8.61037, 100.12887, 60.51402, 175.0, 1], [32.97963, 90.77103, 32.70202, 27.32068, 178.21101, 1, 334.91379, 1], [32.26744, 7.71752, 10.39326, 53.80886, 1, 1, 1, 1], [68.88298, 176.59091, 32.10744, 19.64105, 1, 1, 1, 1], [9.80565, 27.71041, 10.80367, 18.58852, 38.77246, 60.51402, 41.59529, 1], [57.8125, 33.03571, 10.39326, 5.86327, 38.77246, 1, 43.65169, 1], [68.88298, 25.19455, 32.70202, 353.18182, 204.47368, 1, 141.78832, 1], [22.27638, 33.03571, 10.1489, 31.79214, 89.1055, 1, 57.47041, 1], [32.97963, 54.56461, 32.70202, 137.76596, 259.0, 1, 198.21429, 1], [10.85802, 17.43716, 10.80367, 5.86327, 62.86408, 30.88235, 41.95464, 1], [9.80565, 24.52652, 10.3766, 98.60406, 57.13235, 1, 85.57269, 1], [32.97963, 47.84483, 32.10744, 19.64105, 125.32258, 1, 107.32044, 1], [34.01926, 112.93605, 32.75717, 56.96481, 462.5, 1, 422.28261, 1], [9.80565, 28.19303, 10.80367, 5.86327, 60.13932, 1, 37.79183, 1], [32.97963, 111.0, 32.70202, 19.64105, 143.88889, 81.61765, 109.12921, 1], [32.97963, 79.93827, 32.75717, 150.5814, 204.47368, 1, 109.12921, 1], [17.45283, 15.18765, 10.80367, 25.9, 38.77246, 1, 41.95464, 1], [37.93945, 54.56461, 32.8125, 56.96481, 178.21101, 46.69471, 109.12921, 1], [55.81897, 161.875, 32.8125, 27.32068, 178.21101, 1, 318.44262, 1], [10.85802, 83.72845, 10.53416, 8.61037, 51.11842, 30.88235, 35.51188, 1], [10.85802, 24.77679, 10.53416, 18.58852, 1, 1, 74.71154, 1], [22.27638, 7.71752, 10.1489, 5.86327, 92.06161, 1, 1, 1], [10.85802, 7.71752, 10.3766, 50.71802, 1, 1, 23.0975, 1], [10.85802, 83.72845, 10.80367, 5.86327, 66.52397, 1, 31.48298, 1], [89.93056, 109.74576, 32.75717, 234.03614, 1, 49.93573, 1, 1], [67.91958, 28.19303, 10.3766, 5.86327, 1, 1, 1, 1], [34.01926, 84.45652, 32.70202, 27.32068, 154.16667, 46.69471, 1, 1], [9.80565, 17.43716, 10.1489, 31.79214, 38.77246, 15.51518, 31.48298, 1], [10.85802, 28.19303, 10.8459, 18.95122, 1, 29.25452, 188.59223, 1], [28.07081, 39.16331, 10.39326, 5.86327, 50.32383, 15.51518, 35.51188, 1], [37.93945, 109.74576, 32.10744, 27.32068, 236.89024, 49.93573, 186.77885, 1], [47.0339, 15.18765, 10.3766, 31.79214, 72.75281, 1, 31.48298, 1], [9.95643, 24.77679, 10.3766, 53.95833, 79.61066, 1, 67.44792, 1], [9.95643, 17.43716, 10.8459, 5.86327, 41.59529, 60.51402, 1, 1], [33.95979, 7.71752, 10.3766, 5.86327, 104.43548, 1, 45.06961, 1], [9.80565, 18.80445, 11.1, 5.86327, 1, 30.88235, 1, 1], [85.57269, 25.19455, 32.8125, 61.86306, 149.42308, 1, 127.79605, 1], [9.95643, 18.80445, 10.80367, 18.95122, 1, 1, 85.57269, 1], [17.45283, 24.52652, 11.1, 46.69471, 57.13235, 1, 45.06961, 1], [9.80565, 17.43716, 10.8459, 8.61037, 60.13932, 16.30982, 41.59529, 1], [34.01926, 111.0, 29.88462, 27.32068, 178.21101, 1, 186.77885, 1], [17.45283, 7.71752, 10.1489, 5.86327, 1, 29.25452, 1, 1], [26.35685, 15.18765, 10.76177, 5.86327, 73.30189, 1, 43.65169, 1], [26.35685, 31.84426, 10.80367, 5.86327, 84.09091, 30.88235, 31.48298, 1]] [6.65, 20.9, 14.3, 4.75, 25.65, 16.435, 23.18, 25.3075, 7.6, 31.236, 12.8355, 19.475, 6.175, 5.1775, 17.081, 13.3, 33.25, 11.834, 23.75, 8.455, 13.87, 13.37489, 13.27171, 21.6505, 8.55, 6.8685, 17.5275, 3.705, 5.225, 11.723, 5.9375, 7.505, 5.32, 3.553, 22.0, 17.33977, 10.45, 26.6, 14.0, 12.77083, 20.8905, 15.2, 18.183, 15.58, 27.55, 16.1, 5.7, 16.055, 13.1936, 18.145, 28.5, 6.555, 12.60665, 20.805, 5.3675, 21.965, 34.92, 4.56, 23.1, 16.46725, 15.2, 6.6025, 17.1, 11.5805, 6.365, 13.2905, 17.09997, 17.89, 43.7, 12.0555, 13.30216, 4.75, 13.12306, 10.976, 4.446, 13.20236, 8.056, 9.5, 9.47055, 3.8, 18.865, 6.4125, 8.36, 4.18, 11.65, 4.37345, 16.66625, 13.299, 22.0, 4.75, 13.45976, 10.925, 13.9555, 15.6094, 5.795, 27.68545, 37.0405, 8.61555, 18.05, 16.55375, 10.348, 16.15, 8.2555, 16.318, 12.01956, 19.8999, 27.4455, 9.2625, 13.186, 20.8905, 20.7936, 7.581, 7.3815, 22.325, 6.84, 14.06, 18.7856, 5.225, 5.4625, 15.92, 16.12895, 7.505, 16.06925, 13.92005, 19.95, 23.7405, 19.38, 13.12405, 18.7625, 17.86, 4.18, 21.5, 15.1, 14.2405, 15.067, 18.886, 4.636, 6.08, 3.705, 16.53, 14.47725, 5.035, 34.2, 9.5, 14.725, 21.47, 14.325, 27.075, 6.555, 8.455, 14.39]\n"
     ]
    }
   ],
   "source": [
    "# now gathering the data and build dataset\n",
    "\n",
    "attribute_list = ['Fur', 'Eyes', 'Background', 'Mouth', 'Clothes', 'Earring', 'Hat', 'Name']\n",
    "features = []\n",
    "labels = []\n",
    "token_id = 1\n",
    "while len(labels) <= 150:    \n",
    "    feature, price = get_monkey('0x60E4d786628Fea6478F785A6d7e704777c86a7c6',token_id, 5)\n",
    "    if price is not None:\n",
    "        features.append([feature[x] for x in attribute_list])\n",
    "        labels.append(price)\n",
    "    token_id += 1\n",
    "    time.sleep(0.01)\n",
    "print(features, labels)"
   ]
  },
  {
   "cell_type": "code",
   "execution_count": null,
   "id": "44a32f1b",
   "metadata": {},
   "outputs": [],
   "source": [
    "# partially acquire data... getting too fast would cause api denial\n",
    "while len(labels) < 1200:    \n",
    "    feature, price = get_monkey('0x60E4d786628Fea6478F785A6d7e704777c86a7c6',token_id, 5)\n",
    "    if price is not None:\n",
    "        features.append([feature[x] for x in attribute_list])\n",
    "        labels.append(price)\n",
    "    token_id += 1\n",
    "    time.sleep(0.01)\n",
    "print(features, labels)"
   ]
  },
  {
   "cell_type": "code",
   "execution_count": 12,
   "id": "c76d4507",
   "metadata": {},
   "outputs": [
    {
     "name": "stdout",
     "output_type": "stream",
     "text": [
      "164\n"
     ]
    }
   ],
   "source": [
    "print(token_id)"
   ]
  },
  {
   "cell_type": "code",
   "execution_count": 13,
   "id": "6339a36e",
   "metadata": {},
   "outputs": [
    {
     "name": "stdout",
     "output_type": "stream",
     "text": [
      "151 151\n"
     ]
    }
   ],
   "source": [
    "print(len(features), len(labels))"
   ]
  },
  {
   "cell_type": "code",
   "execution_count": 21,
   "id": "30522d03",
   "metadata": {},
   "outputs": [],
   "source": [
    "# store data in a pickle file\n",
    "data = []\n",
    "data.append(features)\n",
    "data.append(labels)\n",
    "len(data[1])\n",
    "with open('data_features_labels.pkl','wb') as f:\n",
    "    pickle.dump(data, f)"
   ]
  },
  {
   "cell_type": "code",
   "execution_count": 26,
   "id": "977b1404",
   "metadata": {},
   "outputs": [],
   "source": [
    "with open('data_features_labels.pkl','rb') as f:\n",
    "    load_data = pickle.load(f)\n",
    "#load_data[1]"
   ]
  }
 ],
 "metadata": {
  "kernelspec": {
   "display_name": "Python 3 (ipykernel)",
   "language": "python",
   "name": "python3"
  },
  "language_info": {
   "codemirror_mode": {
    "name": "ipython",
    "version": 3
   },
   "file_extension": ".py",
   "mimetype": "text/x-python",
   "name": "python",
   "nbconvert_exporter": "python",
   "pygments_lexer": "ipython3",
   "version": "3.9.13"
  }
 },
 "nbformat": 4,
 "nbformat_minor": 5
}
