{
  "nbformat": 4,
  "nbformat_minor": 0,
  "metadata": {
    "colab": {
      "provenance": []
    },
    "kernelspec": {
      "name": "python3",
      "display_name": "Python 3"
    },
    "language_info": {
      "name": "python"
    }
  },
  "cells": [
    {
      "cell_type": "code",
      "source": [
        "import requests\n",
        "import json\n",
        "import time"
      ],
      "metadata": {
        "id": "WSLc_nWi2MIu"
      },
      "execution_count": 53,
      "outputs": []
    },
    {
      "cell_type": "code",
      "source": [
        "API_key = 'PlIE5PSJaLBOTy67DORlQwY3MchgQxfP'\n",
        "API_url = \"https://eth-mainnet.g.alchemy.com/v2/PlIE5PSJaLBOTy67DORlQwY3MchgQxfP\"\n",
        "API_nft_url = 'https://eth-mainnet.g.alchemy.com/nft/v2/PlIE5PSJaLBOTy67DORlQwY3MchgQxfP'"
      ],
      "metadata": {
        "id": "fAW4eu8h2OjM"
      },
      "execution_count": 8,
      "outputs": []
    },
    {
      "cell_type": "code",
      "source": [
        "# Global Data Structures\n",
        "famous_NFT_collections = ['0x60E4d786628Fea6478F785A6d7e704777c86a7c6', '0xBC4CA0EdA7647A8aB7C2061c2E118A18a936f13D', '0x34d85c9CDeB23FA97cb08333b511ac86E1C4E258', '0xED5AF388653567Af2F388E6224dC7C4b3241C544', '0x49cF6f5d44E70224e2E23fDcdd2C053F30aDA28B', '0x23581767a106ae21c074b2276D25e5C3e136a68b', '0xb7F7F6C52F2e2fdb1963Eab30438024864c313F6', '0x8a90CAb2b38dba80c64b7734e58Ee1dB38B8992e', '0xba30E5F9Bb24caa003E9f2f0497Ad287FDF95623', '0x7Bd29408f11D2bFC23c34f18275bBf23bB716Bc7']\n",
        "# MutantApe, BoredApe, TheOtherside, AZUKI, CloneXToken, MoonBirds, CrpytoPunk, Doodle, BAKC, Meebits\n",
        "print(len(famous_NFT_collections))\n",
        "all_wallet_address = {}"
      ],
      "metadata": {
        "colab": {
          "base_uri": "https://localhost:8080/"
        },
        "id": "0yKxxnVa5nuc",
        "outputId": "903328e8-7793-43e6-f818-af1a62cf6fc8"
      },
      "execution_count": 59,
      "outputs": [
        {
          "output_type": "stream",
          "name": "stdout",
          "text": [
            "10\n"
          ]
        }
      ]
    },
    {
      "cell_type": "code",
      "execution_count": 60,
      "metadata": {
        "id": "OC_-tGo21__5"
      },
      "outputs": [],
      "source": [
        "def getNFTsForCollection(contractAddress, withMetadata, limit, lastTokenid):\n",
        "  if lastTokenid == -1:\n",
        "    url = API_url + '/getNFTsForCollection?contractAddress=' + contractAddress + '&withMetadata=' + str(withMetadata) + '&limit=' + str(limit)\n",
        "    r = requests.get(url, headers={\"accept\": \"application/json\"})\n",
        "    return r\n",
        "  else:\n",
        "    url = API_url + '/getNFTsForCollection?contractAddress=' + contractAddress + '&withMetadata=' + str(withMetadata) + '&limit=' + str(limit) + '&startToken=' + str(lastTokenid)\n",
        "    r = requests.get(url, headers={\"accept\": \"application/json\"})\n",
        "    return r\n",
        "\n",
        "def getNFTSales(contractAddress, tokenid):\n",
        "\t# from block 0 to latest block, with ascending order\n",
        "\turl = API_url + '/getNFTSales?fromBlock=0&toBlock=latest&order=asc&contractAddress=' + contractAddress + '&tokenId=' + str(tokenid)\n",
        "\tr = requests.get(url, headers={\"accept\": \"application/json\"})\n",
        "\treturn r"
      ]
    },
    {
      "cell_type": "code",
      "source": [
        "def getAllNFTs(contractAddress):\n",
        "  allNFTs = []\n",
        "  lastTokenid = -1\n",
        "  while True:\n",
        "    time.sleep(0.1)\n",
        "    r = getNFTsForCollection(contractAddress=contractAddress, withMetadata=False, limit=100, lastTokenid=lastTokenid).text\n",
        "    newNFT = json.loads(r)['nfts']\n",
        "    if 'nextToken' not in json.loads(r).keys():\n",
        "      break\n",
        "    allNFTs.extend(newNFT)\n",
        "    break\n",
        "    lastTokenid = json.loads(r)['nextToken']\n",
        "  return allNFTs"
      ],
      "metadata": {
        "id": "RC81CPsd2Bqx"
      },
      "execution_count": 67,
      "outputs": []
    },
    {
      "cell_type": "code",
      "source": [
        "# given a NFT and its token id, get its owners' history\n",
        "def OwnerHistory(contractAddress, tokenid):\n",
        "\ttime.sleep(0.1)\n",
        "\tr = getNFTSales(contractAddress, tokenid).text\n",
        "\txaction = json.loads(r)\n",
        "\tfor history in xaction['nftSales']:\n",
        "\t\t#print(history['buyerAddress'], history['sellerAddress'])\n",
        "\t\tall_wallet_address[history['buyerAddress']] = 1\n",
        "\t\tall_wallet_address[history['sellerAddress']] = 1"
      ],
      "metadata": {
        "id": "XW4zkoQiE0Aq"
      },
      "execution_count": 64,
      "outputs": []
    },
    {
      "cell_type": "code",
      "source": [
        "for collection in famous_NFT_collections:\n",
        "  nfts = getAllNFTs(collection)\n",
        "  for nft in nfts:\n",
        "    if 'id' in nft.keys() and 'tokenId' in nft['id'].keys():\n",
        "      OwnerHistory(collection, nft['id']['tokenId'])\n",
        "\n",
        "with open(\"all_wallet_address.json\", \"w\") as fp:\n",
        "    json.dump(all_wallet_address,fp)"
      ],
      "metadata": {
        "id": "Q9sGDDqJ2Ghe"
      },
      "execution_count": null,
      "outputs": []
    },
    {
      "cell_type": "code",
      "source": [],
      "metadata": {
        "id": "YxwSIk6Q2IF7"
      },
      "execution_count": null,
      "outputs": []
    }
  ]
}